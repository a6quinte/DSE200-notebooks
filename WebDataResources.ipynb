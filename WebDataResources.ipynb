{
 "metadata": {
  "name": "",
  "signature": "sha256:9cf025895f97e6389d2c992b813a3d15e1e76c32dd4e9f02e7b6635588031a68"
 },
 "nbformat": 3,
 "nbformat_minor": 0,
 "worksheets": [
  {
   "cells": [
    {
     "cell_type": "markdown",
     "metadata": {},
     "source": [
      "# Web APIs\n",
      "Extracting information from static web sites can be done using scraping software such as Scrapy. However, there are several disadvantages to web scraping:\n",
      "\n",
      "1. Significant programming effort is required to navigate the web site and extract the information.\n",
      "1. Any change in the structure of the web pages requires updating the scraper.\n",
      "1. Dynamic pages, based on *Javascript*, of the type used in most modern web sites, are very hard to  understand and to scrape.\n",
      "\n",
      "Most large internet companies provide an interface to their public information. That interface, called and **API** (Application Program Interface) or **SDK** (Software Development Kit), provide the programmer with a convenient and well documented interface for accessing the information provided by the company. \n",
      "\n",
      "A common architecture for web APIs consist of two levels:\n",
      "* An HTTP based [RESTful API](http://en.wikipedia.org/wiki/Representational_state_transfer) (REST is the acronim for Representational-State-Transfer). This protocol defines URLs for requesting information and the format of the response, which is usually a JSON or and XML packet. \n",
      "* A language specific library (for Python, Ruby, Java, PERL, C# or other languages) which provides a *Wrapper* around the RESTful API. Using the language wrapper is generally preferable because it insulates the application code from changes in the RESTful layer.\n",
      "\n",
      "The benefit to the company providing the API is that by making it easy to interface with it's databases it encourages third party software houses to build extensions and enhancement to the ccompanies basic offering. In that way increasing the size of the consumer market without taking on development risks.\n",
      "\n",
      "Most of the APIs defined below are for the Python wrapper. In some cases, such as Yelp, only a Restful API is available, and some example code using this API is given."
     ]
    },
    {
     "cell_type": "markdown",
     "metadata": {},
     "source": [
      "## Some of the popular web APIs available today\n",
      "* [A collection of  more than 12,000 web APIs](http://www.programmableweb.com/category/all/apis?order=field_popularity) try searching for \"traffic\" or \"crime\"\n",
      "* Twitter API [Github](https://github.com/bear/python-twitter), [Doc](https://dev.twitter.com/overview/documentation)\n",
      "* Facebook API [Github](https://github.com/pythonforfacebook/facebook-sdk)\n",
      "  * [Doc for graph API](https://developers.facebook.com/docs/graph-api) This API is for retrieving and sending information to the Facebook social graph.\n",
      "  * [Doc for Javascript API](https://developers.facebook.com/docs/javascript) This API is for creating page plugins (i.e. like button) and for using \"login through facebook\"\n",
      "* Google APIs: Google supports a large number of APIs, including API for gmail, google calendars, google maps and  you-tube. In order to help find your way through this vast collection, google provides an [API discovery web page](https://developers.google.com/apis-explorer/#p/)\n",
      "* Amazon\n",
      "   * [Amazon Product Advertising API](https://pypi.python.org/pypi/python-amazon-product-api/), [Doc](http://python-amazon-product-api.readthedocs.org/en/latest/)\n",
      "   * [Boto](http://aws.amazon.com/sdk-for-python/) an API for controlling AWS.  LaunchNotebookServer.py uses Boto. AWS contains dozens of services, each of which is exposed to the API. [Github](https://github.com/boto/boto),[Doc](http://boto.readthedocs.org/en/latest/)\n",
      "* Yahoo, [a diverse set of APIs and services](https://developer.yahoo.com/everything.html). Unfortunately, it seems that while wrappers for some languages are provided, Python is not supported by Yahoo.  Here are three of the interesting API services provided by Yahoo.\n",
      "   * [OAuth:](https://developer.yahoo.com/oauth/) a popular protocol for delegating login authorization (\"Login Using Yahoo!\")\n",
      "   * World location database: [BOSS](https://developer.yahoo.com/boss/placefinder/)\n",
      "   * [Weather](https://developer.yahoo.com/weather/)\n",
      "* [Yelp](http://www.yelp.com/developers/documentation) Yelp only provides a RESTful API. [Here is a sample of python code using the RESTful API](https://github.com/Yelp/yelp-api/tree/master/v2/python)\n",
      "* [Decibel](https://developer.decibel.net/sample-code-rest-python) Data regarding musicians and the music industry.\n",
      "* [QuandL](https://www.quandl.com/) is a company whose business model is to gather, clean and format data and provide the results through an API. They are especially strong with financial information. Their Python API provides the data in a pandas dataframe, ready for perocessing. The Python API is documented [here](https://www.quandl.com/help/python)\n",
      "* There are several sites that provide data feeds for fantasy sports. Mostly APIs consist of RESTfull API without language wrappers.\n",
      "   * [Yahoo!](https://developer.yahoo.com/fantasysports/)\n",
      "   * [CBSsports](http://developer.cbssports.com/documentation/api/files/sports)\n",
      "   * [FantasyData](http://fantasydata.com/products/real-time-sports-data-api.aspx)\n",
      "   * [FantasyFootballNerd](http://www.fantasyfootballnerd.com/fantasy-football-api)"
     ]
    },
    {
     "cell_type": "markdown",
     "metadata": {},
     "source": [
      "## Other data collections\n",
      "\n",
      "Data services with a language API are the most mature and easy to use. However, there are many collections, especially those arising from the government, that are just a collection of files. Here are some of them:\n",
      "* [data.gov](http://www.data.gov/) is a collection of more than 130,000 datasets from the federal government, released as part of the *open government* initiative. Similar collections exist for other countries: for example the [UK](http://data.gov.uk/) and [India](http://data.gov.in/). A major problem working with these datasets is the diversity and idiosincracy of the datasets. Many of them are abandoned files that are no longer in use and, as a result, there is nobody that can answer questions about them.\n",
      "* [The US Census](http://www2.census.gov/) A directory tree containing historical, as well as current data collected by the Census bureau. YF has it downloaded to an SDSC computer. It is about 500GB compressed and took about two weeks to download.\n",
      "* [NOAA](http://www1.ncdc.noaa.gov/pub/data/ghcn/daily/) A repository of historical weather data from NOAA. The main file is ghcnd_all.tar.gz which is about 2.4 GB which becomes around 20GB when uncompressed.\n",
      "* [CAIDA](http://www.caida.org/data/) data collected by the Center for Applied Internet Data Analysis. Which is located in the San Diego Super Computer Center (SDSC). The data consists of measurements from different parts of the Internet's infrastructure. K C Klaffy is the PI of CAIDA."
     ]
    },
    {
     "cell_type": "code",
     "collapsed": false,
     "input": [],
     "language": "python",
     "metadata": {},
     "outputs": []
    }
   ],
   "metadata": {}
  }
 ]
}