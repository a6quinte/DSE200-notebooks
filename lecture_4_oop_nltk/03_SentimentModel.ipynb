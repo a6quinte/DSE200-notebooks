{
 "metadata": {
  "name": "",
  "signature": "sha256:16791dc1abdf7c8c5e5aff57b806a873ba1b849e2a3c40eaf71dfc71aacd5bc4"
 },
 "nbformat": 3,
 "nbformat_minor": 0,
 "worksheets": [
  {
   "cells": [
    {
     "cell_type": "code",
     "collapsed": false,
     "input": [
      "!curl \"http://snap.stanford.edu/data/amazon/Sports_&_Outdoors.txt.gz\" > \"SportsOutdoors.txt.gz\"\n",
      "!gunzip SportsOutdoors.txt.gz\n",
      "!head -10 SportsOutdoors.txt"
     ],
     "language": "python",
     "metadata": {},
     "outputs": []
    },
    {
     "cell_type": "code",
     "collapsed": false,
     "input": [
      "keys = ['review/profileName', 'product/price', 'review/time', 'product/productId', 'review/helpfulness', 'review/summary', 'review/userId', 'product/title', 'review/score', 'review/text']"
     ],
     "language": "python",
     "metadata": {},
     "outputs": []
    },
    {
     "cell_type": "code",
     "collapsed": false,
     "input": [
      "###################### this takes a long time (hours) to complete\n",
      "###################### so instead of running it, go to the next cell, where the collected counts are loaded from a pkl file.\n",
      "1=0 # an obvious error to prevent you from running this code unless you really want to\n",
      "import traceback\n",
      "from string import split\n",
      "import re\n",
      "from time import time\n",
      "\n",
      "from collections import Counter\n",
      "global count_all\n",
      "count_all=0\n",
      "\n",
      "def getBlocks(infile,p=1):\n",
      "    global count_all\n",
      "    block={}\n",
      "    for line in infile.readlines():\n",
      "        try:\n",
      "            if line.strip():   #if line not empty\n",
      "                key,value=split(line,':',maxsplit=1)\n",
      "                block[key.strip()]=value.strip(),\n",
      "            else:\n",
      "                count_all+=1\n",
      "                if random.uniform()<p:\n",
      "                    yield block\n",
      "                block={}\n",
      "        except:\n",
      "            print \"ERROR:\",line\n",
      "            traceback.print_exc()\n",
      "            raise Exception()\n",
      "\n",
      "def count_tokens(string):\n",
      "    \"\"\"partition a string into words, no punctuation, lowercase, return as a Counter.\"\"\"\n",
      "    words=[word.lower() for word in re.split(r'[ \\t\\n\\,\\.]+',string)]\n",
      "    return Counter(words)\n",
      "\n",
      "infile=open('SportsOutdoors.txt','r')\n",
      "\n",
      "dict={key:[] for key in keys}\n",
      "tokenized_keys=['review/summary','review/text','product/title']\n",
      "\n",
      "counters=[Counter()]*6 \n",
      "\n",
      "i=1\n",
      "t=time()\n",
      "for block in getBlocks(infile):\n",
      "    score=int(float(block['review/score'][0]))\n",
      "    counters[score]+=count_tokens(block['review/text'][0])\n",
      "    if (i % 1000)==0:\n",
      "        print i, count_all,time()-t\n",
      "        t=time()\n",
      "    \n",
      "    i+=1\n",
      "\n",
      "infile.close()\n",
      "#print counters\n"
     ],
     "language": "python",
     "metadata": {},
     "outputs": []
    },
    {
     "cell_type": "code",
     "collapsed": false,
     "input": [
      "import pickle\n",
      "counters=pickle.load(open('counters.pkl','r'))\n",
      "[\"%d:%d\"%(i,len(counters[i])) for i in range(len(counters))]\n",
      "#pickle.dump(counters,open('counters.pkl','w'))"
     ],
     "language": "python",
     "metadata": {},
     "outputs": []
    },
    {
     "cell_type": "code",
     "collapsed": false,
     "input": [
      "from collections import Counter\n",
      "total=Counter()\n",
      "sums=[0]*6\n",
      "for i in range(6):\n",
      "    total=total+counters[i]\n",
      "    sums[i]=sum(counters[i].values())\n",
      "    \n",
      "total_words=sum(sums)\n",
      "total_words"
     ],
     "language": "python",
     "metadata": {},
     "outputs": []
    },
    {
     "cell_type": "code",
     "collapsed": false,
     "input": [
      "import pandas as pd\n",
      "DF=pd.DataFrame(index=total.keys(),data={'total':total.values()})\n",
      "\n",
      "DF.sort(columns='total').tail()\n",
      "for i in range(1,6):\n",
      "    tmp=counters[i]\n",
      "    tmp2=pd.Series(index=tmp.keys(),data=tmp.values())\n",
      "    tmp2=tmp2/sums[i]\n",
      "    DF['prob'+str(i)]=tmp2\n",
      "DF['prob0']=DF['total']/total_words\n",
      "DF=DF.sort(columns='total')\n",
      "DF.tail(5)"
     ],
     "language": "python",
     "metadata": {},
     "outputs": []
    },
    {
     "cell_type": "code",
     "collapsed": false,
     "input": [
      "import nltk\n",
      "stopwords=nltk.corpus.stopwords.words('english')+['']\n",
      "','.join(stopwords)"
     ],
     "language": "python",
     "metadata": {},
     "outputs": []
    },
    {
     "cell_type": "code",
     "collapsed": false,
     "input": [
      "keep_list=[not(word in stopwords) for word in DF.index]\n",
      "DFR=DF.ix[keep_list,:]\n",
      "DFR=DFR[DFR['total']>10]\n",
      "shape(DFR),shape(DF)"
     ],
     "language": "python",
     "metadata": {},
     "outputs": []
    },
    {
     "cell_type": "code",
     "collapsed": false,
     "input": [
      "DF=DFR\n",
      "for i in range(1,6):\n",
      "    log_ratio='log_ratio'+str(i)\n",
      "    log_likelihood='log_likelihood'+str(i)\n",
      "    prob='prob'+str(i)\n",
      "    DF[log_ratio]=log(DF[prob]/DF['prob0'])\n",
      "    DF[log_likelihood]=DF[prob]*DF[log_ratio]"
     ],
     "language": "python",
     "metadata": {},
     "outputs": []
    },
    {
     "cell_type": "code",
     "collapsed": false,
     "input": [
      "DF=DF.sort(columns='log_likelihood5',ascending=False)\n",
      "DF[['total','prob0','prob5','log_ratio5','log_likelihood5']].head(20)"
     ],
     "language": "python",
     "metadata": {},
     "outputs": []
    },
    {
     "cell_type": "code",
     "collapsed": false,
     "input": [
      "for i in range(5,0,-1):\n",
      "    log_likelihood='log_likelihood'+str(i)\n",
      "    DF=DF.sort(columns=log_likelihood,ascending=False)\n",
      "    plot(DF[log_likelihood][:100],label=log_likelihood)\n",
      "    print 'top words for score',i\n",
      "    print ','.join(DF.index[:40])\n",
      "legend()\n",
      "grid()"
     ],
     "language": "python",
     "metadata": {},
     "outputs": []
    },
    {
     "cell_type": "code",
     "collapsed": false,
     "input": [],
     "language": "python",
     "metadata": {},
     "outputs": []
    },
    {
     "cell_type": "code",
     "collapsed": false,
     "input": [],
     "language": "python",
     "metadata": {},
     "outputs": []
    }
   ],
   "metadata": {}
  }
 ]
}