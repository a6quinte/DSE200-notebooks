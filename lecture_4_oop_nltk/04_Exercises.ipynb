{
 "metadata": {
  "name": "",
  "signature": "sha256:9fc170a27676cc107d35a931b1313eb9185705ea3af3ed1ad827bef345a64c6f"
 },
 "nbformat": 3,
 "nbformat_minor": 0,
 "worksheets": [
  {
   "cells": [
    {
     "cell_type": "heading",
     "level": 1,
     "metadata": {},
     "source": [
      "Lecture4 Exercises"
     ]
    },
    {
     "cell_type": "markdown",
     "metadata": {},
     "source": [
      "##Functional Programming\n",
      "\n",
      "Use the [map](https://docs.python.org/2/library/functions.html#map) and [filter](https://docs.python.org/2/library/functions.html#filter) functions to convert the list `l = [0,1,2,3,4,5,6,7,8,9,10]` into a list of the squares of the even numbers in `l`.\n",
      "\n",
      "Hints:\n",
      "\n",
      "1. Use map() to apply a function to each element in the list\n",
      "2. Use filter() to filter elements of a list\n",
      "3. Use lambda to define anonymous functions\n",
      "4. *Do not* use list comprehensions"
     ]
    },
    {
     "cell_type": "code",
     "collapsed": false,
     "input": [
      "l = [0,1,2,3,4,5,6,7,8,9,10]\n",
      "#write code here\n",
      "squares = map(lambda x: x**2, filter(lambda x: x%2==0, l))\n",
      "print squares"
     ],
     "language": "python",
     "metadata": {},
     "outputs": [],
     "prompt_number": 4
    },
    {
     "cell_type": "heading",
     "level": 3,
     "metadata": {},
     "source": [
      "Object Oriented Programming"
     ]
    },
    {
     "cell_type": "markdown",
     "metadata": {},
     "source": [
      "Implement a Python iterator which iterates over string characters (ASCII only) returning their ASCII code\n",
      "\n",
      "1. Define a new iterator class which contains two methods:\n",
      "    -init \u2013 a constructor taking the ASCII string as a argument,\n",
      "    -next \u2013 returns the ASCII code of the next character or raises a StopIteration exception if the string end was encountered.\n",
      "\n",
      "2. Define a new iterable class which wraps around a string and contains iter method which returns the iterator instance.\n",
      "3. Test your code using explicit calls of next method (see example in the lecture) and for loop."
     ]
    },
    {
     "cell_type": "code",
     "collapsed": false,
     "input": [
      "class StringIterator:\n",
      "    def __init__(self, string):\n",
      "        raise(\"Todo\")\n",
      "    \n",
      "    def next(self):\n",
      "        raise(\"Todo\")\n",
      "        \n",
      "class StringIterable:\n",
      "    def __init__(self,string):\n",
      "        raise(\"Todo\")\n",
      "        \n",
      "    def __iter__(self):\n",
      "        raise(\"Todo\")"
     ],
     "language": "python",
     "metadata": {},
     "outputs": [],
     "prompt_number": 5
    },
    {
     "cell_type": "code",
     "collapsed": false,
     "input": [
      "#Test here"
     ],
     "language": "python",
     "metadata": {},
     "outputs": [],
     "prompt_number": 6
    },
    {
     "cell_type": "markdown",
     "metadata": {},
     "source": [
      "##Fibonacci Sequence\n",
      "\n",
      "write a class Fibonacci whose constructor takes two numbers; the class uses these two numbers as the first two numbers in the sequence. \n",
      "\n",
      "1. The class should have a method calculate(n) that returns the n-th number in the sequence.\n",
      "2. Add a method next(). The first call to next() returns the first number in the sequence, the second call returns the second number, and so on. You'll need instance variables to save state between calls. \n",
      "3. Finally, add a method writeToFile(n, filename), that writes the first n numbers in the sequence to the file named filename, one number per line.\n",
      "\n",
      "**HINT:** you should store previously computed fibonachi numbers instead of recomputing every one as they are needed"
     ]
    },
    {
     "cell_type": "code",
     "collapsed": false,
     "input": [
      "class Fibonacci:\n",
      "    def __init__(self, a, b):\n",
      "        raise(\"Todo\")\n",
      "    \n",
      "    def next(self):\n",
      "        raise(\"Todo\")\n",
      "        \n",
      "    def calculate(self, n):\n",
      "        raise(\"Todo\")\n",
      "        \n",
      "    def writeToFile(self, n, filename):\n",
      "        raise(\"Todo\")"
     ],
     "language": "python",
     "metadata": {},
     "outputs": []
    },
    {
     "cell_type": "code",
     "collapsed": false,
     "input": [
      "#Testing code, should all equal print true\n",
      "fib = Fibonacci()\n",
      "\n",
      "print fib.calculate(0) == 0\n",
      "print fib.calculate(1) == 1\n",
      "print fib.calculate(2) == 1\n",
      "print fib.calculate(3) == 2\n",
      "print fib.calculate(20) == 6765 \n",
      "print fib.next() == fib.calculate(0)\n",
      "print fib.next() == fib.calculate(1)\n",
      "print fib.next() == fib.calculate(2)\n",
      "fib.writeToFile(30, \"fib.out\")"
     ],
     "language": "python",
     "metadata": {},
     "outputs": []
    },
    {
     "cell_type": "markdown",
     "metadata": {},
     "source": [
      "***Paramter Passing***\n",
      "\n",
      "Write a function solve(h,l) which solves the folowing classic puzzle: \n",
      "\n",
      "We count h heads and l legs among the chickens and rabbits in a farm. How many rabbits and how many chickens do we have? where h and l are the parameters passed to the function solve\n",
      "\n",
      "    >> numheads=35\n",
      "    >> numlegs=94\n",
      "    >> solutions=solve(numheads,numlegs)\n",
      "    >> print solutions\n",
      "\n"
     ]
    },
    {
     "cell_type": "code",
     "collapsed": false,
     "input": [
      "def solve(h,l):\n",
      "    ns='No solutions!'\n",
      "    for i in range(h+1):\n",
      "        j=h-i\n",
      "        if 2*i+4*j==l:\n",
      "            return i,j\n",
      "    return ns,ns"
     ],
     "language": "python",
     "metadata": {},
     "outputs": []
    },
    {
     "cell_type": "heading",
     "level": 3,
     "metadata": {},
     "source": [
      "Hangman AI - OOP + NLTK Implementation"
     ]
    },
    {
     "cell_type": "markdown",
     "metadata": {},
     "source": [
      "The goal of this excercise is to write a program that can play the hangman game intelligently. If you are not familiar with the hangman game, see http://en.wikipedia.org/wiki/Hangman_(game)\n",
      "\n",
      "What you are given - A txt file phraseList which has a list of phrases with one phrase/row per game to play with. Each line in the file is of the form. However, unlike conventional hangman, here we shall use phrases instead of single words to play the game and at the start its all underscores.\n",
      "\n",
      "id:1 game_phrase: Mary had a little lamb\n",
      "\n",
      "Write a program that wins the highest proportion of games.  "
     ]
    },
    {
     "cell_type": "markdown",
     "metadata": {},
     "source": [
      "What you need to do\n",
      "\n",
      "a) Create an object - game which has the following attributes\n",
      "game id, game state, guesses_left\n",
      "\n",
      "The class should also have a method which returns the above details in a string."
     ]
    },
    {
     "cell_type": "code",
     "collapsed": false,
     "input": [
      "class game:\n",
      "    \n",
      "    def __init__(self):\n",
      "        raise(\"TODO\")\n",
      "        \n",
      "    def toString(self):\n",
      "        raise(\"TODO\")"
     ],
     "language": "python",
     "metadata": {},
     "outputs": []
    },
    {
     "cell_type": "markdown",
     "metadata": {},
     "source": [
      "b) Create an object - hangman_bot which acts as the game_master providing you with randomly choosen blank phrases to play hangman with. The object should have functions to do the following\n",
      "    \n",
      "    1. Read an input file having list of phrases\n",
      "    \n",
      "    2. Function to start the game which returns a randomly chosen object game. The returned object should have the following details - id, initial state of the phrase as all underscores, remaining_guesses left. For example, for the case id:1 phrase: Mary had a little lamb, the output will be \n",
      "    \n",
      "    id:1 state: _ _ _ _   _ _ _   _ _ _ _ _ _   _ _ _ _  remaining_guesses: 3\n",
      "    \n",
      "    3. Update function which takes as input a guessLetter from you, and returns the updated status of the game. If the guessletter is there in the phrase the coresponding underscores will be replaced by the letter, and if the guessLetter is not there return failure message. Whenever the guess is wrong, this method should check if the number of failed attempts limit has been reached, and if so, end the game. \n",
      "    \n"
     ]
    },
    {
     "cell_type": "code",
     "collapsed": false,
     "input": [
      "class hangan_bot:\n",
      "    \n",
      "    def __init__(self):\n",
      "        raise(\"TODO\")\n",
      "    \n",
      "    def readDataFrame(self, filename):\n",
      "        raise(\"TODO\")\n",
      "        \n",
      "    def startGame(self):\n",
      "        raise(\"TODO\")\n",
      "        \n",
      "    def updateGuess(self, letter):\n",
      "        raise(\"TODO\")"
     ],
     "language": "python",
     "metadata": {},
     "outputs": [],
     "prompt_number": 1
    },
    {
     "cell_type": "markdown",
     "metadata": {},
     "source": [
      "c) Create an object - AI which runs background algorithms to make an intelligent letter guess. Since, we have only 3 wrong guesses for each game, the AI should be very intelligent and much better than a random generator. Below is a simple heuristic with no learning involved. You can choose to build on this or write your own\n",
      "\n",
      "1. Develop a huge word dictionary by downloading one of the corpus available online. for eg: - http://wordnet.princeton.edu/wordnet/download \n",
      "\n",
      "2. Write function most_filled_word() which returns the word with minimum underscores. At the start of the game, this function will return the word with smallest length as it will have the least underscore count. \n",
      "\n",
      "3. Write a function possibleWords() which builds a list of probable words for word returned from most_filled_word(). Here you build a dictionary of words which have the same length and have letters at the same position as word considered. You can use regex quickly do pattern matching. This function will then return a list of all possible words\n",
      "\n",
      "4. Write a maxLetterFreq() function whch counts occurrences of each of the 26 letters from among the list of possible words returned from possibleWords() function and returns the one with highest occurrence/frequency\n",
      "\n",
      "5. Write a wrappper function bestGuess() which calls the above 4 functions in the correct order, and returns the letter with highest frequency as the guessLetter to the hangman_bot. This wrapper function should also keep a tab of the letters already guessed so that the same letters are not guessed. You can further add tweaks to this wrapper function like for the case where the length of the word is 1, then most likely it will be a or I"
     ]
    },
    {
     "cell_type": "code",
     "collapsed": false,
     "input": [
      "class AI:\n",
      "    \n",
      "    def __init__(self):\n",
      "        raise(\"TODO\")\n",
      "        \n",
      "    def developWordDictonary(self):\n",
      "        raise(\"TODO\")\n",
      "        \n",
      "    def most_filled_word(self, state):\n",
      "        raise(\"TODO\")\n",
      "        \n",
      "    def possibleWords(self, wordPattern):\n",
      "        raise(\"TODO\")\n",
      "        \n",
      "    def maxCharacterFreq(self, possibleWordList):\n",
      "        raise(\"TODO\")\n",
      "        \n",
      "    def bestGuess(self, state):\n",
      "        raise(\"TODO\")"
     ],
     "language": "python",
     "metadata": {},
     "outputs": [],
     "prompt_number": 3
    },
    {
     "cell_type": "markdown",
     "metadata": {},
     "source": [
      "Note: While building AI, take precautions of the boundary conditions, including case sensitivity of letters, occurrences of punctuation mmarks in phrases etc. Optionally, you can further improve your AI by writing words of the given phrase into your dictionary so that such words get higher weightage in subsequent games\n",
      "\n",
      "Keep the code modular and generic, so that the game can be played with a diferent list of phrases as well. \n",
      "Finally, Calculate the percentage success for all the entries for the files phraselist1.txt\n"
     ]
    },
    {
     "cell_type": "code",
     "collapsed": false,
     "input": [],
     "language": "python",
     "metadata": {},
     "outputs": []
    }
   ],
   "metadata": {}
  }
 ]
}