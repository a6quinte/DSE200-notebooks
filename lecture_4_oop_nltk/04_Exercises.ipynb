{
 "metadata": {
  "name": "",
  "signature": "sha256:241187ca8838ab7dfc253687b3f4b54c87836ae8318c635d432a5bcce77a8da9"
 },
 "nbformat": 3,
 "nbformat_minor": 0,
 "worksheets": [
  {
   "cells": [
    {
     "cell_type": "heading",
     "level": 1,
     "metadata": {},
     "source": [
      "Lecture4 Exercises"
     ]
    },
    {
     "cell_type": "heading",
     "level": 3,
     "metadata": {},
     "source": [
      "Object Oriented Programming"
     ]
    },
    {
     "cell_type": "markdown",
     "metadata": {},
     "source": [
      "Implement a Python iterator which iterates over string characters (ASCII only) returning their ASCII code\n",
      "\n",
      "1. Define a new iterator class which contains two methods:\n",
      "    -init \u2013 a constructor taking the ASCII string as a argument,\n",
      "    -next \u2013 returns the ASCII code of the next character or raises a StopIteration exception if the string end was encountered.\n",
      "\n",
      "2. Define a new iterable class which wraps around a string and contains iter method which returns the iterator instance.\n",
      "3. Test your code using explicit calls of next method (see example in the lecture) and for loop.\n",
      "4. (Optional) Implement the same functionality using generators.\n",
      "5. (Optional) Define a new iterator which returns the same ASCII codes but in a random order. Use it to iterate over your iterable object"
     ]
    },
    {
     "cell_type": "code",
     "collapsed": false,
     "input": [],
     "language": "python",
     "metadata": {},
     "outputs": [],
     "prompt_number": 0
    },
    {
     "cell_type": "markdown",
     "metadata": {},
     "source": [
      "***Fibonacci Sequence***\n",
      "\n",
      "write a class Fibonacci whose constructor takes two numbers; the class uses these two numbers as the first two numbers in the sequence. \n",
      "\n",
      "1. The class should have a method calculate(n) that returns the n-th number in the sequence.\n",
      "2. Add a method next(). The first call to next() returns the first number in the sequence, the second call returns the second number, and so on. You'll need instance variables to save state between calls. \n",
      "3. Finally, add a method writeToFile(n, filename), that writes the first n numbers in the sequence to the file named filename, one number per line."
     ]
    },
    {
     "cell_type": "code",
     "collapsed": false,
     "input": [],
     "language": "python",
     "metadata": {},
     "outputs": []
    },
    {
     "cell_type": "markdown",
     "metadata": {},
     "source": [
      "***Map() Filter() and Lambda***\n",
      "\n",
      "Write a program which can map() and filter() to make a list whose elements are square of even number in [1,2,3,4,5,6,7,8,9,10].\n",
      "\n",
      "Hints:\n",
      "\n",
      "1. Use map() to generate a list.\n",
      "2. Use filter() to filter elements of a list.\n",
      "3. Use lambda to define anonymous functions."
     ]
    },
    {
     "cell_type": "code",
     "collapsed": false,
     "input": [],
     "language": "python",
     "metadata": {},
     "outputs": []
    },
    {
     "cell_type": "markdown",
     "metadata": {},
     "source": [
      "Write a function solve(h,l) which solves the folowing classic puzzle: \n",
      "\n",
      "We count h heads and l legs among the chickens and rabbits in a farm. How many rabbits and how many chickens do we have? where h and l are the parameters passed to the function solve\n",
      "\n",
      "    >> numheads=35\n",
      "    >> numlegs=94\n",
      "    >> solutions=solve(numheads,numlegs)\n",
      "    >> print solutions\n",
      "\n"
     ]
    },
    {
     "cell_type": "code",
     "collapsed": false,
     "input": [],
     "language": "python",
     "metadata": {},
     "outputs": []
    },
    {
     "cell_type": "markdown",
     "metadata": {},
     "source": [
      "*** Inheritance ***\n",
      "\n",
      "Write a class Adder that exports a method add(self, x, y) that prints a \u201cNot Implemented\u201d message. Then define two subclasses of Adder that implement the add method:\n",
      "1. ListAdder, with an add method that returns the concatenation of its two list argu\u00adments\n",
      "2. DictAdder, with an add method that returns a new dictionary with the items in both its two dictionary arguments (any definition of addition will do)\n",
      "\n",
      "Experiment by making instances of all three of your classes interactively and calling their add methods. Now, extend your Adder superclass to save an object in the instance with a constructor (e.g., assign self.data a list or a dictionary) and overload the + operator with an __add__ to automatically dispatch to your add methods (e.g., X+Y triggers X.add(X.data,Y))"
     ]
    },
    {
     "cell_type": "code",
     "collapsed": false,
     "input": [],
     "language": "python",
     "metadata": {},
     "outputs": []
    },
    {
     "cell_type": "markdown",
     "metadata": {},
     "source": [
      "***Restaurant Order OOP Implementation***\n",
      "\n",
      "Simulate a fast-food ordering scenario by defining four classes:\n",
      "a)       Lunch: a container and controller class\n",
      "b)       Customer: the actor that buys food\n",
      "c)       Employee: the actor that a customer orders from\n",
      "d)       Food: what the customer buys\n",
      "To get you started, here are the classes and methods you\u2019ll be defining:\n",
      " \n",
      "class Lunch:\n",
      "    def __init__(self)         # make/embed Customer and Employee\n",
      "    def order(self, foodName)  # start a Customer order simulation\n",
      "    def result(self)           # ask the Customer what kind of Food it has\n",
      " \n",
      "class Customer:\n",
      "    def __init__(self)                        # initialize my food to None\n",
      "    def placeOrder(self, foodName, employee)  # place order with an Employee\n",
      "    def printFood(self)                       # print the name of my food\n",
      " \n",
      "class Employee:\n",
      "    def takeOrder(self, foodName)    # return a Food, with requested name\n",
      " \n",
      "class Food:\n",
      "    def __init__(self, name)         # store food name\n",
      " \n",
      "The order simulation works as follows:\n",
      "a)       The Lunch class\u2019s constructor should make and embed an instance of Customer and Employee, and export a method called order. When called, this order method should ask the Customer to place an order, by calling its placeOrder method. The Customer\u2019s placeOrder method should in turn ask the Employee object for a new Food object, by calling the Employee\u2019s takeOrder method.\n",
      "\n",
      "b)       Food objects should store a food name string (e.g., \"burritos\"), passed down from Lunch.order to Customer.placeOrder, to Employee.takeOrder, and finally to Food\u2019s constructor. The top-level Lunch class should also export a method called result, which asks the customer to print the name of the food it received from the Employee via the order (this can be used to test your simulation).\n",
      "\n",
      "c)       Note that Lunch needs to either pass the Employee to the Customer, or pass itself to the Customer, in order to allow the Customer to call Employee methods.\n",
      "Experiment with your classes interactively by importing the Lunch class, calling its order method to run an interaction, and then calling its result method to verify that the Cusotomer got what he or she ordered. "
     ]
    },
    {
     "cell_type": "code",
     "collapsed": false,
     "input": [],
     "language": "python",
     "metadata": {},
     "outputs": []
    },
    {
     "cell_type": "heading",
     "level": 3,
     "metadata": {},
     "source": [
      "Hangman AI - OOP + NLTK Implementation"
     ]
    },
    {
     "cell_type": "markdown",
     "metadata": {},
     "source": [
      "The goal of this excercise is to write a program that can play the hangman game intelligently.\n",
      "\n",
      "If you are not familiar with the hangman game, see http://en.wikipedia.org/wiki/Hangman_(game)\n",
      "\n",
      "What you are given \n",
      "\n",
      "A txt file phraseList which has a list of phrases with one phrase/row per game to play with. Each line in the file is of the form\n",
      "id:1 game_phrase: Mary had a little lamb\n",
      "\n",
      "Write a program that wins the highest proportion of games.  \n",
      "\n",
      "Note: Unlike conventional hangman, here we use phrases instead of single words to play the game and at the start its all underscores.\n",
      "\n",
      "What you need to do\n",
      "\n",
      "a) Create an object - game which has the following attributes\n",
      "game id, game state, guesses_left\n",
      "\n",
      "The class should also have a method which returns the above details in a string.\n",
      "\n",
      "b) Create an object - hangman_bot which acts as the game_master providing you with randomly choosen blank phrases to play hangman with. The object should have functions to do the following\n",
      "    \n",
      "    1. Read an input file having list of phrases\n",
      "    \n",
      "    2. Function to start the game which returns a randomly chosen object game. The returned object should have the following details - id, initial state of the phrase as all underscores, remaining_guesses left. For example, for the case id:1 phrase: Mary had a little lamb, the output will be \n",
      "    \n",
      "    id:1 state: _ _ _ _   _ _ _   _ _ _ _ _ _   _ _ _ _  remaining_guesses: 3\n",
      "    \n",
      "    3. Update function which takes as input a guessLetter from you, and returns the updated status of the game. If the guessletter is there in the phrase the coresponding underscores will be replaced by the letter, and if the guessLetter is not there return failure message. Whenever the guess is wrong, this method should check if the number of failed attempts limit has been reached, and if so, end the game. \n",
      "    \n",
      "c) Create an object - AI which runs background algorithms to make an intelligent letter guess. Since, we have only 3 wrong guesses for each game, the AI should be very intelligent and much better than a random generator. Below is a simple heuristic with no learning involved. You can choose to build on this or write your own\n",
      "\n",
      "1. Develop a huge word corpus. There are many available online for eg: - http://wordnet.princeton.edu/wordnet/download \n",
      "\n",
      "2. Write function most_filled_word() which returns the word with minimum underscores. At the start of the game, this function will return the word with smallest length as it will have the least underscore count. \n",
      "\n",
      "3. Write a function possibleWords() which builds a list of probable words for word returned from most_filled_word(). Here you build a dictionary of words which have the same length and have letters at the same position as word considered. You can use regex quickly do pattern matching. This function will then return a list of all possible words\n",
      "\n",
      "4. Write a maxLetterFreq() function whch counts occurrences of each of the 26 letters from among the list of possible words returned from possibleWords() function and returns the one with highest occurrence/frequency\n",
      "\n",
      "5. Write a wrappper function bestGuess() which calls the above 4 functions in the correct order, and returns the letter with highest frequency as the guessLetter to the hangman_bot. This wrapper function should also keep a tab of the letters already guessed so that the same letters are not guessed. You can further add tweaks to this wrapper function like for the case where the length of the word is 1, then most likely it will be a or I\n",
      "    \n",
      "Note: While building AI, take precautions of the boundary conditions, including case sensitivity of letters, occurrences of punctuation mmarks in phrases etc. Optionally, you can further improve your AI by writing words of the given phrase into your dictionary so that such words get higher weightage in subsequent games\n",
      "\n",
      "Keep the code modular and generic, so that the game cna be layed with a diferent list of phrases as well. \n",
      "Finally, Calculate the percentage success for all the entries for the files phraselist1.txt and phraselist2.txt\n",
      "\n"
     ]
    },
    {
     "cell_type": "code",
     "collapsed": false,
     "input": [],
     "language": "python",
     "metadata": {},
     "outputs": []
    }
   ],
   "metadata": {}
  }
 ]
}