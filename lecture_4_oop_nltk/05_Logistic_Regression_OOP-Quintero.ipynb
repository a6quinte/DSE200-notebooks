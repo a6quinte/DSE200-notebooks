{
 "metadata": {
  "name": "",
  "signature": "sha256:bb95b7d06b79cf87aa2759c43bb0107901db688df7e1c2b91ccbbd5d1a10b1ef"
 },
 "nbformat": 3,
 "nbformat_minor": 0,
 "worksheets": [
  {
   "cells": [
    {
     "cell_type": "code",
     "collapsed": false,
     "input": [
      "#Import the libraries \n",
      "%pylab inline\n",
      "import numpy as np\n",
      "import scipy as sp\n",
      "import pandas as pd\n",
      "import sklearn.linear_model\n",
      "from sklearn.decomposition import PCA\n",
      "import matplotlib.pyplot as plt"
     ],
     "language": "python",
     "metadata": {},
     "outputs": [
      {
       "output_type": "stream",
       "stream": "stdout",
       "text": [
        "Populating the interactive namespace from numpy and matplotlib\n"
       ]
      }
     ],
     "prompt_number": 2
    },
    {
     "cell_type": "markdown",
     "metadata": {},
     "source": [
      "#Object Oriented Programming for Analysis\n",
      "\n",
      "Last week we explored feature engineering and binary classification on the DCT data set.  This was all well and good but due to the ad hoc nature of this it may be hard to reuse this code for analysis of a similar dataset.  In this notebook we guide you thought the creation of a set of classes to encapselate this code for reuseability.\n",
      "\n",
      "**The goal of this is to mostly reuse your code from the DCT analysis notebook.  In the process it is also a good chance to refactor your code**\n",
      "\n",
      "##Model Object\n",
      "\n",
      "As a first step, we wish to encapselate the training of a logistic regression training and model which uses a subset of the features in a class.  Below we have written a template for the LR_Model class which trains a model in the constructor and then encapselates the prediction/accuracy measuring code within the class.  Fill in the 3 methods.\n",
      "\n",
      "If you need to add any additional methods for use within the class, Python style is to give them names starting with an underscore.  For example if we needed an internal method to compute the accuracy it would be called \\_accuracy(p,y)\n",
      "\n"
     ]
    },
    {
     "cell_type": "code",
     "collapsed": false,
     "input": [
      "#Load data for testing purposes\n",
      "train_x = pd.read_csv(\"../lecture_3_pandas_models_pylab/data/train\", sep=\"\\t\")\n",
      "train_y = train_x[\"label\"]\n",
      "del train_x[\"label\"]\n",
      "test_x = pd.read_csv(\"../lecture_3_pandas_models_pylab/data/test\", sep=\"\\t\")\n",
      "test_y = test_x[\"label\"]\n",
      "del test_x[\"label\"]"
     ],
     "language": "python",
     "metadata": {},
     "outputs": [],
     "prompt_number": 3
    },
    {
     "cell_type": "code",
     "collapsed": false,
     "input": [
      "class LR_Model:\n",
      "    def __init__(self, train_x, train_y, fields = None):\n",
      "        \"\"\"\n",
      "            Trains a logistic regression model using sklearn\n",
      "            \n",
      "            :param train_x the pandas data frame containing the features for the training data\n",
      "            :param train_y the pandas data frame containing the lables for the training data\n",
      "            :param fields  the list of features from train_x that should be used for training.  \n",
      "                           if None then train on all features       \n",
      "        \"\"\"\n",
      "        self.model = sklearn.linear_model.LogisticRegression()\n",
      "        if fields == None:\n",
      "            self.fields = train_x.columns.tolist()\n",
      "        else:\n",
      "            self.fields = fields\n",
      "\n",
      "        self.model.fit( train_x[self.fields], train_y )\n",
      "            \n",
      "    def predict(self, x):\n",
      "        \"\"\" Scores x using the logistic regression model and returns the series of preditions \"\"\"\n",
      "        return self.model.predict(x[self.fields])\n",
      "        \n",
      "    def evaluate(self, x,y):\n",
      "        \"\"\" Scores x using the logistic regression model and returns the accuracy of the scores vs y \"\"\"\n",
      "        return self.model.score(x[self.fields],y)"
     ],
     "language": "python",
     "metadata": {},
     "outputs": [],
     "prompt_number": 4
    },
    {
     "cell_type": "markdown",
     "metadata": {},
     "source": [
      "After this code is complete the following tests should return true"
     ]
    },
    {
     "cell_type": "code",
     "collapsed": false,
     "input": [
      "model = LR_Model(train_x,train_y)\n",
      "print model.evaluate(test_x,test_y) > .90\n",
      "print model.evaluate(test_x, test_y)"
     ],
     "language": "python",
     "metadata": {},
     "outputs": [
      {
       "output_type": "stream",
       "stream": "stdout",
       "text": [
        "True\n",
        "0.907949790795\n"
       ]
      }
     ],
     "prompt_number": 5
    },
    {
     "cell_type": "code",
     "collapsed": false,
     "input": [
      "model = LR_Model( train_x, train_y, test_x.columns.tolist()[0:10] )\n",
      "print model.evaluate(test_x,test_y) > 0.55\n",
      "print model.evaluate(test_x, test_y)"
     ],
     "language": "python",
     "metadata": {},
     "outputs": [
      {
       "output_type": "stream",
       "stream": "stdout",
       "text": [
        "True\n",
        "0.560669456067\n"
       ]
      }
     ],
     "prompt_number": 6
    },
    {
     "cell_type": "markdown",
     "metadata": {},
     "source": [
      "##Feature Engineering Class\n",
      "\n",
      "We now provide you with a class FE_Technique which exports single method *transform* which takes a data frame and returns a new data frame containing the original frame plus the features created by the specific feature engineering technique.  **Do not modify this code.**"
     ]
    },
    {
     "cell_type": "code",
     "collapsed": false,
     "input": [
      "class FE_Technique:\n",
      "    def __init__(self, train_x):\n",
      "        \"\"\"\n",
      "            Constructs the FE_Technique using training data.  The constructor can do \n",
      "            any prepetory work if the technique is data specific.\n",
      "        \"\"\"\n",
      "        self.pass_through = True\n",
      "        None\n",
      "        \n",
      "    def _technique(self, data_frame):\n",
      "        \"\"\"\n",
      "            A private abstract method which takes the data frame and creates a new data frame \n",
      "            containin ONLY the features generated by the specific feature engineering technique.\n",
      "            This method is overridden in specific techniques.\n",
      "        \"\"\"\n",
      "        raise (\"This method is abstract\")\n",
      "        \n",
      "    def transform(self, data_frame):\n",
      "        \"\"\"\n",
      "            Applies the feature engineering technique and returns a new data frame contaning the\n",
      "            input features plus the new features.  This should not be overridden in subclasses\n",
      "        \"\"\"\n",
      "        added_features = self._technique(data_frame)\n",
      "        if self.pass_through:\n",
      "            return pd.concat([data_frame, added_features], axis=1, ignore_index = False)\n",
      "        else:\n",
      "            return added_features\n",
      "        \n",
      "        \n",
      "        "
     ],
     "language": "python",
     "metadata": {},
     "outputs": [],
     "prompt_number": 7
    },
    {
     "cell_type": "markdown",
     "metadata": {},
     "source": [
      "Now impliment these 3 techniques as subclasses fo the FE_Technique class:\n",
      "\n",
      "1. FE_Basic_Math - impliments the absolute value, sign, and squareing transforms seen in last weeks homework\n",
      "2. FE_Whiten - impliments the Whitening Z Transform we've seen the past two homeworks.  This should set self.pass_through to false so that only the whitened features are output.  *Hint: in later parts we may see data with standard deviations of 0 for certain columns, account for this case*\n",
      "3. FE_PCA - add the top **20** PCA coeficient features to the data frame"
     ]
    },
    {
     "cell_type": "code",
     "collapsed": false,
     "input": [
      "class FE_Basic_Math(FE_Technique):\n",
      "    def _technique(self, data_frame):\n",
      "        \"\"\"Applies the sign, abs, and square transforms to all fields in data_frame\"\"\"\n",
      "        mathOnlyDF = pd.DataFrame()\n",
      "        for col in data_frame.columns:\n",
      "            mathOnlyDF[str(col) + \"_SQ\"]   = data_frame[col]**2\n",
      "            mathOnlyDF[str(col) + \"_ABS\"]  = abs(data_frame[col])\n",
      "            mathOnlyDF[str(col) + \"_SIGN\"] = np.sign(data_frame[col])\n",
      "        return mathOnlyDF"
     ],
     "language": "python",
     "metadata": {},
     "outputs": [],
     "prompt_number": 8
    },
    {
     "cell_type": "code",
     "collapsed": false,
     "input": [
      "class FE_Whiten(FE_Technique):\n",
      "    def __init__(self,train_x):\n",
      "        #Call the super class constructor\n",
      "        FE_Technique.__init__(self, train_x)\n",
      "        self.pass_through = False\n",
      "    \n",
      "    def _technique(self, data_frame):\n",
      "        \"\"\"Whitens the input data_frame \"\"\"\n",
      "        for thisCol in data_frame.columns:\n",
      "            thisAvg = data_frame[thisCol].mean()\n",
      "            thisStd = data_frame[thisCol].std()\n",
      "            # the business\n",
      "            data_frame[thisCol] = (data_frame[thisCol]-thisAvg) / thisStd\n",
      "        return data_frame"
     ],
     "language": "python",
     "metadata": {},
     "outputs": [],
     "prompt_number": 9
    },
    {
     "cell_type": "code",
     "collapsed": false,
     "input": [
      "#Write FE_PCA HERE\n",
      "class FE_PCA(FE_Technique):\n",
      "    def _technique(self, data_frame):\n",
      "        \"\"\"Returns the top 20 PCA cefficient features for data_frame\"\"\"\n",
      "        nComponents = 20  # could be made an arg\n",
      "        pca = PCA(n_components=nComponents, whiten=True)\n",
      "        pca.fit(data_frame)\n",
      "        coeffsList = pca.transform(data_frame).T\n",
      "        #put array into dataframe\n",
      "        topPCA_DF = pd.DataFrame()\n",
      "        pcaIndxArr = ['PCA_'+str(ii) for ii in range(nComponents)]\n",
      "        for colName, coeffList in zip(pcaIndxArr, coeffsList):\n",
      "            topPCA_DF[colName] = coeffList\n",
      "        return topPCA_DF"
     ],
     "language": "python",
     "metadata": {},
     "outputs": [],
     "prompt_number": 10
    },
    {
     "cell_type": "markdown",
     "metadata": {},
     "source": [
      "After this code is complete the following code should run and produce a reasonable data frame"
     ]
    },
    {
     "cell_type": "code",
     "collapsed": false,
     "input": [
      "#Example usage\n",
      "bm = FE_Basic_Math(train_x)\n",
      "train_x_bm = bm.transform(train_x)\n",
      "\n",
      "wht = FE_Whiten(train_x_bm)\n",
      "\n",
      "train_x_bm_pca = wht.transform(train_x_bm)\n",
      "pca = FE_PCA(train_x_bm_pca)\n",
      "\n",
      "x = pca.transform(wht.transform(bm.transform(test_x)))\n",
      "x.describe()"
     ],
     "language": "python",
     "metadata": {},
     "outputs": [
      {
       "html": [
        "<div style=\"max-height:1000px;max-width:1500px;overflow:auto;\">\n",
        "<table border=\"1\" class=\"dataframe\">\n",
        "  <thead>\n",
        "    <tr style=\"text-align: right;\">\n",
        "      <th></th>\n",
        "      <th>F_0</th>\n",
        "      <th>F_1</th>\n",
        "      <th>F_2</th>\n",
        "      <th>F_3</th>\n",
        "      <th>F_4</th>\n",
        "      <th>F_5</th>\n",
        "      <th>F_6</th>\n",
        "      <th>F_7</th>\n",
        "      <th>F_8</th>\n",
        "      <th>F_9</th>\n",
        "      <th>...</th>\n",
        "      <th>PCA_10</th>\n",
        "      <th>PCA_11</th>\n",
        "      <th>PCA_12</th>\n",
        "      <th>PCA_13</th>\n",
        "      <th>PCA_14</th>\n",
        "      <th>PCA_15</th>\n",
        "      <th>PCA_16</th>\n",
        "      <th>PCA_17</th>\n",
        "      <th>PCA_18</th>\n",
        "      <th>PCA_19</th>\n",
        "    </tr>\n",
        "  </thead>\n",
        "  <tbody>\n",
        "    <tr>\n",
        "      <th>count</th>\n",
        "      <td> 2.390000e+02</td>\n",
        "      <td> 239.000000</td>\n",
        "      <td> 2.390000e+02</td>\n",
        "      <td> 2.390000e+02</td>\n",
        "      <td> 2.390000e+02</td>\n",
        "      <td> 2.390000e+02</td>\n",
        "      <td> 2.390000e+02</td>\n",
        "      <td> 2.390000e+02</td>\n",
        "      <td> 2.390000e+02</td>\n",
        "      <td> 2.390000e+02</td>\n",
        "      <td>...</td>\n",
        "      <td> 2.390000e+02</td>\n",
        "      <td> 2.390000e+02</td>\n",
        "      <td> 2.390000e+02</td>\n",
        "      <td> 2.390000e+02</td>\n",
        "      <td> 2.390000e+02</td>\n",
        "      <td> 2.390000e+02</td>\n",
        "      <td> 2.390000e+02</td>\n",
        "      <td> 2.390000e+02</td>\n",
        "      <td> 2.390000e+02</td>\n",
        "      <td> 2.390000e+02</td>\n",
        "    </tr>\n",
        "    <tr>\n",
        "      <th>mean</th>\n",
        "      <td> 4.831096e-17</td>\n",
        "      <td>   0.000000</td>\n",
        "      <td> 1.486491e-17</td>\n",
        "      <td> 2.601359e-17</td>\n",
        "      <td> 2.229737e-17</td>\n",
        "      <td>-7.432455e-18</td>\n",
        "      <td>-1.486491e-17</td>\n",
        "      <td>-1.486491e-17</td>\n",
        "      <td> 1.486491e-17</td>\n",
        "      <td> 1.486491e-17</td>\n",
        "      <td>...</td>\n",
        "      <td> 1.300680e-17</td>\n",
        "      <td> 1.951020e-17</td>\n",
        "      <td> 4.738190e-17</td>\n",
        "      <td> 5.574342e-17</td>\n",
        "      <td>-2.972982e-17</td>\n",
        "      <td> 1.114868e-17</td>\n",
        "      <td>-2.264576e-17</td>\n",
        "      <td>-9.290569e-18</td>\n",
        "      <td> 2.415548e-17</td>\n",
        "      <td> 1.858114e-17</td>\n",
        "    </tr>\n",
        "    <tr>\n",
        "      <th>std</th>\n",
        "      <td> 1.000000e+00</td>\n",
        "      <td>   1.000000</td>\n",
        "      <td> 1.000000e+00</td>\n",
        "      <td> 1.000000e+00</td>\n",
        "      <td> 1.000000e+00</td>\n",
        "      <td> 1.000000e+00</td>\n",
        "      <td> 1.000000e+00</td>\n",
        "      <td> 1.000000e+00</td>\n",
        "      <td> 1.000000e+00</td>\n",
        "      <td> 1.000000e+00</td>\n",
        "      <td>...</td>\n",
        "      <td> 1.002099e+00</td>\n",
        "      <td> 1.002099e+00</td>\n",
        "      <td> 1.002099e+00</td>\n",
        "      <td> 1.002099e+00</td>\n",
        "      <td> 1.002099e+00</td>\n",
        "      <td> 1.002099e+00</td>\n",
        "      <td> 1.002099e+00</td>\n",
        "      <td> 1.002099e+00</td>\n",
        "      <td> 1.002099e+00</td>\n",
        "      <td> 1.002099e+00</td>\n",
        "    </tr>\n",
        "    <tr>\n",
        "      <th>min</th>\n",
        "      <td>-1.119748e+00</td>\n",
        "      <td>  -3.157541</td>\n",
        "      <td>-3.277829e+00</td>\n",
        "      <td>-4.901732e+00</td>\n",
        "      <td>-3.923467e+00</td>\n",
        "      <td>-6.132471e+00</td>\n",
        "      <td>-4.386212e+00</td>\n",
        "      <td>-5.912378e+00</td>\n",
        "      <td>-4.579980e+00</td>\n",
        "      <td>-4.571009e+00</td>\n",
        "      <td>...</td>\n",
        "      <td>-3.765547e+00</td>\n",
        "      <td>-3.836709e+00</td>\n",
        "      <td>-3.854911e+00</td>\n",
        "      <td>-5.016538e+00</td>\n",
        "      <td>-3.212136e+00</td>\n",
        "      <td>-4.777441e+00</td>\n",
        "      <td>-5.650861e+00</td>\n",
        "      <td>-4.068019e+00</td>\n",
        "      <td>-5.178029e+00</td>\n",
        "      <td>-3.316702e+00</td>\n",
        "    </tr>\n",
        "    <tr>\n",
        "      <th>25%</th>\n",
        "      <td>-5.853191e-01</td>\n",
        "      <td>  -0.493910</td>\n",
        "      <td>-2.915476e-01</td>\n",
        "      <td>-2.396526e-01</td>\n",
        "      <td>-4.182991e-01</td>\n",
        "      <td>-3.826004e-01</td>\n",
        "      <td>-3.072055e-01</td>\n",
        "      <td>-2.588883e-01</td>\n",
        "      <td>-5.422994e-01</td>\n",
        "      <td>-3.779934e-01</td>\n",
        "      <td>...</td>\n",
        "      <td>-6.349173e-01</td>\n",
        "      <td>-4.986733e-01</td>\n",
        "      <td>-6.429835e-01</td>\n",
        "      <td>-4.110546e-01</td>\n",
        "      <td>-6.262585e-01</td>\n",
        "      <td>-6.186984e-01</td>\n",
        "      <td>-5.822696e-01</td>\n",
        "      <td>-6.166579e-01</td>\n",
        "      <td>-5.106234e-01</td>\n",
        "      <td>-5.129546e-01</td>\n",
        "    </tr>\n",
        "    <tr>\n",
        "      <th>50%</th>\n",
        "      <td>-3.457477e-01</td>\n",
        "      <td>  -0.299010</td>\n",
        "      <td>-1.493438e-01</td>\n",
        "      <td>-2.396526e-01</td>\n",
        "      <td>-1.135019e-01</td>\n",
        "      <td>-1.164098e-02</td>\n",
        "      <td>-1.032552e-01</td>\n",
        "      <td> 5.519446e-02</td>\n",
        "      <td>-1.385313e-01</td>\n",
        "      <td> 3.189818e-03</td>\n",
        "      <td>...</td>\n",
        "      <td>-5.574544e-02</td>\n",
        "      <td> 8.346377e-02</td>\n",
        "      <td>-7.070840e-03</td>\n",
        "      <td>-8.186515e-02</td>\n",
        "      <td>-7.509972e-02</td>\n",
        "      <td> 1.459160e-01</td>\n",
        "      <td>-8.747083e-03</td>\n",
        "      <td> 7.951971e-02</td>\n",
        "      <td> 2.452247e-02</td>\n",
        "      <td> 1.045807e-02</td>\n",
        "    </tr>\n",
        "    <tr>\n",
        "      <th>75%</th>\n",
        "      <td> 1.426094e-01</td>\n",
        "      <td>  -0.039143</td>\n",
        "      <td>-7.139942e-03</td>\n",
        "      <td> 9.335305e-02</td>\n",
        "      <td> 1.912953e-01</td>\n",
        "      <td> 3.593184e-01</td>\n",
        "      <td> 1.006951e-01</td>\n",
        "      <td> 3.692772e-01</td>\n",
        "      <td> 2.652368e-01</td>\n",
        "      <td> 3.843730e-01</td>\n",
        "      <td>...</td>\n",
        "      <td> 6.086292e-01</td>\n",
        "      <td> 5.728127e-01</td>\n",
        "      <td> 6.053456e-01</td>\n",
        "      <td> 4.908175e-01</td>\n",
        "      <td> 5.631774e-01</td>\n",
        "      <td> 6.424385e-01</td>\n",
        "      <td> 5.588137e-01</td>\n",
        "      <td> 5.837077e-01</td>\n",
        "      <td> 6.017896e-01</td>\n",
        "      <td> 5.861905e-01</td>\n",
        "    </tr>\n",
        "    <tr>\n",
        "      <th>max</th>\n",
        "      <td> 4.132395e+00</td>\n",
        "      <td>   4.053755</td>\n",
        "      <td> 4.116772e+00</td>\n",
        "      <td> 3.756415e+00</td>\n",
        "      <td> 5.220449e+00</td>\n",
        "      <td> 4.068912e+00</td>\n",
        "      <td> 5.811304e+00</td>\n",
        "      <td> 5.708684e+00</td>\n",
        "      <td> 3.899149e+00</td>\n",
        "      <td> 6.483304e+00</td>\n",
        "      <td>...</td>\n",
        "      <td> 3.274514e+00</td>\n",
        "      <td> 4.599421e+00</td>\n",
        "      <td> 3.393182e+00</td>\n",
        "      <td> 6.953183e+00</td>\n",
        "      <td> 4.141357e+00</td>\n",
        "      <td> 2.444406e+00</td>\n",
        "      <td> 3.909083e+00</td>\n",
        "      <td> 2.914379e+00</td>\n",
        "      <td> 4.135015e+00</td>\n",
        "      <td> 5.710085e+00</td>\n",
        "    </tr>\n",
        "  </tbody>\n",
        "</table>\n",
        "<p>8 rows \u00d7 3220 columns</p>\n",
        "</div>"
       ],
       "metadata": {},
       "output_type": "pyout",
       "prompt_number": 10,
       "text": [
        "                F_0         F_1           F_2           F_3           F_4  \\\n",
        "count  2.390000e+02  239.000000  2.390000e+02  2.390000e+02  2.390000e+02   \n",
        "mean   4.831096e-17    0.000000  1.486491e-17  2.601359e-17  2.229737e-17   \n",
        "std    1.000000e+00    1.000000  1.000000e+00  1.000000e+00  1.000000e+00   \n",
        "min   -1.119748e+00   -3.157541 -3.277829e+00 -4.901732e+00 -3.923467e+00   \n",
        "25%   -5.853191e-01   -0.493910 -2.915476e-01 -2.396526e-01 -4.182991e-01   \n",
        "50%   -3.457477e-01   -0.299010 -1.493438e-01 -2.396526e-01 -1.135019e-01   \n",
        "75%    1.426094e-01   -0.039143 -7.139942e-03  9.335305e-02  1.912953e-01   \n",
        "max    4.132395e+00    4.053755  4.116772e+00  3.756415e+00  5.220449e+00   \n",
        "\n",
        "                F_5           F_6           F_7           F_8           F_9  \\\n",
        "count  2.390000e+02  2.390000e+02  2.390000e+02  2.390000e+02  2.390000e+02   \n",
        "mean  -7.432455e-18 -1.486491e-17 -1.486491e-17  1.486491e-17  1.486491e-17   \n",
        "std    1.000000e+00  1.000000e+00  1.000000e+00  1.000000e+00  1.000000e+00   \n",
        "min   -6.132471e+00 -4.386212e+00 -5.912378e+00 -4.579980e+00 -4.571009e+00   \n",
        "25%   -3.826004e-01 -3.072055e-01 -2.588883e-01 -5.422994e-01 -3.779934e-01   \n",
        "50%   -1.164098e-02 -1.032552e-01  5.519446e-02 -1.385313e-01  3.189818e-03   \n",
        "75%    3.593184e-01  1.006951e-01  3.692772e-01  2.652368e-01  3.843730e-01   \n",
        "max    4.068912e+00  5.811304e+00  5.708684e+00  3.899149e+00  6.483304e+00   \n",
        "\n",
        "           ...             PCA_10        PCA_11        PCA_12        PCA_13  \\\n",
        "count      ...       2.390000e+02  2.390000e+02  2.390000e+02  2.390000e+02   \n",
        "mean       ...       1.300680e-17  1.951020e-17  4.738190e-17  5.574342e-17   \n",
        "std        ...       1.002099e+00  1.002099e+00  1.002099e+00  1.002099e+00   \n",
        "min        ...      -3.765547e+00 -3.836709e+00 -3.854911e+00 -5.016538e+00   \n",
        "25%        ...      -6.349173e-01 -4.986733e-01 -6.429835e-01 -4.110546e-01   \n",
        "50%        ...      -5.574544e-02  8.346377e-02 -7.070840e-03 -8.186515e-02   \n",
        "75%        ...       6.086292e-01  5.728127e-01  6.053456e-01  4.908175e-01   \n",
        "max        ...       3.274514e+00  4.599421e+00  3.393182e+00  6.953183e+00   \n",
        "\n",
        "             PCA_14        PCA_15        PCA_16        PCA_17        PCA_18  \\\n",
        "count  2.390000e+02  2.390000e+02  2.390000e+02  2.390000e+02  2.390000e+02   \n",
        "mean  -2.972982e-17  1.114868e-17 -2.264576e-17 -9.290569e-18  2.415548e-17   \n",
        "std    1.002099e+00  1.002099e+00  1.002099e+00  1.002099e+00  1.002099e+00   \n",
        "min   -3.212136e+00 -4.777441e+00 -5.650861e+00 -4.068019e+00 -5.178029e+00   \n",
        "25%   -6.262585e-01 -6.186984e-01 -5.822696e-01 -6.166579e-01 -5.106234e-01   \n",
        "50%   -7.509972e-02  1.459160e-01 -8.747083e-03  7.951971e-02  2.452247e-02   \n",
        "75%    5.631774e-01  6.424385e-01  5.588137e-01  5.837077e-01  6.017896e-01   \n",
        "max    4.141357e+00  2.444406e+00  3.909083e+00  2.914379e+00  4.135015e+00   \n",
        "\n",
        "             PCA_19  \n",
        "count  2.390000e+02  \n",
        "mean   1.858114e-17  \n",
        "std    1.002099e+00  \n",
        "min   -3.316702e+00  \n",
        "25%   -5.129546e-01  \n",
        "50%    1.045807e-02  \n",
        "75%    5.861905e-01  \n",
        "max    5.710085e+00  \n",
        "\n",
        "[8 rows x 3220 columns]"
       ]
      }
     ],
     "prompt_number": 10
    },
    {
     "cell_type": "markdown",
     "metadata": {},
     "source": [
      "##Feature Selection \n",
      "\n",
      "Now develop the Model_Learner class, on construction it takes a paramter max_features and exports a method learn which uses the given training/testing data to perform forward selection in the same manner as your last assignment.\n",
      "\n",
      "Use the two private methods `_find_next_feature` and `_forward_selection` to hold most of the specific logic, learn simply return the `_forward_slection` method (as it is currenlty defined)."
     ]
    },
    {
     "cell_type": "code",
     "collapsed": false,
     "input": [
      "class Model_Learner:\n",
      "    def __init__(self, max_features = 20 ):\n",
      "        self.max_features = max_features\n",
      "        self.featList = []      # list of best features\n",
      "        self.accList  = []      # list of accuracies\n",
      "        self.model = sklearn.linear_model.LogisticRegression() # instantiate model\n",
      "        \n",
      "    def learn(self, train_x, train_y, test_x, test_y):\n",
      "        \"\"\"\n",
      "            Runs forward selection until self.max_features features are added.  \n",
      "            \n",
      "            :returns a list of tuples [(model, feature added, accuracy)] \n",
      "            containing the forward selection results\n",
      "        \"\"\"\n",
      "        return self._forward_selection(train_x, train_y, test_x, test_y)\n",
      "        \n",
      "        \n",
      "    def _find_next_feature(self, features, train_x, train_y, test_x, test_y):\n",
      "\n",
      "        bestScore = -1.0\n",
      "\n",
      "        for thisCol in train_x.columns:\n",
      "            if thisCol in features:      # skip features if already acquired\n",
      "                continue\n",
      "            tmpFeats = features + [thisCol]\n",
      "            thisModel = LR_Model(train_x,train_y, tmpFeats)\n",
      "            thisScore = thisModel.evaluate(test_x,test_y)\n",
      "\n",
      "            if thisScore > bestScore:\n",
      "                bestCol = thisCol\n",
      "                bestModel = thisModel\n",
      "                bestScore = thisScore\n",
      "                                 \n",
      "        return [bestModel, bestCol, bestScore]\n",
      "                \n",
      "\n",
      "    def _forward_selection(self, train_x, train_y, test_x, test_y):\n",
      "        outList = []\n",
      "        while len(self.featList) < self.max_features:\n",
      "            selModel, selColumn, selScore = self._find_next_feature( self.featList, \n",
      "                                                                     train_x, train_y,\n",
      "                                                                     test_x, test_y)\n",
      "            print len( self.featList), selColumn, selScore\n",
      "            self.featList.append(selColumn)\n",
      "            outList.append( (selModel, selColumn, selScore) )\n",
      "        return outList\n"
     ],
     "language": "python",
     "metadata": {},
     "outputs": [],
     "prompt_number": 11
    },
    {
     "cell_type": "markdown",
     "metadata": {},
     "source": [
      "##Modeling\n",
      "\n",
      "Now use your class structure to complete the following modeling tasks\n",
      "\n",
      "###DCT Analysis\n",
      "Load the DCT train/test data used in last week's assignment, apply the FE_Basic_Math, FE_PCA, and FE_Whiten transformers and then use the model learner to use forward selection.  List the 20 features added (in order of addition) and plot the accuracy vs number of features."
     ]
    },
    {
     "cell_type": "code",
     "collapsed": false,
     "input": [
      "# Load data for testing purposes\n",
      "train_x = pd.read_csv(\"../lecture_3_pandas_models_pylab/data/train\", sep=\"\\t\")\n",
      "train_y = train_x[\"label\"]\n",
      "del train_x[\"label\"]\n",
      "test_x = pd.read_csv(\"../lecture_3_pandas_models_pylab/data/test\", sep=\"\\t\")\n",
      "test_y = test_x[\"label\"]\n",
      "del test_x[\"label\"]"
     ],
     "language": "python",
     "metadata": {},
     "outputs": [],
     "prompt_number": 12
    },
    {
     "cell_type": "code",
     "collapsed": false,
     "input": [
      "# Feature engineering:\n",
      "# Now applying FE_Whiten, FE_Basic_Math, and FE_PCA (respectively)\n",
      "\n",
      "# Applying to train_x\n",
      "train_x_W = FE_Whiten(train_x).transform(train_x)\n",
      "train_x_W_BM = FE_Basic_Math(train_x_W).transform(train_x_W)\n",
      "train_x_W_BM_PCA = FE_PCA(train_x_W_BM).transform(train_x_W_BM)\n",
      "\n",
      "# Applying to test_x\n",
      "test_x_W = FE_Whiten(test_x).transform(test_x)                                  \n",
      "test_x_W_BM = FE_Basic_Math(test_x_W).transform(test_x_W)                       \n",
      "test_x_W_BM_PCA = FE_PCA(test_x_W_BM).transform(test_x_W_BM) "
     ],
     "language": "python",
     "metadata": {},
     "outputs": [],
     "prompt_number": 13
    },
    {
     "cell_type": "code",
     "collapsed": false,
     "input": [
      "# This will print the 20 features added\n",
      "DCT_Model = Model_Learner()\n",
      "DCT_Result = DCT_Model.learn(train_x_W_BM_PCA, train_y, test_x_W_BM_PCA, test_y)"
     ],
     "language": "python",
     "metadata": {},
     "outputs": [
      {
       "output_type": "stream",
       "stream": "stdout",
       "text": [
        "0 F_240 0.761506276151\n",
        "1"
       ]
      },
      {
       "output_type": "stream",
       "stream": "stdout",
       "text": [
        " F_416 0.790794979079\n",
        "2"
       ]
      },
      {
       "output_type": "stream",
       "stream": "stdout",
       "text": [
        " F_466 0.836820083682\n",
        "3"
       ]
      },
      {
       "output_type": "stream",
       "stream": "stdout",
       "text": [
        " F_586 0.853556485356\n",
        "4"
       ]
      },
      {
       "output_type": "stream",
       "stream": "stdout",
       "text": [
        " F_368_SQ 0.874476987448\n",
        "5"
       ]
      },
      {
       "output_type": "stream",
       "stream": "stdout",
       "text": [
        " F_396_SIGN 0.903765690377\n",
        "6"
       ]
      },
      {
       "output_type": "stream",
       "stream": "stdout",
       "text": [
        " F_778 0.907949790795\n",
        "7"
       ]
      },
      {
       "output_type": "stream",
       "stream": "stdout",
       "text": [
        " F_86 0.92050209205\n",
        "8"
       ]
      },
      {
       "output_type": "stream",
       "stream": "stdout",
       "text": [
        " F_253 0.924686192469\n",
        "9"
       ]
      },
      {
       "output_type": "stream",
       "stream": "stdout",
       "text": [
        " F_185 0.928870292887\n",
        "10"
       ]
      },
      {
       "output_type": "stream",
       "stream": "stdout",
       "text": [
        " F_60_SQ 0.933054393305\n",
        "11"
       ]
      },
      {
       "output_type": "stream",
       "stream": "stdout",
       "text": [
        " F_2 0.933054393305\n",
        "12"
       ]
      },
      {
       "output_type": "stream",
       "stream": "stdout",
       "text": [
        " F_3 0.933054393305\n",
        "13"
       ]
      },
      {
       "output_type": "stream",
       "stream": "stdout",
       "text": [
        " F_271_SQ 0.937238493724\n",
        "14"
       ]
      },
      {
       "output_type": "stream",
       "stream": "stdout",
       "text": [
        " F_7 0.937238493724\n",
        "15"
       ]
      },
      {
       "output_type": "stream",
       "stream": "stdout",
       "text": [
        " F_9 0.937238493724\n",
        "16"
       ]
      },
      {
       "output_type": "stream",
       "stream": "stdout",
       "text": [
        " F_6 0.937238493724\n",
        "17"
       ]
      },
      {
       "output_type": "stream",
       "stream": "stdout",
       "text": [
        " F_20 0.937238493724\n",
        "18"
       ]
      },
      {
       "output_type": "stream",
       "stream": "stdout",
       "text": [
        " F_15 0.937238493724\n",
        "19"
       ]
      },
      {
       "output_type": "stream",
       "stream": "stdout",
       "text": [
        " F_22 0.937238493724\n"
       ]
      }
     ],
     "prompt_number": 14
    },
    {
     "cell_type": "code",
     "collapsed": false,
     "input": [
      "# plotting\n",
      "nFeats = range(1,21)\n",
      "accList = [kk for ii,jj,kk in DCT_Result]\n",
      "\n",
      "plt.figure()\n",
      "plt.plot(nFeats, accList)\n",
      "plt.title('% Accuracy by Number of Features')\n",
      "plt.xlabel('Number of Features')\n",
      "plt.ylabel('% Accuracy')"
     ],
     "language": "python",
     "metadata": {},
     "outputs": [
      {
       "metadata": {},
       "output_type": "pyout",
       "prompt_number": 23,
       "text": [
        "<matplotlib.text.Text at 0x10b678490>"
       ]
      },
      {
       "metadata": {},
       "output_type": "display_data",
       "png": "[encoded data removed]",
       "text": [
        "<matplotlib.figure.Figure at 0x10c73aed0>"
       ]
      }
     ],
     "prompt_number": 23
    },
    {
     "cell_type": "markdown",
     "metadata": {},
     "source": [
      "##Cover Type Analaysis\n",
      "We have created a sample of 10,000 data points from the UCI cover type data set.  The goal of this part of the assignment is to do a similar analysis as the DCT using your new class structure.  The data set is in SVM Light format, a very common format for binary classification.  Since we don't want to bog you down on the loading of the data we load the data for you here."
     ]
    },
    {
     "cell_type": "code",
     "collapsed": false,
     "input": [
      "from sklearn.datasets import load_svmlight_file\n",
      "def read_svm_light(file):\n",
      "    X, y = load_svmlight_file(file) \n",
      "    return pd.DataFrame(X.todense()), pd.DataFrame(y-1)\n",
      "X, y = read_svm_light(\"cov_data\")"
     ],
     "language": "python",
     "metadata": {},
     "outputs": [],
     "prompt_number": 12
    },
    {
     "cell_type": "markdown",
     "metadata": {},
     "source": [
      "Note that we have only loaded a single data frame. We have not provided a test/train split for you, you will perform this step in a later step.\n",
      "\n",
      "Before doing this, first use describe to analyze the X and the y data frames to look for any descrepencies."
     ]
    },
    {
     "cell_type": "code",
     "collapsed": false,
     "input": [
      "X.describe()"
     ],
     "language": "python",
     "metadata": {},
     "outputs": [
      {
       "html": [
        "<div style=\"max-height:1000px;max-width:1500px;overflow:auto;\">\n",
        "<table border=\"1\" class=\"dataframe\">\n",
        "  <thead>\n",
        "    <tr style=\"text-align: right;\">\n",
        "      <th></th>\n",
        "      <th>0</th>\n",
        "      <th>1</th>\n",
        "      <th>2</th>\n",
        "      <th>3</th>\n",
        "      <th>4</th>\n",
        "      <th>5</th>\n",
        "      <th>6</th>\n",
        "      <th>7</th>\n",
        "      <th>8</th>\n",
        "      <th>9</th>\n",
        "      <th>...</th>\n",
        "      <th>44</th>\n",
        "      <th>45</th>\n",
        "      <th>46</th>\n",
        "      <th>47</th>\n",
        "      <th>48</th>\n",
        "      <th>49</th>\n",
        "      <th>50</th>\n",
        "      <th>51</th>\n",
        "      <th>52</th>\n",
        "      <th>53</th>\n",
        "    </tr>\n",
        "  </thead>\n",
        "  <tbody>\n",
        "    <tr>\n",
        "      <th>count</th>\n",
        "      <td> 10000.000000</td>\n",
        "      <td> 10000.000000</td>\n",
        "      <td> 10000.000000</td>\n",
        "      <td> 10000.000000</td>\n",
        "      <td> 10000.000000</td>\n",
        "      <td> 10000.000000</td>\n",
        "      <td> 10000.000000</td>\n",
        "      <td> 10000.000000</td>\n",
        "      <td> 10000.000000</td>\n",
        "      <td> 10000.000000</td>\n",
        "      <td>...</td>\n",
        "      <td> 10000.000000</td>\n",
        "      <td> 10000.000000</td>\n",
        "      <td> 10000.000000</td>\n",
        "      <td> 10000.000000</td>\n",
        "      <td> 10000.000000</td>\n",
        "      <td> 10000.0000</td>\n",
        "      <td> 10000</td>\n",
        "      <td> 10000.000000</td>\n",
        "      <td> 10000.000000</td>\n",
        "      <td> 10000.000000</td>\n",
        "    </tr>\n",
        "    <tr>\n",
        "      <th>mean</th>\n",
        "      <td>  2863.751600</td>\n",
        "      <td>   137.871400</td>\n",
        "      <td>    11.705800</td>\n",
        "      <td>   262.161600</td>\n",
        "      <td>    35.545900</td>\n",
        "      <td>  3361.233000</td>\n",
        "      <td>   218.263700</td>\n",
        "      <td>   225.581100</td>\n",
        "      <td>   139.455900</td>\n",
        "      <td>  3607.288700</td>\n",
        "      <td>...</td>\n",
        "      <td>     0.002900</td>\n",
        "      <td>     0.006500</td>\n",
        "      <td>     0.006900</td>\n",
        "      <td>     0.000400</td>\n",
        "      <td>     0.001000</td>\n",
        "      <td>     0.0001</td>\n",
        "      <td>     0</td>\n",
        "      <td>     0.007900</td>\n",
        "      <td>     0.009300</td>\n",
        "      <td>     0.007000</td>\n",
        "    </tr>\n",
        "    <tr>\n",
        "      <th>std</th>\n",
        "      <td>   228.042275</td>\n",
        "      <td>   103.833029</td>\n",
        "      <td>     6.483259</td>\n",
        "      <td>   202.912431</td>\n",
        "      <td>    42.598291</td>\n",
        "      <td>  1767.184917</td>\n",
        "      <td>    20.755863</td>\n",
        "      <td>    16.457931</td>\n",
        "      <td>    30.892661</td>\n",
        "      <td>  1775.401234</td>\n",
        "      <td>...</td>\n",
        "      <td>     0.053776</td>\n",
        "      <td>     0.080364</td>\n",
        "      <td>     0.082783</td>\n",
        "      <td>     0.019997</td>\n",
        "      <td>     0.031609</td>\n",
        "      <td>     0.0100</td>\n",
        "      <td>     0</td>\n",
        "      <td>     0.088535</td>\n",
        "      <td>     0.095992</td>\n",
        "      <td>     0.083377</td>\n",
        "    </tr>\n",
        "    <tr>\n",
        "      <th>min</th>\n",
        "      <td>  1898.000000</td>\n",
        "      <td>     0.000000</td>\n",
        "      <td>     0.000000</td>\n",
        "      <td>     0.000000</td>\n",
        "      <td>  -108.000000</td>\n",
        "      <td>    30.000000</td>\n",
        "      <td>    85.000000</td>\n",
        "      <td>   110.000000</td>\n",
        "      <td>     0.000000</td>\n",
        "      <td>    30.000000</td>\n",
        "      <td>...</td>\n",
        "      <td>     0.000000</td>\n",
        "      <td>     0.000000</td>\n",
        "      <td>     0.000000</td>\n",
        "      <td>     0.000000</td>\n",
        "      <td>     0.000000</td>\n",
        "      <td>     0.0000</td>\n",
        "      <td>     0</td>\n",
        "      <td>     0.000000</td>\n",
        "      <td>     0.000000</td>\n",
        "      <td>     0.000000</td>\n",
        "    </tr>\n",
        "    <tr>\n",
        "      <th>25%</th>\n",
        "      <td>  2726.000000</td>\n",
        "      <td>    54.000000</td>\n",
        "      <td>     7.000000</td>\n",
        "      <td>   108.000000</td>\n",
        "      <td>     7.000000</td>\n",
        "      <td>  1777.000000</td>\n",
        "      <td>   208.000000</td>\n",
        "      <td>   217.000000</td>\n",
        "      <td>   121.000000</td>\n",
        "      <td>  2166.000000</td>\n",
        "      <td>...</td>\n",
        "      <td>     0.000000</td>\n",
        "      <td>     0.000000</td>\n",
        "      <td>     0.000000</td>\n",
        "      <td>     0.000000</td>\n",
        "      <td>     0.000000</td>\n",
        "      <td>     0.0000</td>\n",
        "      <td>     0</td>\n",
        "      <td>     0.000000</td>\n",
        "      <td>     0.000000</td>\n",
        "      <td>     0.000000</td>\n",
        "    </tr>\n",
        "    <tr>\n",
        "      <th>50%</th>\n",
        "      <td>  2906.000000</td>\n",
        "      <td>   109.000000</td>\n",
        "      <td>    11.000000</td>\n",
        "      <td>   216.000000</td>\n",
        "      <td>    23.000000</td>\n",
        "      <td>  3459.500000</td>\n",
        "      <td>   222.000000</td>\n",
        "      <td>   228.000000</td>\n",
        "      <td>   139.000000</td>\n",
        "      <td>  3649.000000</td>\n",
        "      <td>...</td>\n",
        "      <td>     0.000000</td>\n",
        "      <td>     0.000000</td>\n",
        "      <td>     0.000000</td>\n",
        "      <td>     0.000000</td>\n",
        "      <td>     0.000000</td>\n",
        "      <td>     0.0000</td>\n",
        "      <td>     0</td>\n",
        "      <td>     0.000000</td>\n",
        "      <td>     0.000000</td>\n",
        "      <td>     0.000000</td>\n",
        "    </tr>\n",
        "    <tr>\n",
        "      <th>75%</th>\n",
        "      <td>  3001.000000</td>\n",
        "      <td>   204.250000</td>\n",
        "      <td>    15.000000</td>\n",
        "      <td>   379.000000</td>\n",
        "      <td>    53.000000</td>\n",
        "      <td>  4824.000000</td>\n",
        "      <td>   232.000000</td>\n",
        "      <td>   237.000000</td>\n",
        "      <td>   159.000000</td>\n",
        "      <td>  5102.250000</td>\n",
        "      <td>...</td>\n",
        "      <td>     0.000000</td>\n",
        "      <td>     0.000000</td>\n",
        "      <td>     0.000000</td>\n",
        "      <td>     0.000000</td>\n",
        "      <td>     0.000000</td>\n",
        "      <td>     0.0000</td>\n",
        "      <td>     0</td>\n",
        "      <td>     0.000000</td>\n",
        "      <td>     0.000000</td>\n",
        "      <td>     0.000000</td>\n",
        "    </tr>\n",
        "    <tr>\n",
        "      <th>max</th>\n",
        "      <td>  3846.000000</td>\n",
        "      <td>   359.000000</td>\n",
        "      <td>    57.000000</td>\n",
        "      <td>  1165.000000</td>\n",
        "      <td>   547.000000</td>\n",
        "      <td>  7023.000000</td>\n",
        "      <td>   254.000000</td>\n",
        "      <td>   254.000000</td>\n",
        "      <td>   248.000000</td>\n",
        "      <td>  7172.000000</td>\n",
        "      <td>...</td>\n",
        "      <td>     1.000000</td>\n",
        "      <td>     1.000000</td>\n",
        "      <td>     1.000000</td>\n",
        "      <td>     1.000000</td>\n",
        "      <td>     1.000000</td>\n",
        "      <td>     1.0000</td>\n",
        "      <td>     0</td>\n",
        "      <td>     1.000000</td>\n",
        "      <td>     1.000000</td>\n",
        "      <td>     1.000000</td>\n",
        "    </tr>\n",
        "  </tbody>\n",
        "</table>\n",
        "<p>8 rows \u00d7 54 columns</p>\n",
        "</div>"
       ],
       "metadata": {},
       "output_type": "pyout",
       "prompt_number": 13,
       "text": [
        "                 0             1             2             3             4   \\\n",
        "count  10000.000000  10000.000000  10000.000000  10000.000000  10000.000000   \n",
        "mean    2863.751600    137.871400     11.705800    262.161600     35.545900   \n",
        "std      228.042275    103.833029      6.483259    202.912431     42.598291   \n",
        "min     1898.000000      0.000000      0.000000      0.000000   -108.000000   \n",
        "25%     2726.000000     54.000000      7.000000    108.000000      7.000000   \n",
        "50%     2906.000000    109.000000     11.000000    216.000000     23.000000   \n",
        "75%     3001.000000    204.250000     15.000000    379.000000     53.000000   \n",
        "max     3846.000000    359.000000     57.000000   1165.000000    547.000000   \n",
        "\n",
        "                 5             6             7             8             9   \\\n",
        "count  10000.000000  10000.000000  10000.000000  10000.000000  10000.000000   \n",
        "mean    3361.233000    218.263700    225.581100    139.455900   3607.288700   \n",
        "std     1767.184917     20.755863     16.457931     30.892661   1775.401234   \n",
        "min       30.000000     85.000000    110.000000      0.000000     30.000000   \n",
        "25%     1777.000000    208.000000    217.000000    121.000000   2166.000000   \n",
        "50%     3459.500000    222.000000    228.000000    139.000000   3649.000000   \n",
        "75%     4824.000000    232.000000    237.000000    159.000000   5102.250000   \n",
        "max     7023.000000    254.000000    254.000000    248.000000   7172.000000   \n",
        "\n",
        "           ...                 44            45            46            47  \\\n",
        "count      ...       10000.000000  10000.000000  10000.000000  10000.000000   \n",
        "mean       ...           0.002900      0.006500      0.006900      0.000400   \n",
        "std        ...           0.053776      0.080364      0.082783      0.019997   \n",
        "min        ...           0.000000      0.000000      0.000000      0.000000   \n",
        "25%        ...           0.000000      0.000000      0.000000      0.000000   \n",
        "50%        ...           0.000000      0.000000      0.000000      0.000000   \n",
        "75%        ...           0.000000      0.000000      0.000000      0.000000   \n",
        "max        ...           1.000000      1.000000      1.000000      1.000000   \n",
        "\n",
        "                 48          49     50            51            52  \\\n",
        "count  10000.000000  10000.0000  10000  10000.000000  10000.000000   \n",
        "mean       0.001000      0.0001      0      0.007900      0.009300   \n",
        "std        0.031609      0.0100      0      0.088535      0.095992   \n",
        "min        0.000000      0.0000      0      0.000000      0.000000   \n",
        "25%        0.000000      0.0000      0      0.000000      0.000000   \n",
        "50%        0.000000      0.0000      0      0.000000      0.000000   \n",
        "75%        0.000000      0.0000      0      0.000000      0.000000   \n",
        "max        1.000000      1.0000      0      1.000000      1.000000   \n",
        "\n",
        "                 53  \n",
        "count  10000.000000  \n",
        "mean       0.007000  \n",
        "std        0.083377  \n",
        "min        0.000000  \n",
        "25%        0.000000  \n",
        "50%        0.000000  \n",
        "75%        0.000000  \n",
        "max        1.000000  \n",
        "\n",
        "[8 rows x 54 columns]"
       ]
      }
     ],
     "prompt_number": 13
    },
    {
     "cell_type": "code",
     "collapsed": false,
     "input": [
      "y.describe()"
     ],
     "language": "python",
     "metadata": {},
     "outputs": [
      {
       "html": [
        "<div style=\"max-height:1000px;max-width:1500px;overflow:auto;\">\n",
        "<table border=\"1\" class=\"dataframe\">\n",
        "  <thead>\n",
        "    <tr style=\"text-align: right;\">\n",
        "      <th></th>\n",
        "      <th>0</th>\n",
        "    </tr>\n",
        "  </thead>\n",
        "  <tbody>\n",
        "    <tr>\n",
        "      <th>count</th>\n",
        "      <td> 10000.000000</td>\n",
        "    </tr>\n",
        "    <tr>\n",
        "      <th>mean</th>\n",
        "      <td>     0.669300</td>\n",
        "    </tr>\n",
        "    <tr>\n",
        "      <th>std</th>\n",
        "      <td>     0.470489</td>\n",
        "    </tr>\n",
        "    <tr>\n",
        "      <th>min</th>\n",
        "      <td>     0.000000</td>\n",
        "    </tr>\n",
        "    <tr>\n",
        "      <th>25%</th>\n",
        "      <td>     0.000000</td>\n",
        "    </tr>\n",
        "    <tr>\n",
        "      <th>50%</th>\n",
        "      <td>     1.000000</td>\n",
        "    </tr>\n",
        "    <tr>\n",
        "      <th>75%</th>\n",
        "      <td>     1.000000</td>\n",
        "    </tr>\n",
        "    <tr>\n",
        "      <th>max</th>\n",
        "      <td>     1.000000</td>\n",
        "    </tr>\n",
        "  </tbody>\n",
        "</table>\n",
        "</div>"
       ],
       "metadata": {},
       "output_type": "pyout",
       "prompt_number": 14,
       "text": [
        "                  0\n",
        "count  10000.000000\n",
        "mean       0.669300\n",
        "std        0.470489\n",
        "min        0.000000\n",
        "25%        0.000000\n",
        "50%        1.000000\n",
        "75%        1.000000\n",
        "max        1.000000"
       ]
      }
     ],
     "prompt_number": 14
    },
    {
     "cell_type": "code",
     "collapsed": false,
     "input": [
      "# percent of y=1 vs y=0\n",
      "float(len(y[y[0]!=0]))/len(y)"
     ],
     "language": "python",
     "metadata": {},
     "outputs": [
      {
       "metadata": {},
       "output_type": "pyout",
       "prompt_number": 30,
       "text": [
        "0.6693"
       ]
      }
     ],
     "prompt_number": 30
    },
    {
     "cell_type": "markdown",
     "metadata": {},
     "source": [
      "Does anything stand out to you about this data?  In particular does it need to be whitened and are the classes balanced?"
     ]
    },
    {
     "cell_type": "markdown",
     "metadata": {},
     "source": [
      "**I think these data need to be whitened because of the large differences in ranges and scales in the data.  This makes sense since the data contains very different units: length (elevation, distance to a point of interest, etc..), degrees (azimuth), and various numeric representations of physical properties (hillshade index, soil type, etc...)**\n",
      "\n",
      "**I notice that at least one of the columns (50) has no standard deviation.  After whitening, this will require that I replace the NaN values with zero via df.fillna().**\n"
     ]
    },
    {
     "cell_type": "markdown",
     "metadata": {},
     "source": [
      "###Test Train Split\n",
      "\n",
      "Now that we have loaded the data we wish to split the data 2 ways.  We wish to randomly split this dataset so that 70% will be used for training and 30% will be used for testing (this is a pretty common splitting method).  Split your X/y data frames into train_x/test_x and train_y/test_y.  Ensure that the alignment of the x rows and y rows stays the same.  *Hint: when you subset a data frame it may have a index which has missing values, this may cause problems with your feature engineering code.  Use df.reset_index(drop=True) to make sure all data frames have a normal index.*\n"
     ]
    },
    {
     "cell_type": "code",
     "collapsed": false,
     "input": [
      "# I to do the split, I shuffle the row index then create the train/test\n",
      "np.random.seed(232)\n",
      "rowIndx = X.index.tolist()\n",
      "np.random.shuffle(rowIndx) # shuffled row index\n",
      "splitCut = int (len(rowIndx)*0.7)\n",
      "\n",
      "trainIndx = rowIndx[:splitCut]  # first 70% of shuffled index\n",
      "testIndx  = rowIndx[splitCut:]  # last 30%\n",
      "\n",
      "train_xx = X.iloc[trainIndx].reset_index(drop=True).astype(float)\n",
      "train_yy = y.iloc[trainIndx].reset_index(drop=True).astype(float)\n",
      "\n",
      "test_xx  = X.iloc[testIndx].reset_index(drop=True).astype(float)\n",
      "test_yy  = y.iloc[testIndx].reset_index(drop=True).astype(float)"
     ],
     "language": "python",
     "metadata": {},
     "outputs": [],
     "prompt_number": 52
    },
    {
     "cell_type": "code",
     "collapsed": false,
     "input": [
      "# Feature engineering: doing the same as above\n",
      "\n",
      "# Applying to train_x\n",
      "train_xx_W = FE_Whiten(train_xx).transform(train_xx)\n",
      "train_xx_W.fillna(value=0.0,inplace=True)              # replace NaN with zero\n",
      "train_xx_W_BM = FE_Basic_Math(train_xx_W).transform(train_xx_W)\n",
      "train_xx_W_BM_PCA = FE_PCA(train_xx_W_BM).transform(train_xx_W_BM)\n",
      "\n",
      "# Applying to test_x\n",
      "test_xx_W = FE_Whiten(test_xx).transform(test_xx)  \n",
      "test_xx_W.fillna(value=0.0,inplace=True)               # replace NaN with zero\n",
      "test_xx_W_BM = FE_Basic_Math(test_xx_W).transform(test_xx_W)                       \n",
      "test_xx_W_BM_PCA = FE_PCA(test_xx_W_BM).transform(test_xx_W_BM) \n"
     ],
     "language": "python",
     "metadata": {},
     "outputs": [],
     "prompt_number": 53
    },
    {
     "cell_type": "markdown",
     "metadata": {},
     "source": [
      "###Modeling\n",
      "\n",
      "Now apply your feature engineering techniques and use forward selection to train models with up to 20 features.  Plot the accuracy vs feature count as you did before."
     ]
    },
    {
     "cell_type": "code",
     "collapsed": false,
     "input": [
      "# This will print the 20 features added\n",
      "# (this is the same as above)\n",
      "DCT_Model = Model_Learner()\n",
      "DCT_Result = DCT_Model.learn(train_x_W_BM_PCA, train_yy[0], test_x_W_BM_PCA, test_yy[0])"
     ],
     "language": "python",
     "metadata": {},
     "outputs": [
      {
       "output_type": "stream",
       "stream": "stdout",
       "text": [
        "0 10 0.763666666667\n",
        "1"
       ]
      },
      {
       "output_type": "stream",
       "stream": "stdout",
       "text": [
        " 0 0.825\n",
        "2"
       ]
      },
      {
       "output_type": "stream",
       "stream": "stdout",
       "text": [
        " 5 0.844333333333\n",
        "3"
       ]
      },
      {
       "output_type": "stream",
       "stream": "stdout",
       "text": [
        " 7 0.850666666667\n",
        "4"
       ]
      },
      {
       "output_type": "stream",
       "stream": "stdout",
       "text": [
        " 45_SQ 0.853333333333\n",
        "5"
       ]
      },
      {
       "output_type": "stream",
       "stream": "stdout",
       "text": [
        " 36_SQ 0.855333333333\n",
        "6"
       ]
      },
      {
       "output_type": "stream",
       "stream": "stdout",
       "text": [
        " 25_SQ 0.859\n",
        "7"
       ]
      },
      {
       "output_type": "stream",
       "stream": "stdout",
       "text": [
        " 24_SQ 0.859333333333\n",
        "8"
       ]
      },
      {
       "output_type": "stream",
       "stream": "stdout",
       "text": [
        " 6 0.86\n",
        "9"
       ]
      },
      {
       "output_type": "stream",
       "stream": "stdout",
       "text": [
        " PCA_3 0.860333333333\n",
        "10"
       ]
      },
      {
       "output_type": "stream",
       "stream": "stdout",
       "text": [
        " 22 0.860333333333\n",
        "11"
       ]
      },
      {
       "output_type": "stream",
       "stream": "stdout",
       "text": [
        " 24 0.860333333333\n",
        "12"
       ]
      },
      {
       "output_type": "stream",
       "stream": "stdout",
       "text": [
        " 28 0.860333333333\n",
        "13"
       ]
      },
      {
       "output_type": "stream",
       "stream": "stdout",
       "text": [
        " 34 0.860333333333\n",
        "14"
       ]
      },
      {
       "output_type": "stream",
       "stream": "stdout",
       "text": [
        " 38 0.860333333333\n",
        "15"
       ]
      },
      {
       "output_type": "stream",
       "stream": "stdout",
       "text": [
        " 40 0.860333333333\n",
        "16"
       ]
      },
      {
       "output_type": "stream",
       "stream": "stdout",
       "text": [
        " 41 0.860333333333\n",
        "17"
       ]
      },
      {
       "output_type": "stream",
       "stream": "stdout",
       "text": [
        " 49 0.860333333333\n",
        "18"
       ]
      },
      {
       "output_type": "stream",
       "stream": "stdout",
       "text": [
        " 50 0.860333333333\n",
        "19"
       ]
      },
      {
       "output_type": "stream",
       "stream": "stdout",
       "text": [
        " 11_SQ 0.860333333333\n"
       ]
      }
     ],
     "prompt_number": 54
    },
    {
     "cell_type": "code",
     "collapsed": false,
     "input": [
      "# plotting\n",
      "nFeats = range(1,21)\n",
      "accList = [kk for ii,jj,kk in DCT_Result]\n",
      "\n",
      "plt.figure()\n",
      "plt.plot(nFeats, accList)\n",
      "plt.title('% Accuracy by Number of Features')\n",
      "plt.xlabel('Number of Features')\n",
      "plt.ylabel('% Accuracy')"
     ],
     "language": "python",
     "metadata": {},
     "outputs": [
      {
       "metadata": {},
       "output_type": "pyout",
       "prompt_number": 55,
       "text": [
        "<matplotlib.text.Text at 0x106b85110>"
       ]
      },
      {
       "metadata": {},
       "output_type": "display_data",
       "png": "[encoded data removed]",
       "text": [
        "<matplotlib.figure.Figure at 0x10b591250>"
       ]
      }
     ],
     "prompt_number": 55
    },
    {
     "cell_type": "markdown",
     "metadata": {},
     "source": [
      "##Discussion\n",
      "\n",
      "*Note: these discussion questions are mostly to get you thinking, it will be read but not graded*\n",
      "\n",
      "Discuss the following questions and any other results you found interesting.\n",
      "\n",
      "Does your model achieve reasonable performance over the prior?\n",
      "\n",
      "Does the order of feature engineering matter?\n",
      "\n",
      "Does it look like adding more features would improve your model results?"
     ]
    },
    {
     "cell_type": "markdown",
     "metadata": {},
     "source": [
      "**This model does achieve reasonable performance over the prior.  If we were to guess that y=1, we'd have an accuracy of 67%. Using this model, we achieve an accuracy of 86%.  This seems to max out after finding the top 8 features using forward selection.**\n",
      "\n",
      "**After trying different orders of feature engineering, I did find that performing the operations in different orders does change the outcome/success of the model.**\n",
      "\n",
      "**From the graph above, It seems like addint more features to this model will not change the results.**"
     ]
    },
    {
     "cell_type": "markdown",
     "metadata": {},
     "source": []
    }
   ],
   "metadata": {}
  }
 ]
}