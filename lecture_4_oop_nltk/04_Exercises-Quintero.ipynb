{
 "metadata": {
  "name": "",
  "signature": "sha256:4008c263eea0e8c8c9db79b795482dab789702ca4faa4b9d908d20e09b0c9c8f"
 },
 "nbformat": 3,
 "nbformat_minor": 0,
 "worksheets": [
  {
   "cells": [
    {
     "cell_type": "heading",
     "level": 1,
     "metadata": {},
     "source": [
      "Lecture4 Exercises"
     ]
    },
    {
     "cell_type": "markdown",
     "metadata": {},
     "source": [
      "##Functional Programming\n",
      "\n",
      "Use the [map](https://docs.python.org/2/library/functions.html#map) and [filter](https://docs.python.org/2/library/functions.html#filter) functions to convert the list `l = [0,1,2,3,4,5,6,7,8,9,10]` into a list of the squares of the even numbers in `l`.\n",
      "\n",
      "Hints:\n",
      "\n",
      "1. Use map() to apply a function to each element in the list\n",
      "2. Use filter() to filter elements of a list\n",
      "3. Use lambda to define anonymous functions\n",
      "4. *Do not* use list comprehensions"
     ]
    },
    {
     "cell_type": "code",
     "collapsed": false,
     "input": [
      "l = [0,1,2,3,4,5,6,7,8,9,10]\n",
      "\n",
      "# use filter and lambda to make new l with only even numbers\n",
      "even_l = filter( lambda yy:yy%2==0, l)\n",
      "\n",
      "# use map and filter to square\n",
      "L = map( lambda xx:xx**2, even_l)\n",
      "L"
     ],
     "language": "python",
     "metadata": {},
     "outputs": [
      {
       "metadata": {},
       "output_type": "pyout",
       "prompt_number": 1,
       "text": [
        "[0, 4, 16, 36, 64, 100]"
       ]
      }
     ],
     "prompt_number": 1
    },
    {
     "cell_type": "heading",
     "level": 3,
     "metadata": {},
     "source": [
      "Object Oriented Programming"
     ]
    },
    {
     "cell_type": "markdown",
     "metadata": {},
     "source": [
      "Implement a Python iterator which iterates over string characters (ASCII only) returning their ASCII code\n",
      "\n",
      "1. Define a new iterator class which contains two methods:\n",
      "    -init \u2013 a constructor taking the ASCII string as a argument,\n",
      "    -next \u2013 returns the ASCII code of the next character or raises a StopIteration exception if the string end was encountered.\n",
      "\n",
      "2. Define a new iterable class which wraps around a string and contains iter method which returns the iterator instance.\n",
      "3. Test your code using explicit calls of next method (see example in the lecture) and for loop."
     ]
    },
    {
     "cell_type": "code",
     "collapsed": false,
     "input": [
      "class StringIterator:\n",
      "    def __init__(self, string):\n",
      "        self.string = string\n",
      "    def __iter__(self):\n",
      "        return self\n",
      "    def next(self):\n",
      "        try:\n",
      "            asciiChar = ord(self.string[0])\n",
      "            self.string = self.string[1:]\n",
      "            return asciiChar\n",
      "        except IndexError:\n",
      "            raise StopIteration() \n",
      "        \n",
      "        \n",
      "class StringIterable:\n",
      "    def __init__(self,string):\n",
      "        self.list = list(string)\n",
      "    def __iter__(self):\n",
      "        return iter(self.list)"
     ],
     "language": "python",
     "metadata": {},
     "outputs": [],
     "prompt_number": 2
    },
    {
     "cell_type": "code",
     "collapsed": false,
     "input": [
      "for ii in StringIterator('blah'):\n",
      "    print ii\n",
      "\n",
      "jj = StringIterator('foobar')\n",
      "jj.next()"
     ],
     "language": "python",
     "metadata": {},
     "outputs": [
      {
       "output_type": "stream",
       "stream": "stdout",
       "text": [
        "98\n",
        "108\n",
        "97\n",
        "104\n"
       ]
      },
      {
       "metadata": {},
       "output_type": "pyout",
       "prompt_number": 3,
       "text": [
        "102"
       ]
      }
     ],
     "prompt_number": 3
    },
    {
     "cell_type": "code",
     "collapsed": false,
     "input": [
      "kk = StringIterable('blah')\n",
      "for ii in kk:\n",
      "    print ii"
     ],
     "language": "python",
     "metadata": {},
     "outputs": [
      {
       "output_type": "stream",
       "stream": "stdout",
       "text": [
        "b\n",
        "l\n",
        "a\n",
        "h\n"
       ]
      }
     ],
     "prompt_number": 4
    },
    {
     "cell_type": "markdown",
     "metadata": {},
     "source": [
      "##Fibonacci Sequence\n",
      "\n",
      "write a class Fibonacci whose constructor takes two numbers; the class uses these two numbers as the first two numbers in the sequence. \n",
      "\n",
      "1. The class should have a method calculate(n) that returns the n-th number in the sequence.\n",
      "2. Add a method next(). The first call to next() returns the first number in the sequence, the second call returns the second number, and so on. You'll need instance variables to save state between calls. \n",
      "3. Finally, add a method writeToFile(n, filename), that writes the first n numbers in the sequence to the file named filename, one number per line.\n",
      "\n",
      "**HINT:** you should store previously computed fibonachi numbers instead of recomputing every one as they are needed"
     ]
    },
    {
     "cell_type": "code",
     "collapsed": false,
     "input": [
      "class Fibonacci:\n",
      "    def __init__(self, a=0, b=1):\n",
      "        self.seq = [a,b]                  # instance varible: stored sequence list\n",
      "        self.pos = -1\n",
      "\n",
      "    def next(self):\n",
      "        self.pos += 1\n",
      "        if len(self.seq) > (self.pos+1):\n",
      "            next_fib = sum(self.seq[-2:])\n",
      "            self.seq.append( next_fib )   # adding next fib number to list\n",
      "        return self.seq[self.pos]\n",
      "\n",
      "    def calculate(self, n):\n",
      "        while len(self.seq)-1 < n:        # if not long enough, append to seq until nth number found\n",
      "            app_fib = sum(self.seq[-2:])\n",
      "            self.seq.append( app_fib )\n",
      "        return self.seq[n]\n",
      "            \n",
      "    def writeToFile(self, nn, filename):\n",
      "        tmp = self.calculate(nn)\n",
      "        with open(filename, 'w') as outFile:\n",
      "            for ii in range(nn):\n",
      "                outFile.write( str(self.seq[ii])+'\\n' )    "
     ],
     "language": "python",
     "metadata": {},
     "outputs": [],
     "prompt_number": 5
    },
    {
     "cell_type": "code",
     "collapsed": false,
     "input": [
      "#Testing code, should all equal print true\n",
      "fib = Fibonacci()\n",
      "\n",
      "print fib.calculate(0) == 0\n",
      "print fib.calculate(1) == 1\n",
      "print fib.calculate(2) == 1\n",
      "print fib.calculate(3) == 2\n",
      "print fib.calculate(20) == 6765 \n",
      "print fib.next() == fib.calculate(0)\n",
      "print fib.next() == fib.calculate(1)\n",
      "print fib.next() == fib.calculate(2)\n",
      "fib.writeToFile(30, \"fib.out\")\n",
      "print \"\\nPrinting out 'fib.out' contents:\"\n",
      "!cat fib.out"
     ],
     "language": "python",
     "metadata": {},
     "outputs": [
      {
       "output_type": "stream",
       "stream": "stdout",
       "text": [
        "True\n",
        "True\n",
        "True\n",
        "True\n",
        "True\n",
        "True\n",
        "True\n",
        "True\n",
        "\n",
        "Printing out 'fib.out' contents:\n",
        "0\r\n",
        "1\r\n",
        "1\r\n",
        "2\r\n",
        "3\r\n",
        "5\r\n",
        "8\r\n",
        "13\r\n",
        "21\r\n",
        "34\r\n",
        "55\r\n",
        "89\r\n",
        "144\r\n",
        "233\r\n",
        "377\r\n",
        "610\r\n",
        "987\r\n",
        "1597\r\n",
        "2584\r\n",
        "4181\r\n",
        "6765\r\n",
        "10946\r\n",
        "17711\r\n",
        "28657\r\n",
        "46368\r\n",
        "75025\r\n",
        "121393\r\n",
        "196418\r\n",
        "317811\r\n",
        "514229\r\n"
       ]
      }
     ],
     "prompt_number": 6
    },
    {
     "cell_type": "markdown",
     "metadata": {},
     "source": [
      "***Paramter Passing***\n",
      "\n",
      "Write a function solve(h,l) which solves the folowing classic puzzle: \n",
      "\n",
      "We count h heads and l legs among the chickens and rabbits in a farm. How many rabbits and how many chickens do we have? where h and l are the parameters passed to the function solve"
     ]
    },
    {
     "cell_type": "code",
     "collapsed": false,
     "input": [
      "import numpy as np\n",
      "def solve(h,l):\n",
      "    ''' \n",
      "    Solves the chickens and rabbits problem.  \n",
      "    h - number of heads\n",
      "    l - number of legs\n",
      "    Returns:\n",
      "        [ nR, nC]\n",
      "        where nR  = number of rabbits\n",
      "        and    nC = number of chickens\n",
      "    '''\n",
      "    # solving the matrix eq'n: Ax=b for x\n",
      "    A = np.asarray( [ [1,1], [4,2] ] ) # row 1: Nheads, row 2: Nlegs \n",
      "    x = np.asarray( [h,l] )\n",
      "    return np.linalg.tensorsolve(A,x)"
     ],
     "language": "python",
     "metadata": {},
     "outputs": [],
     "prompt_number": 7
    },
    {
     "cell_type": "code",
     "collapsed": false,
     "input": [
      "numheads=35\n",
      "numlegs=94\n",
      "solutions=solve(numheads,numlegs)\n",
      "print solutions"
     ],
     "language": "python",
     "metadata": {},
     "outputs": [
      {
       "output_type": "stream",
       "stream": "stdout",
       "text": [
        "[ 12.  23.]\n"
       ]
      }
     ],
     "prompt_number": 8
    },
    {
     "cell_type": "heading",
     "level": 3,
     "metadata": {},
     "source": [
      "Hangman AI - OOP + NLTK Implementation"
     ]
    },
    {
     "cell_type": "markdown",
     "metadata": {},
     "source": [
      "The goal of this excercise is to write a program that can play the hangman game intelligently. If you are not familiar with the hangman game, see http://en.wikipedia.org/wiki/Hangman_(game)\n",
      "\n",
      "What you are given - A txt file phraseList which has a list of phrases with one phrase/row per game to play with. Each line in the file is of the form. However, unlike conventional hangman, here we shall use phrases instead of single words to play the game and at the start its all underscores.\n",
      "\n",
      "id:1 game_phrase: Mary had a little lamb\n",
      "\n",
      "Write a program that wins the highest proportion of games.  "
     ]
    },
    {
     "cell_type": "markdown",
     "metadata": {},
     "source": [
      "What you need to do\n",
      "\n",
      "a) Create an object - game which has the following attributes\n",
      "game id, game state, guesses_left\n",
      "\n",
      "The class should also have a method which returns the above details in a string."
     ]
    },
    {
     "cell_type": "code",
     "collapsed": false,
     "input": [
      "# game status object.\n",
      "class game:\n",
      "    def __init__(self, game_id, state, wrongsLeft):\n",
      "        self.id    = game_id\n",
      "        self.state = state\n",
      "        self.wrongsLeft = wrongsLeft\n",
      "    def toString(self):\n",
      "        return 'ID:'+str(self.id)+'  State: '+str(self.state)+'  Guesses_left:'+str(self.wrongsLeft)"
     ],
     "language": "python",
     "metadata": {},
     "outputs": [],
     "prompt_number": 61
    },
    {
     "cell_type": "markdown",
     "metadata": {},
     "source": [
      "b) Create an object - hangman_bot which acts as the game_master providing you with randomly choosen blank phrases to play hangman with. The object should have functions to do the following\n",
      "    \n",
      "    1. Read an input file having list of phrases\n",
      "    \n",
      "    2. Function to start the game which returns a randomly chosen object game. The returned object should have the following details - id, initial state of the phrase as all underscores, remaining_guesses left. For example, for the case id:1 phrase: Mary had a little lamb, the output will be \n",
      "    \n",
      "    id:1 state: _ _ _ _   _ _ _   _ _ _ _ _ _   _ _ _ _  remaining_guesses: 3\n",
      "    \n",
      "    3. Update function which takes as input a guessLetter from you, and returns the updated status of the game. If the guessletter is there in the phrase the coresponding underscores will be replaced by the letter, and if the guessLetter is not there return failure message. Whenever the guess is wrong, this method should check if the number of failed attempts limit has been reached, and if so, end the game. \n",
      "    \n"
     ]
    },
    {
     "cell_type": "code",
     "collapsed": false,
     "input": [
      "# In this hangman game, all letters are lowercase and punctuation is removed\n",
      "\n",
      "import random, string, re\n",
      "\n",
      "class hangman_bot:\n",
      "    \n",
      "    def __init__(self):\n",
      "        pass\n",
      "    \n",
      "    def getPhrase(self, filename='phraselist1.txt', lineNum=None):\n",
      "        \"\"\"get random phrase, convert it to lower case and strip\n",
      "        out all numberss and punctuation\"\"\"\n",
      "        \n",
      "        with open( filename, 'r' ) as ff:\n",
      "            lines = ff.readlines()\n",
      "        if lineNum == None:\n",
      "            phrase = lines[random.randint(0,len(lines)-1)].lower() # random line\n",
      "        else:\n",
      "            phrase = lines[lineNum].lower()    # specified line for testing\n",
      "            \n",
      "        # remove punctuation, numbers, utf-8 characters, respecively\n",
      "        phrase = phrase.translate(string.maketrans('',''), string.punctuation)\n",
      "        phrase = re.sub( '\\d', '', phrase)\n",
      "        phrase = re.sub(r'[^\\x00-\\x7F]+','', phrase)\n",
      "        phrase = ' '.join(phrase.split())\n",
      "        return phrase\n",
      "      \n",
      "        \n",
      "    def startGame(self, idNum=None):\n",
      "        if idNum == None:\n",
      "            self.idnum = random.randint(5000,9999)\n",
      "            self.thisPhrase = self.getPhrase()\n",
      "        else:\n",
      "            self.idnum = idNum\n",
      "            self.thisPhrase = self.getPhrase(lineNum=idNum)\n",
      "\n",
      "        self.thisState = re.sub( '[a-z]','_', self.thisPhrase)\n",
      "        #print self.thisPhrase\n",
      "        self.wrongsLeft = 3        \n",
      "        self.thisGame = game(self.idnum, self.thisState, self.wrongsLeft)\n",
      "        return self.thisGame\n",
      "        \n",
      "    def updateGuess(self, letter):\n",
      "        \n",
      "        # indx - the location(s) of the letters in the phrase\n",
      "        indx = [match.start() for match in re.finditer(letter, self.thisPhrase)]\n",
      "\n",
      "        # no letter found, update wrongsLeft, check if Game Over\n",
      "        if len(indx) == 0:   \n",
      "            #print \"SORRY, '%s' not found.\" % letter\n",
      "            self.wrongsLeft -= 1\n",
      "            if self.wrongsLeft <= 0:\n",
      "                #print \"GAME OVER...you ran out of wrong guesses (3). Returning answer:\"\n",
      "                return self.thisPhrase       # return zero if game is over\n",
      "        else:\n",
      "            # change underscores to letter in state \n",
      "            #   (make list, substitute, then join to string)\n",
      "            stateList = list(self.thisState)\n",
      "            for matchPos in indx:\n",
      "                stateList[matchPos] = letter\n",
      "            self.thisState = ''.join(stateList)\n",
      "\n",
      "        self.thisGame = game(self.idnum, self.thisState, self.wrongsLeft)\n",
      "        \n",
      "        return self.thisGame"
     ],
     "language": "python",
     "metadata": {},
     "outputs": [],
     "prompt_number": 80
    },
    {
     "cell_type": "code",
     "collapsed": false,
     "input": [
      "## TESTING\n",
      "# test guesses: letters in descending order of english frequency\n",
      "testLets = list('etaoinshrdlcumwfgypbvkjxqz')\n",
      "\n",
      "HB = hangman_bot()\n",
      "G  = HB.startGame()\n",
      "print G.toString()\n",
      "\n",
      "for guessLetter in testLets:    \n",
      "    G = HB.updateGuess(guessLetter)\n",
      "    if type(G) == str:\n",
      "        print G\n",
      "        break\n",
      "    print G.toString()\n"
     ],
     "language": "python",
     "metadata": {},
     "outputs": [
      {
       "output_type": "stream",
       "stream": "stdout",
       "text": [
        "ID:7709  State: ___ ___ ___ ___ ____  Guesses_left:3\n",
        "ID:7709  State: ___ _e_ __e ___ ___e  Guesses_left:3\n",
        "ID:7709  State: ___ _et t_e ___ ___e  Guesses_left:3\n",
        "ID:7709  State: ___ _et t_e ___ ___e  Guesses_left:2\n",
        "ID:7709  State: _o_ _et t_e _o_ _o_e  Guesses_left:2\n",
        "ID:7709  State: _o_ _et t_e _o_ _o_e  Guesses_left:1\n",
        "ID:7709  State: _o_ _et t_e _o_ _one  Guesses_left:1\n",
        "GAME OVER...you ran out of wrong guesses (3). Returning answer:\n",
        "you get the job done\n"
       ]
      }
     ],
     "prompt_number": 73
    },
    {
     "cell_type": "markdown",
     "metadata": {},
     "source": [
      "c) Create an object - __AI__ which runs background algorithms to make an intelligent letter guess. Since, we have only 3 wrong guesses for each game, the AI should be very intelligent and much better than a random generator. Below is a simple heuristic with no learning involved. You can choose to build on this or write your own, try ngram models etc\n",
      "\n",
      "1. Develop a huge word dictionary by downloading one of the corpus available online. for eg: - http://wordnet.princeton.edu/wordnet/download \n",
      "\n",
      "2. Write function most_filled_word() which returns the word with minimum underscores. At the start of the game, this function will return the word with smallest length as it will have the least underscore count. \n",
      "\n",
      "3. Write a function possibleWords() which builds a list of probable words for word returned from most_filled_word(). Here you build a dictionary of words which have the same length and have letters at the same position as word considered. You can use regex quickly do pattern matching. This function will then return a list of all possible words\n",
      "\n",
      "4. Write a maxLetterFreq() function whch counts occurrences of each of the 26 letters from among the list of possible words returned from possibleWords() function and returns the one with highest occurrence/frequency\n",
      "\n",
      "5. Write a wrappper function bestGuess() which calls the above 4 functions in the correct order, and returns the letter with highest frequency as the guessLetter to the hangman_bot. This wrapper function should also keep a tab of the letters already guessed so that the same letters are not guessed. You can further add tweaks to this wrapper function like for the case where the length of the word is 1, then most likely it will be a or I"
     ]
    },
    {
     "cell_type": "code",
     "collapsed": false,
     "input": [
      "import re, operator\n",
      "\n",
      "class AI:\n",
      "    \n",
      "    def __init__(self):\n",
      "        self.dictName = 'dictionary.txt'\n",
      "        self.getWordDict()\n",
      "        self.usedLetters = []   # list of already guessed letters\n",
      "        pass\n",
      "        \n",
      "    # get dictionary...using basic list of words\n",
      "    def getWordDict(self):\n",
      "        self.Dictionary = []\n",
      "        with open(self.dictName,'r') as ff:\n",
      "            for thisline in ff.readlines():\n",
      "                self.Dictionary.append(thisline.strip())\n",
      "        return self.Dictionary\n",
      "                \n",
      "    # from state, return word with the fewest '_'s\n",
      "    def mostFilledWord(self, state):\n",
      "        wordList = state.split()\n",
      "        for thisWord in wordList:\n",
      "            if thisWord.count('_') == 0:  # remove words with no '_'\n",
      "                wordList.remove(thisWord)\n",
      "        return min(wordList, key=lambda x:x.count('_'))\n",
      "     \n",
      "    # given wordPatter, return a list of possible words from Dictionary\n",
      "    def possibleWords(self, wordPattern):\n",
      "        if len(wordPattern) == 1:           # exception for single letter words\n",
      "            matchList =  ['a','i','c']\n",
      "        else:\n",
      "            anyLet = r'[\\D]'\n",
      "            matchPattern = '^'+wordPattern.replace('_',anyLet)+'$'\n",
      "            matchList = [xx for ii, xx in enumerate(self.Dictionary) \n",
      "                         if re.search(matchPattern, xx)]\n",
      "        return matchList\n",
      "\n",
      "    # return a list of best letter guesses, in descending order\n",
      "    def maxCharFreq(self, possibleWordList):\n",
      "        longString = ''.join(possibleWordList)\n",
      "        letterDict = {}\n",
      "        for letter in longString:\n",
      "                try:\n",
      "                    letterDict[letter] += 1\n",
      "                except KeyError:\n",
      "                    letterDict[letter] = 1\n",
      "        sortedPairs = sorted(letterDict.items(), key=operator.itemgetter(1), reverse=True)\n",
      "        bestGuess = [ii for ii,jj in sortedPairs]\n",
      "        return bestGuess\n",
      "\n",
      "    \n",
      "    def bestGuess(self, state):\n",
      "        \n",
      "        self.englishBest = list('etaoinshrdlcumwfgypbvkjxqz') # english-frequency-sorted alphabet\n",
      "\n",
      "        mostFilled = self.mostFilledWord(state)           # most filled word\n",
      "        possibleWords = self.possibleWords( mostFilled )  # list of possible words\n",
      "        bestChars = self.maxCharFreq(possibleWords)       # list of best letters (desc freq)\n",
      "\n",
      "        # get best letter from bestChars, possibleWords, usedLetters, englishBest\n",
      "        # if already guessed all bestChars, use the best non-guessed letter from enlishBest\n",
      "        if len(bestChars)== 0:\n",
      "            bestChars = ['e']\n",
      "        while bestChars[0] in self.usedLetters:\n",
      "            tmp = bestChars.pop(0)\n",
      "            if len(bestChars) == 0:\n",
      "                # get best from englishBest\n",
      "                for thisLetter in self.englishBest:\n",
      "                    if thisLetter in self.usedLetters:\n",
      "                        continue\n",
      "                    else:\n",
      "                        bestChars.append(thisLetter) #add best enlish letter to empty list\n",
      "                        break\n",
      "        bestLetterGuess = bestChars[0]        \n",
      "        self.usedLetters.append( bestLetterGuess )\n",
      "        return bestLetterGuess\n",
      "\n",
      "    def learnWords(self, losingPhrase):\n",
      "        \"\"\"upon losing, call this function to add missing words to the dictionary file\"\"\"\n",
      "        with open(self.dictName, 'a') as dd:\n",
      "            for word in losingPhrase.split():\n",
      "                if not word in self.Dictionary:\n",
      "                    dd.write( word + '\\n')\n"
     ],
     "language": "python",
     "metadata": {},
     "outputs": [],
     "prompt_number": 68
    },
    {
     "cell_type": "markdown",
     "metadata": {},
     "source": [
      "**I will now use these classes to run a test through every line in the phrase list. When my hangman_bot is given an optional agument, lineNum, it will use that line in the game.  Upon a loss, it returns the solution to the game.  Based on this assumption, my AI checks the returned phrase for words not already in the dictionary.  If a word is not found, it adds the word to the dictionary (appends it to the end of the file).**\n",
      "\n",
      "**I added this feature because I discovered that there were many words in the phraselist that were not in the dictionary.  This trains the class to account for unkown domain words, slangs, and frequent typos in the phrase list.**\n",
      "\n",
      "**This, admittedly, is an unelegant procedure that could be improved upon by adding weights to each word in the dictionary.  If I had more time, I would make the dictionary a two columned file with a weight after each word.  I would then have the AI adjust the weights as it lost, giving more weight to the words in the phrase list.**"
     ]
    },
    {
     "cell_type": "code",
     "collapsed": false,
     "input": [
      "HB = hangman_bot()\n",
      "\n",
      "# getting phraselist to loop over, for testing\n",
      "with open( 'phraselist1.txt', 'r' ) as ff:\n",
      "    lines = ff.readlines()\n",
      "\n",
      "nWins = 0\n",
      "nLoss = 0\n",
      "for lineNum in range( len(lines)):\n",
      "    print lineNum\n",
      "    GAME = HB.startGame(idNum = lineNum) \n",
      "    ai = AI()\n",
      "    while 1:\n",
      "\n",
      "        # checking if solved\n",
      "        if GAME.state.count('_')==0:\n",
      "            print \"SOLVED!\"\n",
      "            nWins += 1\n",
      "            break\n",
      "\n",
      "        guess = ai.bestGuess(GAME.state)\n",
      "        GAME = HB.updateGuess(guess)\n",
      "        \n",
      "        # handling losing\n",
      "        if type(GAME) == str:        # upon losing, the game returns the solution\n",
      "            print \"LOST...learning new words (if any).\"\n",
      "            ai.learnWords(GAME)\n",
      "            nLoss += 1\n",
      "            break\n",
      "        #print lineNum\n"
     ],
     "language": "python",
     "metadata": {},
     "outputs": [
      {
       "output_type": "stream",
       "stream": "stdout",
       "text": [
        "0\n",
        "LOST...learning new words (if any)."
       ]
      },
      {
       "output_type": "stream",
       "stream": "stdout",
       "text": [
        "\n",
        "1\n",
        "LOST...learning new words (if any)."
       ]
      },
      {
       "output_type": "stream",
       "stream": "stdout",
       "text": [
        "\n",
        "2\n",
        "LOST...learning new words (if any)."
       ]
      },
      {
       "output_type": "stream",
       "stream": "stdout",
       "text": [
        "\n",
        "3\n",
        "LOST...learning new words (if any)."
       ]
      },
      {
       "output_type": "stream",
       "stream": "stdout",
       "text": [
        "\n",
        "4\n",
        "SOLVED!"
       ]
      },
      {
       "output_type": "stream",
       "stream": "stdout",
       "text": [
        "\n",
        "5\n",
        "LOST...learning new words (if any)."
       ]
      },
      {
       "output_type": "stream",
       "stream": "stdout",
       "text": [
        "\n",
        "6\n",
        "LOST...learning new words (if any)."
       ]
      },
      {
       "output_type": "stream",
       "stream": "stdout",
       "text": [
        "\n",
        "7\n",
        "LOST...learning new words (if any)."
       ]
      },
      {
       "output_type": "stream",
       "stream": "stdout",
       "text": [
        "\n",
        "8\n",
        "SOLVED!"
       ]
      },
      {
       "output_type": "stream",
       "stream": "stdout",
       "text": [
        "\n",
        "9\n",
        "LOST...learning new words (if any)."
       ]
      },
      {
       "output_type": "stream",
       "stream": "stdout",
       "text": [
        "\n",
        "10\n",
        "LOST...learning new words (if any)."
       ]
      },
      {
       "output_type": "stream",
       "stream": "stdout",
       "text": [
        "\n",
        "11\n",
        "LOST...learning new words (if any)."
       ]
      },
      {
       "output_type": "stream",
       "stream": "stdout",
       "text": [
        "\n",
        "12\n",
        "LOST...learning new words (if any)."
       ]
      },
      {
       "output_type": "stream",
       "stream": "stdout",
       "text": [
        "\n",
        "13\n",
        "LOST...learning new words (if any)."
       ]
      },
      {
       "output_type": "stream",
       "stream": "stdout",
       "text": [
        "\n",
        "14\n",
        "LOST...learning new words (if any)."
       ]
      },
      {
       "output_type": "stream",
       "stream": "stdout",
       "text": [
        "\n",
        "15\n",
        "LOST...learning new words (if any)."
       ]
      },
      {
       "output_type": "stream",
       "stream": "stdout",
       "text": [
        "\n",
        "16\n",
        "LOST...learning new words (if any)."
       ]
      },
      {
       "output_type": "stream",
       "stream": "stdout",
       "text": [
        "\n",
        "17\n",
        "LOST...learning new words (if any)."
       ]
      },
      {
       "output_type": "stream",
       "stream": "stdout",
       "text": [
        "\n",
        "18\n",
        "LOST...learning new words (if any)."
       ]
      },
      {
       "output_type": "stream",
       "stream": "stdout",
       "text": [
        "\n",
        "19\n",
        "LOST...learning new words (if any)."
       ]
      },
      {
       "output_type": "stream",
       "stream": "stdout",
       "text": [
        "\n",
        "20\n",
        "LOST...learning new words (if any)."
       ]
      },
      {
       "output_type": "stream",
       "stream": "stdout",
       "text": [
        "\n",
        "21\n",
        "LOST...learning new words (if any)."
       ]
      },
      {
       "output_type": "stream",
       "stream": "stdout",
       "text": [
        "\n",
        "22\n",
        "LOST...learning new words (if any)."
       ]
      },
      {
       "output_type": "stream",
       "stream": "stdout",
       "text": [
        "\n",
        "23\n",
        "LOST...learning new words (if any)."
       ]
      },
      {
       "output_type": "stream",
       "stream": "stdout",
       "text": [
        "\n",
        "24\n",
        "LOST...learning new words (if any)."
       ]
      },
      {
       "output_type": "stream",
       "stream": "stdout",
       "text": [
        "\n",
        "25\n",
        "LOST...learning new words (if any)."
       ]
      },
      {
       "output_type": "stream",
       "stream": "stdout",
       "text": [
        "\n",
        "26\n",
        "LOST...learning new words (if any)."
       ]
      },
      {
       "output_type": "stream",
       "stream": "stdout",
       "text": [
        "\n",
        "27\n",
        "LOST...learning new words (if any)."
       ]
      },
      {
       "output_type": "stream",
       "stream": "stdout",
       "text": [
        "\n",
        "28\n",
        "SOLVED!"
       ]
      },
      {
       "output_type": "stream",
       "stream": "stdout",
       "text": [
        "\n",
        "29\n",
        "LOST...learning new words (if any)."
       ]
      },
      {
       "output_type": "stream",
       "stream": "stdout",
       "text": [
        "\n",
        "30\n",
        "LOST...learning new words (if any)."
       ]
      },
      {
       "output_type": "stream",
       "stream": "stdout",
       "text": [
        "\n",
        "31\n",
        "LOST...learning new words (if any)."
       ]
      },
      {
       "output_type": "stream",
       "stream": "stdout",
       "text": [
        "\n",
        "32\n",
        "LOST...learning new words (if any)."
       ]
      },
      {
       "output_type": "stream",
       "stream": "stdout",
       "text": [
        "\n",
        "33\n",
        "LOST...learning new words (if any)."
       ]
      },
      {
       "output_type": "stream",
       "stream": "stdout",
       "text": [
        "\n",
        "34\n",
        "LOST...learning new words (if any)."
       ]
      },
      {
       "output_type": "stream",
       "stream": "stdout",
       "text": [
        "\n",
        "35\n",
        "LOST...learning new words (if any)."
       ]
      },
      {
       "output_type": "stream",
       "stream": "stdout",
       "text": [
        "\n",
        "36\n",
        "LOST...learning new words (if any)."
       ]
      },
      {
       "output_type": "stream",
       "stream": "stdout",
       "text": [
        "\n",
        "37\n",
        "LOST...learning new words (if any)."
       ]
      },
      {
       "output_type": "stream",
       "stream": "stdout",
       "text": [
        "\n",
        "38\n",
        "LOST...learning new words (if any)."
       ]
      },
      {
       "output_type": "stream",
       "stream": "stdout",
       "text": [
        "\n",
        "39\n",
        "LOST...learning new words (if any)."
       ]
      },
      {
       "output_type": "stream",
       "stream": "stdout",
       "text": [
        "\n",
        "40\n",
        "LOST...learning new words (if any)."
       ]
      },
      {
       "output_type": "stream",
       "stream": "stdout",
       "text": [
        "\n",
        "41\n",
        "LOST...learning new words (if any)."
       ]
      },
      {
       "output_type": "stream",
       "stream": "stdout",
       "text": [
        "\n",
        "42\n",
        "LOST...learning new words (if any)."
       ]
      },
      {
       "output_type": "stream",
       "stream": "stdout",
       "text": [
        "\n",
        "43\n",
        "LOST...learning new words (if any)."
       ]
      },
      {
       "output_type": "stream",
       "stream": "stdout",
       "text": [
        "\n",
        "44\n",
        "LOST...learning new words (if any)."
       ]
      },
      {
       "output_type": "stream",
       "stream": "stdout",
       "text": [
        "\n",
        "45\n",
        "LOST...learning new words (if any)."
       ]
      },
      {
       "output_type": "stream",
       "stream": "stdout",
       "text": [
        "\n",
        "46\n",
        "LOST...learning new words (if any)."
       ]
      },
      {
       "output_type": "stream",
       "stream": "stdout",
       "text": [
        "\n",
        "47\n",
        "LOST...learning new words (if any)."
       ]
      },
      {
       "output_type": "stream",
       "stream": "stdout",
       "text": [
        "\n",
        "48\n",
        "LOST...learning new words (if any)."
       ]
      },
      {
       "output_type": "stream",
       "stream": "stdout",
       "text": [
        "\n",
        "49\n",
        "LOST...learning new words (if any)."
       ]
      },
      {
       "output_type": "stream",
       "stream": "stdout",
       "text": [
        "\n",
        "50\n",
        "LOST...learning new words (if any)."
       ]
      },
      {
       "output_type": "stream",
       "stream": "stdout",
       "text": [
        "\n",
        "51\n",
        "SOLVED!"
       ]
      },
      {
       "output_type": "stream",
       "stream": "stdout",
       "text": [
        "\n",
        "52\n",
        "LOST...learning new words (if any)."
       ]
      },
      {
       "output_type": "stream",
       "stream": "stdout",
       "text": [
        "\n",
        "53\n",
        "LOST...learning new words (if any)."
       ]
      },
      {
       "output_type": "stream",
       "stream": "stdout",
       "text": [
        "\n",
        "54\n",
        "LOST...learning new words (if any)."
       ]
      },
      {
       "output_type": "stream",
       "stream": "stdout",
       "text": [
        "\n",
        "55\n",
        "LOST...learning new words (if any)."
       ]
      },
      {
       "output_type": "stream",
       "stream": "stdout",
       "text": [
        "\n",
        "56\n",
        "LOST...learning new words (if any)."
       ]
      },
      {
       "output_type": "stream",
       "stream": "stdout",
       "text": [
        "\n",
        "57\n",
        "LOST...learning new words (if any)."
       ]
      },
      {
       "output_type": "stream",
       "stream": "stdout",
       "text": [
        "\n",
        "58\n",
        "LOST...learning new words (if any)."
       ]
      },
      {
       "output_type": "stream",
       "stream": "stdout",
       "text": [
        "\n",
        "59\n",
        "LOST...learning new words (if any)."
       ]
      },
      {
       "output_type": "stream",
       "stream": "stdout",
       "text": [
        "\n",
        "60\n",
        "LOST...learning new words (if any)."
       ]
      },
      {
       "output_type": "stream",
       "stream": "stdout",
       "text": [
        "\n",
        "61\n",
        "LOST...learning new words (if any)."
       ]
      },
      {
       "output_type": "stream",
       "stream": "stdout",
       "text": [
        "\n",
        "62\n",
        "LOST...learning new words (if any)."
       ]
      },
      {
       "output_type": "stream",
       "stream": "stdout",
       "text": [
        "\n",
        "63\n",
        "LOST...learning new words (if any)."
       ]
      },
      {
       "output_type": "stream",
       "stream": "stdout",
       "text": [
        "\n",
        "64\n",
        "LOST...learning new words (if any)."
       ]
      },
      {
       "output_type": "stream",
       "stream": "stdout",
       "text": [
        "\n",
        "65\n",
        "LOST...learning new words (if any)."
       ]
      },
      {
       "output_type": "stream",
       "stream": "stdout",
       "text": [
        "\n",
        "66\n",
        "LOST...learning new words (if any)."
       ]
      },
      {
       "output_type": "stream",
       "stream": "stdout",
       "text": [
        "\n",
        "67\n",
        "LOST...learning new words (if any)."
       ]
      },
      {
       "output_type": "stream",
       "stream": "stdout",
       "text": [
        "\n",
        "68\n",
        "LOST...learning new words (if any)."
       ]
      },
      {
       "output_type": "stream",
       "stream": "stdout",
       "text": [
        "\n",
        "69\n",
        "LOST...learning new words (if any)."
       ]
      },
      {
       "output_type": "stream",
       "stream": "stdout",
       "text": [
        "\n",
        "70\n",
        "LOST...learning new words (if any)."
       ]
      },
      {
       "output_type": "stream",
       "stream": "stdout",
       "text": [
        "\n",
        "71\n",
        "LOST...learning new words (if any)."
       ]
      },
      {
       "output_type": "stream",
       "stream": "stdout",
       "text": [
        "\n",
        "72\n",
        "LOST...learning new words (if any)."
       ]
      },
      {
       "output_type": "stream",
       "stream": "stdout",
       "text": [
        "\n",
        "73\n",
        "LOST...learning new words (if any)."
       ]
      },
      {
       "output_type": "stream",
       "stream": "stdout",
       "text": [
        "\n",
        "74\n",
        "LOST...learning new words (if any)."
       ]
      },
      {
       "output_type": "stream",
       "stream": "stdout",
       "text": [
        "\n",
        "75\n",
        "LOST...learning new words (if any)."
       ]
      },
      {
       "output_type": "stream",
       "stream": "stdout",
       "text": [
        "\n",
        "76\n",
        "LOST...learning new words (if any)."
       ]
      },
      {
       "output_type": "stream",
       "stream": "stdout",
       "text": [
        "\n",
        "77\n",
        "LOST...learning new words (if any)."
       ]
      },
      {
       "output_type": "stream",
       "stream": "stdout",
       "text": [
        "\n",
        "78\n",
        "LOST...learning new words (if any)."
       ]
      },
      {
       "output_type": "stream",
       "stream": "stdout",
       "text": [
        "\n",
        "79\n",
        "LOST...learning new words (if any)."
       ]
      },
      {
       "output_type": "stream",
       "stream": "stdout",
       "text": [
        "\n",
        "80\n",
        "LOST...learning new words (if any)."
       ]
      },
      {
       "output_type": "stream",
       "stream": "stdout",
       "text": [
        "\n",
        "81\n",
        "LOST...learning new words (if any)."
       ]
      },
      {
       "output_type": "stream",
       "stream": "stdout",
       "text": [
        "\n",
        "82\n",
        "LOST...learning new words (if any)."
       ]
      },
      {
       "output_type": "stream",
       "stream": "stdout",
       "text": [
        "\n",
        "83\n",
        "LOST...learning new words (if any)."
       ]
      },
      {
       "output_type": "stream",
       "stream": "stdout",
       "text": [
        "\n",
        "84\n",
        "LOST...learning new words (if any)."
       ]
      },
      {
       "output_type": "stream",
       "stream": "stdout",
       "text": [
        "\n",
        "85\n",
        "LOST...learning new words (if any)."
       ]
      },
      {
       "output_type": "stream",
       "stream": "stdout",
       "text": [
        "\n",
        "86\n",
        "LOST...learning new words (if any)."
       ]
      },
      {
       "output_type": "stream",
       "stream": "stdout",
       "text": [
        "\n",
        "87\n",
        "LOST...learning new words (if any)."
       ]
      },
      {
       "output_type": "stream",
       "stream": "stdout",
       "text": [
        "\n",
        "88\n",
        "LOST...learning new words (if any)."
       ]
      },
      {
       "output_type": "stream",
       "stream": "stdout",
       "text": [
        "\n",
        "89\n",
        "LOST...learning new words (if any)."
       ]
      },
      {
       "output_type": "stream",
       "stream": "stdout",
       "text": [
        "\n",
        "90\n",
        "LOST...learning new words (if any)."
       ]
      },
      {
       "output_type": "stream",
       "stream": "stdout",
       "text": [
        "\n",
        "91\n",
        "LOST...learning new words (if any)."
       ]
      },
      {
       "output_type": "stream",
       "stream": "stdout",
       "text": [
        "\n",
        "92\n",
        "LOST...learning new words (if any)."
       ]
      },
      {
       "output_type": "stream",
       "stream": "stdout",
       "text": [
        "\n",
        "93\n",
        "LOST...learning new words (if any)."
       ]
      },
      {
       "output_type": "stream",
       "stream": "stdout",
       "text": [
        "\n",
        "94\n",
        "LOST...learning new words (if any)."
       ]
      },
      {
       "output_type": "stream",
       "stream": "stdout",
       "text": [
        "\n",
        "95\n",
        "LOST...learning new words (if any)."
       ]
      },
      {
       "output_type": "stream",
       "stream": "stdout",
       "text": [
        "\n",
        "96\n",
        "LOST...learning new words (if any)."
       ]
      },
      {
       "output_type": "stream",
       "stream": "stdout",
       "text": [
        "\n",
        "97\n",
        "LOST...learning new words (if any)."
       ]
      },
      {
       "output_type": "stream",
       "stream": "stdout",
       "text": [
        "\n",
        "98\n",
        "LOST...learning new words (if any)."
       ]
      },
      {
       "output_type": "stream",
       "stream": "stdout",
       "text": [
        "\n",
        "99\n",
        "SOLVED!"
       ]
      },
      {
       "output_type": "stream",
       "stream": "stdout",
       "text": [
        "\n",
        "100\n",
        "LOST...learning new words (if any)."
       ]
      },
      {
       "output_type": "stream",
       "stream": "stdout",
       "text": [
        "\n",
        "101\n",
        "LOST...learning new words (if any)."
       ]
      },
      {
       "output_type": "stream",
       "stream": "stdout",
       "text": [
        "\n",
        "102\n",
        "LOST...learning new words (if any)."
       ]
      },
      {
       "output_type": "stream",
       "stream": "stdout",
       "text": [
        "\n",
        "103\n",
        "LOST...learning new words (if any)."
       ]
      },
      {
       "output_type": "stream",
       "stream": "stdout",
       "text": [
        "\n",
        "104\n",
        "LOST...learning new words (if any)."
       ]
      },
      {
       "output_type": "stream",
       "stream": "stdout",
       "text": [
        "\n",
        "105\n",
        "LOST...learning new words (if any)."
       ]
      },
      {
       "output_type": "stream",
       "stream": "stdout",
       "text": [
        "\n",
        "106\n",
        "LOST...learning new words (if any)."
       ]
      },
      {
       "output_type": "stream",
       "stream": "stdout",
       "text": [
        "\n",
        "107\n",
        "LOST...learning new words (if any)."
       ]
      },
      {
       "output_type": "stream",
       "stream": "stdout",
       "text": [
        "\n",
        "108\n",
        "LOST...learning new words (if any)."
       ]
      },
      {
       "output_type": "stream",
       "stream": "stdout",
       "text": [
        "\n",
        "109\n",
        "LOST...learning new words (if any)."
       ]
      },
      {
       "output_type": "stream",
       "stream": "stdout",
       "text": [
        "\n",
        "110\n",
        "LOST...learning new words (if any)."
       ]
      },
      {
       "output_type": "stream",
       "stream": "stdout",
       "text": [
        "\n",
        "111\n",
        "LOST...learning new words (if any)."
       ]
      },
      {
       "output_type": "stream",
       "stream": "stdout",
       "text": [
        "\n",
        "112\n",
        "LOST...learning new words (if any)."
       ]
      },
      {
       "output_type": "stream",
       "stream": "stdout",
       "text": [
        "\n",
        "113\n",
        "LOST...learning new words (if any)."
       ]
      },
      {
       "output_type": "stream",
       "stream": "stdout",
       "text": [
        "\n",
        "114\n",
        "LOST...learning new words (if any)."
       ]
      },
      {
       "output_type": "stream",
       "stream": "stdout",
       "text": [
        "\n",
        "115\n",
        "LOST...learning new words (if any)."
       ]
      },
      {
       "output_type": "stream",
       "stream": "stdout",
       "text": [
        "\n",
        "116\n",
        "LOST...learning new words (if any)."
       ]
      },
      {
       "output_type": "stream",
       "stream": "stdout",
       "text": [
        "\n",
        "117\n",
        "LOST...learning new words (if any)."
       ]
      },
      {
       "output_type": "stream",
       "stream": "stdout",
       "text": [
        "\n",
        "118\n",
        "LOST...learning new words (if any)."
       ]
      },
      {
       "output_type": "stream",
       "stream": "stdout",
       "text": [
        "\n",
        "119\n",
        "LOST...learning new words (if any)."
       ]
      },
      {
       "output_type": "stream",
       "stream": "stdout",
       "text": [
        "\n",
        "120\n",
        "LOST...learning new words (if any)."
       ]
      },
      {
       "output_type": "stream",
       "stream": "stdout",
       "text": [
        "\n",
        "121\n",
        "LOST...learning new words (if any)."
       ]
      },
      {
       "output_type": "stream",
       "stream": "stdout",
       "text": [
        "\n",
        "122\n",
        "LOST...learning new words (if any)."
       ]
      },
      {
       "output_type": "stream",
       "stream": "stdout",
       "text": [
        "\n",
        "123\n",
        "LOST...learning new words (if any)."
       ]
      },
      {
       "output_type": "stream",
       "stream": "stdout",
       "text": [
        "\n",
        "124\n",
        "LOST...learning new words (if any)."
       ]
      },
      {
       "output_type": "stream",
       "stream": "stdout",
       "text": [
        "\n",
        "125\n",
        "LOST...learning new words (if any)."
       ]
      },
      {
       "output_type": "stream",
       "stream": "stdout",
       "text": [
        "\n",
        "126\n",
        "LOST...learning new words (if any)."
       ]
      },
      {
       "output_type": "stream",
       "stream": "stdout",
       "text": [
        "\n",
        "127\n",
        "LOST...learning new words (if any)."
       ]
      },
      {
       "output_type": "stream",
       "stream": "stdout",
       "text": [
        "\n",
        "128\n",
        "LOST...learning new words (if any)."
       ]
      },
      {
       "output_type": "stream",
       "stream": "stdout",
       "text": [
        "\n",
        "129\n",
        "SOLVED!"
       ]
      },
      {
       "output_type": "stream",
       "stream": "stdout",
       "text": [
        "\n",
        "130\n",
        "LOST...learning new words (if any)."
       ]
      },
      {
       "output_type": "stream",
       "stream": "stdout",
       "text": [
        "\n",
        "131\n",
        "LOST...learning new words (if any)."
       ]
      },
      {
       "output_type": "stream",
       "stream": "stdout",
       "text": [
        "\n",
        "132\n",
        "SOLVED!"
       ]
      },
      {
       "output_type": "stream",
       "stream": "stdout",
       "text": [
        "\n",
        "133\n",
        "LOST...learning new words (if any)."
       ]
      },
      {
       "output_type": "stream",
       "stream": "stdout",
       "text": [
        "\n",
        "134\n",
        "LOST...learning new words (if any)."
       ]
      },
      {
       "output_type": "stream",
       "stream": "stdout",
       "text": [
        "\n",
        "135\n",
        "LOST...learning new words (if any)."
       ]
      },
      {
       "output_type": "stream",
       "stream": "stdout",
       "text": [
        "\n",
        "136\n",
        "LOST...learning new words (if any)."
       ]
      },
      {
       "output_type": "stream",
       "stream": "stdout",
       "text": [
        "\n",
        "137\n",
        "LOST...learning new words (if any)."
       ]
      },
      {
       "output_type": "stream",
       "stream": "stdout",
       "text": [
        "\n",
        "138\n",
        "LOST...learning new words (if any)."
       ]
      },
      {
       "output_type": "stream",
       "stream": "stdout",
       "text": [
        "\n",
        "139\n",
        "LOST...learning new words (if any)."
       ]
      },
      {
       "output_type": "stream",
       "stream": "stdout",
       "text": [
        "\n",
        "140\n",
        "LOST...learning new words (if any)."
       ]
      },
      {
       "output_type": "stream",
       "stream": "stdout",
       "text": [
        "\n",
        "141\n",
        "LOST...learning new words (if any)."
       ]
      },
      {
       "output_type": "stream",
       "stream": "stdout",
       "text": [
        "\n",
        "142\n",
        "LOST...learning new words (if any)."
       ]
      },
      {
       "output_type": "stream",
       "stream": "stdout",
       "text": [
        "\n",
        "143\n",
        "LOST...learning new words (if any)."
       ]
      },
      {
       "output_type": "stream",
       "stream": "stdout",
       "text": [
        "\n",
        "144\n",
        "LOST...learning new words (if any)."
       ]
      },
      {
       "output_type": "stream",
       "stream": "stdout",
       "text": [
        "\n",
        "145\n",
        "LOST...learning new words (if any)."
       ]
      },
      {
       "output_type": "stream",
       "stream": "stdout",
       "text": [
        "\n",
        "146\n",
        "LOST...learning new words (if any)."
       ]
      },
      {
       "output_type": "stream",
       "stream": "stdout",
       "text": [
        "\n",
        "147\n",
        "LOST...learning new words (if any)."
       ]
      },
      {
       "output_type": "stream",
       "stream": "stdout",
       "text": [
        "\n",
        "148\n",
        "LOST...learning new words (if any)."
       ]
      },
      {
       "output_type": "stream",
       "stream": "stdout",
       "text": [
        "\n",
        "149\n",
        "LOST...learning new words (if any)."
       ]
      },
      {
       "output_type": "stream",
       "stream": "stdout",
       "text": [
        "\n",
        "150\n",
        "LOST...learning new words (if any)."
       ]
      },
      {
       "output_type": "stream",
       "stream": "stdout",
       "text": [
        "\n",
        "151\n",
        "LOST...learning new words (if any)."
       ]
      },
      {
       "output_type": "stream",
       "stream": "stdout",
       "text": [
        "\n",
        "152\n",
        "LOST...learning new words (if any)."
       ]
      },
      {
       "output_type": "stream",
       "stream": "stdout",
       "text": [
        "\n",
        "153\n",
        "LOST...learning new words (if any)."
       ]
      },
      {
       "output_type": "stream",
       "stream": "stdout",
       "text": [
        "\n",
        "154\n",
        "LOST...learning new words (if any)."
       ]
      },
      {
       "output_type": "stream",
       "stream": "stdout",
       "text": [
        "\n",
        "155\n",
        "LOST...learning new words (if any)."
       ]
      },
      {
       "output_type": "stream",
       "stream": "stdout",
       "text": [
        "\n",
        "156\n",
        "LOST...learning new words (if any)."
       ]
      },
      {
       "output_type": "stream",
       "stream": "stdout",
       "text": [
        "\n",
        "157\n",
        "LOST...learning new words (if any)."
       ]
      },
      {
       "output_type": "stream",
       "stream": "stdout",
       "text": [
        "\n",
        "158\n",
        "LOST...learning new words (if any)."
       ]
      },
      {
       "output_type": "stream",
       "stream": "stdout",
       "text": [
        "\n",
        "159\n",
        "LOST...learning new words (if any)."
       ]
      },
      {
       "output_type": "stream",
       "stream": "stdout",
       "text": [
        "\n",
        "160\n",
        "LOST...learning new words (if any)."
       ]
      },
      {
       "output_type": "stream",
       "stream": "stdout",
       "text": [
        "\n",
        "161\n",
        "LOST...learning new words (if any)."
       ]
      },
      {
       "output_type": "stream",
       "stream": "stdout",
       "text": [
        "\n",
        "162\n",
        "LOST...learning new words (if any)."
       ]
      },
      {
       "output_type": "stream",
       "stream": "stdout",
       "text": [
        "\n",
        "163\n",
        "LOST...learning new words (if any)."
       ]
      },
      {
       "output_type": "stream",
       "stream": "stdout",
       "text": [
        "\n",
        "164\n",
        "LOST...learning new words (if any)."
       ]
      },
      {
       "output_type": "stream",
       "stream": "stdout",
       "text": [
        "\n",
        "165\n",
        "LOST...learning new words (if any)."
       ]
      },
      {
       "output_type": "stream",
       "stream": "stdout",
       "text": [
        "\n",
        "166\n",
        "LOST...learning new words (if any)."
       ]
      },
      {
       "output_type": "stream",
       "stream": "stdout",
       "text": [
        "\n",
        "167\n",
        "LOST...learning new words (if any)."
       ]
      },
      {
       "output_type": "stream",
       "stream": "stdout",
       "text": [
        "\n",
        "168\n",
        "LOST...learning new words (if any)."
       ]
      },
      {
       "output_type": "stream",
       "stream": "stdout",
       "text": [
        "\n",
        "169\n",
        "LOST...learning new words (if any)."
       ]
      },
      {
       "output_type": "stream",
       "stream": "stdout",
       "text": [
        "\n",
        "170\n",
        "LOST...learning new words (if any)."
       ]
      },
      {
       "output_type": "stream",
       "stream": "stdout",
       "text": [
        "\n",
        "171\n",
        "LOST...learning new words (if any)."
       ]
      },
      {
       "output_type": "stream",
       "stream": "stdout",
       "text": [
        "\n",
        "172\n",
        "LOST...learning new words (if any)."
       ]
      },
      {
       "output_type": "stream",
       "stream": "stdout",
       "text": [
        "\n",
        "173\n",
        "LOST...learning new words (if any)."
       ]
      },
      {
       "output_type": "stream",
       "stream": "stdout",
       "text": [
        "\n",
        "174\n",
        "LOST...learning new words (if any)."
       ]
      },
      {
       "output_type": "stream",
       "stream": "stdout",
       "text": [
        "\n",
        "175\n",
        "LOST...learning new words (if any)."
       ]
      },
      {
       "output_type": "stream",
       "stream": "stdout",
       "text": [
        "\n",
        "176\n",
        "SOLVED!"
       ]
      },
      {
       "output_type": "stream",
       "stream": "stdout",
       "text": [
        "\n",
        "177\n",
        "LOST...learning new words (if any)."
       ]
      },
      {
       "output_type": "stream",
       "stream": "stdout",
       "text": [
        "\n",
        "178\n",
        "LOST...learning new words (if any)."
       ]
      },
      {
       "output_type": "stream",
       "stream": "stdout",
       "text": [
        "\n",
        "179\n",
        "LOST...learning new words (if any)."
       ]
      },
      {
       "output_type": "stream",
       "stream": "stdout",
       "text": [
        "\n",
        "180\n",
        "LOST...learning new words (if any)."
       ]
      },
      {
       "output_type": "stream",
       "stream": "stdout",
       "text": [
        "\n",
        "181\n",
        "LOST...learning new words (if any)."
       ]
      },
      {
       "output_type": "stream",
       "stream": "stdout",
       "text": [
        "\n",
        "182\n",
        "LOST...learning new words (if any)."
       ]
      },
      {
       "output_type": "stream",
       "stream": "stdout",
       "text": [
        "\n",
        "183\n",
        "LOST...learning new words (if any)."
       ]
      },
      {
       "output_type": "stream",
       "stream": "stdout",
       "text": [
        "\n",
        "184\n",
        "LOST...learning new words (if any)."
       ]
      },
      {
       "output_type": "stream",
       "stream": "stdout",
       "text": [
        "\n",
        "185\n",
        "SOLVED!"
       ]
      },
      {
       "output_type": "stream",
       "stream": "stdout",
       "text": [
        "\n",
        "186\n",
        "LOST...learning new words (if any)."
       ]
      },
      {
       "output_type": "stream",
       "stream": "stdout",
       "text": [
        "\n",
        "187\n",
        "LOST...learning new words (if any)."
       ]
      },
      {
       "output_type": "stream",
       "stream": "stdout",
       "text": [
        "\n",
        "188\n",
        "LOST...learning new words (if any)."
       ]
      },
      {
       "output_type": "stream",
       "stream": "stdout",
       "text": [
        "\n",
        "189\n",
        "LOST...learning new words (if any)."
       ]
      },
      {
       "output_type": "stream",
       "stream": "stdout",
       "text": [
        "\n",
        "190\n",
        "LOST...learning new words (if any)."
       ]
      },
      {
       "output_type": "stream",
       "stream": "stdout",
       "text": [
        "\n",
        "191\n",
        "LOST...learning new words (if any)."
       ]
      },
      {
       "output_type": "stream",
       "stream": "stdout",
       "text": [
        "\n",
        "192\n",
        "LOST...learning new words (if any)."
       ]
      },
      {
       "output_type": "stream",
       "stream": "stdout",
       "text": [
        "\n",
        "193\n",
        "SOLVED!"
       ]
      },
      {
       "output_type": "stream",
       "stream": "stdout",
       "text": [
        "\n",
        "194\n",
        "LOST...learning new words (if any)."
       ]
      },
      {
       "output_type": "stream",
       "stream": "stdout",
       "text": [
        "\n",
        "195\n",
        "LOST...learning new words (if any)."
       ]
      },
      {
       "output_type": "stream",
       "stream": "stdout",
       "text": [
        "\n",
        "196\n",
        "LOST...learning new words (if any)."
       ]
      },
      {
       "output_type": "stream",
       "stream": "stdout",
       "text": [
        "\n",
        "197\n",
        "LOST...learning new words (if any)."
       ]
      },
      {
       "output_type": "stream",
       "stream": "stdout",
       "text": [
        "\n",
        "198\n",
        "LOST...learning new words (if any)."
       ]
      },
      {
       "output_type": "stream",
       "stream": "stdout",
       "text": [
        "\n",
        "199\n",
        "LOST...learning new words (if any)."
       ]
      },
      {
       "output_type": "stream",
       "stream": "stdout",
       "text": [
        "\n",
        "200\n",
        "LOST...learning new words (if any)."
       ]
      },
      {
       "output_type": "stream",
       "stream": "stdout",
       "text": [
        "\n",
        "201\n",
        "LOST...learning new words (if any)."
       ]
      },
      {
       "output_type": "stream",
       "stream": "stdout",
       "text": [
        "\n",
        "202\n",
        "LOST...learning new words (if any)."
       ]
      },
      {
       "output_type": "stream",
       "stream": "stdout",
       "text": [
        "\n",
        "203\n",
        "LOST...learning new words (if any)."
       ]
      },
      {
       "output_type": "stream",
       "stream": "stdout",
       "text": [
        "\n",
        "204\n",
        "LOST...learning new words (if any)."
       ]
      },
      {
       "output_type": "stream",
       "stream": "stdout",
       "text": [
        "\n",
        "205\n",
        "SOLVED!"
       ]
      },
      {
       "output_type": "stream",
       "stream": "stdout",
       "text": [
        "\n",
        "206\n",
        "LOST...learning new words (if any)."
       ]
      },
      {
       "output_type": "stream",
       "stream": "stdout",
       "text": [
        "\n",
        "207\n",
        "LOST...learning new words (if any)."
       ]
      },
      {
       "output_type": "stream",
       "stream": "stdout",
       "text": [
        "\n",
        "208\n",
        "LOST...learning new words (if any)."
       ]
      },
      {
       "output_type": "stream",
       "stream": "stdout",
       "text": [
        "\n",
        "209\n",
        "SOLVED!"
       ]
      },
      {
       "output_type": "stream",
       "stream": "stdout",
       "text": [
        "\n",
        "210\n",
        "LOST...learning new words (if any)."
       ]
      },
      {
       "output_type": "stream",
       "stream": "stdout",
       "text": [
        "\n",
        "211\n",
        "LOST...learning new words (if any)."
       ]
      },
      {
       "output_type": "stream",
       "stream": "stdout",
       "text": [
        "\n",
        "212\n",
        "SOLVED!"
       ]
      },
      {
       "output_type": "stream",
       "stream": "stdout",
       "text": [
        "\n",
        "213\n",
        "LOST...learning new words (if any)."
       ]
      },
      {
       "output_type": "stream",
       "stream": "stdout",
       "text": [
        "\n",
        "214\n",
        "LOST...learning new words (if any)."
       ]
      },
      {
       "output_type": "stream",
       "stream": "stdout",
       "text": [
        "\n",
        "215\n",
        "LOST...learning new words (if any)."
       ]
      },
      {
       "output_type": "stream",
       "stream": "stdout",
       "text": [
        "\n",
        "216\n",
        "LOST...learning new words (if any)."
       ]
      },
      {
       "output_type": "stream",
       "stream": "stdout",
       "text": [
        "\n",
        "217\n",
        "LOST...learning new words (if any)."
       ]
      },
      {
       "output_type": "stream",
       "stream": "stdout",
       "text": [
        "\n",
        "218\n",
        "LOST...learning new words (if any)."
       ]
      },
      {
       "output_type": "stream",
       "stream": "stdout",
       "text": [
        "\n",
        "219\n",
        "LOST...learning new words (if any)."
       ]
      },
      {
       "output_type": "stream",
       "stream": "stdout",
       "text": [
        "\n",
        "220\n",
        "LOST...learning new words (if any)."
       ]
      },
      {
       "output_type": "stream",
       "stream": "stdout",
       "text": [
        "\n",
        "221\n",
        "LOST...learning new words (if any)."
       ]
      },
      {
       "output_type": "stream",
       "stream": "stdout",
       "text": [
        "\n",
        "222\n",
        "LOST...learning new words (if any)."
       ]
      },
      {
       "output_type": "stream",
       "stream": "stdout",
       "text": [
        "\n",
        "223\n",
        "LOST...learning new words (if any)."
       ]
      },
      {
       "output_type": "stream",
       "stream": "stdout",
       "text": [
        "\n",
        "224\n",
        "LOST...learning new words (if any)."
       ]
      },
      {
       "output_type": "stream",
       "stream": "stdout",
       "text": [
        "\n",
        "225\n",
        "LOST...learning new words (if any)."
       ]
      },
      {
       "output_type": "stream",
       "stream": "stdout",
       "text": [
        "\n",
        "226\n",
        "LOST...learning new words (if any)."
       ]
      },
      {
       "output_type": "stream",
       "stream": "stdout",
       "text": [
        "\n",
        "227\n",
        "SOLVED!"
       ]
      },
      {
       "output_type": "stream",
       "stream": "stdout",
       "text": [
        "\n",
        "228\n",
        "LOST...learning new words (if any)."
       ]
      },
      {
       "output_type": "stream",
       "stream": "stdout",
       "text": [
        "\n",
        "229\n",
        "LOST...learning new words (if any)."
       ]
      },
      {
       "output_type": "stream",
       "stream": "stdout",
       "text": [
        "\n",
        "230\n",
        "SOLVED!"
       ]
      },
      {
       "output_type": "stream",
       "stream": "stdout",
       "text": [
        "\n",
        "231\n",
        "LOST...learning new words (if any)."
       ]
      },
      {
       "output_type": "stream",
       "stream": "stdout",
       "text": [
        "\n",
        "232\n",
        "LOST...learning new words (if any)."
       ]
      },
      {
       "output_type": "stream",
       "stream": "stdout",
       "text": [
        "\n",
        "233\n",
        "SOLVED!"
       ]
      },
      {
       "output_type": "stream",
       "stream": "stdout",
       "text": [
        "\n",
        "234\n",
        "LOST...learning new words (if any)."
       ]
      },
      {
       "output_type": "stream",
       "stream": "stdout",
       "text": [
        "\n",
        "235\n",
        "LOST...learning new words (if any)."
       ]
      },
      {
       "output_type": "stream",
       "stream": "stdout",
       "text": [
        "\n",
        "236\n",
        "LOST...learning new words (if any)."
       ]
      },
      {
       "output_type": "stream",
       "stream": "stdout",
       "text": [
        "\n",
        "237\n",
        "LOST...learning new words (if any)."
       ]
      },
      {
       "output_type": "stream",
       "stream": "stdout",
       "text": [
        "\n",
        "238\n",
        "LOST...learning new words (if any)."
       ]
      },
      {
       "output_type": "stream",
       "stream": "stdout",
       "text": [
        "\n",
        "239\n",
        "LOST...learning new words (if any)."
       ]
      },
      {
       "output_type": "stream",
       "stream": "stdout",
       "text": [
        "\n",
        "240\n",
        "LOST...learning new words (if any)."
       ]
      },
      {
       "output_type": "stream",
       "stream": "stdout",
       "text": [
        "\n",
        "241\n",
        "LOST...learning new words (if any)."
       ]
      },
      {
       "output_type": "stream",
       "stream": "stdout",
       "text": [
        "\n",
        "242\n",
        "LOST...learning new words (if any)."
       ]
      },
      {
       "output_type": "stream",
       "stream": "stdout",
       "text": [
        "\n",
        "243\n",
        "LOST...learning new words (if any)."
       ]
      },
      {
       "output_type": "stream",
       "stream": "stdout",
       "text": [
        "\n",
        "244\n",
        "LOST...learning new words (if any)."
       ]
      },
      {
       "output_type": "stream",
       "stream": "stdout",
       "text": [
        "\n",
        "245\n",
        "LOST...learning new words (if any)."
       ]
      },
      {
       "output_type": "stream",
       "stream": "stdout",
       "text": [
        "\n",
        "246\n",
        "LOST...learning new words (if any)."
       ]
      },
      {
       "output_type": "stream",
       "stream": "stdout",
       "text": [
        "\n",
        "247\n",
        "LOST...learning new words (if any)."
       ]
      },
      {
       "output_type": "stream",
       "stream": "stdout",
       "text": [
        "\n",
        "248\n",
        "LOST...learning new words (if any)."
       ]
      },
      {
       "output_type": "stream",
       "stream": "stdout",
       "text": [
        "\n",
        "249\n",
        "LOST...learning new words (if any)."
       ]
      },
      {
       "output_type": "stream",
       "stream": "stdout",
       "text": [
        "\n",
        "250\n",
        "LOST...learning new words (if any)."
       ]
      },
      {
       "output_type": "stream",
       "stream": "stdout",
       "text": [
        "\n",
        "251\n",
        "LOST...learning new words (if any)."
       ]
      },
      {
       "output_type": "stream",
       "stream": "stdout",
       "text": [
        "\n",
        "252\n",
        "LOST...learning new words (if any)."
       ]
      },
      {
       "output_type": "stream",
       "stream": "stdout",
       "text": [
        "\n",
        "253\n",
        "LOST...learning new words (if any)."
       ]
      },
      {
       "output_type": "stream",
       "stream": "stdout",
       "text": [
        "\n",
        "254\n",
        "LOST...learning new words (if any)."
       ]
      },
      {
       "output_type": "stream",
       "stream": "stdout",
       "text": [
        "\n",
        "255\n",
        "LOST...learning new words (if any)."
       ]
      },
      {
       "output_type": "stream",
       "stream": "stdout",
       "text": [
        "\n",
        "256\n",
        "LOST...learning new words (if any)."
       ]
      },
      {
       "output_type": "stream",
       "stream": "stdout",
       "text": [
        "\n",
        "257\n",
        "LOST...learning new words (if any)."
       ]
      },
      {
       "output_type": "stream",
       "stream": "stdout",
       "text": [
        "\n",
        "258\n",
        "LOST...learning new words (if any)."
       ]
      },
      {
       "output_type": "stream",
       "stream": "stdout",
       "text": [
        "\n",
        "259\n",
        "LOST...learning new words (if any)."
       ]
      },
      {
       "output_type": "stream",
       "stream": "stdout",
       "text": [
        "\n",
        "260\n",
        "LOST...learning new words (if any)."
       ]
      },
      {
       "output_type": "stream",
       "stream": "stdout",
       "text": [
        "\n",
        "261\n",
        "LOST...learning new words (if any)."
       ]
      },
      {
       "output_type": "stream",
       "stream": "stdout",
       "text": [
        "\n",
        "262\n",
        "LOST...learning new words (if any)."
       ]
      },
      {
       "output_type": "stream",
       "stream": "stdout",
       "text": [
        "\n",
        "263\n",
        "LOST...learning new words (if any)."
       ]
      },
      {
       "output_type": "stream",
       "stream": "stdout",
       "text": [
        "\n",
        "264\n",
        "LOST...learning new words (if any)."
       ]
      },
      {
       "output_type": "stream",
       "stream": "stdout",
       "text": [
        "\n",
        "265\n",
        "LOST...learning new words (if any)."
       ]
      },
      {
       "output_type": "stream",
       "stream": "stdout",
       "text": [
        "\n",
        "266\n",
        "LOST...learning new words (if any)."
       ]
      },
      {
       "output_type": "stream",
       "stream": "stdout",
       "text": [
        "\n",
        "267\n",
        "SOLVED!"
       ]
      },
      {
       "output_type": "stream",
       "stream": "stdout",
       "text": [
        "\n",
        "268\n",
        "LOST...learning new words (if any)."
       ]
      },
      {
       "output_type": "stream",
       "stream": "stdout",
       "text": [
        "\n",
        "269\n",
        "LOST...learning new words (if any)."
       ]
      },
      {
       "output_type": "stream",
       "stream": "stdout",
       "text": [
        "\n",
        "270\n",
        "LOST...learning new words (if any)."
       ]
      },
      {
       "output_type": "stream",
       "stream": "stdout",
       "text": [
        "\n",
        "271\n",
        "LOST...learning new words (if any)."
       ]
      },
      {
       "output_type": "stream",
       "stream": "stdout",
       "text": [
        "\n",
        "272\n",
        "LOST...learning new words (if any)."
       ]
      },
      {
       "output_type": "stream",
       "stream": "stdout",
       "text": [
        "\n",
        "273\n",
        "LOST...learning new words (if any)."
       ]
      },
      {
       "output_type": "stream",
       "stream": "stdout",
       "text": [
        "\n",
        "274\n",
        "LOST...learning new words (if any)."
       ]
      },
      {
       "output_type": "stream",
       "stream": "stdout",
       "text": [
        "\n",
        "275\n",
        "LOST...learning new words (if any)."
       ]
      },
      {
       "output_type": "stream",
       "stream": "stdout",
       "text": [
        "\n",
        "276\n",
        "LOST...learning new words (if any)."
       ]
      },
      {
       "output_type": "stream",
       "stream": "stdout",
       "text": [
        "\n",
        "277\n",
        "LOST...learning new words (if any)."
       ]
      },
      {
       "output_type": "stream",
       "stream": "stdout",
       "text": [
        "\n",
        "278\n",
        "LOST...learning new words (if any)."
       ]
      },
      {
       "output_type": "stream",
       "stream": "stdout",
       "text": [
        "\n",
        "279\n",
        "LOST...learning new words (if any)."
       ]
      },
      {
       "output_type": "stream",
       "stream": "stdout",
       "text": [
        "\n",
        "280\n",
        "LOST...learning new words (if any)."
       ]
      },
      {
       "output_type": "stream",
       "stream": "stdout",
       "text": [
        "\n",
        "281\n",
        "LOST...learning new words (if any)."
       ]
      },
      {
       "output_type": "stream",
       "stream": "stdout",
       "text": [
        "\n",
        "282\n",
        "LOST...learning new words (if any)."
       ]
      },
      {
       "output_type": "stream",
       "stream": "stdout",
       "text": [
        "\n",
        "283\n",
        "LOST...learning new words (if any)."
       ]
      },
      {
       "output_type": "stream",
       "stream": "stdout",
       "text": [
        "\n",
        "284\n",
        "LOST...learning new words (if any)."
       ]
      },
      {
       "output_type": "stream",
       "stream": "stdout",
       "text": [
        "\n",
        "285\n",
        "LOST...learning new words (if any)."
       ]
      },
      {
       "output_type": "stream",
       "stream": "stdout",
       "text": [
        "\n",
        "286\n",
        "LOST...learning new words (if any)."
       ]
      },
      {
       "output_type": "stream",
       "stream": "stdout",
       "text": [
        "\n",
        "287\n",
        "LOST...learning new words (if any)."
       ]
      },
      {
       "output_type": "stream",
       "stream": "stdout",
       "text": [
        "\n",
        "288\n",
        "LOST...learning new words (if any)."
       ]
      },
      {
       "output_type": "stream",
       "stream": "stdout",
       "text": [
        "\n",
        "289\n",
        "LOST...learning new words (if any)."
       ]
      },
      {
       "output_type": "stream",
       "stream": "stdout",
       "text": [
        "\n",
        "290\n",
        "LOST...learning new words (if any)."
       ]
      },
      {
       "output_type": "stream",
       "stream": "stdout",
       "text": [
        "\n",
        "291\n",
        "LOST...learning new words (if any)."
       ]
      },
      {
       "output_type": "stream",
       "stream": "stdout",
       "text": [
        "\n",
        "292\n",
        "LOST...learning new words (if any)."
       ]
      },
      {
       "output_type": "stream",
       "stream": "stdout",
       "text": [
        "\n",
        "293\n",
        "LOST...learning new words (if any)."
       ]
      },
      {
       "output_type": "stream",
       "stream": "stdout",
       "text": [
        "\n",
        "294\n",
        "LOST...learning new words (if any)."
       ]
      },
      {
       "output_type": "stream",
       "stream": "stdout",
       "text": [
        "\n",
        "295\n",
        "LOST...learning new words (if any)."
       ]
      },
      {
       "output_type": "stream",
       "stream": "stdout",
       "text": [
        "\n",
        "296\n",
        "LOST...learning new words (if any)."
       ]
      },
      {
       "output_type": "stream",
       "stream": "stdout",
       "text": [
        "\n",
        "297\n",
        "LOST...learning new words (if any)."
       ]
      },
      {
       "output_type": "stream",
       "stream": "stdout",
       "text": [
        "\n",
        "298\n",
        "LOST...learning new words (if any)."
       ]
      },
      {
       "output_type": "stream",
       "stream": "stdout",
       "text": [
        "\n",
        "299\n",
        "LOST...learning new words (if any)."
       ]
      },
      {
       "output_type": "stream",
       "stream": "stdout",
       "text": [
        "\n",
        "300\n",
        "LOST...learning new words (if any)."
       ]
      },
      {
       "output_type": "stream",
       "stream": "stdout",
       "text": [
        "\n",
        "301\n",
        "LOST...learning new words (if any)."
       ]
      },
      {
       "output_type": "stream",
       "stream": "stdout",
       "text": [
        "\n",
        "302\n",
        "LOST...learning new words (if any)."
       ]
      },
      {
       "output_type": "stream",
       "stream": "stdout",
       "text": [
        "\n",
        "303\n",
        "LOST...learning new words (if any)."
       ]
      },
      {
       "output_type": "stream",
       "stream": "stdout",
       "text": [
        "\n",
        "304\n",
        "LOST...learning new words (if any)."
       ]
      },
      {
       "output_type": "stream",
       "stream": "stdout",
       "text": [
        "\n",
        "305\n",
        "LOST...learning new words (if any)."
       ]
      },
      {
       "output_type": "stream",
       "stream": "stdout",
       "text": [
        "\n",
        "306\n",
        "LOST...learning new words (if any)."
       ]
      },
      {
       "output_type": "stream",
       "stream": "stdout",
       "text": [
        "\n",
        "307\n",
        "LOST...learning new words (if any)."
       ]
      },
      {
       "output_type": "stream",
       "stream": "stdout",
       "text": [
        "\n",
        "308\n",
        "LOST...learning new words (if any)."
       ]
      },
      {
       "output_type": "stream",
       "stream": "stdout",
       "text": [
        "\n",
        "309\n",
        "LOST...learning new words (if any)."
       ]
      },
      {
       "output_type": "stream",
       "stream": "stdout",
       "text": [
        "\n",
        "310\n",
        "LOST...learning new words (if any)."
       ]
      },
      {
       "output_type": "stream",
       "stream": "stdout",
       "text": [
        "\n",
        "311\n",
        "LOST...learning new words (if any)."
       ]
      },
      {
       "output_type": "stream",
       "stream": "stdout",
       "text": [
        "\n",
        "312\n",
        "LOST...learning new words (if any)."
       ]
      },
      {
       "output_type": "stream",
       "stream": "stdout",
       "text": [
        "\n",
        "313\n",
        "LOST...learning new words (if any)."
       ]
      },
      {
       "output_type": "stream",
       "stream": "stdout",
       "text": [
        "\n",
        "314\n",
        "LOST...learning new words (if any)."
       ]
      },
      {
       "output_type": "stream",
       "stream": "stdout",
       "text": [
        "\n",
        "315\n",
        "SOLVED!"
       ]
      },
      {
       "output_type": "stream",
       "stream": "stdout",
       "text": [
        "\n",
        "316\n",
        "LOST...learning new words (if any)."
       ]
      },
      {
       "output_type": "stream",
       "stream": "stdout",
       "text": [
        "\n",
        "317\n",
        "LOST...learning new words (if any)."
       ]
      },
      {
       "output_type": "stream",
       "stream": "stdout",
       "text": [
        "\n",
        "318\n",
        "LOST...learning new words (if any)."
       ]
      },
      {
       "output_type": "stream",
       "stream": "stdout",
       "text": [
        "\n",
        "319\n",
        "LOST...learning new words (if any)."
       ]
      },
      {
       "output_type": "stream",
       "stream": "stdout",
       "text": [
        "\n",
        "320\n",
        "LOST...learning new words (if any)."
       ]
      },
      {
       "output_type": "stream",
       "stream": "stdout",
       "text": [
        "\n",
        "321\n",
        "LOST...learning new words (if any)."
       ]
      },
      {
       "output_type": "stream",
       "stream": "stdout",
       "text": [
        "\n",
        "322\n",
        "LOST...learning new words (if any)."
       ]
      },
      {
       "output_type": "stream",
       "stream": "stdout",
       "text": [
        "\n",
        "323\n",
        "LOST...learning new words (if any)."
       ]
      },
      {
       "output_type": "stream",
       "stream": "stdout",
       "text": [
        "\n",
        "324\n",
        "LOST...learning new words (if any)."
       ]
      },
      {
       "output_type": "stream",
       "stream": "stdout",
       "text": [
        "\n",
        "325\n",
        "LOST...learning new words (if any)."
       ]
      },
      {
       "output_type": "stream",
       "stream": "stdout",
       "text": [
        "\n",
        "326\n",
        "LOST...learning new words (if any)."
       ]
      },
      {
       "output_type": "stream",
       "stream": "stdout",
       "text": [
        "\n",
        "327\n",
        "LOST...learning new words (if any)."
       ]
      },
      {
       "output_type": "stream",
       "stream": "stdout",
       "text": [
        "\n",
        "328\n",
        "LOST...learning new words (if any)."
       ]
      },
      {
       "output_type": "stream",
       "stream": "stdout",
       "text": [
        "\n",
        "329\n",
        "LOST...learning new words (if any)."
       ]
      },
      {
       "output_type": "stream",
       "stream": "stdout",
       "text": [
        "\n",
        "330\n",
        "LOST...learning new words (if any)."
       ]
      },
      {
       "output_type": "stream",
       "stream": "stdout",
       "text": [
        "\n",
        "331\n",
        "LOST...learning new words (if any)."
       ]
      },
      {
       "output_type": "stream",
       "stream": "stdout",
       "text": [
        "\n",
        "332\n",
        "LOST...learning new words (if any)."
       ]
      },
      {
       "output_type": "stream",
       "stream": "stdout",
       "text": [
        "\n",
        "333\n",
        "LOST...learning new words (if any)."
       ]
      },
      {
       "output_type": "stream",
       "stream": "stdout",
       "text": [
        "\n",
        "334\n",
        "LOST...learning new words (if any)."
       ]
      },
      {
       "output_type": "stream",
       "stream": "stdout",
       "text": [
        "\n",
        "335\n",
        "LOST...learning new words (if any)."
       ]
      },
      {
       "output_type": "stream",
       "stream": "stdout",
       "text": [
        "\n",
        "336\n",
        "LOST...learning new words (if any)."
       ]
      },
      {
       "output_type": "stream",
       "stream": "stdout",
       "text": [
        "\n",
        "337\n",
        "LOST...learning new words (if any)."
       ]
      },
      {
       "output_type": "stream",
       "stream": "stdout",
       "text": [
        "\n",
        "338\n",
        "LOST...learning new words (if any)."
       ]
      },
      {
       "output_type": "stream",
       "stream": "stdout",
       "text": [
        "\n",
        "339\n",
        "LOST...learning new words (if any)."
       ]
      },
      {
       "output_type": "stream",
       "stream": "stdout",
       "text": [
        "\n",
        "340\n",
        "LOST...learning new words (if any)."
       ]
      },
      {
       "output_type": "stream",
       "stream": "stdout",
       "text": [
        "\n",
        "341\n",
        "LOST...learning new words (if any)."
       ]
      },
      {
       "output_type": "stream",
       "stream": "stdout",
       "text": [
        "\n",
        "342\n",
        "LOST...learning new words (if any)."
       ]
      },
      {
       "output_type": "stream",
       "stream": "stdout",
       "text": [
        "\n",
        "343\n",
        "LOST...learning new words (if any)."
       ]
      },
      {
       "output_type": "stream",
       "stream": "stdout",
       "text": [
        "\n",
        "344\n",
        "LOST...learning new words (if any)."
       ]
      },
      {
       "output_type": "stream",
       "stream": "stdout",
       "text": [
        "\n",
        "345\n",
        "LOST...learning new words (if any)."
       ]
      },
      {
       "output_type": "stream",
       "stream": "stdout",
       "text": [
        "\n",
        "346\n",
        "LOST...learning new words (if any)."
       ]
      },
      {
       "output_type": "stream",
       "stream": "stdout",
       "text": [
        "\n",
        "347\n",
        "LOST...learning new words (if any)."
       ]
      },
      {
       "output_type": "stream",
       "stream": "stdout",
       "text": [
        "\n",
        "348\n",
        "LOST...learning new words (if any)."
       ]
      },
      {
       "output_type": "stream",
       "stream": "stdout",
       "text": [
        "\n",
        "349\n",
        "LOST...learning new words (if any)."
       ]
      },
      {
       "output_type": "stream",
       "stream": "stdout",
       "text": [
        "\n",
        "350\n",
        "LOST...learning new words (if any)."
       ]
      },
      {
       "output_type": "stream",
       "stream": "stdout",
       "text": [
        "\n",
        "351\n",
        "LOST...learning new words (if any)."
       ]
      },
      {
       "output_type": "stream",
       "stream": "stdout",
       "text": [
        "\n",
        "352\n",
        "LOST...learning new words (if any)."
       ]
      },
      {
       "output_type": "stream",
       "stream": "stdout",
       "text": [
        "\n",
        "353\n",
        "LOST...learning new words (if any)."
       ]
      },
      {
       "output_type": "stream",
       "stream": "stdout",
       "text": [
        "\n",
        "354\n",
        "LOST...learning new words (if any)."
       ]
      },
      {
       "output_type": "stream",
       "stream": "stdout",
       "text": [
        "\n",
        "355\n",
        "LOST...learning new words (if any)."
       ]
      },
      {
       "output_type": "stream",
       "stream": "stdout",
       "text": [
        "\n",
        "356\n",
        "LOST...learning new words (if any)."
       ]
      },
      {
       "output_type": "stream",
       "stream": "stdout",
       "text": [
        "\n",
        "357\n",
        "LOST...learning new words (if any)."
       ]
      },
      {
       "output_type": "stream",
       "stream": "stdout",
       "text": [
        "\n",
        "358\n",
        "LOST...learning new words (if any)."
       ]
      },
      {
       "output_type": "stream",
       "stream": "stdout",
       "text": [
        "\n",
        "359\n",
        "LOST...learning new words (if any)."
       ]
      },
      {
       "output_type": "stream",
       "stream": "stdout",
       "text": [
        "\n",
        "360\n",
        "LOST...learning new words (if any)."
       ]
      },
      {
       "output_type": "stream",
       "stream": "stdout",
       "text": [
        "\n",
        "361\n",
        "LOST...learning new words (if any)."
       ]
      },
      {
       "output_type": "stream",
       "stream": "stdout",
       "text": [
        "\n",
        "362\n",
        "LOST...learning new words (if any)."
       ]
      },
      {
       "output_type": "stream",
       "stream": "stdout",
       "text": [
        "\n",
        "363\n",
        "LOST...learning new words (if any)."
       ]
      },
      {
       "output_type": "stream",
       "stream": "stdout",
       "text": [
        "\n",
        "364\n",
        "SOLVED!"
       ]
      },
      {
       "output_type": "stream",
       "stream": "stdout",
       "text": [
        "\n",
        "365\n",
        "LOST...learning new words (if any)."
       ]
      },
      {
       "output_type": "stream",
       "stream": "stdout",
       "text": [
        "\n",
        "366\n",
        "LOST...learning new words (if any)."
       ]
      },
      {
       "output_type": "stream",
       "stream": "stdout",
       "text": [
        "\n",
        "367\n",
        "LOST...learning new words (if any)."
       ]
      },
      {
       "output_type": "stream",
       "stream": "stdout",
       "text": [
        "\n",
        "368\n",
        "LOST...learning new words (if any)."
       ]
      },
      {
       "output_type": "stream",
       "stream": "stdout",
       "text": [
        "\n",
        "369\n",
        "SOLVED!"
       ]
      },
      {
       "output_type": "stream",
       "stream": "stdout",
       "text": [
        "\n",
        "370\n",
        "LOST...learning new words (if any)."
       ]
      },
      {
       "output_type": "stream",
       "stream": "stdout",
       "text": [
        "\n",
        "371\n",
        "LOST...learning new words (if any)."
       ]
      },
      {
       "output_type": "stream",
       "stream": "stdout",
       "text": [
        "\n",
        "372\n",
        "LOST...learning new words (if any)."
       ]
      },
      {
       "output_type": "stream",
       "stream": "stdout",
       "text": [
        "\n",
        "373\n",
        "LOST...learning new words (if any)."
       ]
      },
      {
       "output_type": "stream",
       "stream": "stdout",
       "text": [
        "\n",
        "374\n",
        "LOST...learning new words (if any)."
       ]
      },
      {
       "output_type": "stream",
       "stream": "stdout",
       "text": [
        "\n",
        "375\n",
        "LOST...learning new words (if any)."
       ]
      },
      {
       "output_type": "stream",
       "stream": "stdout",
       "text": [
        "\n",
        "376\n",
        "LOST...learning new words (if any)."
       ]
      },
      {
       "output_type": "stream",
       "stream": "stdout",
       "text": [
        "\n",
        "377\n",
        "SOLVED!"
       ]
      },
      {
       "output_type": "stream",
       "stream": "stdout",
       "text": [
        "\n",
        "378\n",
        "LOST...learning new words (if any)."
       ]
      },
      {
       "output_type": "stream",
       "stream": "stdout",
       "text": [
        "\n",
        "379\n",
        "LOST...learning new words (if any)."
       ]
      },
      {
       "output_type": "stream",
       "stream": "stdout",
       "text": [
        "\n",
        "380\n",
        "LOST...learning new words (if any)."
       ]
      },
      {
       "output_type": "stream",
       "stream": "stdout",
       "text": [
        "\n",
        "381\n",
        "LOST...learning new words (if any)."
       ]
      },
      {
       "output_type": "stream",
       "stream": "stdout",
       "text": [
        "\n",
        "382\n",
        "LOST...learning new words (if any)."
       ]
      },
      {
       "output_type": "stream",
       "stream": "stdout",
       "text": [
        "\n",
        "383\n",
        "LOST...learning new words (if any)."
       ]
      },
      {
       "output_type": "stream",
       "stream": "stdout",
       "text": [
        "\n",
        "384\n",
        "LOST...learning new words (if any)."
       ]
      },
      {
       "output_type": "stream",
       "stream": "stdout",
       "text": [
        "\n",
        "385\n",
        "LOST...learning new words (if any)."
       ]
      },
      {
       "output_type": "stream",
       "stream": "stdout",
       "text": [
        "\n",
        "386\n",
        "LOST...learning new words (if any)."
       ]
      },
      {
       "output_type": "stream",
       "stream": "stdout",
       "text": [
        "\n",
        "387\n",
        "LOST...learning new words (if any)."
       ]
      },
      {
       "output_type": "stream",
       "stream": "stdout",
       "text": [
        "\n",
        "388\n",
        "LOST...learning new words (if any)."
       ]
      },
      {
       "output_type": "stream",
       "stream": "stdout",
       "text": [
        "\n",
        "389\n",
        "LOST...learning new words (if any)."
       ]
      },
      {
       "output_type": "stream",
       "stream": "stdout",
       "text": [
        "\n",
        "390\n",
        "LOST...learning new words (if any)."
       ]
      },
      {
       "output_type": "stream",
       "stream": "stdout",
       "text": [
        "\n",
        "391\n",
        "LOST...learning new words (if any)."
       ]
      },
      {
       "output_type": "stream",
       "stream": "stdout",
       "text": [
        "\n",
        "392\n",
        "LOST...learning new words (if any)."
       ]
      },
      {
       "output_type": "stream",
       "stream": "stdout",
       "text": [
        "\n",
        "393\n",
        "LOST...learning new words (if any)."
       ]
      },
      {
       "output_type": "stream",
       "stream": "stdout",
       "text": [
        "\n",
        "394\n",
        "LOST...learning new words (if any)."
       ]
      },
      {
       "output_type": "stream",
       "stream": "stdout",
       "text": [
        "\n",
        "395\n",
        "LOST...learning new words (if any)."
       ]
      },
      {
       "output_type": "stream",
       "stream": "stdout",
       "text": [
        "\n",
        "396\n",
        "LOST...learning new words (if any)."
       ]
      },
      {
       "output_type": "stream",
       "stream": "stdout",
       "text": [
        "\n",
        "397\n",
        "LOST...learning new words (if any)."
       ]
      },
      {
       "output_type": "stream",
       "stream": "stdout",
       "text": [
        "\n",
        "398\n",
        "LOST...learning new words (if any)."
       ]
      },
      {
       "output_type": "stream",
       "stream": "stdout",
       "text": [
        "\n",
        "399\n",
        "LOST...learning new words (if any)."
       ]
      },
      {
       "output_type": "stream",
       "stream": "stdout",
       "text": [
        "\n",
        "400\n",
        "LOST...learning new words (if any)."
       ]
      },
      {
       "output_type": "stream",
       "stream": "stdout",
       "text": [
        "\n",
        "401\n",
        "LOST...learning new words (if any)."
       ]
      },
      {
       "output_type": "stream",
       "stream": "stdout",
       "text": [
        "\n",
        "402\n",
        "LOST...learning new words (if any)."
       ]
      },
      {
       "output_type": "stream",
       "stream": "stdout",
       "text": [
        "\n",
        "403\n",
        "LOST...learning new words (if any)."
       ]
      },
      {
       "output_type": "stream",
       "stream": "stdout",
       "text": [
        "\n",
        "404\n",
        "LOST...learning new words (if any)."
       ]
      },
      {
       "output_type": "stream",
       "stream": "stdout",
       "text": [
        "\n",
        "405\n",
        "LOST...learning new words (if any)."
       ]
      },
      {
       "output_type": "stream",
       "stream": "stdout",
       "text": [
        "\n",
        "406\n",
        "LOST...learning new words (if any)."
       ]
      },
      {
       "output_type": "stream",
       "stream": "stdout",
       "text": [
        "\n",
        "407\n",
        "LOST...learning new words (if any)."
       ]
      },
      {
       "output_type": "stream",
       "stream": "stdout",
       "text": [
        "\n",
        "408\n",
        "LOST...learning new words (if any)."
       ]
      },
      {
       "output_type": "stream",
       "stream": "stdout",
       "text": [
        "\n",
        "409\n",
        "LOST...learning new words (if any)."
       ]
      },
      {
       "output_type": "stream",
       "stream": "stdout",
       "text": [
        "\n",
        "410\n",
        "LOST...learning new words (if any)."
       ]
      },
      {
       "output_type": "stream",
       "stream": "stdout",
       "text": [
        "\n",
        "411\n",
        "LOST...learning new words (if any)."
       ]
      },
      {
       "output_type": "stream",
       "stream": "stdout",
       "text": [
        "\n",
        "412\n",
        "LOST...learning new words (if any)."
       ]
      },
      {
       "output_type": "stream",
       "stream": "stdout",
       "text": [
        "\n",
        "413\n",
        "LOST...learning new words (if any)."
       ]
      },
      {
       "output_type": "stream",
       "stream": "stdout",
       "text": [
        "\n",
        "414\n",
        "LOST...learning new words (if any)."
       ]
      },
      {
       "output_type": "stream",
       "stream": "stdout",
       "text": [
        "\n",
        "415\n",
        "LOST...learning new words (if any)."
       ]
      },
      {
       "output_type": "stream",
       "stream": "stdout",
       "text": [
        "\n",
        "416\n",
        "LOST...learning new words (if any)."
       ]
      },
      {
       "output_type": "stream",
       "stream": "stdout",
       "text": [
        "\n",
        "417\n",
        "LOST...learning new words (if any)."
       ]
      },
      {
       "output_type": "stream",
       "stream": "stdout",
       "text": [
        "\n",
        "418\n",
        "LOST...learning new words (if any)."
       ]
      },
      {
       "output_type": "stream",
       "stream": "stdout",
       "text": [
        "\n",
        "419\n",
        "LOST...learning new words (if any)."
       ]
      },
      {
       "output_type": "stream",
       "stream": "stdout",
       "text": [
        "\n",
        "420\n",
        "LOST...learning new words (if any)."
       ]
      },
      {
       "output_type": "stream",
       "stream": "stdout",
       "text": [
        "\n",
        "421\n",
        "LOST...learning new words (if any)."
       ]
      },
      {
       "output_type": "stream",
       "stream": "stdout",
       "text": [
        "\n",
        "422\n",
        "LOST...learning new words (if any)."
       ]
      },
      {
       "output_type": "stream",
       "stream": "stdout",
       "text": [
        "\n",
        "423\n",
        "LOST...learning new words (if any)."
       ]
      },
      {
       "output_type": "stream",
       "stream": "stdout",
       "text": [
        "\n",
        "424\n",
        "LOST...learning new words (if any)."
       ]
      },
      {
       "output_type": "stream",
       "stream": "stdout",
       "text": [
        "\n",
        "425\n",
        "LOST...learning new words (if any)."
       ]
      },
      {
       "output_type": "stream",
       "stream": "stdout",
       "text": [
        "\n",
        "426\n",
        "LOST...learning new words (if any)."
       ]
      },
      {
       "output_type": "stream",
       "stream": "stdout",
       "text": [
        "\n",
        "427\n",
        "LOST...learning new words (if any)."
       ]
      },
      {
       "output_type": "stream",
       "stream": "stdout",
       "text": [
        "\n",
        "428\n",
        "SOLVED!"
       ]
      },
      {
       "output_type": "stream",
       "stream": "stdout",
       "text": [
        "\n",
        "429\n",
        "LOST...learning new words (if any)."
       ]
      },
      {
       "output_type": "stream",
       "stream": "stdout",
       "text": [
        "\n",
        "430\n",
        "LOST...learning new words (if any)."
       ]
      },
      {
       "output_type": "stream",
       "stream": "stdout",
       "text": [
        "\n",
        "431\n",
        "LOST...learning new words (if any)."
       ]
      },
      {
       "output_type": "stream",
       "stream": "stdout",
       "text": [
        "\n",
        "432\n",
        "LOST...learning new words (if any)."
       ]
      },
      {
       "output_type": "stream",
       "stream": "stdout",
       "text": [
        "\n",
        "433\n",
        "LOST...learning new words (if any)."
       ]
      },
      {
       "output_type": "stream",
       "stream": "stdout",
       "text": [
        "\n",
        "434\n",
        "LOST...learning new words (if any)."
       ]
      },
      {
       "output_type": "stream",
       "stream": "stdout",
       "text": [
        "\n",
        "435\n",
        "LOST...learning new words (if any)."
       ]
      },
      {
       "output_type": "stream",
       "stream": "stdout",
       "text": [
        "\n",
        "436\n",
        "LOST...learning new words (if any)."
       ]
      },
      {
       "output_type": "stream",
       "stream": "stdout",
       "text": [
        "\n",
        "437\n",
        "LOST...learning new words (if any)."
       ]
      },
      {
       "output_type": "stream",
       "stream": "stdout",
       "text": [
        "\n",
        "438\n",
        "LOST...learning new words (if any)."
       ]
      },
      {
       "output_type": "stream",
       "stream": "stdout",
       "text": [
        "\n",
        "439\n",
        "LOST...learning new words (if any)."
       ]
      },
      {
       "output_type": "stream",
       "stream": "stdout",
       "text": [
        "\n",
        "440\n",
        "LOST...learning new words (if any)."
       ]
      },
      {
       "output_type": "stream",
       "stream": "stdout",
       "text": [
        "\n",
        "441\n",
        "LOST...learning new words (if any)."
       ]
      },
      {
       "output_type": "stream",
       "stream": "stdout",
       "text": [
        "\n",
        "442\n",
        "LOST...learning new words (if any)."
       ]
      },
      {
       "output_type": "stream",
       "stream": "stdout",
       "text": [
        "\n",
        "443\n",
        "LOST...learning new words (if any)."
       ]
      },
      {
       "output_type": "stream",
       "stream": "stdout",
       "text": [
        "\n",
        "444\n",
        "SOLVED!"
       ]
      },
      {
       "output_type": "stream",
       "stream": "stdout",
       "text": [
        "\n"
       ]
      }
     ],
     "prompt_number": 82
    },
    {
     "cell_type": "code",
     "collapsed": false,
     "input": [
      "float(nWins)/float(nLoss)"
     ],
     "language": "python",
     "metadata": {},
     "outputs": [
      {
       "metadata": {},
       "output_type": "pyout",
       "prompt_number": 84,
       "text": [
        "0.054502369668246446"
       ]
      }
     ],
     "prompt_number": 84
    },
    {
     "cell_type": "markdown",
     "metadata": {},
     "source": [
      "**This is a very bad score that could be improved upon in many ways. I could spend a lot of time on this fun and enlightening excercise to study for the final.**"
     ]
    },
    {
     "cell_type": "markdown",
     "metadata": {},
     "source": [
      "Note: While building AI, take precautions of the boundary conditions, including case sensitivity of letters, occurrences of punctuation marks in phrases etc. A good practice is to use try catch exceptions to ensure that the progrm does not get stuck at one of the boundary conditions and continues to process rest of the data, while you can try resolving the exception.\n",
      "\n",
      "Optionally, you can further improve your AI by including some form of learning like, writing words of the already played games into your dictionary so that such words get higher weightage in subsequent games. \n",
      "\n",
      "Keep the code modular and generic, so that the game can be played with a diferent list of phrases as well. \n",
      "Finally, Calculate the percentage success for all the entries for the files phraselist1.txt\n"
     ]
    },
    {
     "cell_type": "code",
     "collapsed": false,
     "input": [],
     "language": "python",
     "metadata": {},
     "outputs": []
    }
   ],
   "metadata": {}
  }
 ]
}