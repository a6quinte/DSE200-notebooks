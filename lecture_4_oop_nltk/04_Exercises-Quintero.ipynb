{
 "metadata": {
  "name": "",
  "signature": "sha256:b54db8fd7d75da17b5411f751d6083ef99e34c537bd8e4ee30b82300f5e7a904"
 },
 "nbformat": 3,
 "nbformat_minor": 0,
 "worksheets": [
  {
   "cells": [
    {
     "cell_type": "heading",
     "level": 1,
     "metadata": {},
     "source": [
      "Lecture4 Exercises"
     ]
    },
    {
     "cell_type": "markdown",
     "metadata": {},
     "source": [
      "##Functional Programming\n",
      "\n",
      "Use the [map](https://docs.python.org/2/library/functions.html#map) and [filter](https://docs.python.org/2/library/functions.html#filter) functions to convert the list `l = [0,1,2,3,4,5,6,7,8,9,10]` into a list of the squares of the even numbers in `l`.\n",
      "\n",
      "Hints:\n",
      "\n",
      "1. Use map() to apply a function to each element in the list\n",
      "2. Use filter() to filter elements of a list\n",
      "3. Use lambda to define anonymous functions\n",
      "4. *Do not* use list comprehensions"
     ]
    },
    {
     "cell_type": "code",
     "collapsed": false,
     "input": [
      "l = [0,1,2,3,4,5,6,7,8,9,10]\n",
      "\n",
      "# use filter and lambda to make new l with only even numbers\n",
      "even_l = filter( lambda yy:yy%2==0, l)\n",
      "\n",
      "# use map and filter to square\n",
      "L = map( lambda xx:xx**2, even_l)\n",
      "L"
     ],
     "language": "python",
     "metadata": {},
     "outputs": [
      {
       "metadata": {},
       "output_type": "pyout",
       "prompt_number": 1,
       "text": [
        "[0, 4, 16, 36, 64, 100]"
       ]
      }
     ],
     "prompt_number": 1
    },
    {
     "cell_type": "heading",
     "level": 3,
     "metadata": {},
     "source": [
      "Object Oriented Programming"
     ]
    },
    {
     "cell_type": "markdown",
     "metadata": {},
     "source": [
      "Implement a Python iterator which iterates over string characters (ASCII only) returning their ASCII code\n",
      "\n",
      "1. Define a new iterator class which contains two methods:\n",
      "    -init \u2013 a constructor taking the ASCII string as a argument,\n",
      "    -next \u2013 returns the ASCII code of the next character or raises a StopIteration exception if the string end was encountered.\n",
      "\n",
      "2. Define a new iterable class which wraps around a string and contains iter method which returns the iterator instance.\n",
      "3. Test your code using explicit calls of next method (see example in the lecture) and for loop."
     ]
    },
    {
     "cell_type": "code",
     "collapsed": false,
     "input": [
      "class StringIterator:\n",
      "    def __init__(self, string):\n",
      "        self.string = string\n",
      "    def __iter__(self):\n",
      "        return self\n",
      "    def next(self):\n",
      "        try:\n",
      "            asciiChar = ord(self.string[0])\n",
      "            self.string = self.string[1:]\n",
      "            return asciiChar\n",
      "        except IndexError:\n",
      "            raise StopIteration() \n",
      "        \n",
      "        \n",
      "class StringIterable:\n",
      "    def __init__(self,string):\n",
      "        self.list = list(string)\n",
      "    def __iter__(self):\n",
      "        return iter(self.list)"
     ],
     "language": "python",
     "metadata": {},
     "outputs": [],
     "prompt_number": 2
    },
    {
     "cell_type": "code",
     "collapsed": false,
     "input": [
      "for ii in StringIterator('blah'):\n",
      "    print ii\n",
      "\n",
      "jj = StringIterator('foobar')\n",
      "jj.next()"
     ],
     "language": "python",
     "metadata": {},
     "outputs": [
      {
       "output_type": "stream",
       "stream": "stdout",
       "text": [
        "98\n",
        "108\n",
        "97\n",
        "104\n"
       ]
      },
      {
       "metadata": {},
       "output_type": "pyout",
       "prompt_number": 3,
       "text": [
        "102"
       ]
      }
     ],
     "prompt_number": 3
    },
    {
     "cell_type": "code",
     "collapsed": false,
     "input": [
      "kk = StringIterable('blah')\n",
      "for ii in kk:\n",
      "    print ii"
     ],
     "language": "python",
     "metadata": {},
     "outputs": [
      {
       "output_type": "stream",
       "stream": "stdout",
       "text": [
        "b\n",
        "l\n",
        "a\n",
        "h\n"
       ]
      }
     ],
     "prompt_number": 4
    },
    {
     "cell_type": "markdown",
     "metadata": {},
     "source": [
      "##Fibonacci Sequence\n",
      "\n",
      "write a class Fibonacci whose constructor takes two numbers; the class uses these two numbers as the first two numbers in the sequence. \n",
      "\n",
      "1. The class should have a method calculate(n) that returns the n-th number in the sequence.\n",
      "2. Add a method next(). The first call to next() returns the first number in the sequence, the second call returns the second number, and so on. You'll need instance variables to save state between calls. \n",
      "3. Finally, add a method writeToFile(n, filename), that writes the first n numbers in the sequence to the file named filename, one number per line.\n",
      "\n",
      "**HINT:** you should store previously computed fibonachi numbers instead of recomputing every one as they are needed"
     ]
    },
    {
     "cell_type": "code",
     "collapsed": false,
     "input": [
      "class Fibonacci:\n",
      "    def __init__(self, a=0, b=1):\n",
      "        self.seq = [a,b]                  # instance varible: stored sequence list\n",
      "        self.pos = -1\n",
      "\n",
      "    def next(self):\n",
      "        self.pos += 1\n",
      "        if len(self.seq) > (self.pos+1):\n",
      "            next_fib = sum(self.seq[-2:])\n",
      "            self.seq.append( next_fib )   # adding next fib number to list\n",
      "        return self.seq[self.pos]\n",
      "\n",
      "    def calculate(self, n):\n",
      "        while len(self.seq)-1 < n:        # if not long enough, append to seq until nth number found\n",
      "            app_fib = sum(self.seq[-2:])\n",
      "            self.seq.append( app_fib )\n",
      "        return self.seq[n]\n",
      "            \n",
      "    def writeToFile(self, nn, filename):\n",
      "        tmp = self.calculate(nn)\n",
      "        with open(filename, 'w') as outFile:\n",
      "            for ii in range(nn):\n",
      "                outFile.write( str(self.seq[ii])+'\\n' )    "
     ],
     "language": "python",
     "metadata": {},
     "outputs": [],
     "prompt_number": 5
    },
    {
     "cell_type": "code",
     "collapsed": false,
     "input": [
      "#Testing code, should all equal print true\n",
      "fib = Fibonacci()\n",
      "\n",
      "print fib.calculate(0) == 0\n",
      "print fib.calculate(1) == 1\n",
      "print fib.calculate(2) == 1\n",
      "print fib.calculate(3) == 2\n",
      "print fib.calculate(20) == 6765 \n",
      "print fib.next() == fib.calculate(0)\n",
      "print fib.next() == fib.calculate(1)\n",
      "print fib.next() == fib.calculate(2)\n",
      "fib.writeToFile(30, \"fib.out\")\n",
      "print \"\\nPrinting out 'fib.out' contents:\\n\"\n",
      "!cat fib.out"
     ],
     "language": "python",
     "metadata": {},
     "outputs": [
      {
       "output_type": "stream",
       "stream": "stdout",
       "text": [
        "True\n",
        "True\n",
        "True\n",
        "True\n",
        "True\n",
        "True\n",
        "True\n",
        "True\n",
        "\n",
        "Printing out 'fib.out' contents:\n",
        "\n",
        "0\r\n",
        "1\r\n",
        "1\r\n",
        "2\r\n",
        "3\r\n",
        "5\r\n",
        "8\r\n",
        "13\r\n",
        "21\r\n",
        "34\r\n",
        "55\r\n",
        "89\r\n",
        "144\r\n",
        "233\r\n",
        "377\r\n",
        "610\r\n",
        "987\r\n",
        "1597\r\n",
        "2584\r\n",
        "4181\r\n",
        "6765\r\n",
        "10946\r\n",
        "17711\r\n",
        "28657\r\n",
        "46368\r\n",
        "75025\r\n",
        "121393\r\n",
        "196418\r\n",
        "317811\r\n",
        "514229\r\n"
       ]
      }
     ],
     "prompt_number": 6
    },
    {
     "cell_type": "markdown",
     "metadata": {},
     "source": [
      "***Paramter Passing***\n",
      "\n",
      "Write a function solve(h,l) which solves the folowing classic puzzle: \n",
      "\n",
      "We count h heads and l legs among the chickens and rabbits in a farm. How many rabbits and how many chickens do we have? where h and l are the parameters passed to the function solve"
     ]
    },
    {
     "cell_type": "code",
     "collapsed": false,
     "input": [
      "import numpy as np\n",
      "def solve(h,l):\n",
      "    ''' \n",
      "    Solves the chickens and rabbits problem.  \n",
      "    h - number of heads\n",
      "    l - number of legs\n",
      "    Returns:\n",
      "        [ nR, nC]\n",
      "        where nR  = number of rabbits\n",
      "        and    nC = number of chickens\n",
      "    '''\n",
      "    # solving the matrix eq'n: Ax=b for x\n",
      "    A = np.asarray( [ [1,1], [4,2] ] ) # row 1: Nheads, row 2: Nlegs \n",
      "    x = np.asarray( [h,l] )\n",
      "    return np.linalg.tensorsolve(A,x)"
     ],
     "language": "python",
     "metadata": {},
     "outputs": [],
     "prompt_number": 7
    },
    {
     "cell_type": "code",
     "collapsed": false,
     "input": [
      "numheads=35\n",
      "numlegs=94\n",
      "solutions=solve(numheads,numlegs)\n",
      "print solutions"
     ],
     "language": "python",
     "metadata": {},
     "outputs": [
      {
       "output_type": "stream",
       "stream": "stdout",
       "text": [
        "[ 12.  23.]\n"
       ]
      }
     ],
     "prompt_number": 8
    },
    {
     "cell_type": "heading",
     "level": 3,
     "metadata": {},
     "source": [
      "Hangman AI - OOP + NLTK Implementation"
     ]
    },
    {
     "cell_type": "markdown",
     "metadata": {},
     "source": [
      "The goal of this excercise is to write a program that can play the hangman game intelligently. If you are not familiar with the hangman game, see http://en.wikipedia.org/wiki/Hangman_(game)\n",
      "\n",
      "What you are given - A txt file phraseList which has a list of phrases with one phrase/row per game to play with. Each line in the file is of the form. However, unlike conventional hangman, here we shall use phrases instead of single words to play the game and at the start its all underscores.\n",
      "\n",
      "id:1 game_phrase: Mary had a little lamb\n",
      "\n",
      "Write a program that wins the highest proportion of games.  "
     ]
    },
    {
     "cell_type": "markdown",
     "metadata": {},
     "source": [
      "What you need to do\n",
      "\n",
      "a) Create an object - game which has the following attributes\n",
      "game id, game state, guesses_left\n",
      "\n",
      "The class should also have a method which returns the above details in a string."
     ]
    },
    {
     "cell_type": "code",
     "collapsed": false,
     "input": [
      "# game status object.\n",
      "class game:\n",
      "    def __init__(self, game_id, state, wrongsLeft):\n",
      "        self.id    = game_id\n",
      "        self.state = state\n",
      "        self.wrongsLeft = wrongsLeft\n",
      "    def toString(self):\n",
      "        return 'ID:'+str(self.id)+'  State:'+str(self.state)+'  Guesses_left:'+str(self.wrongsLeft)"
     ],
     "language": "python",
     "metadata": {},
     "outputs": [],
     "prompt_number": 425
    },
    {
     "cell_type": "markdown",
     "metadata": {},
     "source": [
      "b) Create an object - hangman_bot which acts as the game_master providing you with randomly choosen blank phrases to play hangman with. The object should have functions to do the following\n",
      "    \n",
      "    1. Read an input file having list of phrases\n",
      "    \n",
      "    2. Function to start the game which returns a randomly chosen object game. The returned object should have the following details - id, initial state of the phrase as all underscores, remaining_guesses left. For example, for the case id:1 phrase: Mary had a little lamb, the output will be \n",
      "    \n",
      "    id:1 state: _ _ _ _   _ _ _   _ _ _ _ _ _   _ _ _ _  remaining_guesses: 3\n",
      "    \n",
      "    3. Update function which takes as input a guessLetter from you, and returns the updated status of the game. If the guessletter is there in the phrase the coresponding underscores will be replaced by the letter, and if the guessLetter is not there return failure message. Whenever the guess is wrong, this method should check if the number of failed attempts limit has been reached, and if so, end the game. \n",
      "    \n"
     ]
    },
    {
     "cell_type": "code",
     "collapsed": false,
     "input": [
      "import random, string, re\n",
      "\n",
      "class hangman_bot:\n",
      "    \n",
      "    def __init__(self):\n",
      "        pass\n",
      "    \n",
      "    # get,random phrase, convert it to lower case and strip out all nums and punctuation\n",
      "    def getPhrase(self, filename='phraselist1.txt'):\n",
      "        with open( filename, 'r' ) as ff:\n",
      "            lines = ff.readlines()\n",
      "        phrase = lines[random.randint(0,len(lines)-1)].lower()\n",
      "        phrase = phrase.translate(string.maketrans('',''), string.punctuation)\n",
      "        phrase = re.sub( '\\d', '', phrase)            # remove numbers\n",
      "        phrase = re.sub(r'[^\\x00-\\x7F]+','', phrase)  # remove utf-8 characters\n",
      "        phrase = ' '.join(phrase.split())\n",
      "        return phrase\n",
      "        \n",
      "    def startGame(self):\n",
      "        self.thisPhrase = self.getPhrase()\n",
      "        self.thisState = re.sub( '[a-z]','_', self.thisPhrase)\n",
      "        print self.thisPhrase\n",
      "        self.idnum = random.randint(5000,9999)\n",
      "        self.wrongsLeft = 3        \n",
      "        self.thisGame = game(self.idnum, self.thisState, self.wrongsLeft)\n",
      "        return self.thisGame\n",
      "        \n",
      "    def updateGuess(self, letter):\n",
      "        \n",
      "        indx = [match.start() for match in re.finditer(letter, self.thisPhrase)]\n",
      "\n",
      "        # no letter found, update wrongsLeft, check if Game Over\n",
      "        if len(indx) == 0:   \n",
      "            print \"Sorry, '%s' not found.\" % letter\n",
      "            self.wrongsLeft -= 1\n",
      "            if self.wrongsLeft <= 0:\n",
      "                print \"GAME OVER...you ran out of your 3 wrong guesses\"\n",
      "                return 0       # return zero if game is over\n",
      "        else:\n",
      "            # change underscores to letter in state (make list, sub, join to string)\n",
      "            stateList = list(self.thisState)\n",
      "            for matchPos in indx:\n",
      "                stateList[matchPos] = letter\n",
      "            self.thisState = ''.join(stateList)\n",
      "\n",
      "        \n",
      "        self.thisGame = game(self.idnum, self.thisState, self.wrongsLeft)\n",
      "        \n",
      "        return self.thisGame"
     ],
     "language": "python",
     "metadata": {},
     "outputs": [],
     "prompt_number": 429
    },
    {
     "cell_type": "code",
     "collapsed": false,
     "input": [
      "## TESTING\n",
      "# test guesses: letters in descending order of english frequency\n",
      "testLets = list('etaoinshrdlcumwfgypbvkjxqz')\n",
      "\n",
      "HB = hangman_bot()\n",
      "G  = HB.startGame()\n",
      "print G.toString()\n",
      "\n",
      "for guessLetter in testLets:    \n",
      "    G = HB.updateGuess(guessLetter)\n",
      "    if G == 0:\n",
      "        break\n",
      "    print G.toString()\n"
     ],
     "language": "python",
     "metadata": {},
     "outputs": [
      {
       "output_type": "stream",
       "stream": "stdout",
       "text": [
        "extensible if you know how\n",
        "ID:8360  State:__________ __ ___ ____ ___  Guesses_left:3\n",
        "ID:8360  State:e__e_____e __ ___ ____ ___  Guesses_left:3\n",
        "ID:8360  State:e_te_____e __ ___ ____ ___  Guesses_left:3\n",
        "Sorry, 'a' not found.\n",
        "ID:8360  State:e_te_____e __ ___ ____ ___  Guesses_left:2\n",
        "ID:8360  State:e_te_____e __ _o_ __o_ _o_  Guesses_left:2\n",
        "ID:8360  State:e_te__i__e i_ _o_ __o_ _o_  Guesses_left:2\n",
        "ID:8360  State:e_ten_i__e i_ _o_ _no_ _o_  Guesses_left:2\n",
        "ID:8360  State:e_tensi__e i_ _o_ _no_ _o_  Guesses_left:2\n",
        "ID:8360  State:e_tensi__e i_ _o_ _no_ ho_  Guesses_left:2\n",
        "Sorry, 'r' not found.\n",
        "ID:8360  State:e_tensi__e i_ _o_ _no_ ho_  Guesses_left:1\n",
        "Sorry, 'd' not found.\n",
        "GAME OVER...you ran out of your 3 wrong guesses\n"
       ]
      }
     ],
     "prompt_number": 516
    },
    {
     "cell_type": "markdown",
     "metadata": {},
     "source": [
      "c) Create an object - __AI__ which runs background algorithms to make an intelligent letter guess. Since, we have only 3 wrong guesses for each game, the AI should be very intelligent and much better than a random generator. Below is a simple heuristic with no learning involved. You can choose to build on this or write your own, try ngram models etc\n",
      "\n",
      "1. Develop a huge word dictionary by downloading one of the corpus available online. for eg: - http://wordnet.princeton.edu/wordnet/download \n",
      "\n",
      "2. Write function most_filled_word() which returns the word with minimum underscores. At the start of the game, this function will return the word with smallest length as it will have the least underscore count. \n",
      "\n",
      "3. Write a function possibleWords() which builds a list of probable words for word returned from most_filled_word(). Here you build a dictionary of words which have the same length and have letters at the same position as word considered. You can use regex quickly do pattern matching. This function will then return a list of all possible words\n",
      "\n",
      "4. Write a maxLetterFreq() function whch counts occurrences of each of the 26 letters from among the list of possible words returned from possibleWords() function and returns the one with highest occurrence/frequency\n",
      "\n",
      "5. Write a wrappper function bestGuess() which calls the above 4 functions in the correct order, and returns the letter with highest frequency as the guessLetter to the hangman_bot. This wrapper function should also keep a tab of the letters already guessed so that the same letters are not guessed. You can further add tweaks to this wrapper function like for the case where the length of the word is 1, then most likely it will be a or I"
     ]
    },
    {
     "cell_type": "code",
     "collapsed": false,
     "input": [
      "class AI:\n",
      "    \n",
      "    def __init__(self):\n",
      "        raise(\"TODO\")\n",
      "        \n",
      "    def developWordDictonary(self):\n",
      "        raise(\"TODO\")\n",
      "        \n",
      "    def most_filled_word(self, state):\n",
      "        raise(\"TODO\")\n",
      "        \n",
      "    def possibleWords(self, wordPattern):\n",
      "        raise(\"TODO\")\n",
      "        \n",
      "    def maxCharacterFreq(self, possibleWordList):\n",
      "        raise(\"TODO\")\n",
      "        \n",
      "    def bestGuess(self, state):\n",
      "        raise(\"TODO\")"
     ],
     "language": "python",
     "metadata": {},
     "outputs": [],
     "prompt_number": 3
    },
    {
     "cell_type": "markdown",
     "metadata": {},
     "source": [
      "Note: While building AI, take precautions of the boundary conditions, including case sensitivity of letters, occurrences of punctuation marks in phrases etc. A good practice is to use try catch exceptions to ensure that the progrm does not get stuck at one of the boundary conditions and continues to process rest of the data, while you can try resolving the exception.\n",
      "\n",
      "Optionally, you can further improve your AI by including some form of learning like, writing words of the already played games into your dictionary so that such words get higher weightage in subsequent games. \n",
      "\n",
      "Keep the code modular and generic, so that the game can be played with a diferent list of phrases as well. \n",
      "Finally, Calculate the percentage success for all the entries for the files phraselist1.txt\n"
     ]
    },
    {
     "cell_type": "code",
     "collapsed": false,
     "input": [],
     "language": "python",
     "metadata": {},
     "outputs": []
    }
   ],
   "metadata": {}
  }
 ]
}