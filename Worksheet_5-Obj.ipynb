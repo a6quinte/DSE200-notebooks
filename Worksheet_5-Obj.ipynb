{
 "metadata": {
  "name": "",
  "signature": "sha256:1ebc5e8a2b29ea09799575618ce2e0b510245dd5be357e9b030981574663e8be"
 },
 "nbformat": 3,
 "nbformat_minor": 0,
 "worksheets": [
  {
   "cells": [
    {
     "cell_type": "markdown",
     "metadata": {},
     "source": [
      "#Generative Models 1: \n",
      "###Naive Bayes Classification of Text\n",
      "\n",
      " - Data Source: http://qwone.com/~jason/20Newsgroups/\n"
     ]
    },
    {
     "cell_type": "code",
     "collapsed": false,
     "input": [
      "import matplotlib.pyplot as plt\n",
      "%matplotlib inline\n",
      "from math import log10"
     ],
     "language": "python",
     "metadata": {},
     "outputs": [],
     "prompt_number": 1
    },
    {
     "cell_type": "markdown",
     "metadata": {},
     "source": [
      "###Define directory and file names"
     ]
    },
    {
     "cell_type": "code",
     "collapsed": false,
     "input": [
      "# working directory\n",
      "data_dir = '/Users/a1quintero/Documents/DSE/DSE210-Stats/HW2/20news-clean/'\n",
      "voc_fileName = data_dir + 'vocabulary.txt'\n",
      "\n",
      "# train data filenames\n",
      "dat_trainName = data_dir + 'train.data'\n",
      "lab_trainName = data_dir + 'train.label'\n",
      "map_trainName = data_dir + 'train.map'\n",
      "\n",
      "# test data filenames\n",
      "dat_testName = data_dir + 'test.data'\n",
      "lab_testName = data_dir + 'test.label'\n",
      "map_testName = data_dir + 'test.map'"
     ],
     "language": "python",
     "metadata": {},
     "outputs": [],
     "prompt_number": 2
    },
    {
     "cell_type": "markdown",
     "metadata": {},
     "source": [
      "###Read Vocabulary and Data"
     ]
    },
    {
     "cell_type": "code",
     "collapsed": false,
     "input": [
      "with open(voc_fileName,'r') as ff:          ## vocabulary set\n",
      "    voc_arr = ff.read().splitlines()\n",
      "with open(map_trainName,'r') as ff:              ## map [className, classID]\n",
      "    map_arr = ff.read().splitlines()\n",
      "\n",
      "### TRAIN DATA \n",
      "with open(lab_trainName,'r') as ff:            ## label: [classLabel] (row number is doc_IDx)\n",
      "    lab_arr = ff.read().splitlines()\n",
      "with open(dat_trainName,'r') as ff:            ## data [ docID, wordID, count ]\n",
      "    dat_arr = ff.read().splitlines()\n",
      "    \n",
      "    \n",
      "### TEST DATA\n",
      "with open(lab_testName,'r') as ff:         ## label: [classLabel] (row number is doc_IDx)\n",
      "    lab_test_arr = ff.read().splitlines()\n",
      "with open(dat_testName,'r') as ff:         ## data [ docID, wordID, count ]\n",
      "    dat_test_arr = ff.read().splitlines()"
     ],
     "language": "python",
     "metadata": {},
     "outputs": [],
     "prompt_number": 3
    },
    {
     "cell_type": "markdown",
     "metadata": {},
     "source": [
      "### Data File descriptions:\n",
      "**{train,test}.data files:** ---   \"doc_IDx | word_IDx | count\"\n",
      "\n",
      "**{train,test}.map files:** --- \"list of Classes. line number corresponds to doc_IDx\"\n",
      "\n",
      "**{train,test}.label files:** --- \"ClassName | ClassID\"\n",
      " "
     ]
    },
    {
     "cell_type": "markdown",
     "metadata": {},
     "source": [
      "### Generate Laplace Smoothed dictionaries of the vocabulary set\n",
      "\n",
      "Here we define a Naive Bayes Classifier Class.  Upon initialization, it uses the given training data to train the model.  It does this by creating an array of dictionaries--one dictionary for each class.  To implement **Laplace Smoothing**, all counts are start at 1 instead of 0. It then adds the frequency of each word (for each class), then normalizes these dictionaries to unity (the sum of all the values is one).  It also finds the fraction of each class that contributes to the training data set (the pi value in the NB equation).\n",
      "\n",
      "The 'predict' method of this class takes the test data and predicts each class.  The atribute created from this is a list of indicies of each predicted class.\n",
      "\n",
      "The 'evaluate' method compares the predicted classes to the actual classes."
     ]
    },
    {
     "cell_type": "code",
     "collapsed": false,
     "input": [
      "# naive bayes classifier object\n",
      "\n",
      "class NB_Classifier:\n",
      "    \"\"\"Upon initialization, it uses the given training data to train the model.\n",
      "    It does this by creating an array of dictionaries--one dictionary for each class.\n",
      "    To implement **Laplace Smoothing**, all counts are start at 1 instead of 0. It \n",
      "    then adds the frequency of each word (for each class), then normalizes these \n",
      "    dictionaries to unity (the sum of all the values is one).  It also finds the \n",
      "    fraction of each class that contributes to the training data set (the pi value \n",
      "    in the NB equation).\n",
      "       The 'predict' method of this class takes the test data and predicts each class.\n",
      "    The atribute created from this is a list of indicies of each predicted class.\n",
      "       The 'evaluate' method compares the predicted classes to the actual classes.\n",
      "    \"\"\"\n",
      "    def __init__(self, voc_arr, map_arr, lab_arr, dat_arr):\n",
      "        \"\"\" \n",
      "        Create array of wordBag dictionaries (one per class), then \n",
      "        \n",
      "        \"\"\"\n",
      "        self.vocab_len = len(voc_arr)                # length of vocabulary set\n",
      "        self.n_groups  = len(map_arr)                # number of groups/classes\n",
      "        self.n_docs    = len(lab_arr)                # number of unique documents\n",
      "\n",
      "        self.wordBag_arr = []             # array of dictionaries {wordID:count}\n",
      "        self.pi_arr = []                  # array of pi values (% of docs in each class)\n",
      "        for ii in range( self.n_groups ):\n",
      "            self.pi_arr.append( float(lab_arr.count(str(ii+1)))/float(self.n_docs) )\n",
      "            self.wordBag_arr.append( dict((jj,float(1)) for jj in range(self.vocab_len)) )\n",
      "        \n",
      "        self._fillFrequencyBag_(dat_arr, lab_arr)    # fill dicts with word counts\n",
      "        self._normFrequencyBag_()                    # normalize each to unity\n",
      "        \n",
      "    def predict(self, dat_test_arr):\n",
      "        \"\"\"Running the classification on the test set: Get a dictionary for \n",
      "        each document (only holding onto nonzero values), then get the\n",
      "        best class.\n",
      "        \"\"\"\n",
      "        last_doc = int(dat_test_arr[0].split()[0])  # docID of first line\n",
      "        this_doc_dict = {}\n",
      "        self.mapped_class_arr = []       # output. 1 column list of mapped class index\n",
      "        # run through data, filling mapped_class_arr with best found\n",
      "        for dat_row in dat_test_arr:\n",
      "            # read data\n",
      "            row_arr = dat_row.split()\n",
      "            doc_id  = int( row_arr[0] )\n",
      "            classIndx = int(lab_arr[doc_id-1]) - 1  # class index of this line\n",
      "            word_id = int( row_arr[1] )\n",
      "            wordIndx  = word_id - 1                 # get wordID (key) of this line\n",
      "            word_count = float(row_arr[2])          # frequency in this article\n",
      "            if last_doc == doc_id:\n",
      "                this_doc_dict[wordIndx] = word_count  # add this word to this document\n",
      "            else:      # new document\n",
      "                # predict this document's class\n",
      "                self.mapped_class_arr.append( self._returnBestClassIndx_( this_doc_dict) )\n",
      "                # reset dict for new doc, add first item\n",
      "                this_doc_dict = {}\n",
      "                this_doc_dict[wordIndx] = word_count  # add first word to this document\n",
      "            last_doc = doc_id\n",
      "        # map the final document\n",
      "        self.mapped_class_arr.append( self._returnBestClassIndx_( this_doc_dict) )\n",
      "\n",
      "    def evaluate(self, lab_test_arr):\n",
      "        \"\"\" Evaluates the success of the predicted test data.\n",
      "        \"\"\"\n",
      "        self.conf_mat = []\n",
      "        for ii in range(self.n_groups):\n",
      "            conf_row = []\n",
      "            for jj in range(self.n_groups):\n",
      "                conf_row.append(0)\n",
      "            self.conf_mat.append(conf_row)\n",
      "        ncorrect = 0.0\n",
      "        for class_actual, class_mapped in zip(lab_test_arr, self.mapped_class_arr):\n",
      "            actual_val = int(class_actual)\n",
      "            mapped_val = int(class_mapped + 1)\n",
      "            self.conf_mat[mapped_val-1][actual_val-1] += 1\n",
      "            if actual_val == mapped_val:        \n",
      "                ncorrect += 1        \n",
      "        self.percent_correct = float(ncorrect)/float(len(self.mapped_class_arr))\n",
      "\n",
      "    def confusion_matrix(self):\n",
      "        \"\"\" Plot the confusion matrix.\"\"\"\n",
      "        plt.matshow(self.conf_mat)\n",
      "        plt.colorbar(label='frequency')\n",
      "        plt.ylabel('Predicted Class')\n",
      "        plt.xlabel('Actual Class')\n",
      "    \n",
      "    def _fillFrequencyBag_(self, dat_arr, lab_arr):\n",
      "        \"\"\" For a given array of data (train,test), fill the wordBag_array with the \n",
      "        correct count of the word in each article.\n",
      "        \"\"\"\n",
      "        for dat_row in dat_arr:\n",
      "            row_arr = dat_row.split()\n",
      "            doc_id  = int( row_arr[0] )\n",
      "            classIndx = int(lab_arr[doc_id-1]) - 1    # class index of this line\n",
      "            word_id = int( row_arr[1] )\n",
      "            wordIndx  = word_id - 1                   # get wordID (key) of this line\n",
      "            word_count = int(row_arr[2])              # frequency in this article\n",
      "            self.wordBag_arr[classIndx][wordIndx] += word_count # burstiness correction to go here\n",
      "\n",
      "    def _normFrequencyBag_(self):\n",
      "        \"\"\" Normalizes the frequency dictionary array.\n",
      "        \"\"\"\n",
      "        for tmpIndx,this_dict in enumerate(self.wordBag_arr):\n",
      "            normDict = this_dict.copy()\n",
      "            tot_sum = float( sum(normDict.values()) )\n",
      "            normDict.update((x,y/tot_sum) for x, y in normDict.items())\n",
      "            self.wordBag_arr[tmpIndx] = normDict\n",
      "            \n",
      "    def _returnBestClassIndx_(self, x_counts):\n",
      "        \"\"\"Takes a filled freq dictionary of word counts and returns \n",
      "        the index of the best class via Naive Bayes Classification.\n",
      "        \"\"\"\n",
      "        max_prob = -1e10\n",
      "        best_class = -1\n",
      "        for ii in range( self.n_groups ):  # ii: 0:19\n",
      "            # getting the result of the summation\n",
      "            current_sum = 0.0\n",
      "            for wID,xx in x_counts.items():             # loop over words in dictionary\n",
      "                pp = self.wordBag_arr[ii][wID]          # the 'p' in the equation\n",
      "                current_sum += xx*log10(pp)             # result of the summation\n",
      "            this_prob = log10(self.pi_arr[ii]) + current_sum\n",
      "            if this_prob > max_prob:\n",
      "                max_prob = this_prob\n",
      "                best_class = ii\n",
      "        return best_class"
     ],
     "language": "python",
     "metadata": {},
     "outputs": [],
     "prompt_number": 4
    },
    {
     "cell_type": "markdown",
     "metadata": {},
     "source": [
      "This is how the model is trained:"
     ]
    },
    {
     "cell_type": "code",
     "collapsed": false,
     "input": [
      "model = NB_Classifier(voc_arr, map_arr, lab_arr, dat_arr)"
     ],
     "language": "python",
     "metadata": {},
     "outputs": [],
     "prompt_number": 6
    },
    {
     "cell_type": "markdown",
     "metadata": {},
     "source": [
      "After training, we can then give it the test data for it to predict:"
     ]
    },
    {
     "cell_type": "code",
     "collapsed": false,
     "input": [
      "model.predict( dat_test_arr )"
     ],
     "language": "python",
     "metadata": {},
     "outputs": [],
     "prompt_number": 7
    },
    {
     "cell_type": "markdown",
     "metadata": {},
     "source": [
      "After it has run on the test data, we can run the evaluate method which calculates the percent correct and generates a confusion matrix.  We also plot the matrix."
     ]
    },
    {
     "cell_type": "code",
     "collapsed": false,
     "input": [
      "model.evaluate(lab_test_arr)\n",
      "print \"Percent Correct:\",model.percent_correct\n",
      "model.confusion_matrix()"
     ],
     "language": "python",
     "metadata": {},
     "outputs": [
      {
       "output_type": "stream",
       "stream": "stdout",
       "text": [
        "Percent Correct: 0.78107928048\n"
       ]
      },
      {
       "metadata": {},
       "output_type": "display_data",
       "png": "[encoded data removed]",
       "text": [
        "<matplotlib.figure.Figure at 0x10698e650>"
       ]
      }
     ],
     "prompt_number": 10
    },
    {
     "cell_type": "markdown",
     "metadata": {},
     "source": [
      "I wrote the model as a class in order for it to be easily looped over during train/validation testing and optimizing. Unfortunately I didn't have enough time to finish this part of the analysis so I have ommitted that code.\n",
      "\n",
      "I also tried applying the \"burstiness\" correction when counting word frequencies during training.  I found that that gave a lower percent of accuracy so I have also omitted that.\n",
      "\n",
      "If I had enough time, I would have tried using different variations of the vocabulary.  For example I would have tried omitting words that are not in the English dictionary.  I also would have tried omitting stop words, since I predict that they don't add any value to the strenght of the model.\n"
     ]
    }
   ],
   "metadata": {}
  }
 ]
}