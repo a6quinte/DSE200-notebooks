{
 "metadata": {
  "name": "",
  "signature": "sha256:ac9643b003d9ab3a9dc496893b7531e80c3fdf82dacd78bc4ec6a9fb291e4a5d"
 },
 "nbformat": 3,
 "nbformat_minor": 0,
 "worksheets": [
  {
   "cells": [
    {
     "cell_type": "markdown",
     "metadata": {},
     "source": [
      "This is a practice final for DSE 200, problems on the final will be similar in kind to the problems listed below; however, we expect this notebook will be a bigger time commitment than the actual final (since we've provided more problemsd than we plan on putting on the final)."
     ]
    },
    {
     "cell_type": "markdown",
     "metadata": {},
     "source": [
      "## Unix\n",
      "\n",
      "Find the total file size in bytes by extension for all files under the `./tree` directory (include files in sub directories, sub sub directories, etc).  Store your results in a dictionary from extension -> total size and print your directory as a 2 column tab delimited table like so:\n",
      "\n",
      "> EXTENSION (tab) SIZE\n",
      "> .ps (tab) 3000\n",
      "> .pdf (tab) 5400\n",
      "\n",
      "\n",
      "**Hint:** Use the [os.walk](https://docs.python.org/2/library/os.html) function to find all files below a directory."
     ]
    },
    {
     "cell_type": "code",
     "collapsed": false,
     "input": [
      "import os"
     ],
     "language": "python",
     "metadata": {},
     "outputs": []
    },
    {
     "cell_type": "code",
     "collapsed": true,
     "input": [
      "from itertools import chain,groupby\n",
      "files = chain.from_iterable([ [x[0] + \"/\" + y for y in x[2]] for x in os.walk(\"./tree\")])\n",
      "fs = {}\n",
      "for f in files:\n",
      "    key = f.split(\".\")[-1]\n",
      "    size = fs.get(key,0)\n",
      "    size = size + os.path.getsize(f)\n",
      "    fs[key] = size\n",
      "\n",
      "for ext,size in fs.iteritems():\n",
      "    print ext + \"\\t\" + str(size)"
     ],
     "language": "python",
     "metadata": {},
     "outputs": []
    },
    {
     "cell_type": "markdown",
     "metadata": {},
     "source": [
      "**USE ONLY UNIX TOOLS FOR THIS**\n",
      "\n",
      "Print the number of times each character appears as the first character of a line in the file `word_list/canadian-words.95`.  \n",
      "\n",
      "Your output should appear like this:\n",
      "\n",
      "`\n",
      " 224 a\n",
      "  54 b\n",
      " 251 c\n",
      " 156 d\n",
      "  99 e\n",
      "  85 f\n",
      "  62 g\n",
      " 168 h\n",
      "  83 i\n",
      "   8 j\n",
      "   7 k\n",
      "  81 l\n",
      "...`"
     ]
    },
    {
     "cell_type": "code",
     "collapsed": false,
     "input": [
      "!cat word_list/canadian-words.95 | cut -b1 | uniq -c"
     ],
     "language": "python",
     "metadata": {},
     "outputs": []
    },
    {
     "cell_type": "markdown",
     "metadata": {},
     "source": [
      "**USE ONLY UNIX TOOLS FOR THIS**\n",
      "\n",
      "Find all lines of the file `word_list/canadian-words.95` which contain a repeated letter.  IE 'Sneeze' contains a repeated e while 'Sneze' does not.  Count the number of words this occurs in.\n",
      "\n",
      "**Hint:** Grep backreferences may be useful."
     ]
    },
    {
     "cell_type": "code",
     "collapsed": false,
     "input": [
      "!cat word_list/canadian-words.95 | grep \"\\(.\\)\\1\" | wc -l"
     ],
     "language": "python",
     "metadata": {},
     "outputs": []
    },
    {
     "cell_type": "markdown",
     "metadata": {},
     "source": [
      "##Python Programming\n",
      "\n",
      "Write a list comprehension that creates a list containing all of the numbers that are both exact squares and odd in the range 1 to 100."
     ]
    },
    {
     "cell_type": "code",
     "collapsed": true,
     "input": [
      "import math\n",
      "[ x for x in range(1,101) if x %2 ==1 and math.pow(int(math.sqrt(x)),2)==x ]"
     ],
     "language": "python",
     "metadata": {},
     "outputs": []
    },
    {
     "cell_type": "markdown",
     "metadata": {},
     "source": [
      "Write a function expand which takes a word and repeats each character one more time than the previous character.\n",
      "\n",
      "For example \"BANG!\" becomes \"BAANNNGGGG!!!!!\""
     ]
    },
    {
     "cell_type": "code",
     "collapsed": false,
     "input": [
      "def expand(word):\n",
      "    out = \"\"\n",
      "    for i in range(len(word)):\n",
      "        out = out + word[i]*(i+1)\n",
      "    return out\n",
      "expand(\"BANG!\")"
     ],
     "language": "python",
     "metadata": {},
     "outputs": []
    },
    {
     "cell_type": "markdown",
     "metadata": {},
     "source": [
      "Write a function \"string_value\" which takes a string, converts each letter to its ascii code (*hint: the ord function returns a characters ascii value*) and returns the sum of the strings ascii values.  For example cat -> [99, 97, 116] -> 312.  \n",
      "\n",
      "Then load the file `word_list/canadian-words.95` into a list and sort the list by the value returned by string_value"
     ]
    },
    {
     "cell_type": "code",
     "collapsed": false,
     "input": [
      "def string_value(word):\n",
      "    return sum([ord(x) for x in word])\n",
      "\n",
      "words = open(\"word_list/canadian-words.95\",\"r\").readlines()\n",
      "words = [word.strip() for word in words]\n",
      "sorted(words,key=string_value)"
     ],
     "language": "python",
     "metadata": {},
     "outputs": []
    },
    {
     "cell_type": "markdown",
     "metadata": {},
     "source": [
      "##Git/iPython Magics\n",
      "Load your repositories .gitignore file using ipython magics.  Modify the file so that it ignores files with the extension .ignoreme.  Write the file using ipython magics"
     ]
    },
    {
     "cell_type": "code",
     "collapsed": false,
     "input": [
      "%load ../.gitignore"
     ],
     "language": "python",
     "metadata": {},
     "outputs": []
    },
    {
     "cell_type": "code",
     "collapsed": false,
     "input": [
      "%%writefile ../.gitignore\n",
      ".ipynb_checkpoints\n",
      "*/.ipynb_checkpoints\n",
      "*.ignoreme"
     ],
     "language": "python",
     "metadata": {},
     "outputs": []
    },
    {
     "cell_type": "markdown",
     "metadata": {},
     "source": [
      "## Pandas and Matplot Lib\n",
      "The CSV file called `temps.csv` contains the daily temperature recorded for a particular year at a particular meteorological station in the USA. Also given is the state where each \n",
      "station is located.\n",
      "\n",
      "Some of the entries are empty, which indicates \"undefined\"\n",
      "\n",
      "Create a data frame that summarizes the data by by state\n",
      "\n",
      "The summary data frame should have the following 7 columns:\n",
      "  * State\n",
      "  * Number of years recorded for this state\n",
      "  * The maximum temperature recorded in this state\n",
      "  * The minimum temperature recorded in this state\n",
      "  * The mean temperature for this region\n",
      "  * The number of undefined measurements \n",
      "  \n",
      "Sort the table by decreasing value of the mean temperature and print the first 10 rows.  "
     ]
    },
    {
     "cell_type": "code",
     "collapsed": false,
     "input": [
      "import pandas as pd\n",
      "import matplotlib.pyplot  as plt\n",
      "import numpy as np\n",
      "raw_data = pd.read_csv(\"temps.csv\")\n",
      "%pylab inline"
     ],
     "language": "python",
     "metadata": {},
     "outputs": []
    },
    {
     "cell_type": "code",
     "collapsed": false,
     "input": [
      "states = {}\n",
      "raw_data.iterrows().next()[1][\"state\"]\n",
      "for ind,row in raw_data.iterrows():\n",
      "    state = row[\"state\"]\n",
      "    temps = [x for x in row[\"1\":\"365\"] if not np.isnan(x)]\n",
      "\n",
      "    if state not in states:\n",
      "        states[state] = {\"state\":state, \"years\":0, \"max\":-300, \"min\":300, \"sum\":0, \"n\":0, \"n_nan\":0}\n",
      "    states[state][\"years\"] += 1\n",
      "    if len(temps) > 0:\n",
      "        states[state][\"max\"]   = max(states[state][\"max\"],max(temps))\n",
      "        states[state][\"min\"]   = min(states[state][\"min\"],min(temps))\n",
      "        states[state][\"sum\"]   += sum(temps)\n",
      "        states[state][\"n\"]     += len(temps)\n",
      "    states[state][\"n_nan\"] += len([x for x in row[\"1\":\"365\"] if np.isnan(x)])\n"
     ],
     "language": "python",
     "metadata": {},
     "outputs": []
    },
    {
     "cell_type": "code",
     "collapsed": false,
     "input": [
      "summary = pd.DataFrame([row for s,row in states.iteritems()])\n",
      "summary[\"mean\"] = summary[\"sum\"]/summary[\"n\"]\n",
      "summary.sort(\"mean\",ascending=False,inplace=True)\n",
      "summary.head(10)"
     ],
     "language": "python",
     "metadata": {},
     "outputs": []
    },
    {
     "cell_type": "code",
     "collapsed": false,
     "input": [
      "us_mean = summary[\"sum\"].sum() / summary[\"n\"].sum()"
     ],
     "language": "python",
     "metadata": {},
     "outputs": []
    },
    {
     "cell_type": "markdown",
     "metadata": {},
     "source": [
      "Using the summary data frame produced before, make a bar plot showing the mean temperature of each state in the USA.  Label each bar with the state name.  Then put a line across all bars showing the mean temperature of the US.\n",
      "\n",
      "An example of the kind of plot we want is [here](http://static1.businessinsider.com/image/52e7cfeaecad04b858356443/here-are-the-states-with-the-highest-and-lowest-unemployment-rates.jpg).  You can make the plot either vertical or horizontal, whichever you think displays the data better."
     ]
    },
    {
     "cell_type": "code",
     "collapsed": false,
     "input": [
      "fig = plt.figure(figsize=(24, 4))\n",
      "ax = fig.gca()\n",
      "ax.bar([x + .25 for x in range(summary.shape[0])], summary[\"mean\"],width = .5, color = \"k\")\n",
      "ax.set_xticks([x + .5 for x in range(summary.shape[0])])\n",
      "ax.set_xticklabels( summary[\"state\"]) \n",
      "ax.width = 1000\n",
      "ax.plot([0,summary.shape[0]],[us_mean,us_mean],'r--')\n",
      "ax.legend([\"US Mean Temperature\",\"State Mean Temperature\"])\n",
      "plt.show()"
     ],
     "language": "python",
     "metadata": {},
     "outputs": []
    },
    {
     "cell_type": "markdown",
     "metadata": {},
     "source": [
      "Using the raw data frame, pick the state with the highest mean and the lowest mean.  Plot the temperature on the first day of the year vs year for these two states as a line plot.  Make line for the highest mean state be red and the lowest mean state be blue.  Add a legend mapping from line color -> state name."
     ]
    },
    {
     "cell_type": "code",
     "collapsed": false,
     "input": [
      "raw_data.sort(\"year\",inplace=True)\n",
      "min_state = raw_data[raw_data['state'] == \"SD\"]\n",
      "max_state = raw_data[raw_data['state'] == \"WA\"]\n",
      "fig = plt.figure(figsize=(24, 4))\n",
      "ax = fig.gca()\n",
      "ax.plot(min_state[\"year\"],min_state[\"1\"],'b')\n",
      "ax.plot(max_state[\"year\"],max_state[\"1\"],'r')\n",
      "ax.legend([\"SD\",\"WA\"])"
     ],
     "language": "python",
     "metadata": {},
     "outputs": []
    },
    {
     "cell_type": "markdown",
     "metadata": {},
     "source": [
      "#Grid Search\n",
      "\n",
      "Throughout the course, we've used the SkLearn logistic regression model which use l1 or l2 regularization to prevent overfitting.  However, we have not addressed what this is or how to choose a value.\n",
      "\n",
      "One common method is to train a model for a number of values of `C` and evaluate on the test set then chooseh the value of `C` which corresponds to the best accuracy.\n",
      "\n",
      "Using the below template, write a grid search parameter that trains a model for each value of `c` in `cs`, store the test/train accuracy for each model in test_acc and train_acc and then plot the test/train accuracy vs c on the same plot (be sure to label the two lines).\n",
      "\n",
      "Use penalty=\"l1\" when traiing a logistic regression model.  Use the DCT data set to learn your models on."
     ]
    },
    {
     "cell_type": "code",
     "collapsed": false,
     "input": [
      "from sklearn.linear_model import LogisticRegression\n",
      "\n",
      "cs = [10**x for x in range(-5,5)]\n",
      "test_acc = []\n",
      "train_acc = []\n"
     ],
     "language": "python",
     "metadata": {},
     "outputs": []
    },
    {
     "cell_type": "code",
     "collapsed": false,
     "input": [
      "#Load data for testing purposes\n",
      "train_x = pd.read_csv(\"../lecture_3_pandas_models_pylab/data/train\", sep=\"\\t\")\n",
      "train_y = train_x[\"label\"]\n",
      "del train_x[\"label\"]\n",
      "test_x = pd.read_csv(\"../lecture_3_pandas_models_pylab/data/test\", sep=\"\\t\")\n",
      "test_y = test_x[\"label\"]\n",
      "del test_x[\"label\"]"
     ],
     "language": "python",
     "metadata": {},
     "outputs": []
    },
    {
     "cell_type": "code",
     "collapsed": false,
     "input": [],
     "language": "python",
     "metadata": {},
     "outputs": []
    },
    {
     "cell_type": "code",
     "collapsed": false,
     "input": [
      "#code for grid search here\n",
      "train_acc = []\n",
      "test_acc = []\n",
      "for c in cs:\n",
      "    mdl = LogisticRegression(penalty=\"l1\",C=c)\n",
      "    mdl.fit(train_x,train_y)\n",
      "    train_acc.append(mdl.score(train_x,train_y))\n",
      "    test_acc.append(mdl.score(test_x,test_y))\n",
      "    "
     ],
     "language": "python",
     "metadata": {},
     "outputs": []
    },
    {
     "cell_type": "code",
     "collapsed": false,
     "input": [
      "#plot results here\n",
      "ax = plt.gca()\n",
      "ax.set_xscale('log')\n",
      "ax.plot(cs,test_acc)\n",
      "ax.plot(cs,train_acc,'r')\n",
      "ax.legend([\"Test Acurracy\",\"Train Accuracy\"],loc =\"lower right\")\n"
     ],
     "language": "python",
     "metadata": {},
     "outputs": []
    },
    {
     "cell_type": "markdown",
     "metadata": {},
     "source": [
      "##Object Oriented Programming\n",
      "Assume you are working for a bank and have been tasked with implimenting objects to manage their accounts.  The architecht has given you this class to inherit from and wants you to impliment a number of unique account types."
     ]
    },
    {
     "cell_type": "code",
     "collapsed": false,
     "input": [
      "class Account:\n",
      "    def __init__(self, amount, rate):\n",
      "        \"\"\"Initializes the account, all account types have a starting amount and a rate\"\"\"\n",
      "        self.amount = amount\n",
      "        self.rate = rate\n",
      "        self.day = 0\n",
      "        \n",
      "    def balance(self):\n",
      "        \"\"\"Returns the balance of the account\"\"\"\n",
      "        return self.amount\n",
      "    \n",
      "    def deposit(self, amount):\n",
      "        \"\"\"Deposits money into the account depending on specific rules.\n",
      "           Returns true if the deposit is accepted and false if it is not\"\"\"\n",
      "        raise \"This is an abstract class\" \n",
      "    \n",
      "    def withdraw(self, amount):\n",
      "        \"\"\"Withdraws money from the account.\n",
      "           Returns true if the deposit is accepted and false if it is not\"\"\"\n",
      "        raise \"This is an abstract class\"\n",
      "        \n",
      "    def tick(self):\n",
      "        \"\"\"Called once a day, used to compute interest or any other logic that must occur every day\"\"\"\n",
      "        self.day = self.day + 1\n",
      "        self._tick_action()\n",
      "        \n",
      "    def _tick_action(self):\n",
      "        \"\"\"Logic that should happen on tick goes here\"\"\"\n",
      "        raise \"This is an abstract class\""
     ],
     "language": "python",
     "metadata": {},
     "outputs": []
    },
    {
     "cell_type": "markdown",
     "metadata": {},
     "source": [
      "As an example the architecht gives you the basic account class.  A basic account always accepts deposits but only accepts withdraws if customer withdraws less money than the current balance.  Additionally the interest is accumulated every day."
     ]
    },
    {
     "cell_type": "code",
     "collapsed": false,
     "input": [
      "class BasicAccount(Account):\n",
      "    def deposit(self, amount):\n",
      "        self.amount = self.amount + amount\n",
      "        return True\n",
      "    \n",
      "    def withdraw(self, amount):\n",
      "        \"\"\"Withdraws money from the account.\n",
      "           Returns true if the deposit is accepted and false if it is not\"\"\"\n",
      "        if( amount <= self.amount ):\n",
      "            self.amount = self.amount - amount\n",
      "            return True\n",
      "        else:\n",
      "            return False\n",
      "        \n",
      "    def _tick_action(self):\n",
      "        self.amount = self.amount + self.rate*self.amount"
     ],
     "language": "python",
     "metadata": {},
     "outputs": []
    },
    {
     "cell_type": "markdown",
     "metadata": {},
     "source": [
      "Your first task is to impliment the SuperSaverAccount class which is the same as the basic account except that it only accrues interest once every 30 days."
     ]
    },
    {
     "cell_type": "code",
     "collapsed": false,
     "input": [
      "class SuperSaverAccount(Account):\n",
      "    def deposit(self, amount):\n",
      "        self.amount = self.amount + amount\n",
      "        return True\n",
      "    \n",
      "    def withdraw(self, amount):\n",
      "        if( amount <= self.amount ):\n",
      "            self.amount = self.amount - amount\n",
      "            return True\n",
      "        else:\n",
      "            return False        \n",
      "    def _tick_action(self):\n",
      "        if self.day % 30 == 0:\n",
      "            self.amount = self.amount + self.rate*self.amount"
     ],
     "language": "python",
     "metadata": {},
     "outputs": []
    },
    {
     "cell_type": "markdown",
     "metadata": {},
     "source": [
      "Now impliment the PlatinumAccount class.  The platinum account allows any withdraw or deposit; however, they don't go through until the end of the day.  At the end of the day all withdraws are processed and then all deposits are processed.  If the balance ever goes below 0, the balance is reduced by \\$100 as a penalty.  If the amount is above 0 at the end of the day, interest is added the same as a standard account.\n",
      "\n",
      "When inquiring about the balance, it should return the current amount of the account + pending deposits - pending withdraws but no any penalty"
     ]
    },
    {
     "cell_type": "code",
     "collapsed": false,
     "input": [
      "class PlatinumAccount(Account):\n",
      "    def __init__(self, amount, rate):\n",
      "        Account.__init__(self,amount, rate) \n",
      "        self.d = 0\n",
      "        self.w = 0\n",
      "        \n",
      "    def deposit(self, amount):\n",
      "        self.d += amount\n",
      "        return True\n",
      "    \n",
      "    def withdraw(self, amount):\n",
      "        self.w -= amount\n",
      "        return True\n",
      "    \n",
      "    def balance(self):\n",
      "        return self.amount + self.d + self.w\n",
      "        \n",
      "    def _tick_action(self):\n",
      "        self.amount += self.w\n",
      "        if self.amount < 0:\n",
      "            self.amount -= 100\n",
      "        self.amount += self.d\n",
      "        self.amount = self.amount + self.rate*self.amount\n",
      "        self.d = 0\n",
      "        self.w = 0"
     ],
     "language": "python",
     "metadata": {},
     "outputs": []
    },
    {
     "cell_type": "markdown",
     "metadata": {},
     "source": [
      "After you implemented the account classes, you are now tasked with implementing the bank class.  This class is responsible for managing a group of accounts.\n",
      "\n",
      "When an account is created, it is assigned a seiral number (the first account is 0, second 1, etc) and stored at the bank, this number is returned by create_account.  The customer then gives the account number whenever they want to perform an acction on the account."
     ]
    },
    {
     "cell_type": "code",
     "collapsed": false,
     "input": [
      "class Bank:\n",
      "    def __init__(self):\n",
      "        self.accounts = []\n",
      "    \n",
      "    def create_account(self,account):\n",
      "        \"\"\"Registers the `account` object with the bank.  Returns the account number assigned to this account\"\"\"\n",
      "        self.accounts.append(account)\n",
      "        return len(self.accounts)-1\n",
      "        \n",
      "    def deposit(self, account_number, amount):\n",
      "        \"\"\"Looks up the account corrsponding to `account_number` and deposits `amount` into it\"\"\"\n",
      "        return self.accounts[account_number].deposit(amount)\n",
      "\n",
      "    def withdraw(self, account_number, amount):\n",
      "        \"\"\"Looks up the account corrsponding to `account_number` and withdraws `amount` into it\"\"\"\n",
      "        return self.accounts[account_number].withdraw(amount)\n",
      "\n",
      "    def balance(self, account_number):\n",
      "        \"\"\"Looks up the account corrsponding to `account_number` and returns the balance\"\"\"\n",
      "        return self.accounts[account_number].balance()\n",
      "        \n",
      "    def tick(self):\n",
      "        for a in self.accounts:\n",
      "            a.tick()"
     ],
     "language": "python",
     "metadata": {},
     "outputs": []
    },
    {
     "cell_type": "code",
     "collapsed": false,
     "input": [
      "#After everythign is done this should only print True a bunch of times:\n",
      "\n",
      "bank = Bank()\n",
      "a = bank.create_account(BasicAccount(0,0.1))\n",
      "print bank.balance(a) == 0\n",
      "print bank.deposit(a,100) == True\n",
      "print bank.balance(a) == 100\n",
      "print bank.withdraw(a,1000) == False\n",
      "print bank.balance(a) == 100\n",
      "\n",
      "bank.tick()\n",
      "b = bank.create_account(PlatinumAccount(0,0.1))\n",
      "print bank.balance(b) == 0\n",
      "print bank.deposit(b,1000) == True\n",
      "print bank.withdraw(b,100) == True\n",
      "print bank.balance(b) == 900\n",
      "bank.tick()\n",
      "print bank.balance(b) == 880\n",
      "\n",
      "c = bank.create_account(SuperSaverAccount(0,0.1))\n",
      "print bank.deposit(c,100)\n",
      "for i in range(29):\n",
      "    bank.tick()\n",
      "    print bank.balance(c) == 100\n",
      "bank.tick()\n",
      "print bank.balance(c) == 110"
     ],
     "language": "python",
     "metadata": {},
     "outputs": []
    },
    {
     "cell_type": "markdown",
     "metadata": {},
     "source": [
      "## NLTK\n",
      "Read the documentation on the `nltk.stem.lancaster` module.  Use this to find the stems of all the words in the files     `word_list/american-words.95`, `word_list/canadian-words.95`, and `word_list/british-words.95`.\n",
      "\n",
      "For each file count the number of unique words before and after stemming.  Does this stemmer seem to be better at reducing the words in a specific file?"
     ]
    },
    {
     "cell_type": "code",
     "collapsed": false,
     "input": [
      "import nltk.stem.lancaster as stem\n",
      "st = stem.LancasterStemmer()\n",
      "\n",
      "canadian = [x.strip() for x in open(\"word_list/canadian-words.95\",\"r\")]\n",
      "british = [x.strip() for x in open(\"word_list/british-words.95\",\"r\")]\n",
      "american = [x.strip() for x in open(\"word_list/american-words.95\",\"r\")]\n"
     ],
     "language": "python",
     "metadata": {},
     "outputs": []
    },
    {
     "cell_type": "code",
     "collapsed": false,
     "input": [
      "uniq = set()\n",
      "uniq_stem = set()\n",
      "for word in canadian:\n",
      "    uniq.add(word)\n",
      "    uniq_stem.add(st.stem(word))\n",
      "float(len(uniq_stem))/len(uniq)"
     ],
     "language": "python",
     "metadata": {},
     "outputs": []
    },
    {
     "cell_type": "code",
     "collapsed": false,
     "input": [
      "uniq = set()\n",
      "uniq_stem = set()\n",
      "for word in british:\n",
      "    uniq.add(word)\n",
      "    uniq_stem.add(st.stem(word))\n",
      "float(len(uniq_stem))/len(uniq)"
     ],
     "language": "python",
     "metadata": {},
     "outputs": []
    },
    {
     "cell_type": "code",
     "collapsed": false,
     "input": [
      "uniq = set()\n",
      "uniq_stem = set()\n",
      "for word in american:\n",
      "    uniq.add(word)\n",
      "    uniq_stem.add(st.stem(word))\n",
      "float(len(uniq_stem))/len(uniq)"
     ],
     "language": "python",
     "metadata": {},
     "outputs": []
    },
    {
     "cell_type": "markdown",
     "metadata": {},
     "source": [
      "The file `sentiment` contains movie reviews along with a 0/1 tag of their \"sentiment\".   The format is:\n",
      "\n",
      "> Word1 word2 word3 (TAB) (Sentiment)\n",
      "\n",
      "Perform the following tasks:\n",
      "\n",
      "1. Load the data into a a list containing the sentences and a list containing the numeric sentiment\n",
      "2. Applt the lancaster stemmer to the words\n",
      "3. Convert word lists to bag of words dictionary (a dictionary where the words are the key and the value is 1 if it occurs in the phrase)  IE [stem1, stem2, stem3] becomes {stem1 -> 1, stem2 -> 1, stem3 -> 1}\n",
      "4. Use sklearn's [DictVectorizer](http://scikit-learn.org/stable/modules/generated/sklearn.feature_extraction.DictVectorizer.html#sklearn.feature_extraction.DictVectorizer) to ocnvert the bag of words dictionaries into a training matrix for sklearn. \n",
      "5. Train a logistic regression model on the bag of words matrix and report the accuracy on the training data."
     ]
    },
    {
     "cell_type": "code",
     "collapsed": false,
     "input": [
      "training = [x.strip().split(\"\\t\") for x in open(\"sentiment\",\"r\")]\n",
      "sentences = [x[0] for x in training]\n",
      "sentiment = [int(x[1]) for x in training]"
     ],
     "language": "python",
     "metadata": {},
     "outputs": []
    },
    {
     "cell_type": "code",
     "collapsed": false,
     "input": [
      "bags = [ {st.stem(word.lower()):1 for word in x.split(\" \") if word != \"\"} for x in sentences]"
     ],
     "language": "python",
     "metadata": {},
     "outputs": []
    },
    {
     "cell_type": "code",
     "collapsed": false,
     "input": [
      "from sklearn.feature_extraction import DictVectorizer \n",
      "X = DictVectorizer().fit_transform(bags)"
     ],
     "language": "python",
     "metadata": {},
     "outputs": []
    },
    {
     "cell_type": "code",
     "collapsed": false,
     "input": [
      "mdl = LogisticRegression()\n",
      "mdl.fit(X,sentiment)\n",
      "mdl.score(X,sentiment)"
     ],
     "language": "python",
     "metadata": {},
     "outputs": []
    }
   ],
   "metadata": {}
  }
 ]
}