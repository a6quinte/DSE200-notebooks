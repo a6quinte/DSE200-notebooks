{
 "metadata": {
  "name": "",
  "signature": "sha256:d524752cd2e1a0df3e97b2c79d9a23a04732740f114258eb589c9e2c23bd76d6"
 },
 "nbformat": 3,
 "nbformat_minor": 0,
 "worksheets": [
  {
   "cells": [
    {
     "cell_type": "markdown",
     "metadata": {},
     "source": [
      "This is a practice final for DSE 200, problems on the final will be similar in kind to the problems listed below; however, we expect this notebook will be a bigger time commitment than the actual final (since we've provided more problemsd than we plan on putting on the final)."
     ]
    },
    {
     "cell_type": "markdown",
     "metadata": {},
     "source": [
      "## Unix\n",
      "\n",
      "Find the total file size in bytes by extension for all files under the `./tree` directory (include files in sub directories, sub sub directories, etc).  Store your results in a dictionary from extension -> total size and print your directory as a 2 column tab delimited table like so:\n",
      "\n",
      "> EXTENSION (tab) SIZE\n",
      "> .ps (tab) 3000\n",
      "> .pdf (tab) 5400\n",
      "\n",
      "\n",
      "**Hint:** Use the [os.walk](https://docs.python.org/2/library/os.html) function to find all files below a directory."
     ]
    },
    {
     "cell_type": "code",
     "collapsed": false,
     "input": [
      "import os\n",
      "\n"
     ],
     "language": "python",
     "metadata": {},
     "outputs": []
    },
    {
     "cell_type": "markdown",
     "metadata": {},
     "source": [
      "### Unix Shell Commands\n",
      "\n",
      "Your solution to each of the two following problems should be a single command line which defines a sequence of unix commands connected by pipes."
     ]
    },
    {
     "cell_type": "markdown",
     "metadata": {},
     "source": [
      "#### Unix question 1\n",
      "Print the number of times each character appears as the first character of a line in the file `word_list/canadian-words.95`.  \n",
      "\n",
      "Your output should appear like this:\n",
      "\n",
      "`\n",
      " 224 a\n",
      "  54 b\n",
      " 251 c\n",
      " 156 d\n",
      "  99 e\n",
      "  85 f\n",
      "  62 g\n",
      " 168 h\n",
      "  83 i\n",
      "   8 j\n",
      "   7 k\n",
      "  81 l\n",
      "...`"
     ]
    },
    {
     "cell_type": "code",
     "collapsed": false,
     "input": [],
     "language": "python",
     "metadata": {},
     "outputs": []
    },
    {
     "cell_type": "markdown",
     "metadata": {},
     "source": [
      "#### Unix question 2\n",
      "\n",
      "Find all lines of the file `word_list/canadian-words.95` which contain a repeated letter.  IE 'Sneeze' contains a repeated e while 'Sneze' does not.  Count the number of words this occurs in.\n",
      "\n",
      "The correct output is 351\n",
      "\n",
      "**Hint:** Grep backreferences may be useful."
     ]
    },
    {
     "cell_type": "code",
     "collapsed": false,
     "input": [],
     "language": "python",
     "metadata": {},
     "outputs": []
    },
    {
     "cell_type": "markdown",
     "metadata": {},
     "source": [
      "##Python Programming\n",
      "\n",
      "Write a list comprehension that creates a list containing all of the numbers that are both exact squares and odd in the range 1 to 100."
     ]
    },
    {
     "cell_type": "code",
     "collapsed": true,
     "input": [],
     "language": "python",
     "metadata": {},
     "outputs": []
    },
    {
     "cell_type": "markdown",
     "metadata": {},
     "source": [
      "Write a function expand which takes a word and repeats each character one more time than the previous character.\n",
      "\n",
      "For example \"BANG!\" becomes \"BAANNNGGGG!!!!!\""
     ]
    },
    {
     "cell_type": "code",
     "collapsed": false,
     "input": [
      "def expand(word):\n",
      "    raise \"Todo\""
     ],
     "language": "python",
     "metadata": {},
     "outputs": []
    },
    {
     "cell_type": "markdown",
     "metadata": {},
     "source": [
      "Write a function \"string_value\" which takes a string, converts each letter to its ascii code (*hint: the ord function returns a characters ascii value*) and returns the sum of the strings ascii values.  For example cat -> [99, 97, 116] -> 312.  \n",
      "\n",
      "Then load the file `word_list/canadian-words.95` into a list and sort the list by the value returned by string_value"
     ]
    },
    {
     "cell_type": "code",
     "collapsed": false,
     "input": [],
     "language": "python",
     "metadata": {},
     "outputs": []
    },
    {
     "cell_type": "markdown",
     "metadata": {},
     "source": [
      "##Git/iPython Magics\n",
      "Load your repositories .gitignore file using ipython magics.  Modify the file so that it ignores files with the extension .ignoreme.  Write the file using ipython magics"
     ]
    },
    {
     "cell_type": "code",
     "collapsed": false,
     "input": [],
     "language": "python",
     "metadata": {},
     "outputs": []
    },
    {
     "cell_type": "markdown",
     "metadata": {},
     "source": [
      "## Pandas and Matplot Lib\n",
      "The CSV file called `temps.csv` contains the daily temperature recorded for a particular year at a particular meteorological station. Also given is the country and state where each \n",
      "station is located.\n",
      "\n",
      "Some of the entries are empty, which indicates \"undefined\"\n",
      "\n",
      "Create a data frame that summarizes the data by country and by state (IE a temperature for California should be included in both the California and the United States of America row).\n",
      "\n",
      "The summary data frame should have the following 7 columns:\n",
      "  * Country\n",
      "  * State (The word \"ALL\" for a country wide sumamry)\n",
      "  * Number of years recorded for this region\n",
      "  * The maximum temperature recorded in this region\n",
      "  * The minimum temperature recorded in this region\n",
      "  * The mean temperature for this region\n",
      "  * The number of undefined measurements \n",
      "  \n",
      "Sort the table by decreasing value of the mean temperature and print the first 10 rows.  "
     ]
    },
    {
     "cell_type": "code",
     "collapsed": false,
     "input": [
      "import pandas as pd\n",
      "import matplotlib.pyplot  as plt\n",
      "import numpy as np\n",
      "raw_data = pd.read_csv(\"temps.csv\")\n",
      "%pylab inline"
     ],
     "language": "python",
     "metadata": {},
     "outputs": []
    },
    {
     "cell_type": "markdown",
     "metadata": {},
     "source": [
      "Using the summary data frame produced before, make a bar plot showing the mean temperature of each state in the USA.  Label each bar with the state name.  Then put a line across all bars showing the mean temperature of the US.\n",
      "\n",
      "An example of the kind of plot we want is [here](http://static1.businessinsider.com/image/52e7cfeaecad04b858356443/here-are-the-states-with-the-highest-and-lowest-unemployment-rates.jpg).  You can make the plot either vertical or horizontal, whichever you think displays the data better."
     ]
    },
    {
     "cell_type": "code",
     "collapsed": false,
     "input": [],
     "language": "python",
     "metadata": {},
     "outputs": []
    },
    {
     "cell_type": "markdown",
     "metadata": {},
     "source": [
      "Using the raw data frame, pick the state with the highest mean and the lowest mean.  Plot the temperature on the first day of the year vs year for these two states as a line plot.  Make line for the highest mean state be red and the lowest mean state be blue.  Add a legend mapping from line color -> state name."
     ]
    },
    {
     "cell_type": "code",
     "collapsed": false,
     "input": [],
     "language": "python",
     "metadata": {},
     "outputs": []
    },
    {
     "cell_type": "markdown",
     "metadata": {},
     "source": [
      "#Choosing a regularization parameter using cross-validation.\n",
      "\n",
      "Throughout the course, we've used the SkLearn logistic regression model which use regularization to prevent overfitting. The parameter `C` defines the strength of the regularization. Choosing the value of `C` defines the trade-off between the training error and the complexity of the problem. The optimal value of `C` depends on the training data. In this excercise you will be guided to write code to choose a good value of `C`.\n",
      "\n",
      "An important concept in this context is that of a **Validation set**. The validation set is a subset of the data that is used in order to choose parameters of the learning algorithm. It is separate from the training set in that we don't allow the learning algorithm to use it. It is separate from the test set in that the test set is used after all training and parameter choosing is done. \n",
      "\n",
      "You can think of the validation set as an \"internal\" test set. It is used within the learning process to estimate what the eventual test error will be. The validation tests are similar to the internal quality assurance tests a factory would run while the test set is similar to the tests run by an external auditor.\n",
      "\n",
      "**Cross Validation** is the process of training a model using different a number of values of `C` and evaluating it on the validation set. The value of `C` that gives the lowest validation error is then used. The final test is to measure the performance of the resulting classifier on the test set.\n",
      "a **validation set**. A validation set is a random subset of the training examples whose role is similar to that of the test set. We use the validation set to \n",
      "\n",
      "Perform many splits into train/validation/test and make a box-whisker plot\n",
      "of the distributions of train/validation/test errors for each value of `C`. This should give a sense for why choosing the best `C` according to the validation  set is better than using the training set.\n",
      "\n",
      "---\n",
      "\n",
      "Using the below template, write a grid search parameter that trains a model for each value of `c` in `cs`, store the accuracy for each model in train_val_acc, test_val_acc and test_acc and then plot the test/validation/train accuracy vs c on the same plot (be sure to label the lines).\n",
      "\n",
      "Use penalty=\"l1\" when traiing a logistic regression model.  Use the DCT data set to learn your models on."
     ]
    },
    {
     "cell_type": "code",
     "collapsed": false,
     "input": [
      "from sklearn.linear_model import LogisticRegression\n",
      "\n",
      "cs = [10**x for x in range(-5,5)]\n",
      "test_acc = []\n",
      "train_val_acc = []\n",
      "test_val_acc = []\n"
     ],
     "language": "python",
     "metadata": {},
     "outputs": []
    },
    {
     "cell_type": "code",
     "collapsed": false,
     "input": [
      "#Load data for testing purposes\n",
      "train_x = pd.read_csv(\"../lecture_3_pandas_models_pylab/data/train\", sep=\"\\t\")\n",
      "train_y = train_x[\"label\"]\n",
      "del train_x[\"label\"]\n",
      "test_x = pd.read_csv(\"../lecture_3_pandas_models_pylab/data/test\", sep=\"\\t\")\n",
      "test_y = test_x[\"label\"]\n",
      "del test_x[\"label\"]\n",
      "\n",
      "num_folds = 10\n",
      "subset_train = len(train_x)/num_folds\n",
      "subset_test = len(test_y)/num_folds\n",
      "for i in range(num_folds):\n",
      "    train_val_x = train_x[:i*subset_val] + train_x[(i+1)*subset_val:]\n",
      "    train_val_y = train_y[:i*subset_val] + train_y[(i+1)*subset_val:]\n",
      "    test_val_x = train_x[i*subset_val:][:subset_val]\n",
      "    test_val_y = train_y[i*subset_val:][:subset_val]\n",
      "    #code for grid search here\n",
      "    #plot results here"
     ],
     "language": "python",
     "metadata": {},
     "outputs": []
    },
    {
     "cell_type": "code",
     "collapsed": false,
     "input": [],
     "language": "python",
     "metadata": {},
     "outputs": []
    },
    {
     "cell_type": "markdown",
     "metadata": {},
     "source": [
      "##Object Oriented Programming\n",
      "Assume you are working for a bank and have been tasked with implimenting objects to manage their accounts.  The architecht has given you this class to inherit from and wants you to impliment a number of unique account types."
     ]
    },
    {
     "cell_type": "code",
     "collapsed": false,
     "input": [
      "class Account:\n",
      "    def __init__(self, amount, rate):\n",
      "        \"\"\"Initializes the account, all account types have a starting amount and a rate\"\"\"\n",
      "        self.amount = amount\n",
      "        self.rate = rate\n",
      "        self.day = 0\n",
      "        \n",
      "    def balance(self):\n",
      "        \"\"\"Returns the balance of the account\"\"\"\n",
      "        return self.amount\n",
      "    \n",
      "    def deposit(self, amount):\n",
      "        \"\"\"Deposits money into the account depending on specific rules.\n",
      "           Returns true if the deposit is accepted and false if it is not\"\"\"\n",
      "        raise \"This is an abstract class\" \n",
      "    \n",
      "    def withdraw(self, amount):\n",
      "        \"\"\"Withdraws money from the account.\n",
      "           Returns true if the deposit is accepted and false if it is not\"\"\"\n",
      "        raise \"This is an abstract class\"\n",
      "        \n",
      "    def tick(self):\n",
      "        \"\"\"Called once a day, used to compute interest or any other logic that must occur every day\"\"\"\n",
      "        self.day = self.day + 1\n",
      "        self._tick_action()\n",
      "        \n",
      "    def _tick_action(self):\n",
      "        \"\"\"Logic that should happen on tick goes here\"\"\"\n",
      "        raise \"This is an abstract class\""
     ],
     "language": "python",
     "metadata": {},
     "outputs": []
    },
    {
     "cell_type": "markdown",
     "metadata": {},
     "source": [
      "As an example the architecht gives you the basic account class.  A basic account always accepts deposits but only accepts withdraws if customer withdraws less money than the current balance.  Additionally the interest is accumulated every day."
     ]
    },
    {
     "cell_type": "code",
     "collapsed": false,
     "input": [
      "class BasicAccount(Account):\n",
      "    def deposit(self, amount):\n",
      "        self.amount = self.amount + amount\n",
      "        return True\n",
      "    \n",
      "    def withdraw(self, amount):\n",
      "        \"\"\"Withdraws money from the account.\n",
      "           Returns true if the deposit is accepted and false if it is not\"\"\"\n",
      "        if( amount <= self.amount ):\n",
      "            self.amount = self.amount - amount\n",
      "            return True\n",
      "        else:\n",
      "            return False\n",
      "        \n",
      "    def _tick_action(self):\n",
      "        self.amount = self.amount + self.rate*self.amount"
     ],
     "language": "python",
     "metadata": {},
     "outputs": []
    },
    {
     "cell_type": "markdown",
     "metadata": {},
     "source": [
      "Your first task is to impliment the SuperSaverAccount class which is the same as the basic account except that it only accrues interest once every 30 days."
     ]
    },
    {
     "cell_type": "code",
     "collapsed": false,
     "input": [
      "class SuperSaverAccount(Account):\n",
      "    def deposit(self, amount):\n",
      "        raise \"Todo\"\n",
      "    \n",
      "    def withdraw(self, amount):\n",
      "        raise \"Todo\"\n",
      "        \n",
      "    def _tick_action(self):\n",
      "        raise \"Todo\""
     ],
     "language": "python",
     "metadata": {},
     "outputs": []
    },
    {
     "cell_type": "markdown",
     "metadata": {},
     "source": [
      "Now impliment the PlatinumAccount class.  The platinum account allows any withdraw or deposit; however, they don't go through until the end of the day.  At the end of the day all withdraws are processed and then all deposits are processed.  If the balance ever goes below 0, the balance is reduced by \\$100 as a penalty.  If the amount is above 0 at the end of the day, interest is added the same as a standard account.\n",
      "\n",
      "When inquiring about the balance, it should return the current amount of the account + pending deposits - pending withdraws but no any penalty"
     ]
    },
    {
     "cell_type": "code",
     "collapsed": false,
     "input": [
      "class PlatinumAccount(Account):\n",
      "    def __init__(self, amount, rate):\n",
      "        Account.__init__(self,amount, rate) \n",
      "        raise \"Todo\"\n",
      "\n",
      "    def deposit(self, amount):\n",
      "        raise \"Todo\"\n",
      "    \n",
      "    def withdraw(self, amount):\n",
      "        raise \"Todo\"\n",
      "        \n",
      "    def balance(self):\n",
      "        raise \"Todo\"\n",
      "        \n",
      "    def _tick_action(self):\n",
      "        raise \"Todo\""
     ],
     "language": "python",
     "metadata": {},
     "outputs": []
    },
    {
     "cell_type": "markdown",
     "metadata": {},
     "source": [
      "After you implemented the account classes, you are now tasked with implementing the bank class.  This class is responsible for managing a group of accounts.\n",
      "\n",
      "When an account is created, it is assigned a seiral number (the first account is 0, second 1, etc) and stored at the bank, this number is returned by create_account.  The customer then gives the account number whenever they want to perform an acction on the account."
     ]
    },
    {
     "cell_type": "code",
     "collapsed": false,
     "input": [
      "class Bank:\n",
      "    def __init__(self):\n",
      "        raise \"Todo\"\n",
      "    \n",
      "    def create_account(self,account):\n",
      "        \"\"\"Registers the `account` object with the bank.  Returns the account number assigned to this account\"\"\"\n",
      "        raise \"Todo\"\n",
      "        \n",
      "    def deposit(self, account_number, amount):\n",
      "        \"\"\"Looks up the account corrsponding to `account_number` and deposits `amount` into it\"\"\"\n",
      "        raise \"Todo\"\n",
      "\n",
      "    def withdraw(self, account_number, amount):\n",
      "        \"\"\"Looks up the account corrsponding to `account_number` and withdraws `amount` into it\"\"\"\n",
      "        raise \"Todo\"\n",
      "\n",
      "    def balance(self, account_number):\n",
      "        \"\"\"Looks up the account corrsponding to `account_number` and returns the balance\"\"\"\n",
      "        raise \"Todo\"\n",
      "        \n",
      "    def tick(self):\n",
      "        \"\"\"Called once per day, used to ensure all accounts get their interest and such computed\"\"\""
     ],
     "language": "python",
     "metadata": {},
     "outputs": []
    },
    {
     "cell_type": "code",
     "collapsed": false,
     "input": [
      "#After everythign is done this should only print True a bunch of times:\n",
      "\n",
      "bank = Bank()\n",
      "a = bank.create_account(BasicAccount(0,0.1))\n",
      "print bank.balance(a) == 0\n",
      "print bank.deposit(a,100) == True\n",
      "print bank.balance(a) == 100\n",
      "print bank.withdraw(a,1000) == False\n",
      "print bank.balance(a) == 100\n",
      "\n",
      "bank.tick()\n",
      "b = bank.create_account(PlatinumAccount(0,0.1))\n",
      "print bank.balance(b) == 0\n",
      "print bank.deposit(b,1000) == True\n",
      "print bank.withdraw(b,100) == True\n",
      "print bank.balance(b) == 900\n",
      "bank.tick()\n",
      "print bank.balance(b) == 880\n",
      "\n",
      "c = bank.create_account(SuperSaverAccount(0,0.1))\n",
      "print bank.deposit(c,100)\n",
      "for i in range(29):\n",
      "    bank.tick()\n",
      "    print bank.balance(c) == 100\n",
      "bank.tick()\n",
      "print bank.balance(c) == 110"
     ],
     "language": "python",
     "metadata": {},
     "outputs": []
    },
    {
     "cell_type": "markdown",
     "metadata": {},
     "source": [
      "## NLTK\n",
      "Read the documentation on the `nltk.stem.lancaster` module.  Use this to find the stems of all the words in the files     `word_list/american-words.95`, `word_list/canadian-words.95`, and `word_list/british-words.95`.\n",
      "\n",
      "For each file count the number of unique words before and after stemming.  Does this stemmer seem to be better at reducing the words in a specific file?"
     ]
    },
    {
     "cell_type": "code",
     "collapsed": false,
     "input": [
      "import nltk.stem.lancaster as stem\n"
     ],
     "language": "python",
     "metadata": {},
     "outputs": []
    },
    {
     "cell_type": "markdown",
     "metadata": {},
     "source": [
      "The file `sentiment` contains movie reviews along with a 0/1 tag of their \"sentiment\".   The format is:\n",
      "\n",
      "> Word1 word2 word3 (TAB) (Sentiment)\n",
      "\n",
      "Perform the following tasks:\n",
      "\n",
      "1. Load the data into a a list containing the sentences and a list containing the numeric sentiment2. Applt the lancaster stemmer to the words\n",
      "3. Convert word lists to bag of words dictionary (a dictionary where the words are the key and the value is 1 if it occurs in the phrase)  IE [stem1, stem2, stem3] becomes {stem1 -> 1, stem2 -> 1, stem3 -> 1}\n",
      "4. Use sklearn's [DictVectorizer](http://scikit-learn.org/stable/modules/generated/sklearn.feature_extraction.DictVectorizer.html#sklearn.feature_extraction.DictVectorizer) to ocnvert the bag of words dictionaries into a training matrix for sklearn. \n",
      "5. Train a logistic regression model on the bag of words matrix and report the accuracy on the training data."
     ]
    },
    {
     "cell_type": "code",
     "collapsed": false,
     "input": [],
     "language": "python",
     "metadata": {},
     "outputs": []
    }
   ],
   "metadata": {}
  }
 ]
}