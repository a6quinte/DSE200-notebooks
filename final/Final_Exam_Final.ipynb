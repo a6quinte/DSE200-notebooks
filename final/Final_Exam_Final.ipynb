{
 "metadata": {
  "name": "",
  "signature": "sha256:614461e5e54f0f3f8287810356af6c0b5c119d89a94302e28d68f2523518f53f"
 },
 "nbformat": 3,
 "nbformat_minor": 0,
 "worksheets": [
  {
   "cells": [
    {
     "cell_type": "markdown",
     "metadata": {},
     "source": [
      "#DSE 200 Final Exam\n",
      "There are **seven** problems listed below in approximatly increacing difficulty and length.\n",
      "Most problems involve just a couple lines of code denoted by comments within the code.\n",
      "If a problem seems to require a ton of code you are likely over thiking it and should try to find a simpler solution.\n",
      "\n",
      "Here are the topics of each problem:\n",
      "1. Exception Handling\n",
      "2. Unix Piping\n",
      "3. Directory Walking\n",
      "4. Linear Regression\n",
      "5. Object Oriented Model Selection\n",
      "6. Scaping\n",
      "7. Part of Speech Tagging\n",
      "\n",
      "This test is open internet; however, communication with your peers/others is strictly prohibited.  \n",
      "\n",
      "Good Luck!"
     ]
    },
    {
     "cell_type": "markdown",
     "metadata": {},
     "source": [
      "##Exception Handling\n",
      "\n",
      "Write a function to add two numbers, if either of the arguements is not an int or float, throw a new ArguementsMustBeNumbers exception."
     ]
    },
    {
     "cell_type": "code",
     "collapsed": false,
     "input": [
      "class ArguementsMustBeNumbers(Exception):\n",
      "    None"
     ],
     "language": "python",
     "metadata": {},
     "outputs": [],
     "prompt_number": 26
    },
    {
     "cell_type": "code",
     "collapsed": false,
     "input": [
      "def add_two(x,y):\n",
      "    if (not isinstance(x,(int,float))) or (not isinstance(y,(int,float))):\n",
      "        raise ArguementsMustBeNumbers()\n",
      "    return x+y"
     ],
     "language": "python",
     "metadata": {},
     "outputs": [],
     "prompt_number": 370
    },
    {
     "cell_type": "markdown",
     "metadata": {},
     "source": [
      "After this code is correctly implmented, the following code should print True 4 times (no exceptions should be uncaught)."
     ]
    },
    {
     "cell_type": "code",
     "collapsed": false,
     "input": [
      "print add_two(1,1)==2\n",
      "try:\n",
      "    add_two(\"t\",1)\n",
      "    print False\n",
      "except ArguementsMustBeNumbers:\n",
      "    print True\n",
      "try:\n",
      "    add_two(2,\"f\")\n",
      "    print False\n",
      "except ArguementsMustBeNumbers:\n",
      "    print True\n",
      "try:\n",
      "    add_two(\"t\",\"f\")\n",
      "    print False\n",
      "except ArguementsMustBeNumbers:\n",
      "    print True"
     ],
     "language": "python",
     "metadata": {},
     "outputs": [
      {
       "output_type": "stream",
       "stream": "stdout",
       "text": [
        "True\n",
        "True\n",
        "True\n",
        "True\n"
       ]
      }
     ],
     "prompt_number": 371
    },
    {
     "cell_type": "markdown",
     "metadata": {},
     "source": [
      "##Unix Piping \n",
      "\n",
      "Below we generate a file called ps_out which contains a details about all processes on our machine.  In particular it is a csv file containing the PID, Username which owns the process, and the percent of the CPU time occupied by it.\n",
      "\n",
      "We'll ask you to process this file using unix tools."
     ]
    },
    {
     "cell_type": "code",
     "collapsed": false,
     "input": [
      "#Do not modify this section\n",
      "!ps -Ao \"pid,user,%cpu\" | sed \"s/^ *//\" | sed \"s/  */,/g\" > ps_out\n",
      "!head ps_out"
     ],
     "language": "python",
     "metadata": {},
     "outputs": [
      {
       "output_type": "stream",
       "stream": "stdout",
       "text": [
        "PID,USER,%CPU\r\n",
        "1,root,0.0\r\n",
        "16,root,0.0\r\n",
        "17,root,0.0\r\n",
        "19,root,1.8\r\n",
        "20,root,0.0\r\n",
        "22,root,0.0\r\n",
        "23,root,0.0\r\n",
        "26,_appleevents,0.0\r\n",
        "27,root,0.0\r\n"
       ]
      }
     ],
     "prompt_number": 40
    },
    {
     "cell_type": "markdown",
     "metadata": {},
     "source": [
      "First using **only unix tools** count the number of processes by each user is running"
     ]
    },
    {
     "cell_type": "code",
     "collapsed": false,
     "input": [
      "!cat ps_out | cut -f 2 -d ',' | sort | uniq -c"
     ],
     "language": "python",
     "metadata": {},
     "outputs": [
      {
       "output_type": "stream",
       "stream": "stdout",
       "text": [
        "   1 USER\r\n",
        "   1 _appleevents\r\n",
        "   2 _coreaudiod\r\n",
        "   1 _distnote\r\n",
        "   1 _iconservices\r\n",
        "   1 _locationd\r\n",
        "   1 _mdnsresponder\r\n",
        "   1 _netbios\r\n",
        "   1 _networkd\r\n",
        "   1 _nsurlsessiond\r\n",
        "   1 _nsurlstoraged\r\n",
        "   1 _softwareupdate\r\n",
        "   3 _spotlight\r\n",
        "   1 _usbmuxd\r\n",
        "   1 _windowserver\r\n",
        " 116 a1quintero\r\n",
        "  85 root\r\n"
       ]
      }
     ],
     "prompt_number": 44
    },
    {
     "cell_type": "markdown",
     "metadata": {},
     "source": [
      "Now again using **only unix tools** find the pid which is using the largest cpu %.\n",
      "\n",
      "Your output should only be a single number (the process id consuming the largest cpu amount), i.e. `30048`"
     ]
    },
    {
     "cell_type": "code",
     "collapsed": false,
     "input": [
      "!grep `cat ps_out | cut -f 3 -d ',' | sort -r | head -1` ps_out | cut -f 1 -d ',' | head -1"
     ],
     "language": "python",
     "metadata": {},
     "outputs": [
      {
       "output_type": "stream",
       "stream": "stdout",
       "text": [
        "56340\r\n"
       ]
      }
     ],
     "prompt_number": 65
    },
    {
     "cell_type": "markdown",
     "metadata": {},
     "source": [
      "##Directory Walking\n",
      "\n",
      "Below we have written a program which uses os.walk, unix tools, and python to find the 3 longest files by line count within each directory under the /etc/ directory.\n",
      "\n",
      "However, it is currently has several problems which you are tasked with fixing.\n",
      "\n",
      "Here are the current problems which must be fixed:\n",
      "\n",
      "1. the output is not sorted by line count\n",
      "2. the \"total\" line listing the total lines across the directory is not a file and should be removed\n",
      "3. more than three files are being printed\n",
      "4. directories that contain no files are being printed\n",
      "\n",
      "These issues should be resolved by using a combintation of python and or unix commands.  Please ensure the output format is not changed."
     ]
    },
    {
     "cell_type": "code",
     "collapsed": false,
     "input": [
      "import os\n",
      "from itertools import chain,groupby\n",
      "for d,ds,fs in os.walk(\"/etc\"):\n",
      "    #TODO: 1) Make output sorted by line count        DONE\n",
      "    #      2) Remove the Total line                   DONE\n",
      "    #      3) Limit to 3 files per directory          DONE  \n",
      "    #      4) Ignore directories containing no files  DONE\n",
      "    \n",
      "    lines = !wc -l $d/* 2> /dev/null | sed \"s/^ *//\"\n",
      "\n",
      "    files = []\n",
      "    for line in lines:\n",
      "        try:\n",
      "            fields = line.split(\" \")\n",
      "            if fields[1]=='total':                  # skipping total\n",
      "                continue\n",
      "            files.append((int(fields[0]),fields[1]))\n",
      "        except ValueError:\n",
      "            print \"Bad line: \" + line\n",
      "    \n",
      "    if len(files)==0:                               # skipping empty dirs\n",
      "        continue\n",
      "\n",
      "    files = sorted(files, reverse = True)           # sorting\n",
      "\n",
      "    if len(files) > 3:                              # getting top 3\n",
      "        files = files[:3]\n",
      "    \n",
      "    print \"Longest files in \" + d + \":\"\n",
      "        \n",
      "    for lc, f in files:\n",
      "        print \"\\t%s\\t%d\" %(f,lc)\n",
      "    print"
     ],
     "language": "python",
     "metadata": {},
     "outputs": [
      {
       "output_type": "stream",
       "stream": "stdout",
       "text": [
        "Longest files in /etc:\n",
        "\t/etc/services\t13921\n",
        "\t/etc/authorization.deprecated\t8825\n",
        "\t/etc/php.ini.default\t1939\n",
        "\n"
       ]
      },
      {
       "output_type": "stream",
       "stream": "stdout",
       "text": [
        "Longest files in /etc/apache2:\n",
        "\t/etc/apache2/mime.types\t1596\n",
        "\t/etc/apache2/httpd.conf\t540\n",
        "\t/etc/apache2/httpd.conf~previous\t501\n",
        "\n"
       ]
      },
      {
       "output_type": "stream",
       "stream": "stdout",
       "text": [
        "Longest files in /etc/apache2/extra:\n",
        "\t/etc/apache2/extra/httpd-ssl.conf\t255\n",
        "\t/etc/apache2/extra/httpd-ssl.conf~orig\t249\n",
        "\t/etc/apache2/extra/httpd-languages.conf\t141\n",
        "\n"
       ]
      },
      {
       "output_type": "stream",
       "stream": "stdout",
       "text": [
        "Longest files in /etc/apache2/original:\n",
        "\t/etc/apache2/original/httpd.conf\t540\n",
        "\n"
       ]
      },
      {
       "output_type": "stream",
       "stream": "stdout",
       "text": [
        "Longest files in /etc/apache2/original/extra:\n",
        "\t/etc/apache2/original/extra/httpd-ssl.conf\t249\n",
        "\t/etc/apache2/original/extra/httpd-languages.conf\t141\n",
        "\t/etc/apache2/original/extra/httpd-mpm.conf\t119\n",
        "\n"
       ]
      },
      {
       "output_type": "stream",
       "stream": "stdout",
       "text": [
        "Longest files in /etc/apache2/other:\n",
        "\t/etc/apache2/other/php5.conf\t8\n",
        "\n"
       ]
      },
      {
       "output_type": "stream",
       "stream": "stdout",
       "text": [
        "Longest files in /etc/apache2/users:\n",
        "\t/etc/apache2/users/stscr.conf\t6\n",
        "\t/etc/apache2/users/a1quintero.conf\t6\n",
        "\t/etc/apache2/users/Guest.conf\t6\n",
        "\n"
       ]
      },
      {
       "output_type": "stream",
       "stream": "stdout",
       "text": [
        "Longest files in /etc/asl:\n",
        "\t/etc/asl/com.apple.securityd\t28\n",
        "\t/etc/asl/com.apple.networking.symptoms\t23\n",
        "\t/etc/asl/com.apple.icloud.FindMyDevice\t19\n",
        "\n"
       ]
      },
      {
       "output_type": "stream",
       "stream": "stdout",
       "text": [
        "Longest files in /etc/cups:\n",
        "\t/etc/cups/cupsd.conf.pre-update\t186\n",
        "\t/etc/cups/cupsd.conf\t176\n",
        "\t/etc/cups/cupsd.conf.default\t175\n",
        "\n"
       ]
      },
      {
       "output_type": "stream",
       "stream": "stdout",
       "text": [
        "Longest files in /etc/cups/ppd:\n",
        "\t/etc/cups/ppd/_172_19_151_3.ppd\t1087\n",
        "\t/etc/cups/ppd/_172_19_151_11.ppd\t1087\n",
        "\n"
       ]
      },
      {
       "output_type": "stream",
       "stream": "stdout",
       "text": [
        "Longest files in /etc/defaults:\n",
        "\t/etc/defaults/periodic.conf\t139\n",
        "\n"
       ]
      },
      {
       "output_type": "stream",
       "stream": "stdout",
       "text": [
        "Longest files in /etc/emond.d:\n",
        "\t/etc/emond.d/emond.plist\t39\n",
        "\n"
       ]
      },
      {
       "output_type": "stream",
       "stream": "stdout",
       "text": [
        "Longest files in /etc/emond.d/rules:\n",
        "\t/etc/emond.d/rules/SampleRules.plist\t38\n",
        "\n"
       ]
      },
      {
       "output_type": "stream",
       "stream": "stdout",
       "text": [
        "Longest files in /etc/newsyslog.d:\n",
        "\t/etc/newsyslog.d/wifi.conf\t2\n",
        "\t/etc/newsyslog.d/files.conf\t2\n",
        "\t/etc/newsyslog.d/com.apple.xscertd.conf\t2\n",
        "\n"
       ]
      },
      {
       "output_type": "stream",
       "stream": "stdout",
       "text": [
        "Longest files in /etc/openldap:\n",
        "\t/etc/openldap/AppleOpenLDAP.plist\t4761\n",
        "\t/etc/openldap/ldap.conf.default\t15\n",
        "\t/etc/openldap/ldap.conf\t15\n",
        "\n"
       ]
      },
      {
       "output_type": "stream",
       "stream": "stdout",
       "text": [
        "Longest files in /etc/openldap/schema:\n",
        "\t/etc/openldap/schema/microsoft.ext.schema\t5383\n",
        "\t/etc/openldap/schema/microsoft.schema\t4835\n",
        "\t/etc/openldap/schema/cosine.schema\t2571\n",
        "\n"
       ]
      },
      {
       "output_type": "stream",
       "stream": "stdout",
       "text": [
        "Longest files in /etc/pam.d:\n",
        "\t/etc/pam.d/sshd\t11\n",
        "\t/etc/pam.d/login\t11\n",
        "\t/etc/pam.d/su\t7\n",
        "\n"
       ]
      },
      {
       "output_type": "stream",
       "stream": "stdout",
       "text": [
        "Longest files in /etc/paths.d:\n",
        "\t/etc/paths.d/git\t1\n",
        "\t/etc/paths.d/40-XQuartz\t1\n",
        "\n"
       ]
      },
      {
       "output_type": "stream",
       "stream": "stdout",
       "text": [
        "Longest files in /etc/periodic/daily:\n",
        "\t/etc/periodic/daily/110.clean-tmps\t61\n",
        "\t/etc/periodic/daily/310.accounting\t56\n",
        "\t/etc/periodic/daily/140.clean-rwho\t53\n",
        "\n"
       ]
      },
      {
       "output_type": "stream",
       "stream": "stdout",
       "text": [
        "Longest files in /etc/periodic/monthly:\n",
        "\t/etc/periodic/monthly/200.accounting\t52\n",
        "\t/etc/periodic/monthly/999.local\t35\n",
        "\t/etc/periodic/monthly/199.rotate-fax\t26\n",
        "\n"
       ]
      },
      {
       "output_type": "stream",
       "stream": "stdout",
       "text": [
        "Longest files in /etc/periodic/weekly:\n",
        "\t/etc/periodic/weekly/320.whatis\t51\n",
        "\t/etc/periodic/weekly/999.local\t35\n",
        "\n"
       ]
      },
      {
       "output_type": "stream",
       "stream": "stdout",
       "text": [
        "Longest files in /etc/pf.anchors:\n",
        "\t/etc/pf.anchors/com.apple\t17\n",
        "\n"
       ]
      },
      {
       "output_type": "stream",
       "stream": "stdout",
       "text": [
        "Longest files in /etc/postfix:\n",
        "\t/etc/postfix/main.cf\t666\n",
        "\t/etc/postfix/main.cf.default\t657\n",
        "\t/etc/postfix/header_checks\t496\n",
        "\n"
       ]
      },
      {
       "output_type": "stream",
       "stream": "stdout",
       "text": [
        "Longest files in /etc/racoon:\n",
        "\t/etc/racoon/racoon.conf\t138\n",
        "\n"
       ]
      },
      {
       "output_type": "stream",
       "stream": "stdout",
       "text": [
        "Longest files in /etc/security:\n",
        "\t/etc/security/audit_event\t682\n",
        "\t/etc/security/audit_warn\t44\n",
        "\t/etc/security/audit_class\t23\n",
        "\n"
       ]
      },
      {
       "output_type": "stream",
       "stream": "stdout",
       "text": [
        "Longest files in /etc/snmp:\n",
        "\t/etc/snmp/snmpd.conf.default\t433\n",
        "\t/etc/snmp/snmpd.conf\t433\n",
        "\n"
       ]
      }
     ],
     "prompt_number": 85
    },
    {
     "cell_type": "markdown",
     "metadata": {},
     "source": [
      "##Linear Regression\n",
      "\n",
      "In the file linear.csv there is a set of 100 x,y pairs of numbers in csv format.\n",
      "\n",
      "About 10% of the lines have a missing y value.\n",
      "\n",
      "Your goal is to do the following:\n",
      "\n",
      "1. Preprocess the data to remove any points with a missing y value\n",
      "2. Fit a linear regression model using sklearn's LinearRegression package\n",
      "3. Plot a scatter plot of the populated x,y pairs as blue points and the best fit linear regression line in red"
     ]
    },
    {
     "cell_type": "code",
     "collapsed": false,
     "input": [
      "!head linear.csv"
     ],
     "language": "python",
     "metadata": {},
     "outputs": [
      {
       "output_type": "stream",
       "stream": "stdout",
       "text": [
        "x,y\r\n",
        "82.583219816,134.907413693\r\n",
        "73.9224661817,134.085179509\r\n",
        "34.887445362,\r\n",
        "61.8399826861,114.53063758\r\n",
        "16.7759402494,31.3764373092\r\n",
        "0.0167373359582,8.76463416457\r\n",
        "44.4576464588,73.2853412777\r\n",
        "10.3449093045,18.8598646606\r\n",
        "42.767132286,72.9466085965\r\n"
       ]
      }
     ],
     "prompt_number": 87
    },
    {
     "cell_type": "code",
     "collapsed": false,
     "input": [
      "#Do not modify\n",
      "import numpy as np\n",
      "import pandas as pd\n",
      "from sklearn.linear_model import LinearRegression\n",
      "%pylab inline\n",
      "import matplotlib.pyplot as plt\n",
      "data = pd.read_csv(\"./linear.csv\")\n",
      "data.head()"
     ],
     "language": "python",
     "metadata": {},
     "outputs": [
      {
       "output_type": "stream",
       "stream": "stdout",
       "text": [
        "Populating the interactive namespace from numpy and matplotlib\n"
       ]
      },
      {
       "html": [
        "<div style=\"max-height:1000px;max-width:1500px;overflow:auto;\">\n",
        "<table border=\"1\" class=\"dataframe\">\n",
        "  <thead>\n",
        "    <tr style=\"text-align: right;\">\n",
        "      <th></th>\n",
        "      <th>x</th>\n",
        "      <th>y</th>\n",
        "    </tr>\n",
        "  </thead>\n",
        "  <tbody>\n",
        "    <tr>\n",
        "      <th>0</th>\n",
        "      <td> 82.583220</td>\n",
        "      <td> 134.907414</td>\n",
        "    </tr>\n",
        "    <tr>\n",
        "      <th>1</th>\n",
        "      <td> 73.922466</td>\n",
        "      <td> 134.085180</td>\n",
        "    </tr>\n",
        "    <tr>\n",
        "      <th>2</th>\n",
        "      <td> 34.887445</td>\n",
        "      <td>        NaN</td>\n",
        "    </tr>\n",
        "    <tr>\n",
        "      <th>3</th>\n",
        "      <td> 61.839983</td>\n",
        "      <td> 114.530638</td>\n",
        "    </tr>\n",
        "    <tr>\n",
        "      <th>4</th>\n",
        "      <td> 16.775940</td>\n",
        "      <td>  31.376437</td>\n",
        "    </tr>\n",
        "  </tbody>\n",
        "</table>\n",
        "</div>"
       ],
       "metadata": {},
       "output_type": "pyout",
       "prompt_number": 89,
       "text": [
        "           x           y\n",
        "0  82.583220  134.907414\n",
        "1  73.922466  134.085180\n",
        "2  34.887445         NaN\n",
        "3  61.839983  114.530638\n",
        "4  16.775940   31.376437"
       ]
      }
     ],
     "prompt_number": 89
    },
    {
     "cell_type": "markdown",
     "metadata": {},
     "source": [
      "1. Preprocess the data to remove any points with a missing y value"
     ]
    },
    {
     "cell_type": "code",
     "collapsed": false,
     "input": [
      "training_data = data[ np.isfinite(data['y'] )]  # removed rows where y was bad\n",
      "print training_data.x.shape, training_data.y.shape\n",
      "\n",
      "x = training_data.x.values\n",
      "y = training_data.y.values\n"
     ],
     "language": "python",
     "metadata": {},
     "outputs": [
      {
       "output_type": "stream",
       "stream": "stdout",
       "text": [
        "(92,) (92,)\n",
        "<type 'numpy.ndarray'> <type 'numpy.ndarray'>\n"
       ]
      }
     ],
     "prompt_number": 181
    },
    {
     "cell_type": "markdown",
     "metadata": {},
     "source": [
      "Fit a linear regression model using sklearn's LinearRegression package"
     ]
    },
    {
     "cell_type": "code",
     "collapsed": false,
     "input": [
      "mdl = LinearRegression()\n",
      "\n",
      "mdl.fit(x[:,np.newaxis],y)\n",
      "\n",
      "# keep getting tuple error, which i don't understand why\n",
      "\n",
      "#Print formula so we can see the best fit line\n",
      "m =  mdl.coef_[0]\n",
      "b =  mdl.intercept_\n",
      "print \"formula: y = %f x + %f\" % (m,b)"
     ],
     "language": "python",
     "metadata": {},
     "outputs": [
      {
       "output_type": "stream",
       "stream": "stdout",
       "text": [
        "formula: y = 1.583197 x + 4.470197\n"
       ]
      }
     ],
     "prompt_number": 187
    },
    {
     "cell_type": "markdown",
     "metadata": {},
     "source": [
      "Plot a scatter plot of the populated x,y pairs as blue points and the best fit linear regression line in red"
     ]
    },
    {
     "cell_type": "code",
     "collapsed": false,
     "input": [
      "#Todo\n",
      "minx = np.min(x)\n",
      "maxx = np.max(x)\n",
      "miny = m*minx + b\n",
      "maxy = m*maxx + b\n",
      "\n",
      "\n",
      "plt.figure()\n",
      "plt.scatter(x, y)\n",
      "plt.plot([minx, maxx], [miny,maxy], color='r')\n"
     ],
     "language": "python",
     "metadata": {},
     "outputs": [
      {
       "metadata": {},
       "output_type": "pyout",
       "prompt_number": 195,
       "text": [
        "[<matplotlib.lines.Line2D at 0x109c9a590>]"
       ]
      },
      {
       "metadata": {},
       "output_type": "display_data",
       "png": "[encoded data removed]",
       "text": [
        "<matplotlib.figure.Figure at 0x109ca5490>"
       ]
      }
     ],
     "prompt_number": 195
    },
    {
     "cell_type": "markdown",
     "metadata": {},
     "source": [
      "##Object Oriented Model Selection\n",
      "\n",
      "Throughout the quarter, several problems have involved choosing the best model from a set of candidate models to get the best accuracy.\n",
      "\n",
      "Besides using it for selecting model hyperparmeters (as in grid search) or features, you can also use it to select the modeling techniques.  \n",
      "\n",
      "This problem is in two steps:\n",
      "\n",
      "1. We define four models by inheriting from a base model class.\n",
      "2. We use train/test errors to choose the best model\n",
      "\n",
      "#### The base model\n",
      "We'll make each technique implement a common interface BaseModel given below. "
     ]
    },
    {
     "cell_type": "code",
     "collapsed": false,
     "input": [
      "# Do not modify this code\n",
      "class BaseModel:\n",
      "    def __init__(self, train_x, train_y):\n",
      "        \"\"\"Abstract constructor, subclasses should train a model of their type here and store\n",
      "           it in a way that predict can be used to compute predictions\"\"\"\n",
      "        raise Exception(\"This is an abstract class\")\n",
      "        \n",
      "    def predict(self, x):\n",
      "        \"\"\"Abstract method to compute a single prediction given a single example x\"\"\"\n",
      "        raise Exception(\"This is an abstract class\")\n",
      "        \n",
      "    def score(self, xs, ys):\n",
      "        \"\"\"Returns the accuracy of this model using xs as a list of inputs and ys as a list of correct values.\"\"\"\n",
      "        return sum([(self.predict(x)-y)**2 for x,y in zip(xs,ys)])/len(xs)\n",
      "    "
     ],
     "language": "python",
     "metadata": {},
     "outputs": [],
     "prompt_number": 196
    },
    {
     "cell_type": "markdown",
     "metadata": {},
     "source": [
      "Now that you have implemented the BaseModel, implement a class for LinearModel, QuadraticModel, CubicModel, and QuarticModel. Use numpy's [polyfit](http://docs.scipy.org/doc/numpy/reference/generated/numpy.polyfit.html) function to find the coefficients ($a_i$) using the training data given as parameters `train_x, train_y` to the constructor.\n",
      "\n",
      "The input to each model is the variable $x$ and the output is the variable $y$.  $a_i$ refers to the coefficients found by polyfit.\n",
      "\n",
      "* **LinearModel** $y=a_1x+a_0$\n",
      "* **QuadraticModel** $y=a_2x^2+a_1x+a_0$\n",
      "* **CubicModel** $y=a_3x^3+a_2x^2+a_1x+a_0$\n",
      "* **QuarticModel** $y=a_4x^4+a_3x^3+a_2x^2+a_1x+a_0$\n"
     ]
    },
    {
     "cell_type": "code",
     "collapsed": false,
     "input": [
      "from numpy import polyfit\n",
      "\n",
      "class LinearModel(BaseModel):\n",
      "\n",
      "    def __init__(self, train_x, train_y):\n",
      "        #calculate coefficients\n",
      "        self.coeffs = polyfit(train_x, train_y, 1)\n",
      "        \n",
      "    def predict(self, x):\n",
      "        #use coeficients/formula to compute solution\n",
      "        y = (self.coeffs[0]*x + \n",
      "             self.coeffs[1])\n",
      "        return y"
     ],
     "language": "python",
     "metadata": {},
     "outputs": [],
     "prompt_number": 315
    },
    {
     "cell_type": "code",
     "collapsed": false,
     "input": [
      "class QuadraticModel(BaseModel):\n",
      "    def __init__(self, train_x, train_y):\n",
      "        #calculate coefficients\n",
      "        self.coeffs = polyfit(train_x, train_y, 2)\n",
      "        \n",
      "    def predict(self, x):\n",
      "        y = (self.coeffs[0]*np.power(x,2) +\n",
      "             self.coeffs[1]*np.power(x,1) + \n",
      "             self.coeffs[2])\n",
      "        return y"
     ],
     "language": "python",
     "metadata": {},
     "outputs": [],
     "prompt_number": 316
    },
    {
     "cell_type": "code",
     "collapsed": false,
     "input": [
      "class CubicModel(BaseModel):\n",
      "    def __init__(self, train_x, train_y):\n",
      "        #calculate coefficients\n",
      "        self.coeffs = polyfit(train_x, train_y, 3)\n",
      "        \n",
      "    def predict(self, x):\n",
      "        y = (self.coeffs[0]*np.power(x,3) + \n",
      "             self.coeffs[1]*np.power(x,2) +\n",
      "             self.coeffs[2]*np.power(x,1) + \n",
      "             self.coeffs[3] )\n",
      "        return y"
     ],
     "language": "python",
     "metadata": {},
     "outputs": [],
     "prompt_number": 317
    },
    {
     "cell_type": "code",
     "collapsed": false,
     "input": [
      "class QuarticModel(BaseModel):\n",
      "    def __init__(self, train_x, train_y):\n",
      "        #calculate coefficients\n",
      "        self.coeffs = polyfit(train_x, train_y, 4)\n",
      "        \n",
      "    def predict(self, x):\n",
      "        y = (self.coeffs[0]*np.power(x,4) + \n",
      "             self.coeffs[1]*np.power(x,3) +\n",
      "             self.coeffs[2]*np.power(x,2) + \n",
      "             self.coeffs[3]*np.power(x,1) +\n",
      "             self.coeffs[4])\n",
      "        return y"
     ],
     "language": "python",
     "metadata": {},
     "outputs": [],
     "prompt_number": 318
    },
    {
     "cell_type": "markdown",
     "metadata": {},
     "source": [
      "Now we evaluate each of these techniques on our data.  Fill in the parts of the function marked \"TODO\" below."
     ]
    },
    {
     "cell_type": "code",
     "collapsed": false,
     "input": [
      "#Load Data, do not modify\n",
      "train = pd.read_csv(\"train_data.csv\")\n",
      "valid = pd.read_csv(\"validation_data.csv\")\n",
      "train_x = train[\"x\"].tolist()\n",
      "train_y = train[\"y\"].tolist()\n",
      "valid_x = valid[\"x\"].tolist()\n",
      "valid_y = valid[\"y\"].tolist()"
     ],
     "language": "python",
     "metadata": {},
     "outputs": [],
     "prompt_number": 319
    },
    {
     "cell_type": "code",
     "collapsed": false,
     "input": [
      "techniques = [LinearModel, QuadraticModel, CubicModel, QuarticModel]\n",
      "\n",
      "train_error = []\n",
      "valid_error = []\n",
      "thisMinVerr = 10000000000.\n",
      "bestTech    = 'Na'\n",
      "for technique in techniques:\n",
      "    mdl = technique(train_x,train_y)\n",
      "    \n",
      "    thisME = mdl.score(train_x,train_y)\n",
      "    thisVE = mdl.score(valid_x,valid_y)\n",
      "    \n",
      "    train_error.append(thisME)\n",
      "    valid_error.append(thisVE)\n",
      "    \n",
      "    if thisVE < thisMinVerr:      # getting best technique\n",
      "        thisMinVerr = thisVE\n",
      "        bestTech = technique\n",
      "    \n",
      "#Todo: Find technique with minimum validation error\n",
      "print bestTech\n",
      "print valid_error"
     ],
     "language": "python",
     "metadata": {},
     "outputs": [
      {
       "output_type": "stream",
       "stream": "stdout",
       "text": [
        "__main__.QuarticModel\n",
        "[138753.642824724, 134652.97538987597, 44986.752958761092, 43037.706819002262]\n"
       ]
      }
     ],
     "prompt_number": 323
    },
    {
     "cell_type": "markdown",
     "metadata": {},
     "source": [
      "Finally plot the training and validation error on the same plot.  Have a legend denoting which line is validation/training error."
     ]
    },
    {
     "cell_type": "code",
     "collapsed": false,
     "input": [
      "#Todo: Plot data\n",
      "\n",
      "fitOrd = range(1,5)\n",
      "\n",
      "plt.figure()\n",
      "plt.plot(fitOrd, train_error, 'k--', label='Train Error')\n",
      "plt.plot(fitOrd, valid_error,  'k', label='Valid. Error')\n",
      "plt.xlabel('Fit Order')\n",
      "plt.ylabel( 'Error')\n",
      "plt.legend(loc='best')"
     ],
     "language": "python",
     "metadata": {},
     "outputs": [
      {
       "metadata": {},
       "output_type": "pyout",
       "prompt_number": 339,
       "text": [
        "<matplotlib.legend.Legend at 0x10c11d050>"
       ]
      },
      {
       "metadata": {},
       "output_type": "display_data",
       "png": "[encoded data removed]",
       "text": [
        "<matplotlib.figure.Figure at 0x10bf083d0>"
       ]
      }
     ],
     "prompt_number": 339
    },
    {
     "cell_type": "markdown",
     "metadata": {},
     "source": [
      "##Scraping\n",
      "\n",
      "Started as a travel journal, Lonely Planet has gone on to become the world\u2019s most successful travel publisher, and they maintain an award winning website giving all the necessary details a traveller could ask for. \n",
      "In this question we will try to use their website lonelyplanet.com to find the top sightseeing places in San diego and how far they are from our current location\n",
      "\n",
      "In order to do this, we will scrape the website to find the top sightseeing places and develop a table containing the name of the place and its corresponding latitude, longitude values. We will then define a function to calculate distance between two points given their latitude and longitude.\n",
      "\n",
      "You can take your current location as UCSD Rady School of Management, with Latitude 32.88661 and longitude -117.24128"
     ]
    },
    {
     "cell_type": "markdown",
     "metadata": {},
     "source": [
      "<font color=\"red\">**NOTE:**</font>\n",
      "\n",
      "If the following cell gives an error about  `No Module Named bs4` please execute the following command in a *terminal* (sudo doesn't work right within iPython Notebook)\n",
      "\n",
      "`sudo pip install BeautifulSoup4`"
     ]
    },
    {
     "cell_type": "code",
     "collapsed": false,
     "input": [
      "#Do not modify\n",
      "from bs4 import BeautifulSoup\n",
      "import requests\n",
      "import urllib\n",
      "import pandas as pd\n",
      "import re"
     ],
     "language": "python",
     "metadata": {},
     "outputs": [],
     "prompt_number": 372
    },
    {
     "cell_type": "markdown",
     "metadata": {},
     "source": [
      "Here we download the index of san diego sights for us to process."
     ]
    },
    {
     "cell_type": "code",
     "collapsed": false,
     "input": [
      "#Do not modify\n",
      "website = \"http://www.lonelyplanet.com\"\n",
      "country = \"usa\"\n",
      "city = \"san-diego\"\n",
      "scrape_topic = \"sights\"\n",
      "base_url = website+\"/\"+country+\"/\"+city+\"/\"+scrape_topic+\"/\"\n",
      "r  = requests.get(base_url)\n",
      "data = r.text\n",
      "soup = BeautifulSoup(data)"
     ],
     "language": "python",
     "metadata": {},
     "outputs": [],
     "prompt_number": 373
    },
    {
     "cell_type": "code",
     "collapsed": false,
     "input": [
      "print country, city, scrape_topic"
     ],
     "language": "python",
     "metadata": {},
     "outputs": [
      {
       "output_type": "stream",
       "stream": "stdout",
       "text": [
        "usa san-diego sights\n"
       ]
      }
     ],
     "prompt_number": 376
    },
    {
     "cell_type": "markdown",
     "metadata": {},
     "source": [
      "Once you have retrieved the entire data from the website, the next step is to extract the URLs corresponding to specific sights.\n",
      "\n",
      "In order to do so, we need to define a regular expression for the links in which we are interested. \n",
      "\n",
      "Browsing the HTML of the site we find URLs of the following type\n",
      "\n",
      "    1. /usa/san-diego/sights/\n",
      "    2. /usa/san-diego/sights/nature-wildlife/san-diego-zoo\n",
      "    3. /usa/san-diego/sights/architecture/hotel-del-coronado\n",
      "    4. /usa/san-diego/sights/?page2=id\n",
      "    5. /usa/san-diego/sights/?page1=id+data=x \n",
      "\n",
      "URLs like 2,3 correspond to pages of sights that we are interested in. On the other hand, URLs like 1,4,5 correspond to other information which is not of interest.\n",
      " \n",
      "Write a regex pattern which parses all links starting with /usa/san-diego/sights/ followed by more characters. Make sure that the pattern does not allow links with question marks such as 4,5."
     ]
    },
    {
     "cell_type": "code",
     "collapsed": false,
     "input": [
      "pattern =  '/'+'/'.join([country,city,scrape_topic])+'/'+'\\w[^\\?]\\w'\n",
      "print pattern"
     ],
     "language": "python",
     "metadata": {},
     "outputs": [
      {
       "output_type": "stream",
       "stream": "stdout",
       "text": [
        "/usa/san-diego/sights/\\w[^\\?]\\w\n"
       ]
      }
     ],
     "prompt_number": 390
    },
    {
     "cell_type": "markdown",
     "metadata": {},
     "source": [
      "Here is the code to extract your the sights using your pattern.  Double check that the links look to match the pattern you expect."
     ]
    },
    {
     "cell_type": "code",
     "collapsed": false,
     "input": [
      "#Do not modify\n",
      "url_list = []\n",
      "for link in soup.find_all('a',href=re.compile(pattern)):\n",
      "    url_list.append(link.get('href'))\n",
      "url_list"
     ],
     "language": "python",
     "metadata": {},
     "outputs": [
      {
       "metadata": {},
       "output_type": "pyout",
       "prompt_number": 391,
       "text": [
        "['/usa/san-diego/sights/nature-wildlife/san-diego-zoo',\n",
        " '/usa/san-diego/sights/architecture/hotel-del-coronado',\n",
        " '/usa/san-diego/sights/historic/old-town-state-historic-park',\n",
        " '/usa/san-diego/sights/museums-galleries/uss-midway-museum',\n",
        " '/usa/san-diego/sights/museums-galleries/maritime-museum',\n",
        " '/usa/san-diego/sights/museums-galleries/new-childrens-museum',\n",
        " '/usa/san-diego/sights/arts-culture-literary/san-diego-main-library',\n",
        " '/usa/san-diego/sights/arts-culture-literary/spreckels-organ-pavilion',\n",
        " '/usa/san-diego/sights/museums-galleries/museum-contemporary-art-san-diego-la-jolla',\n",
        " '/usa/san-diego/sights/museums-galleries/mingei-international-museum',\n",
        " '/usa/san-diego/sights/museums-galleries/california-surf-museum/item-a-1424314-id',\n",
        " '/usa/san-diego/sights/natural-landmarks/cave-store/item-a-1400178-id']"
       ]
      }
     ],
     "prompt_number": 391
    },
    {
     "cell_type": "markdown",
     "metadata": {},
     "source": [
      "Now we extract the information about each sight, we provide the `makeRecord` function that takes a beutiful soup object and returns a Dictionary containing the location name, latitude, and longitude."
     ]
    },
    {
     "cell_type": "code",
     "collapsed": false,
     "input": [
      "#Do not modify\n",
      "def makeRecord(soup):\n",
      "    record = {}\n",
      "    record[\"title\"] = soup.find('h1').get_text().strip()\n",
      "    for div in soup.find_all('div'):\n",
      "        if div.has_attr('data-latitude'):\n",
      "            record[\"latitude\"] =div['data-latitude'] \n",
      "        if div.has_attr('data-longitude'):\n",
      "            record[\"longitude\"] =div['data-longitude'] \n",
      "    return record\n"
     ],
     "language": "python",
     "metadata": {},
     "outputs": [],
     "prompt_number": 395
    },
    {
     "cell_type": "markdown",
     "metadata": {},
     "source": [
      "Now loop through the sights pages you found and make records for each.  Fill in the template with the requested actions."
     ]
    },
    {
     "cell_type": "code",
     "collapsed": false,
     "input": [
      "website = \"http://www.lonelyplanet.com\"\n",
      "sights_list = []\n",
      "\n",
      "for url in url_list:\n",
      "    new_url = website+url\n",
      "    r    = requests.get(website+url)         #Use requests to get web page data\n",
      "    soup = BeautifulSoup(r.text)         #Make a beutiful soup object of pulled data\n",
      "    rec  = makeRecord(soup)\n",
      "    sights_list.append(rec)\n",
      "    \n",
      "sights_list"
     ],
     "language": "python",
     "metadata": {},
     "outputs": [
      {
       "metadata": {},
       "output_type": "pyout",
       "prompt_number": 401,
       "text": [
        "[{'latitude': '32.735288',\n",
        "  'longitude': '-117.151517',\n",
        "  'title': u'San Diego Zoo'},\n",
        " {'latitude': '32.67987211',\n",
        "  'longitude': '-117.18040515',\n",
        "  'title': u'Hotel del Coronado'},\n",
        " {'latitude': '32.755146',\n",
        "  'longitude': '-117.19815',\n",
        "  'title': u'Old Town State Historic Park'},\n",
        " {'latitude': '32.714365',\n",
        "  'longitude': '-117.173666',\n",
        "  'title': u'USS Midway Museum'},\n",
        " {'latitude': '32.720795',\n",
        "  'longitude': '-117.173303',\n",
        "  'title': u'Maritime Museum'},\n",
        " {'latitude': '32.710639',\n",
        "  'longitude': '-117.164257',\n",
        "  'title': u'New Children\\u2019s Museum'},\n",
        " {'latitude': '32.708824',\n",
        "  'longitude': '-117.154083',\n",
        "  'title': u'San Diego Main Library'},\n",
        " {'latitude': '32.729363',\n",
        "  'longitude': '-117.150389',\n",
        "  'title': u'Spreckels Organ Pavilion'},\n",
        " {'latitude': '32.844404',\n",
        "  'longitude': '-117.278012',\n",
        "  'title': u'Museum of Contemporary Art San Diego \\u2013 La Jolla'},\n",
        " {'latitude': '32.73098',\n",
        "  'longitude': '-117.151002',\n",
        "  'title': u'Mingei International Museum'},\n",
        " {'latitude': '33.199281',\n",
        "  'longitude': '-117.383871',\n",
        "  'title': u'California Surf Museum'},\n",
        " {'latitude': '32.849393', 'longitude': '-117.270432', 'title': u'Cave Store'}]"
       ]
      }
     ],
     "prompt_number": 401
    },
    {
     "cell_type": "markdown",
     "metadata": {},
     "source": [
      "Now that we have a table of sightseeiing places imediately around us along with their latitudes and longitudes, use the below function to find distance of each of the sightseeing place from your current location"
     ]
    },
    {
     "cell_type": "code",
     "collapsed": false,
     "input": [
      "#Do not modify\n",
      "import math\n",
      "def getDistanceFromLatLonInKm(lat1,lon1,lat2,lon2) :\n",
      "    R = 6371 # Radius of the earth in km\n",
      "    dLat = deg2rad(lat2-lat1) # deg2rad below\n",
      "    dLon = deg2rad(lon2-lon1) \n",
      "    a = math.sin(dLat/2)*math.sin(dLat/2)+math.cos(deg2rad(lat1))*math.cos(deg2rad(lat2))*math.sin(dLon/2)*math.sin(dLon/2)\n",
      "\n",
      "    c = 2 * math.atan2(math.sqrt(a), math.sqrt(1-a))\n",
      "    d = R * c #Distance in km\n",
      "    return d\n",
      "\n",
      "\n",
      "def deg2rad(deg) :\n",
      "  return deg * (3.1416/180)\n"
     ],
     "language": "python",
     "metadata": {},
     "outputs": [],
     "prompt_number": 399
    },
    {
     "cell_type": "markdown",
     "metadata": {},
     "source": [
      "Now add a field to each record in `sights_list` called `distance` which reports the distance from the Rady School to it.  Then print the sights from closest to furthest"
     ]
    },
    {
     "cell_type": "code",
     "collapsed": false,
     "input": [
      "myLat = 32.88661\n",
      "myLng = -117.24128\n",
      "\n",
      "for i in range(len(sights_list)):\n",
      "    #Todo: add distance to record i in sights list\n",
      "    sightLat = float(sights_list[i]['latitude'])\n",
      "    sightLon = float(sights_list[i]['longitude'])\n",
      "    thisDist = getDistanceFromLatLonInKm(myLat,myLng, sightLat,sightLon)\n",
      "    sights_list[i]['distance'] = thisDist\n",
      "\n",
      "#Todo: sort sights_list\n",
      "sights_list = sorted(sights_list, key=lambda k: k['distance']) \n",
      "\n",
      "\n",
      "for record in sights_list:\n",
      "    print record\n",
      "    "
     ],
     "language": "python",
     "metadata": {},
     "outputs": [
      {
       "output_type": "stream",
       "stream": "stdout",
       "text": [
        "{'latitude': '32.849393', 'distance': 4.953668392273999, 'longitude': '-117.270432', 'title': u'Cave Store'}\n",
        "{'latitude': '32.844404', 'distance': 5.813336590220005, 'longitude': '-117.278012', 'title': u'Museum of Contemporary Art San Diego \\u2013 La Jolla'}\n",
        "{'latitude': '32.755146', 'distance': 15.163570048027685, 'longitude': '-117.19815', 'title': u'Old Town State Historic Park'}\n",
        "{'latitude': '32.735288', 'distance': 18.801491283801134, 'longitude': '-117.151517', 'title': u'San Diego Zoo'}\n",
        "{'latitude': '32.73098', 'distance': 19.252515431000994, 'longitude': '-117.151002', 'title': u'Mingei International Museum'}\n",
        "{'latitude': '32.729363', 'distance': 19.439291974099067, 'longitude': '-117.150389', 'title': u'Spreckels Organ Pavilion'}\n",
        "{'latitude': '32.720795', 'distance': 19.501752539601206, 'longitude': '-117.173303', 'title': u'Maritime Museum'}\n",
        "{'latitude': '32.714365', 'distance': 20.168491184911712, 'longitude': '-117.173666', 'title': u'USS Midway Museum'}\n",
        "{'latitude': '32.710639', 'distance': 20.849485578897234, 'longitude': '-117.164257', 'title': u'New Children\\u2019s Museum'}\n",
        "{'latitude': '32.708824', 'distance': 21.38311448440342, 'longitude': '-117.154083', 'title': u'San Diego Main Library'}\n",
        "{'latitude': '32.67987211', 'distance': 23.68218242537074, 'longitude': '-117.18040515', 'title': u'Hotel del Coronado'}\n",
        "{'latitude': '33.199281', 'distance': 37.2213559843089, 'longitude': '-117.383871', 'title': u'California Surf Museum'}\n"
       ]
      }
     ],
     "prompt_number": 418
    },
    {
     "cell_type": "markdown",
     "metadata": {},
     "source": [
      "## Part of speech tagging\n",
      "In this problem you are asked to use part of speech tagging to explore the statistical structure of the language used in a book.\n",
      "\n",
      "Part of speech (POS) tags are labels that are associated with individual words and indicate their semantic function in the language. The default NLTK tokenizer is one of the simplest and least accurate tokenizing programs, but it will suffice for this excercise.\n",
      "\n",
      "Here is an example of the tokens associated with the words in a simple sentence\n"
     ]
    },
    {
     "cell_type": "code",
     "collapsed": false,
     "input": [
      "#Do not moidfy\n",
      "import nltk\n",
      "nltk.pos_tag(nltk.word_tokenize(\"I ate the apple\"))"
     ],
     "language": "python",
     "metadata": {},
     "outputs": [
      {
       "metadata": {},
       "output_type": "pyout",
       "prompt_number": 425,
       "text": [
        "[('I', 'PRP'), ('ate', 'VBP'), ('the', 'DT'), ('apple', 'NN')]"
       ]
      }
     ],
     "prompt_number": 425
    },
    {
     "cell_type": "markdown",
     "metadata": {},
     "source": [
      "### Part of speech tags\n",
      "\n",
      "The `nltk.help` module contains documentation about each tag, including a definition and examples.\n",
      "You can query this documentation using either a complete tag or a regular expression. Note that the method prints the explanation, it returns `None`."
     ]
    },
    {
     "cell_type": "code",
     "collapsed": false,
     "input": [
      "#Do not modify\n",
      "nltk.help.upenn_tagset('PRP')\n",
      "nltk.help.upenn_tagset('VBP')\n",
      "nltk.help.upenn_tagset('DT')\n",
      "nltk.help.upenn_tagset('NN*')"
     ],
     "language": "python",
     "metadata": {},
     "outputs": [
      {
       "output_type": "stream",
       "stream": "stdout",
       "text": [
        "PRP: pronoun, personal\n",
        "    hers herself him himself hisself it itself me myself one oneself ours\n",
        "    ourselves ownself self she thee theirs them themselves they thou thy us\n",
        "VBP: verb, present tense, not 3rd person singular\n",
        "    predominate wrap resort sue twist spill cure lengthen brush terminate\n",
        "    appear tend stray glisten obtain comprise detest tease attract\n",
        "    emphasize mold postpone sever return wag ...\n",
        "DT: determiner\n",
        "    all an another any both del each either every half la many much nary\n",
        "    neither no some such that the them these this those\n",
        "NN: noun, common, singular or mass\n",
        "    common-carrier cabbage knuckle-duster Casino afghan shed thermostat\n",
        "    investment slide humour falloff slick wind hyena override subhumanity\n",
        "    machinist ...\n",
        "NNP: noun, proper, singular\n",
        "    Motown Venneboerger Czestochwa Ranzer Conchita Trumplane Christos\n",
        "    Oceanside Escobar Kreisler Sawyer Cougar Yvette Ervin ODI Darryl CTCA\n",
        "    Shannon A.K.C. Meltex Liverpool ...\n",
        "NNPS: noun, proper, plural\n",
        "    Americans Americas Amharas Amityvilles Amusements Anarcho-Syndicalists\n",
        "    Andalusians Andes Andruses Angels Animals Anthony Antilles Antiques\n",
        "    Apache Apaches Apocrypha ...\n",
        "NNS: noun, common, plural\n",
        "    undergraduates scotches bric-a-brac products bodyguards facets coasts\n",
        "    divestitures storehouses designs clubs fragrances averages\n",
        "    subjectivists apprehensions muses factory-jobs ...\n"
       ]
      }
     ],
     "prompt_number": 426
    },
    {
     "cell_type": "markdown",
     "metadata": {},
     "source": [
      "### The corpus\n",
      "We will use the [brown corpus](http://en.wikipedia.org/wiki/Brown_Corpus) \n",
      "for this excercise. This corpus is one of the most popular datasets in computational studies of linguistics.\n",
      "\n",
      "First we load the brown corpus and view a few sentences."
     ]
    },
    {
     "cell_type": "code",
     "collapsed": false,
     "input": [
      "#Do not modify\n",
      "# Get the corpus as a sequence of sentences.\n",
      "sentences=nltk.corpus.brown.sents()\n",
      "\n",
      "# have a look at some sentences\n",
      "print len(sentences)\n",
      "[' '.join(sentence) for sentence in sentences[1000:1010]]"
     ],
     "language": "python",
     "metadata": {},
     "outputs": [
      {
       "output_type": "stream",
       "stream": "stdout",
       "text": [
        "57340\n"
       ]
      },
      {
       "metadata": {},
       "output_type": "pyout",
       "prompt_number": 428,
       "text": [
        "[u'800 in Southern New England , we have 60 ; ;',\n",
        " u\"we need 100 in Rhode Island , we have none '' , he said .\",\n",
        " u\"To step up the denomination's program , the Rev. Mr. Brandt suggested the vision of 8,000 new Assemblies of God churches in the next 10 years .\",\n",
        " u'To accomplish this would necessitate some changes in methods , he said .',\n",
        " u\"' church meets change '\",\n",
        " u\"`` The church's ability to change her methods is going to determine her ability to meet the challenge of this hour '' .\",\n",
        " u'A capsule view of proposed plans includes :',\n",
        " u'-- Encouraging by every means , all existing Assemblies of God churches to start new churches .',\n",
        " u'-- Engaging mature , experienced men to pioneer or open new churches in strategic population centers .',\n",
        " u'-- Surrounding pioneer pastors with vocational volunteers ( laymen , who will be urged to move into the area of new churches in the interest of lending their support to the new project ) .']"
       ]
      }
     ],
     "prompt_number": 428
    },
    {
     "cell_type": "code",
     "collapsed": false,
     "input": [
      "type(sentences)"
     ],
     "language": "python",
     "metadata": {},
     "outputs": [
      {
       "metadata": {},
       "output_type": "pyout",
       "prompt_number": 430,
       "text": [
        "nltk.corpus.reader.util.ConcatenatedCorpusView"
       ]
      }
     ],
     "prompt_number": 430
    },
    {
     "cell_type": "markdown",
     "metadata": {},
     "source": [
      "Now create a histogram of the lenghts of all sentences."
     ]
    },
    {
     "cell_type": "code",
     "collapsed": false,
     "input": [
      "sentList = [' '.join(sentence) for sentence in sentences]\n",
      "shorts=[]\n",
      "Lengths= []\n",
      "for ll in sentList:\n",
      "    thisLenght = len(ll.split())\n",
      "    Lengths.append( thisLenght )\n",
      "    if thisLenght == 9:\n",
      "        shorts.append(ll)\n",
      "hist(Lengths,bins=50);"
     ],
     "language": "python",
     "metadata": {},
     "outputs": [
      {
       "metadata": {},
       "output_type": "display_data",
       "png": "[encoded data removed]",
       "text": [
        "<matplotlib.figure.Figure at 0x117930750>"
       ]
      }
     ],
     "prompt_number": 438
    },
    {
     "cell_type": "markdown",
     "metadata": {},
     "source": [
      "As you can see from the histogram, there are a large number of sentences in the Brown corpus.\n",
      "Lets make a subset called `shorts` containing only sentences with **exactly 9 words**."
     ]
    },
    {
     "cell_type": "code",
     "collapsed": false,
     "input": [
      "# I DID THIS PART ABOVE\n",
      "\n",
      "# for sentence in sentences:\n",
      "#     #Todo: add all 9 word sentences to shorts\n",
      "\n",
      "# print len(sentences),len(shorts)\n",
      "# print [' '.join(sentence) for sentence in shorts[:10]]"
     ],
     "language": "python",
     "metadata": {},
     "outputs": []
    },
    {
     "cell_type": "markdown",
     "metadata": {},
     "source": [
      "## Main part - count the words associated with each part of speech\n",
      "\n",
      "Next is the main part of this excercise in which we count, for each of the sentences in `Short`  the number of time each part of speech appears and the number of times each word is tagged with this part of speech. We then create a pretty summary of our findings."
     ]
    },
    {
     "cell_type": "code",
     "collapsed": false,
     "input": [
      "# POS_counts is a dictionary of Counters. The keys to POS_counts are the POS acronyms.\n",
      "# The value is a counter that counts the number of time each word appears with the key POS.\n",
      "# This cell produces no output other than the values of the monitoring tracker `i`.\n",
      "\n",
      "from collections import Counter\n",
      "\n",
      "POS_counts={}\n",
      "\n",
      "i=0\n",
      "for sentence in shorts:\n",
      "    text = [word.lower() for word in sentence]\n",
      "    tagged_sent=nltk.pos_tag(text)\n",
      "\n",
      "    for (word,pos) in tagged_sent:\n",
      "        # Todo: Update POS_counts\n",
      "    \n",
      "    if i%100==0: print i,'\\r',   # the purpose of these two lines is to print a progress indicator\n",
      "    i+=1                         # in such a way that only one line of output is used.\n",
      "#This will take ~1-2 minutes to run"
     ],
     "language": "python",
     "metadata": {},
     "outputs": []
    },
    {
     "cell_type": "markdown",
     "metadata": {},
     "source": [
      "Compute the total number of times each POS tag appeared"
     ]
    },
    {
     "cell_type": "code",
     "collapsed": false,
     "input": [
      "POS_total={}\n",
      "for t in POS_counts.keys():\n",
      "    POS_total[t] = #Todo: Sum of all of the counts for the POS tag t"
     ],
     "language": "python",
     "metadata": {},
     "outputs": []
    },
    {
     "cell_type": "markdown",
     "metadata": {},
     "source": [
      "Here we sort the entries of POS_counts in decreasing values of the counts"
     ]
    },
    {
     "cell_type": "code",
     "collapsed": false,
     "input": [
      "#Do not modify\n",
      "import operator\n",
      "sorted_tags=sorted(POS_total.items(),key=operator.itemgetter(1),reverse=True)\n",
      "sorted_tags[:3]"
     ],
     "language": "python",
     "metadata": {},
     "outputs": []
    },
    {
     "cell_type": "markdown",
     "metadata": {},
     "source": [
      "### Print a Summary\n",
      "For each POS tag in decreasing number of occurances, print each of the following:\n",
      "1. The POS tag and its occurrence count\n",
      "2. The description of the tag, from nltk.help\n",
      "3. The top 10 most common words that appear with the tag\n"
     ]
    },
    {
     "cell_type": "code",
     "collapsed": false,
     "input": [
      "for (tag,count) in sorted_tags:\n",
      "    #Todo: Print the POS tag and the number of times it occurs\n",
      "    \n",
      "    #Todo: Print nltk help on the given tag\n",
      "    \n",
      "    print 'Word Counts'\n",
      "    #Todo: Print the ten most common words tagged as tag\n",
      "    \n",
      "    "
     ],
     "language": "python",
     "metadata": {},
     "outputs": []
    }
   ],
   "metadata": {}
  }
 ]
}