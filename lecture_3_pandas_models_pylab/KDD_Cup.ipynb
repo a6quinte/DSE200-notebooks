{
 "metadata": {
  "name": "",
  "signature": "sha256:f0fe3cfc5250994a667b7ee280627ad72d1c37dec4aa698a30d46837be259fb5"
 },
 "nbformat": 3,
 "nbformat_minor": 0,
 "worksheets": [
  {
   "cells": [
    {
     "cell_type": "code",
     "collapsed": false,
     "input": [
      "#Import the libraries \n",
      "import numpy as np\n",
      "import scipy as sp\n",
      "import pandas as pd"
     ],
     "language": "python",
     "metadata": {},
     "outputs": [],
     "prompt_number": 1
    },
    {
     "cell_type": "markdown",
     "metadata": {},
     "source": [
      "##Pandas Data Analysis\n",
      "Pandas gives us a nice set of tools to work with columnar data (similar to R's dataframe). \n",
      "To learn how to use this it makes the most sense to use a real data set.\n",
      "For this assignment we'll use the KDD Cup 1998 dataset, which can be sourced from http://kdd.ics.uci.edu/databases/kddcup98/kddcup98.html .\n",
      "\n",
      "\n",
      "###Acquiring Data\n",
      "First we pull the README file from the dataset into this notebook via the unix \"curl\" command.  Remember you can hide/minimize output cells via the button on the left of the output."
     ]
    },
    {
     "cell_type": "code",
     "collapsed": false,
     "input": [
      "!curl http://kdd.ics.uci.edu/databases/kddcup98/epsilon_mirror/readme"
     ],
     "language": "python",
     "metadata": {},
     "outputs": [
      {
       "output_type": "stream",
       "stream": "stdout",
       "text": [
        "+--------------------------------------------------------------------+\r",
        "\r\n",
        "| NOTE TO ALL DOWN-LOADERS                                           |\r",
        "\r\n",
        "+--------------------------------------------------------------------+\r",
        "\r\n",
        "\r",
        "\r\n",
        "The KDD-CUP-98 data set and the accompanying documentation are now \r",
        "\r\n",
        "available for general use with the following restrictions: \r",
        "\r\n",
        "\r",
        "\r\n",
        "  (1) The users of the data must notify \r",
        "\r\n",
        "\r",
        "\r\n",
        "\tIsmail Parsa\t(iparsa@epsilon.com) and\r",
        "\r\n",
        "\tKen Howes\t(khowes@epsilon.com) \r",
        "\r\n",
        "\r",
        "\r\n",
        "  in the event they produce results, visuals or tables, etc. from the \r",
        "\r\n",
        "  data and send a note that includes a summary of the final result. \r",
        "\r\n",
        "\r",
        "\r\n",
        "  (2) The authors of published and/or unpublished articles that use \r",
        "\r\n",
        "  the KDD-Cup-98 data set must also notify the individuals listed \r",
        "\r\n",
        "  above and send a copy of their published and/or unpublished work. \r",
        "\r\n",
        "\r",
        "\r\n",
        "  (3) If you intend to use this data set for training or educational\r",
        "\r\n",
        "  purposes, you must not reveal the name of the sponsor PVA \r",
        "\r\n",
        "  (Paralyzed Veterans of America) to the trainees or students. You \r",
        "\r\n",
        "  are allowed to say \"a national veterans organization\"...\r",
        "\r\n",
        "\r",
        "\r\n",
        "\r",
        "\r\n",
        "For more information regarding the KDD-Cup (including the list of the \r",
        "\r\n"
       ]
      },
      {
       "output_type": "stream",
       "stream": "stdout",
       "text": [
        "participants and the results), please visit the KDD-Cup-98 web page at\r",
        "\r\n",
        "\r",
        "\r\n",
        "\thttp://www.epsilon.com/new\r",
        "\r\n",
        "\r",
        "\r\n",
        "While there, scroll down to Data Mining Presentations where you will \r",
        "\r\n",
        "find the KDD-Cup-98 web page. \r",
        "\r\n",
        "\r",
        "\r\n",
        "\r",
        "\r\n",
        "Ismail Parsa \r",
        "\r\n",
        "Epsilon \r",
        "\r\n",
        "50 Cambridge Street \r",
        "\r\n",
        "Burlington MA 01803 USA \r",
        "\r\n",
        "\r",
        "\r\n",
        "TEL: (781) 685-6734 \r",
        "\r\n",
        "FAX: (781) 685-0806 \r",
        "\r\n",
        "\r",
        "\r\n",
        "+--------------------------------------------------------------------+\r",
        "\r\n",
        "| LISTING of the FILES (README FILE)                                 |\r",
        "\r\n",
        "+--------------------------------------------------------------------+\r",
        "\r\n",
        "\r",
        "\r\n",
        "File Naming Conventions: \r",
        "\r\n",
        "\r",
        "\r\n",
        "o cup98               : KDD-CUP-98 \r",
        "\r\n",
        "o      QUE            : QUEstionnaire \r",
        "\r\n",
        "o      DOC            : DOCumentation\r",
        "\r\n",
        "o      DIC            : DICtionary\r",
        "\r\n",
        "o      LRN            : LeaRNing data set \r",
        "\r\n",
        "o      VAL            : VALidation data set \r",
        "\r\n",
        "o      VALtargt       : TARGeT fields for VALidation data set\r",
        "\r\n",
        "o              .txt   : plain ascii text files\r",
        "\r\n",
        "o              .zip   : PKZIP compressed files\r",
        "\r\n",
        "o              .txt.Z : UNIX COMPRESSED files\r",
        "\r\n",
        "\r",
        "\r\n",
        "FILE NAME       DESCRIPTION\r",
        "\r\n",
        "--------------- ------------------------------------------------------\r",
        "\r\n",
        "\r",
        "\r\n",
        "README          This list, listing the files in the FTP server and \r",
        "\r\n",
        "                their contents.\r",
        "\r\n",
        "\r",
        "\r\n",
        "cup98NDA.txt    The Non-Disclosure Agreement. MUST BE SIGNED BY ALL \r",
        "\r\n",
        "                PARTICIPANTS AND MAILED BACK TO ISMAIL PARSA \r",
        "\r\n",
        "                <iparsa@epsilon.com> BEFORE DOWNLOADING THE DATA SETS.\r",
        "\r\n",
        "\r",
        "\r\n",
        "cup98DOC.txt    This file, an overview and pointer to more detailed \r",
        "\r\n",
        "                information about the competition\r",
        "\r\n",
        "\r",
        "\r\n",
        "cup98DIC.txt    Data dictionary to accompany the analysis data set. \r",
        "\r\n",
        "\r",
        "\r\n",
        "cup98QUE.txt    KDD-CUP questionnaire. PARTICIPANTS ARE REQUIRED TO\r",
        "\r\n",
        "                FILL-OUT THE QUESTIONNAIRE and turned in\r",
        "\r\n",
        "                with the results. \r",
        "\r\n",
        "\r",
        "\r\n",
        "cup98LRN.zip    PKZIP compressed raw LEARNING data set. \r",
        "\r\n",
        "                Internal name: cup98LRN.txt \r",
        "\r\n",
        "                File size: 36,468,735 bytes zipped. 117,167,952 bytes \r",
        "\r\n",
        "                unzipped.\r",
        "\r\n",
        "                Number of Records: 95412.\r",
        "\r\n",
        "                Number of Fields: 481.\r",
        "\r\n",
        "\r",
        "\r\n",
        "cup98VAL.zip    PKZIP compressed raw VALIDATION data set. \r",
        "\r\n",
        "                Internal name: cup98VAL.txt \r",
        "\r\n",
        "                File size: 36,763,018 bytes zipped. 117,943,347 bytes \r",
        "\r\n",
        "                unzipped.\r",
        "\r\n",
        "                Number of Records: 96367.\r",
        "\r\n",
        "                Number of Fields: 479.\r",
        "\r\n",
        " \r",
        "\r\n",
        "cup98LRN.txt.Z  UNIX COMPRESSed raw LEARNING data set. \r",
        "\r\n",
        "                Internal name: cup98LRN.txt \r",
        "\r\n",
        "                File size: 36,579,127 bytes compressed. 117,167,952 \r",
        "\r\n",
        "                bytes uncompressed.\r",
        "\r\n",
        "                Number of Records: 95412.\r",
        "\r\n",
        "                Number of Fields: 481.\r",
        "\r\n",
        "\r",
        "\r\n",
        "cup98VAL.txt.Z  UNIX COMPRESSed raw VALIDATION data set. \r",
        "\r\n",
        "                Internal name: cup98VAL.txt \r",
        "\r\n",
        "                File size: 36,903,761 bytes compressed. 117,943,347 \r",
        "\r\n",
        "                bytes uncompressed.\r",
        "\r\n",
        "                Number of Records: 96367.\r",
        "\r\n",
        "                Number of Fields: 479.\r",
        "\r\n"
       ]
      }
     ],
     "prompt_number": 2
    },
    {
     "cell_type": "markdown",
     "metadata": {},
     "source": [
      "As you can see this README describes several files which may be of use.  In particular there are two more documentation files (DOC and DIC) we should read to get an idea of the data format.  Bring these files into the notebook."
     ]
    },
    {
     "cell_type": "code",
     "collapsed": false,
     "input": [
      "#Create data repository\n",
      "%cd ../../DSE200/data/\n",
      "!mkdir kddcup98\n",
      "%cd kddcup98/"
     ],
     "language": "python",
     "metadata": {},
     "outputs": [
      {
       "output_type": "stream",
       "stream": "stdout",
       "text": [
        "/Users/yoavfreund/academic.papers/Courses/DSE200/DSE200/data\n",
        "mkdir: kddcup98: File exists\r\n"
       ]
      },
      {
       "output_type": "stream",
       "stream": "stdout",
       "text": [
        "/Users/yoavfreund/academic.papers/Courses/DSE200/DSE200/data/kddcup98\n"
       ]
      }
     ],
     "prompt_number": 2
    },
    {
     "cell_type": "code",
     "collapsed": false,
     "input": [
      "#download data files\n",
      "for name in ['cup98lrn.zip','cup98val.zip']:\n",
      "    !curl http://kdd.ics.uci.edu/databases/kddcup98/epsilon_mirror/$name > $name\n",
      "    !unzip $name\n",
      "    !rm $name  "
     ],
     "language": "python",
     "metadata": {},
     "outputs": []
    },
    {
     "cell_type": "code",
     "collapsed": false,
     "input": [
      "#Download documentation files\n",
      "List=['cup98doc.txt','cup98dic.txt','cup98que.txt','readme']\n",
      "for name in List:\n",
      "    !curl http://kdd.ics.uci.edu/databases/kddcup98/epsilon_mirror/$name > $name\n",
      "\n",
      "!ls -lrt"
     ],
     "language": "python",
     "metadata": {},
     "outputs": [
      {
       "output_type": "stream",
       "stream": "stdout",
       "text": [
        "  % Total    % Received % Xferd  Average Speed   Time    Time     Time  Current\r\n",
        "                                 Dload  Upload   Total   Spent    Left  Speed\r\n",
        "\r",
        "  0     0    0     0    0     0      0      0 --:--:-- --:--:-- --:--:--     0"
       ]
      },
      {
       "output_type": "stream",
       "stream": "stdout",
       "text": [
        "\r",
        " 52 62956   52 33032    0     0  41357      0  0:00:01 --:--:--  0:00:01 41341"
       ]
      },
      {
       "output_type": "stream",
       "stream": "stdout",
       "text": [
        "\r",
        "100 62956  100 62956    0     0  62654      0  0:00:01  0:00:01 --:--:-- 62705\r\n"
       ]
      },
      {
       "output_type": "stream",
       "stream": "stdout",
       "text": [
        "  % Total    % Received % Xferd  Average Speed   Time    Time     Time  Current\r\n",
        "                                 Dload  Upload   Total   Spent    Left  Speed\r\n",
        "\r",
        "  0     0    0     0    0     0      0      0 --:--:-- --:--:-- --:--:--     0"
       ]
      },
      {
       "output_type": "stream",
       "stream": "stdout",
       "text": [
        "\r",
        "  4 56987    4  2624    0     0   4774      0  0:00:11 --:--:--  0:00:11  4770"
       ]
      },
      {
       "output_type": "stream",
       "stream": "stdout",
       "text": [
        "\r",
        " 68 56987   68 38824    0     0  24562      0  0:00:02  0:00:01  0:00:01 24556"
       ]
      },
      {
       "output_type": "stream",
       "stream": "stdout",
       "text": [
        "\r",
        "100 56987  100 56987    0     0  34831      0  0:00:01  0:00:01 --:--:-- 34811\r\n"
       ]
      },
      {
       "output_type": "stream",
       "stream": "stdout",
       "text": [
        "  % Total    % Received % Xferd  Average Speed   Time    Time     Time  Current\r\n",
        "                                 Dload  Upload   Total   Spent    Left  Speed\r\n",
        "\r",
        "  0     0    0     0    0     0      0      0 --:--:-- --:--:-- --:--:--     0"
       ]
      },
      {
       "output_type": "stream",
       "stream": "stdout",
       "text": [
        "\r",
        " 80 15907   80 12760    0     0  16634      0 --:--:-- --:--:-- --:--:-- 16636"
       ]
      },
      {
       "output_type": "stream",
       "stream": "stdout",
       "text": [
        "\r",
        "100 15907  100 15907    0     0  16686      0 --:--:-- --:--:-- --:--:-- 16674\r\n"
       ]
      },
      {
       "output_type": "stream",
       "stream": "stdout",
       "text": [
        "  % Total    % Received % Xferd  Average Speed   Time    Time     Time  Current\r\n",
        "                                 Dload  Upload   Total   Spent    Left  Speed\r\n",
        "\r",
        "  0     0    0     0    0     0      0      0 --:--:-- --:--:-- --:--:--     0"
       ]
      },
      {
       "output_type": "stream",
       "stream": "stdout",
       "text": [
        "\r",
        "100  4134  100  4134    0     0   6846      0 --:--:-- --:--:-- --:--:--  6855\r\n"
       ]
      },
      {
       "output_type": "stream",
       "stream": "stdout",
       "text": [
        "rm: cup98NDA.txt: No such file or directory\r\n"
       ]
      },
      {
       "output_type": "stream",
       "stream": "stdout",
       "text": [
        "total 459496\r\n",
        "-rw-rw-r--  1 yoavfreund  staff  117167952 Jul 22  1998 cup98LRN.txt\r\n",
        "-rw-rw-r--  1 yoavfreund  staff  117943347 Jul 22  1998 cup98VAL.txt\r\n",
        "-rw-r--r--  1 yoavfreund  staff      62956 Oct 30 16:20 cup98DOC.txt\r\n",
        "-rw-r--r--  1 yoavfreund  staff      56987 Oct 30 16:20 cup98dic.txt\r\n",
        "-rw-r--r--  1 yoavfreund  staff       4134 Oct 30 16:20 readme\r\n",
        "-rw-r--r--  1 yoavfreund  staff      15907 Oct 30 16:20 cup98QUE.txt\r\n"
       ]
      }
     ],
     "prompt_number": 8
    },
    {
     "cell_type": "markdown",
     "metadata": {},
     "source": [
      "Now perform some basic sanity checks on the data.  Using a combination of unix/basic python answer the following questions:\n",
      "\n",
      "1. How many lines are there?  \n",
      "2. Is the file character seperated or fixed width format?\n",
      "3. Is there a header?  If so how many fields are in it?\n",
      "4. Do all rows have the same number of fields as the header?\n",
      "5. Does anyhting in 1-4 disagree with the readme file or indicate erroneous data?"
     ]
    },
    {
     "cell_type": "code",
     "collapsed": false,
     "input": [
      "!wc cup98LRN.txt"
     ],
     "language": "python",
     "metadata": {},
     "outputs": [
      {
       "output_type": "stream",
       "stream": "stdout",
       "text": [
        "   95413 3699314 117167952 cup98LRN.txt\r\n"
       ]
      }
     ],
     "prompt_number": 21
    },
    {
     "cell_type": "code",
     "collapsed": false,
     "input": [
      "lrn=pd.read_csv('cup98LRN.txt',error_bad_lines=False)"
     ],
     "language": "python",
     "metadata": {},
     "outputs": [
      {
       "output_type": "stream",
       "stream": "stderr",
       "text": [
        "Skipping line 579: expected 481 fields, saw 961\n",
        "Skipping line 1120: expected 481 fields, saw 961\n",
        "\n",
        "Skipping line 2250: expected 481 fields, saw 961\n",
        "Skipping line 3325: expected 481 fields, saw 961\n"
       ]
      },
      {
       "output_type": "stream",
       "stream": "stderr",
       "text": [
        "\n",
        "Skipping line 5556: expected 481 fields, saw 961\n",
        "Skipping line 5764: expected 481 fields, saw 961\n"
       ]
      },
      {
       "output_type": "stream",
       "stream": "stderr",
       "text": [
        "\n",
        "Skipping line 6611: expected 481 fields, saw 961\n",
        "Skipping line 7220: expected 481 fields, saw 961\n",
        "Skipping line 7877: expected 481 fields, saw 961\n"
       ]
      },
      {
       "output_type": "stream",
       "stream": "stderr",
       "text": [
        "\n",
        "Skipping line 9272: expected 481 fields, saw 961\n",
        "Skipping line 9787: expected 481 fields, saw 961\n"
       ]
      },
      {
       "output_type": "stream",
       "stream": "stderr",
       "text": [
        "\n",
        "Skipping line 11962: expected 481 fields, saw 961\n",
        "Skipping line 12195: expected 481 fields, saw 961\n"
       ]
      },
      {
       "output_type": "stream",
       "stream": "stderr",
       "text": [
        "\n",
        "Skipping line 12379: expected 481 fields, saw 961\n",
        "Skipping line 12560: expected 481 fields, saw 1441\n",
        "Skipping line 14103: expected 481 fields, saw 961\n"
       ]
      },
      {
       "output_type": "stream",
       "stream": "stderr",
       "text": [
        "\n",
        "Skipping line 17083: expected 481 fields, saw 961\n"
       ]
      },
      {
       "output_type": "stream",
       "stream": "stderr",
       "text": [
        "\n",
        "Skipping line 18634: expected 481 fields, saw 961\n",
        "Skipping line 18698: expected 481 fields, saw 961\n",
        "Skipping line 19161: expected 481 fields, saw 961\n",
        "Skipping line 19545: expected 481 fields, saw 961\n"
       ]
      },
      {
       "output_type": "stream",
       "stream": "stderr",
       "text": [
        "\n",
        "Skipping line 20999: expected 481 fields, saw 961\n",
        "Skipping line 21185: expected 481 fields, saw 961\n",
        "Skipping line 21244: expected 481 fields, saw 961\n",
        "Skipping line 22520: expected 481 fields, saw 961\n"
       ]
      },
      {
       "output_type": "stream",
       "stream": "stderr",
       "text": [
        "\n",
        "Skipping line 22822: expected 481 fields, saw 961\n",
        "Skipping line 23461: expected 481 fields, saw 961\n"
       ]
      },
      {
       "output_type": "stream",
       "stream": "stderr",
       "text": [
        "\n",
        "Skipping line 24739: expected 481 fields, saw 961\n",
        "Skipping line 26597: expected 481 fields, saw 961\n",
        "Skipping line 26773: expected 481 fields, saw 961\n"
       ]
      },
      {
       "output_type": "stream",
       "stream": "stderr",
       "text": [
        "\n",
        "Skipping line 26952: expected 481 fields, saw 961\n",
        "Skipping line 27982: expected 481 fields, saw 961\n",
        "Skipping line 28378: expected 481 fields, saw 961\n",
        "Skipping line 28739: expected 481 fields, saw 961\n"
       ]
      },
      {
       "output_type": "stream",
       "stream": "stderr",
       "text": [
        "\n",
        "Skipping line 29160: expected 481 fields, saw 961\n",
        "Skipping line 30032: expected 481 fields, saw 961\n",
        "Skipping line 30103: expected 481 fields, saw 961\n"
       ]
      },
      {
       "output_type": "stream",
       "stream": "stderr",
       "text": [
        "\n",
        "Skipping line 31148: expected 481 fields, saw 961\n",
        "Skipping line 31389: expected 481 fields, saw 961\n",
        "Skipping line 31469: expected 481 fields, saw 961\n",
        "Skipping line 31629: expected 481 fields, saw 961\n"
       ]
      },
      {
       "output_type": "stream",
       "stream": "stderr",
       "text": [
        "\n",
        "Skipping line 34193: expected 481 fields, saw 961\n",
        "Skipping line 34826: expected 481 fields, saw 961\n"
       ]
      },
      {
       "output_type": "stream",
       "stream": "stderr",
       "text": [
        "\n",
        "Skipping line 35622: expected 481 fields, saw 961\n",
        "Skipping line 35635: expected 481 fields, saw 961\n",
        "Skipping line 35743: expected 481 fields, saw 961\n",
        "Skipping line 36365: expected 481 fields, saw 961\n",
        "Skipping line 36944: expected 481 fields, saw 961\n",
        "Skipping line 37070: expected 481 fields, saw 961\n"
       ]
      },
      {
       "output_type": "stream",
       "stream": "stderr",
       "text": [
        "\n",
        "Skipping line 37276: expected 481 fields, saw 961\n",
        "Skipping line 37645: expected 481 fields, saw 961\n",
        "Skipping line 38511: expected 481 fields, saw 961\n"
       ]
      },
      {
       "output_type": "stream",
       "stream": "stderr",
       "text": [
        "\n",
        "Skipping line 40056: expected 481 fields, saw 961\n"
       ]
      },
      {
       "output_type": "stream",
       "stream": "stderr",
       "text": [
        "\n",
        "Skipping line 41962: expected 481 fields, saw 961\n",
        "Skipping line 42866: expected 481 fields, saw 961\n"
       ]
      },
      {
       "output_type": "stream",
       "stream": "stderr",
       "text": [
        "\n",
        "Skipping line 43642: expected 481 fields, saw 961\n",
        "Skipping line 44400: expected 481 fields, saw 961\n",
        "Skipping line 44974: expected 481 fields, saw 961\n"
       ]
      },
      {
       "output_type": "stream",
       "stream": "stderr",
       "text": [
        "\n",
        "Skipping line 47506: expected 481 fields, saw 961\n",
        "Skipping line 47527: expected 481 fields, saw 961\n",
        "Skipping line 48173: expected 481 fields, saw 961\n",
        "Skipping line 48287: expected 481 fields, saw 961\n",
        "Skipping line 48651: expected 481 fields, saw 961\n",
        "Skipping line 48697: expected 481 fields, saw 961\n",
        "Skipping line 48940: expected 481 fields, saw 961\n"
       ]
      },
      {
       "output_type": "stream",
       "stream": "stderr",
       "text": [
        "\n",
        "Skipping line 49779: expected 481 fields, saw 961\n",
        "Skipping line 50179: expected 481 fields, saw 961\n",
        "Skipping line 50256: expected 481 fields, saw 961\n",
        "Skipping line 50619: expected 481 fields, saw 961\n",
        "Skipping line 50850: expected 481 fields, saw 961\n",
        "Skipping line 51200: expected 481 fields, saw 961\n",
        "Skipping line 51350: expected 481 fields, saw 961\n"
       ]
      },
      {
       "output_type": "stream",
       "stream": "stderr",
       "text": [
        "\n",
        "Skipping line 51573: expected 481 fields, saw 961\n",
        "Skipping line 51800: expected 481 fields, saw 961\n",
        "Skipping line 52948: expected 481 fields, saw 961\n",
        "Skipping line 53324: expected 481 fields, saw 961\n"
       ]
      },
      {
       "output_type": "stream",
       "stream": "stderr",
       "text": [
        "\n",
        "Skipping line 54147: expected 481 fields, saw 961\n",
        "Skipping line 55062: expected 481 fields, saw 961\n"
       ]
      },
      {
       "output_type": "stream",
       "stream": "stderr",
       "text": [
        "\n",
        "Skipping line 56234: expected 481 fields, saw 961\n",
        "Skipping line 56721: expected 481 fields, saw 961\n",
        "Skipping line 56936: expected 481 fields, saw 961\n",
        "Skipping line 57401: expected 481 fields, saw 961\n"
       ]
      },
      {
       "output_type": "stream",
       "stream": "stderr",
       "text": [
        "\n",
        "Skipping line 58964: expected 481 fields, saw 961\n",
        "Skipping line 59616: expected 481 fields, saw 961\n"
       ]
      },
      {
       "output_type": "stream",
       "stream": "stderr",
       "text": [
        "\n",
        "Skipping line 60560: expected 481 fields, saw 961\n"
       ]
      },
      {
       "output_type": "stream",
       "stream": "stderr",
       "text": [
        "\n",
        "Skipping line 62125: expected 481 fields, saw 961\n"
       ]
      },
      {
       "output_type": "stream",
       "stream": "stderr",
       "text": [
        "\n",
        "Skipping line 64208: expected 481 fields, saw 961\n",
        "Skipping line 64270: expected 481 fields, saw 961\n",
        "Skipping line 64927: expected 481 fields, saw 961\n",
        "Skipping line 65168: expected 481 fields, saw 961\n",
        "Skipping line 65269: expected 481 fields, saw 961\n"
       ]
      },
      {
       "output_type": "stream",
       "stream": "stderr",
       "text": [
        "\n",
        "Skipping line 66463: expected 481 fields, saw 961\n",
        "Skipping line 66571: expected 481 fields, saw 961\n",
        "Skipping line 67119: expected 481 fields, saw 961\n"
       ]
      },
      {
       "output_type": "stream",
       "stream": "stderr",
       "text": [
        "\n",
        "Skipping line 68162: expected 481 fields, saw 961\n",
        "Skipping line 69283: expected 481 fields, saw 961\n",
        "Skipping line 69452: expected 481 fields, saw 961\n",
        "Skipping line 69847: expected 481 fields, saw 961\n"
       ]
      },
      {
       "output_type": "stream",
       "stream": "stderr",
       "text": [
        "\n",
        "Skipping line 70556: expected 481 fields, saw 961\n"
       ]
      },
      {
       "output_type": "stream",
       "stream": "stderr",
       "text": [
        "\n",
        "Skipping line 73471: expected 481 fields, saw 961\n"
       ]
      },
      {
       "output_type": "stream",
       "stream": "stderr",
       "text": [
        "\n",
        "Skipping line 75018: expected 481 fields, saw 961\n",
        "Skipping line 75345: expected 481 fields, saw 961\n",
        "Skipping line 75867: expected 481 fields, saw 961\n"
       ]
      },
      {
       "output_type": "stream",
       "stream": "stderr",
       "text": [
        "\n",
        "Skipping line 76091: expected 481 fields, saw 961\n",
        "Skipping line 76309: expected 481 fields, saw 961\n",
        "Skipping line 76581: expected 481 fields, saw 961\n",
        "Skipping line 76747: expected 481 fields, saw 961\n",
        "Skipping line 77975: expected 481 fields, saw 961\n"
       ]
      },
      {
       "output_type": "stream",
       "stream": "stderr",
       "text": [
        "\n",
        "Skipping line 78599: expected 481 fields, saw 961\n",
        "Skipping line 78762: expected 481 fields, saw 961\n",
        "Skipping line 78870: expected 481 fields, saw 961\n"
       ]
      },
      {
       "output_type": "stream",
       "stream": "stderr",
       "text": [
        "\n",
        "Skipping line 81079: expected 481 fields, saw 961\n",
        "Skipping line 81638: expected 481 fields, saw 961\n"
       ]
      },
      {
       "output_type": "stream",
       "stream": "stderr",
       "text": [
        "\n",
        "Skipping line 82408: expected 481 fields, saw 961\n",
        "Skipping line 83004: expected 481 fields, saw 961\n",
        "Skipping line 83358: expected 481 fields, saw 961\n",
        "Skipping line 83742: expected 481 fields, saw 961\n",
        "Skipping line 83821: expected 481 fields, saw 961\n",
        "Skipping line 83927: expected 481 fields, saw 961\n"
       ]
      },
      {
       "output_type": "stream",
       "stream": "stderr",
       "text": [
        "\n",
        "Skipping line 84504: expected 481 fields, saw 961\n",
        "Skipping line 84702: expected 481 fields, saw 961\n",
        "Skipping line 86033: expected 481 fields, saw 961\n",
        "Skipping line 86122: expected 481 fields, saw 961\n",
        "Skipping line 86185: expected 481 fields, saw 961\n"
       ]
      },
      {
       "output_type": "stream",
       "stream": "stderr",
       "text": [
        "\n",
        "Skipping line 88960: expected 481 fields, saw 961\n",
        "Skipping line 89866: expected 481 fields, saw 961\n"
       ]
      },
      {
       "output_type": "stream",
       "stream": "stderr",
       "text": [
        "\n",
        "Skipping line 90502: expected 481 fields, saw 961\n",
        "Skipping line 90867: expected 481 fields, saw 961\n"
       ]
      },
      {
       "output_type": "stream",
       "stream": "stderr",
       "text": [
        "\n",
        "Skipping line 92743: expected 481 fields, saw 961\n",
        "Skipping line 93496: expected 481 fields, saw 961\n"
       ]
      },
      {
       "output_type": "stream",
       "stream": "stderr",
       "text": [
        "\n",
        "Skipping line 94475: expected 481 fields, saw 961\n"
       ]
      },
      {
       "output_type": "stream",
       "stream": "stderr",
       "text": [
        "\n"
       ]
      }
     ],
     "prompt_number": 59
    },
    {
     "cell_type": "markdown",
     "metadata": {},
     "source": [
      "### Looking at some high level descriptive statistics ###"
     ]
    },
    {
     "cell_type": "code",
     "collapsed": false,
     "input": [
      "shape(lrn)"
     ],
     "language": "python",
     "metadata": {},
     "outputs": [
      {
       "metadata": {},
       "output_type": "pyout",
       "prompt_number": 60,
       "text": [
        "(95149, 481)"
       ]
      }
     ],
     "prompt_number": 60
    },
    {
     "cell_type": "code",
     "collapsed": false,
     "input": [
      "lrn.columns  # we can find out more about these columns in the documentation file and the dictionary file"
     ],
     "language": "python",
     "metadata": {},
     "outputs": [
      {
       "metadata": {},
       "output_type": "pyout",
       "prompt_number": 61,
       "text": [
        "Index([u'ODATEDW', u'OSOURCE', u'TCODE', u'STATE', u'ZIP', u'MAILCODE', u'PVASTATE', u'DOB', u'NOEXCH', u'RECINHSE', u'RECP3', u'RECPGVG', u'RECSWEEP', u'MDMAUD', u'DOMAIN', u'CLUSTER', u'AGE', u'AGEFLAG', u'HOMEOWNR', u'CHILD03', u'CHILD07', u'CHILD12', u'CHILD18', u'NUMCHLD', u'INCOME', u'GENDER', u'WEALTH1', u'HIT', u'MBCRAFT', u'MBGARDEN', u'MBBOOKS', u'MBCOLECT', u'MAGFAML', u'MAGFEM', u'MAGMALE', u'PUBGARDN', u'PUBCULIN', u'PUBHLTH', u'PUBDOITY', u'PUBNEWFN', u'PUBPHOTO', u'PUBOPP', u'DATASRCE', u'MALEMILI', u'MALEVET', u'VIETVETS', u'WWIIVETS', u'LOCALGOV', u'STATEGOV', u'FEDGOV', u'SOLP3', u'SOLIH', u'MAJOR', u'WEALTH2', u'GEOCODE', u'COLLECT1', u'VETERANS', u'BIBLE', u'CATLG', u'HOMEE', u'PETS', u'CDPLAY', u'STEREO', u'PCOWNERS', u'PHOTO', u'CRAFTS', u'FISHER', u'GARDENIN', u'BOATS', u'WALKER', u'KIDSTUFF', u'CARDS', u'PLATES', u'LIFESRC', u'PEPSTRFL', u'POP901', u'POP902', u'POP903', u'POP90C1', u'POP90C2', u'POP90C3', u'POP90C4', u'POP90C5', u'ETH1', u'ETH2', u'ETH3', u'ETH4', u'ETH5', u'ETH6', u'ETH7', u'ETH8', u'ETH9', u'ETH10', u'ETH11', u'ETH12', u'ETH13', u'ETH14', u'ETH15', u'ETH16', u'AGE901', ...], dtype='object')"
       ]
      }
     ],
     "prompt_number": 61
    },
    {
     "cell_type": "markdown",
     "metadata": {},
     "source": [
      "###Summarizing Data\n",
      "Now that we have loaded data into the learn table, we wish to to summarize the data.  \n",
      "Write a function called summary which takes a pandas data frame and prints a summary of each column containing the following:\n",
      "\n",
      "If the column is numeric:\n",
      "\n",
      "1. Mean\n",
      "2. Standard Deviation\n",
      "3. Min/Max\n",
      "4. Number of missing values (NaN, Inf, NA)\n",
      "\n",
      "If the column is non alphabetical:\n",
      "\n",
      "1. Number of distinct values\n",
      "2. Number of missing values (NaN, INF, NA, blank/all spaces)\n",
      "3. The frequency of the 3 most common values and 3 least common values\n",
      "\n",
      "Format the output to be human readable.\n"
     ]
    },
    {
     "cell_type": "code",
     "collapsed": false,
     "input": [
      "lrn.describe()"
     ],
     "language": "python",
     "metadata": {},
     "outputs": [
      {
       "html": [
        "<div style=\"max-height:1000px;max-width:1500px;overflow:auto;\">\n",
        "<table border=\"1\" class=\"dataframe\">\n",
        "  <thead>\n",
        "    <tr style=\"text-align: right;\">\n",
        "      <th></th>\n",
        "      <th>ODATEDW</th>\n",
        "      <th>TCODE</th>\n",
        "      <th>DOB</th>\n",
        "      <th>AGE</th>\n",
        "      <th>NUMCHLD</th>\n",
        "      <th>INCOME</th>\n",
        "      <th>WEALTH1</th>\n",
        "      <th>HIT</th>\n",
        "      <th>MBCRAFT</th>\n",
        "      <th>MBGARDEN</th>\n",
        "      <th>...</th>\n",
        "      <th>FISTDATE</th>\n",
        "      <th>NEXTDATE</th>\n",
        "      <th>TIMELAG</th>\n",
        "      <th>AVGGIFT</th>\n",
        "      <th>CONTROLN</th>\n",
        "      <th>TARGET_B</th>\n",
        "      <th>TARGET_D</th>\n",
        "      <th>HPHONE_D</th>\n",
        "      <th>RFA_2F</th>\n",
        "      <th>CLUSTER2</th>\n",
        "    </tr>\n",
        "  </thead>\n",
        "  <tbody>\n",
        "    <tr>\n",
        "      <th>count</th>\n",
        "      <td> 95149.000000</td>\n",
        "      <td> 95149.000000</td>\n",
        "      <td> 95149.000000</td>\n",
        "      <td> 71570.000000</td>\n",
        "      <td> 12357.000000</td>\n",
        "      <td> 73951.000000</td>\n",
        "      <td> 50576.000000</td>\n",
        "      <td> 95149.000000</td>\n",
        "      <td> 42473.000000</td>\n",
        "      <td> 42473.00000</td>\n",
        "      <td>...</td>\n",
        "      <td> 95149.000000</td>\n",
        "      <td> 85207.000000</td>\n",
        "      <td> 85207.000000</td>\n",
        "      <td> 95149.000000</td>\n",
        "      <td>  95149.000000</td>\n",
        "      <td> 95149.000000</td>\n",
        "      <td> 95149.000000</td>\n",
        "      <td> 95149.000000</td>\n",
        "      <td> 95149.000000</td>\n",
        "      <td> 95149.000000</td>\n",
        "    </tr>\n",
        "    <tr>\n",
        "      <th>mean</th>\n",
        "      <td>  9141.379184</td>\n",
        "      <td>    54.345427</td>\n",
        "      <td>  2724.447446</td>\n",
        "      <td>    61.610912</td>\n",
        "      <td>     1.527555</td>\n",
        "      <td>     3.886344</td>\n",
        "      <td>     5.344986</td>\n",
        "      <td>     3.324270</td>\n",
        "      <td>     0.152167</td>\n",
        "      <td>     0.05912</td>\n",
        "      <td>...</td>\n",
        "      <td>  9135.664789</td>\n",
        "      <td>  9151.055617</td>\n",
        "      <td>     8.094065</td>\n",
        "      <td>    13.349209</td>\n",
        "      <td>  95810.516327</td>\n",
        "      <td>     0.050752</td>\n",
        "      <td>     0.793279</td>\n",
        "      <td>     0.501035</td>\n",
        "      <td>     1.909868</td>\n",
        "      <td>    31.536432</td>\n",
        "    </tr>\n",
        "    <tr>\n",
        "      <th>std</th>\n",
        "      <td>   343.457199</td>\n",
        "      <td>   955.148261</td>\n",
        "      <td>  2131.941819</td>\n",
        "      <td>    16.662097</td>\n",
        "      <td>     0.806249</td>\n",
        "      <td>     1.854949</td>\n",
        "      <td>     2.743050</td>\n",
        "      <td>     9.314811</td>\n",
        "      <td>     0.470137</td>\n",
        "      <td>     0.26196</td>\n",
        "      <td>...</td>\n",
        "      <td>   320.414905</td>\n",
        "      <td>   294.287170</td>\n",
        "      <td>     8.217184</td>\n",
        "      <td>    10.779302</td>\n",
        "      <td>  55268.255515</td>\n",
        "      <td>     0.219492</td>\n",
        "      <td>     4.431120</td>\n",
        "      <td>     0.500002</td>\n",
        "      <td>     1.072630</td>\n",
        "      <td>    18.764747</td>\n",
        "    </tr>\n",
        "    <tr>\n",
        "      <th>min</th>\n",
        "      <td>  8306.000000</td>\n",
        "      <td>     0.000000</td>\n",
        "      <td>     0.000000</td>\n",
        "      <td>     1.000000</td>\n",
        "      <td>     1.000000</td>\n",
        "      <td>     1.000000</td>\n",
        "      <td>     0.000000</td>\n",
        "      <td>     0.000000</td>\n",
        "      <td>     0.000000</td>\n",
        "      <td>     0.00000</td>\n",
        "      <td>...</td>\n",
        "      <td>     0.000000</td>\n",
        "      <td>  7211.000000</td>\n",
        "      <td>     0.000000</td>\n",
        "      <td>     1.285714</td>\n",
        "      <td>      1.000000</td>\n",
        "      <td>     0.000000</td>\n",
        "      <td>     0.000000</td>\n",
        "      <td>     0.000000</td>\n",
        "      <td>     1.000000</td>\n",
        "      <td>     1.000000</td>\n",
        "    </tr>\n",
        "    <tr>\n",
        "      <th>25%</th>\n",
        "      <td>  8801.000000</td>\n",
        "      <td>     0.000000</td>\n",
        "      <td>   201.000000</td>\n",
        "      <td>    48.000000</td>\n",
        "      <td>     1.000000</td>\n",
        "      <td>     2.000000</td>\n",
        "      <td>     3.000000</td>\n",
        "      <td>     0.000000</td>\n",
        "      <td>     0.000000</td>\n",
        "      <td>     0.00000</td>\n",
        "      <td>...</td>\n",
        "      <td>  8810.000000</td>\n",
        "      <td>  8903.000000</td>\n",
        "      <td>     4.000000</td>\n",
        "      <td>     8.384615</td>\n",
        "      <td>  47999.000000</td>\n",
        "      <td>     0.000000</td>\n",
        "      <td>     0.000000</td>\n",
        "      <td>     0.000000</td>\n",
        "      <td>     1.000000</td>\n",
        "      <td>    15.000000</td>\n",
        "    </tr>\n",
        "    <tr>\n",
        "      <th>50%</th>\n",
        "      <td>  9201.000000</td>\n",
        "      <td>     1.000000</td>\n",
        "      <td>  2611.000000</td>\n",
        "      <td>    62.000000</td>\n",
        "      <td>     1.000000</td>\n",
        "      <td>     4.000000</td>\n",
        "      <td>     6.000000</td>\n",
        "      <td>     0.000000</td>\n",
        "      <td>     0.000000</td>\n",
        "      <td>     0.00000</td>\n",
        "      <td>...</td>\n",
        "      <td>  9201.000000</td>\n",
        "      <td>  9204.000000</td>\n",
        "      <td>     6.000000</td>\n",
        "      <td>    11.636364</td>\n",
        "      <td>  95728.000000</td>\n",
        "      <td>     0.000000</td>\n",
        "      <td>     0.000000</td>\n",
        "      <td>     1.000000</td>\n",
        "      <td>     2.000000</td>\n",
        "      <td>    32.000000</td>\n",
        "    </tr>\n",
        "    <tr>\n",
        "      <th>75%</th>\n",
        "      <td>  9501.000000</td>\n",
        "      <td>     2.000000</td>\n",
        "      <td>  4601.000000</td>\n",
        "      <td>    75.000000</td>\n",
        "      <td>     2.000000</td>\n",
        "      <td>     5.000000</td>\n",
        "      <td>     8.000000</td>\n",
        "      <td>     3.000000</td>\n",
        "      <td>     0.000000</td>\n",
        "      <td>     0.00000</td>\n",
        "      <td>...</td>\n",
        "      <td>  9409.000000</td>\n",
        "      <td>  9409.000000</td>\n",
        "      <td>    11.000000</td>\n",
        "      <td>    15.470588</td>\n",
        "      <td> 143657.000000</td>\n",
        "      <td>     0.000000</td>\n",
        "      <td>     0.000000</td>\n",
        "      <td>     1.000000</td>\n",
        "      <td>     3.000000</td>\n",
        "      <td>    49.000000</td>\n",
        "    </tr>\n",
        "    <tr>\n",
        "      <th>max</th>\n",
        "      <td>  9701.000000</td>\n",
        "      <td> 72002.000000</td>\n",
        "      <td>  9710.000000</td>\n",
        "      <td>    98.000000</td>\n",
        "      <td>     7.000000</td>\n",
        "      <td>     7.000000</td>\n",
        "      <td>     9.000000</td>\n",
        "      <td>   241.000000</td>\n",
        "      <td>     6.000000</td>\n",
        "      <td>     4.00000</td>\n",
        "      <td>...</td>\n",
        "      <td>  9603.000000</td>\n",
        "      <td>  9702.000000</td>\n",
        "      <td>  1088.000000</td>\n",
        "      <td>  1000.000000</td>\n",
        "      <td> 191779.000000</td>\n",
        "      <td>     1.000000</td>\n",
        "      <td>   200.000000</td>\n",
        "      <td>     1.000000</td>\n",
        "      <td>     4.000000</td>\n",
        "      <td>    62.000000</td>\n",
        "    </tr>\n",
        "  </tbody>\n",
        "</table>\n",
        "<p>8 rows \u00d7 407 columns</p>\n",
        "</div>"
       ],
       "metadata": {},
       "output_type": "pyout",
       "prompt_number": 7,
       "text": [
        "            ODATEDW         TCODE           DOB           AGE       NUMCHLD  \\\n",
        "count  95149.000000  95149.000000  95149.000000  71570.000000  12357.000000   \n",
        "mean    9141.379184     54.345427   2724.447446     61.610912      1.527555   \n",
        "std      343.457199    955.148261   2131.941819     16.662097      0.806249   \n",
        "min     8306.000000      0.000000      0.000000      1.000000      1.000000   \n",
        "25%     8801.000000      0.000000    201.000000     48.000000      1.000000   \n",
        "50%     9201.000000      1.000000   2611.000000     62.000000      1.000000   \n",
        "75%     9501.000000      2.000000   4601.000000     75.000000      2.000000   \n",
        "max     9701.000000  72002.000000   9710.000000     98.000000      7.000000   \n",
        "\n",
        "             INCOME       WEALTH1           HIT       MBCRAFT     MBGARDEN  \\\n",
        "count  73951.000000  50576.000000  95149.000000  42473.000000  42473.00000   \n",
        "mean       3.886344      5.344986      3.324270      0.152167      0.05912   \n",
        "std        1.854949      2.743050      9.314811      0.470137      0.26196   \n",
        "min        1.000000      0.000000      0.000000      0.000000      0.00000   \n",
        "25%        2.000000      3.000000      0.000000      0.000000      0.00000   \n",
        "50%        4.000000      6.000000      0.000000      0.000000      0.00000   \n",
        "75%        5.000000      8.000000      3.000000      0.000000      0.00000   \n",
        "max        7.000000      9.000000    241.000000      6.000000      4.00000   \n",
        "\n",
        "          ...           FISTDATE      NEXTDATE       TIMELAG       AVGGIFT  \\\n",
        "count     ...       95149.000000  85207.000000  85207.000000  95149.000000   \n",
        "mean      ...        9135.664789   9151.055617      8.094065     13.349209   \n",
        "std       ...         320.414905    294.287170      8.217184     10.779302   \n",
        "min       ...           0.000000   7211.000000      0.000000      1.285714   \n",
        "25%       ...        8810.000000   8903.000000      4.000000      8.384615   \n",
        "50%       ...        9201.000000   9204.000000      6.000000     11.636364   \n",
        "75%       ...        9409.000000   9409.000000     11.000000     15.470588   \n",
        "max       ...        9603.000000   9702.000000   1088.000000   1000.000000   \n",
        "\n",
        "            CONTROLN      TARGET_B      TARGET_D      HPHONE_D        RFA_2F  \\\n",
        "count   95149.000000  95149.000000  95149.000000  95149.000000  95149.000000   \n",
        "mean    95810.516327      0.050752      0.793279      0.501035      1.909868   \n",
        "std     55268.255515      0.219492      4.431120      0.500002      1.072630   \n",
        "min         1.000000      0.000000      0.000000      0.000000      1.000000   \n",
        "25%     47999.000000      0.000000      0.000000      0.000000      1.000000   \n",
        "50%     95728.000000      0.000000      0.000000      1.000000      2.000000   \n",
        "75%    143657.000000      0.000000      0.000000      1.000000      3.000000   \n",
        "max    191779.000000      1.000000    200.000000      1.000000      4.000000   \n",
        "\n",
        "           CLUSTER2  \n",
        "count  95149.000000  \n",
        "mean      31.536432  \n",
        "std       18.764747  \n",
        "min        1.000000  \n",
        "25%       15.000000  \n",
        "50%       32.000000  \n",
        "75%       49.000000  \n",
        "max       62.000000  \n",
        "\n",
        "[8 rows x 407 columns]"
       ]
      }
     ],
     "prompt_number": 7
    },
    {
     "cell_type": "code",
     "collapsed": false,
     "input": [
      "lrn.dtypes[:10]"
     ],
     "language": "python",
     "metadata": {},
     "outputs": [
      {
       "metadata": {},
       "output_type": "pyout",
       "prompt_number": 58,
       "text": [
        "ODATEDW      int64\n",
        "OSOURCE     object\n",
        "TCODE        int64\n",
        "STATE       object\n",
        "ZIP         object\n",
        "MAILCODE    object\n",
        "PVASTATE    object\n",
        "DOB          int64\n",
        "NOEXCH      object\n",
        "RECINHSE    object\n",
        "dtype: object"
       ]
      }
     ],
     "prompt_number": 58
    },
    {
     "cell_type": "markdown",
     "metadata": {},
     "source": [
      "### Creating a dataframe with only the numeric input fields"
     ]
    },
    {
     "cell_type": "code",
     "collapsed": false,
     "input": [
      "g = lrn.columns.to_series().groupby(lrn.dtypes).groups\n",
      "for t in g.keys():\n",
      "    print t,len(g[t])"
     ],
     "language": "python",
     "metadata": {},
     "outputs": [
      {
       "output_type": "stream",
       "stream": "stdout",
       "text": [
        "object 74\n",
        "int64 314\n",
        "float64 93\n"
       ]
      }
     ],
     "prompt_number": 63
    },
    {
     "cell_type": "code",
     "collapsed": false,
     "input": [
      "# create a table that consists only of ints and floats.\n",
      "numeric_inputs=list(g[dtype('int64')]+g[dtype('float64')])\n",
      "numeric_inputs.remove('TARGET_B')\n",
      "numeric_inputs.remove('TARGET_D')\n",
      "lrn_numeric=lrn[numeric_inputs]\n",
      "shape(lrn_numeric),shape(lrn)"
     ],
     "language": "python",
     "metadata": {},
     "outputs": [
      {
       "metadata": {},
       "output_type": "pyout",
       "prompt_number": 64,
       "text": [
        "((95149, 405), (95149, 481))"
       ]
      }
     ],
     "prompt_number": 64
    },
    {
     "cell_type": "code",
     "collapsed": false,
     "input": [
      "#does not work for this high dimension\n",
      "#lrn_numeric.hist();"
     ],
     "language": "python",
     "metadata": {},
     "outputs": [],
     "prompt_number": 7
    },
    {
     "cell_type": "markdown",
     "metadata": {},
     "source": [
      "### Studying the target ###\n",
      "Our target is to increase the total donations, this target is given in the column **TARGET_D**. We now study the distribution of the target."
     ]
    },
    {
     "cell_type": "code",
     "collapsed": false,
     "input": [
      "target=lrn['TARGET_D']\n",
      "print shape(target)\n",
      "print 'total cost of mailings',0.69*len(target)\n",
      "nonzero=target[target>0]\n",
      "print len(nonzero),float(len(nonzero))/len(target)\n",
      "H,X,Patches=hist(list(nonzero),bins=201,range=[0,200]);"
     ],
     "language": "python",
     "metadata": {},
     "outputs": [
      {
       "output_type": "stream",
       "stream": "stdout",
       "text": [
        "(95149,)\n",
        "total cost of mailings 65652.81\n",
        "4829 0.0507519784759\n"
       ]
      },
      {
       "metadata": {},
       "output_type": "display_data",
       "png": "[encoded data removed]",
       "text": [
        "<matplotlib.figure.Figure at 0x118fb8250>"
       ]
      }
     ],
     "prompt_number": 8
    },
    {
     "cell_type": "code",
     "collapsed": false,
     "input": [
      "print H[:50]\n",
      "print H[-20:]\n",
      "Contrib=H*range(len(H))\n",
      "print sum(Contrib)\n",
      "fig=plt.figure(1,figsize=(10,7),dpi=300)\n",
      "plot(cumsum(Contrib)/sum(Contrib))\n",
      "grid()"
     ],
     "language": "python",
     "metadata": {},
     "outputs": [
      {
       "output_type": "stream",
       "stream": "stdout",
       "text": [
        "[   0.    7.   22.   85.   77.  503.  122.  127.  113.   71.  940.  117.\n",
        "  172.   64.   81.  589.   86.   64.   38.   27.  575.   92.   23.   40.\n",
        "   13.  392.   26.    9.    6.    2.   99.    3.   12.    3.    2.   39.\n",
        "    9.    6.    8.    0.   27.    2.    2.    2.    3.    8.    2.    4.\n",
        "    1.    0.]\n",
        "[ 0.  0.  0.  0.  0.  0.  0.  0.  0.  0.  0.  0.  0.  0.  0.  0.  0.  0.\n",
        "  0.  4.]\n",
        "75469.0\n"
       ]
      },
      {
       "metadata": {},
       "output_type": "display_data",
       "png": "[encoded data removed]",
       "text": [
        "<matplotlib.figure.Figure at 0x118fb8850>"
       ]
      }
     ],
     "prompt_number": 9
    },
    {
     "cell_type": "markdown",
     "metadata": {},
     "source": [
      "**Conclusions from study of target**\n",
      "\n",
      "* 5% of the recievers of the mailing made a donation.\n",
      "* People tend to donate round numbers of dollars: 5,10,15,20,25,...,50,200\n",
      "* The total donation was about 75,000\\$. As each mailing cost \\$0.68 and there were 95149 mailings, we get a total of \\$65,652 in costs of the mailing. Assuming there were no other costs, the net gain was less than \\$10,000...\n",
      "* 80% of the total donation is contributed by people donating \\$25 or less, 95% correspond to \\$50 or less, 98% correspond to \\$100 or less, the maximal donations were \\$200.\n",
      "\n",
      "My main conclusion is that the main goal should be to maximize the percentage of donation and only secondarily to target larger donations. As it turns out, TARGET_B is a binary indicator of who made a donation."
     ]
    },
    {
     "cell_type": "code",
     "collapsed": false,
     "input": [
      "from collections import Counter\n",
      "target_bin=lrn['TARGET_B']\n",
      "print Counter(target_bin),sum(isnan(target_bin))"
     ],
     "language": "python",
     "metadata": {},
     "outputs": [
      {
       "output_type": "stream",
       "stream": "stdout",
       "text": [
        "Counter({0: 90320, 1: 4829}) 0\n"
       ]
      }
     ],
     "prompt_number": 10
    },
    {
     "cell_type": "markdown",
     "metadata": {},
     "source": [
      "## Logistic regression ##\n",
      "Logistic regression is a good first-cut method for modeling a relation between numeric inputs and a binary output.\n",
      "\n",
      "#### Alternative Libraries ####\n",
      "There are at least two libraries that have implementations of logistic regression, as well as many other types of models.\n",
      "\n",
      "* `statmodels` this is a module created by and for statisticians. Each model comes with many options, and is similar in style and options to `R`.\n",
      "* `sklearn` this is a modules created by and for machine learning people. There are fewer options, which makes for faster (human) learning. It also seems that the implementation of some methods might be more efficient.\n",
      "* `scipy.stats` contains many of the basic functions used in statistics, such as correlation, statistical tests etc.\n",
      "\n",
      "We are going to use logistic regression as implemented in `sklearn`. The basic theory is given  [here](http://scikit-learn.org/stable/modules/linear_model.html#logistic-regression) and the documentation is [here](http://scikit-learn.org/stable/modules/generated/sklearn.linear_model.LogisticRegression.html)"
     ]
    },
    {
     "cell_type": "code",
     "collapsed": false,
     "input": [
      "import statsmodels.api as sm\n",
      "from sklearn.linear_model import LogisticRegression\n",
      "from sklearn.preprocessing import StandardScaler"
     ],
     "language": "python",
     "metadata": {},
     "outputs": [],
     "prompt_number": 31
    },
    {
     "cell_type": "markdown",
     "metadata": {},
     "source": [
      "### Find out the rows/columns that have many nans ###"
     ]
    },
    {
     "cell_type": "code",
     "collapsed": false,
     "input": [
      "Null=sum(lrn_numeric.isnull(),axis=0)\n",
      "Null[Null>50000].index"
     ],
     "language": "python",
     "metadata": {},
     "outputs": [
      {
       "metadata": {},
       "output_type": "pyout",
       "prompt_number": 65,
       "text": [
        "Index([u'NUMCHLD', u'MBCRAFT', u'MBGARDEN', u'MBBOOKS', u'MBCOLECT', u'MAGFAML', u'MAGFEM', u'MAGMALE', u'PUBGARDN', u'PUBCULIN', u'PUBHLTH', u'PUBDOITY', u'PUBNEWFN', u'PUBPHOTO', u'PUBOPP', u'ADATE_15', u'ADATE_20', u'ADATE_23', u'RDATE_3', u'RDATE_4', u'RDATE_5', u'RDATE_6', u'RDATE_7', u'RDATE_8', u'RDATE_9', u'RDATE_10', u'RDATE_11', u'RDATE_12', u'RDATE_13', u'RDATE_14', u'RDATE_15', u'RDATE_16', u'RDATE_17', u'RDATE_18', u'RDATE_19', u'RDATE_20', u'RDATE_21', u'RDATE_22', u'RDATE_23', u'RDATE_24', u'RAMNT_3', u'RAMNT_4', u'RAMNT_5', u'RAMNT_6', u'RAMNT_7', u'RAMNT_8', u'RAMNT_9', u'RAMNT_10', u'RAMNT_11', u'RAMNT_12', u'RAMNT_13', u'RAMNT_14', u'RAMNT_15', u'RAMNT_16', u'RAMNT_17', u'RAMNT_18', u'RAMNT_19', u'RAMNT_20', u'RAMNT_21', u'RAMNT_22', u'RAMNT_23', u'RAMNT_24'], dtype='object')"
       ]
      }
     ],
     "prompt_number": 65
    },
    {
     "cell_type": "code",
     "collapsed": false,
     "input": [
      "# Take a small sample of the rows, otherwise, the regression process takes forever\n",
      "# also, create a test set\n",
      "lrn_numeric = lrn_numeric.fillna(lrn_numeric.mean())\n",
      "lrn_numeric = pd.DataFrame(StandardScaler().fit_transform(lrn_numeric),index=lrn_numeric.index,columns=lrn_numeric.columns)\n",
      "row_no=shape(lrn_numeric)[0]\n",
      "fraction=10\n",
      "L=row_no/fraction\n",
      "from random import shuffle\n",
      "partition=pd.Series([0]*row_no,index=lrn_numeric.index)"
     ],
     "language": "python",
     "metadata": {},
     "outputs": [],
     "prompt_number": 183
    },
    {
     "cell_type": "code",
     "collapsed": false,
     "input": [
      "partition.ix[:L]=1\n",
      "partition[L:2*L]=2\n",
      "shuffle(partition)\n",
      "lrn_s=lrn.ix[partition==1]\n",
      "lrn_numeric_s=lrn_numeric.ix[partition==1]\n",
      "target_bin_s=target_bin.ix[partition==1]\n",
      "test_s=lrn.ix[partition==2]\n",
      "test_numeric_s=lrn_numeric.ix[partition==2]\n",
      "test_target_bin_s=target_bin.ix[partition==2]\n",
      "print shape(lrn_s),shape(lrn_numeric_s),shape(target_bin_s)\n",
      "print shape(test_s),shape(test_numeric_s),shape(test_target_bin_s)"
     ],
     "language": "python",
     "metadata": {},
     "outputs": [
      {
       "output_type": "stream",
       "stream": "stdout",
       "text": [
        "(9514, 481) (9514, 405) (9514,)\n",
        "(9514, 481) (9514, 405) (9514,)\n"
       ]
      }
     ],
     "prompt_number": 184
    },
    {
     "cell_type": "code",
     "collapsed": false,
     "input": [
      "type(partition),shape(partition)"
     ],
     "language": "python",
     "metadata": {},
     "outputs": [
      {
       "metadata": {},
       "output_type": "pyout",
       "prompt_number": 68,
       "text": [
        "(pandas.core.series.Series, (95149,))"
       ]
      }
     ],
     "prompt_number": 68
    },
    {
     "cell_type": "code",
     "collapsed": false,
     "input": [
      "# This code from statmodels works but is very slow and there are too many parameters\n",
      "#%%time\n",
      "#logit = sm.Logit(target_bin_s, lrn_numeric_s)\n",
      " \n",
      "# fit the model\n",
      "#result = logit.fit_regularized(acc=0.01)\n",
      "#summ=result.summary()\n",
      "#type(summ)"
     ],
     "language": "python",
     "metadata": {},
     "outputs": [],
     "prompt_number": 91
    },
    {
     "cell_type": "code",
     "collapsed": false,
     "input": [
      "X, y = lrn_numeric_s, target_bin_s\n",
      "X_test, y_test = test_numeric_s,test_target_bin_s"
     ],
     "language": "python",
     "metadata": {},
     "outputs": [],
     "prompt_number": 70
    },
    {
     "cell_type": "code",
     "collapsed": false,
     "input": [
      "from time import time\n",
      "def fit_model(C):\n",
      "    t0=time()\n",
      "    # turn down tolerance for short training time\n",
      "    clf_l1_LR = LogisticRegression(C=C, penalty='l1', tol=0.001)\n",
      "    clf_l2_LR = LogisticRegression(C=C, penalty='l2', tol=0.001)\n",
      "    clf_l1_LR.fit(X, y)\n",
      "    clf_l2_LR.fit(X, y)\n",
      "\n",
      "    coef_l1_LR = clf_l1_LR.coef_.ravel()\n",
      "    coef_l2_LR = clf_l2_LR.coef_.ravel()\n",
      "\n",
      "    # coef_l1_LR contains zeros due to the\n",
      "    # L1 sparsity inducing norm\n",
      "\n",
      "    sparsity_l1_LR = np.mean(coef_l1_LR == 0) * 100\n",
      "    sparsity_l2_LR = np.mean(coef_l2_LR == 0) * 100\n",
      "\n",
      "    print(\"C=%f\" % C)\n",
      "    print(\"Sparsity with L1 penalty: %.2f%%\" % sparsity_l1_LR)\n",
      "    print(\"train score with L1 penalty: %.4f\" % clf_l1_LR.score(X, y))\n",
      "    print(\"test score with L1 penalty: %.4f\" % clf_l1_LR.score(X_test, y_test))\n",
      "\n",
      "    print(\"Sparsity with L2 penalty: %.2f%%\" % sparsity_l2_LR)\n",
      "    print(\"train score with L2 penalty: %.4f\" % clf_l2_LR.score(X, y))\n",
      "    print(\"test score with L2 penalty: %.4f\" % clf_l2_LR.score(X_test, y_test))\n",
      "    print(\"time= %10.2f\"%(time()-t0))\n",
      "\n",
      "    return coef_l1_LR,clf_l1_LR\n",
      "\n",
      "# Set regularization parameter\n",
      "#for i, C in enumerate(10. ** np.arange(-2, 2)):\n",
      "    #fit_model(C)\n",
      "    \n",
      "coef_l1_LR, clf_l1_LR=fit_model(1)"
     ],
     "language": "python",
     "metadata": {},
     "outputs": [
      {
       "output_type": "stream",
       "stream": "stdout",
       "text": [
        "C=1.000000\n",
        "Sparsity with L1 penalty: 18.02%\n",
        "train score with L1 penalty: 0.9502\n",
        "test score with L1 penalty: 0.9485\n",
        "Sparsity with L2 penalty: 0.49%\n",
        "train score with L2 penalty: 0.9504\n",
        "test score with L2 penalty: 0.9482\n",
        "time=      17.90\n"
       ]
      }
     ],
     "prompt_number": 139
    },
    {
     "cell_type": "code",
     "collapsed": false,
     "input": [
      "len(coef_l1_LR),shape(lrn_numeric_s)"
     ],
     "language": "python",
     "metadata": {},
     "outputs": [
      {
       "metadata": {},
       "output_type": "pyout",
       "prompt_number": 140,
       "text": [
        "(405, (9514, 405))"
       ]
      }
     ],
     "prompt_number": 140
    },
    {
     "cell_type": "code",
     "collapsed": false,
     "input": [
      "Coef_List=zip(lrn_numeric.columns.tolist(),coef_l1_LR)\n",
      "Coef_List.sort(key=lambda x: abs(x[1]),reverse=True)\n",
      "Coef_List[:10]"
     ],
     "language": "python",
     "metadata": {},
     "outputs": [
      {
       "metadata": {},
       "output_type": "pyout",
       "prompt_number": 141,
       "text": [
        "[('ADATE_23', 1.0830754031608967),\n",
        " ('AGE904', -0.88668634798872681),\n",
        " ('LFC1', -0.76346433395199986),\n",
        " ('RDATE_13', -0.6676287078169052),\n",
        " ('LFC2', 0.47808803870008904),\n",
        " ('MARR3', 0.47354675835683963),\n",
        " ('HUR2', -0.46454360019812685),\n",
        " ('HC20', 0.44352235017500835),\n",
        " ('HC8', -0.42944788644510024),\n",
        " ('IC4', -0.38943132576301359)]"
       ]
      }
     ],
     "prompt_number": 141
    },
    {
     "cell_type": "code",
     "collapsed": false,
     "input": [
      "\n",
      "log_scores=pd.Series(clf_l1_LR.predict_proba(lrn_numeric)[:,1])"
     ],
     "language": "python",
     "metadata": {},
     "outputs": [],
     "prompt_number": 142
    },
    {
     "cell_type": "code",
     "collapsed": false,
     "input": [
      "hist(log_scores,bins=100,range=[0,0.3]);\n",
      "pos=log_scores[target_bin==1]\n",
      "neg=log_scores[target_bin==0]\n",
      "len(log_scores),len(pos),len(neg)"
     ],
     "language": "python",
     "metadata": {},
     "outputs": [
      {
       "metadata": {},
       "output_type": "pyout",
       "prompt_number": 143,
       "text": [
        "(95149, 4829, 90320)"
       ]
      },
      {
       "metadata": {},
       "output_type": "display_data",
       "png": "[encoded data removed]",
       "text": [
        "<matplotlib.figure.Figure at 0x10a012290>"
       ]
      }
     ],
     "prompt_number": 143
    },
    {
     "cell_type": "code",
     "collapsed": false,
     "input": [
      "fig=plt.figure(1,figsize=(15,10),dpi=300)\n",
      "wpos=np.ones_like(pos)*float(len(neg))/len(pos)\n",
      "wneg=np.ones_like(neg)\n",
      "hist( [pos,neg], histtype='bar',bins=100,weights=[wpos,wneg],range=[0,0.3]);\n",
      "legend(['pos','neg'])"
     ],
     "language": "python",
     "metadata": {},
     "outputs": [
      {
       "metadata": {},
       "output_type": "pyout",
       "prompt_number": 147,
       "text": [
        "<matplotlib.legend.Legend at 0x10f599d90>"
       ]
      },
      {
       "metadata": {},
       "output_type": "display_data",
       "png": "[encoded data removed]",
       "text": [
        "<matplotlib.figure.Figure at 0x10f599b10>"
       ]
      }
     ],
     "prompt_number": 147
    },
    {
     "cell_type": "code",
     "collapsed": false,
     "input": [],
     "language": "python",
     "metadata": {},
     "outputs": []
    },
    {
     "cell_type": "code",
     "collapsed": false,
     "input": [
      "#computing the correlations\n",
      "Corrs=[]\n",
      "for column in lrn_numeric.columns:\n",
      "   Corrs.append((column,target_bin.corr(lrn_numeric[column])))\n",
      "    \n",
      "for column,corr in sorted(Corrs,key=lambda x: abs(x[1]),reverse=True):\n",
      "    print '%10s: %f.8'%(column,corr)"
     ],
     "language": "python",
     "metadata": {},
     "outputs": [
      {
       "output_type": "stream",
       "stream": "stdout",
       "text": [
        "    RFA_2F: 0.072329.8\n",
        "  CARDGIFT: 0.054180.8\n",
        "  NGIFTALL: 0.051149.8\n",
        "  LASTDATE: 0.041356.8\n",
        "  LASTGIFT: -0.035498.8\n",
        "   NUMPROM: 0.033378.8\n",
        "  FISTDATE: -0.032814.8\n",
        "  CARDPROM: 0.032640.8\n",
        "   AVGGIFT: -0.032516.8\n",
        "   ODATEDW: -0.032418.8\n",
        "  MINRAMNT: -0.031085.8\n",
        "  RAMNT_16: -0.028972.8\n",
        "   RAMNT_8: -0.027152.8\n",
        "  RAMNT_12: -0.026501.8\n",
        "  MAXRDATE: -0.026069.8\n",
        "       HV2: 0.025570.8\n",
        "       HV1: 0.024982.8\n",
        "      HVP4: 0.024154.8\n",
        "      HVP3: 0.024121.8\n",
        "      HVP2: 0.023419.8\n",
        "      HVP1: 0.022827.8\n",
        "       DMA: 0.022359.8\n",
        "      HVP5: 0.022023.8\n",
        "      HHD9: -0.021807.8\n",
        "      HHD7: -0.020756.8\n",
        "       IC5: 0.020459.8\n",
        "       IC4: 0.020416.8\n",
        "     HHAS3: 0.020348.8\n",
        "       HV3: 0.019928.8\n",
        "      HVP6: 0.019874.8\n",
        "       HV4: 0.019863.8\n",
        "     ETHC4: -0.019812.8\n",
        "       RP2: 0.019742.8\n",
        "       IC2: 0.019651.8\n",
        "       IC3: 0.019243.8\n",
        "      ETH2: -0.018959.8\n",
        "       RP1: 0.018947.8\n",
        "     ETHC5: -0.018602.8\n",
        "       IC1: 0.017897.8\n",
        "       RP3: 0.017828.8\n",
        "     HHAS4: -0.017469.8\n",
        "      ETH1: 0.017285.8\n",
        "      HHN2: 0.017236.8\n",
        "      IC15: -0.017085.8\n",
        "      IC11: 0.016892.8\n",
        "    AGE901: 0.016713.8\n",
        "      IC13: 0.015672.8\n",
        "      IC20: 0.015243.8\n",
        "      IC23: 0.014700.8\n",
        "      IC14: 0.014663.8\n",
        "     OCC11: -0.014657.8\n",
        "      OCC1: 0.014500.8\n",
        "       IC6: -0.014313.8\n",
        "       RP4: 0.014169.8\n",
        "      IC22: 0.013865.8\n",
        "    AGE904: 0.013744.8\n",
        "      OCC2: 0.013545.8\n",
        "      OCC4: 0.013533.8\n",
        "     ETHC3: 0.013488.8\n",
        "    AGE902: 0.013467.8\n",
        "     ETHC6: -0.013328.8\n",
        "      IC21: 0.013223.8\n",
        "     HHAS2: -0.012736.8\n",
        "     AGEC6: 0.012557.8\n",
        "     MARR1: 0.012547.8\n",
        "     AGEC1: -0.012492.8\n",
        "      IC19: 0.012410.8\n",
        "      TPE4: -0.012325.8\n",
        "      TPE3: -0.012166.8\n",
        "      IC12: 0.012066.8\n",
        "      OCC8: -0.011989.8\n",
        "    AGE905: 0.011915.8\n",
        "      IC10: 0.011912.8\n",
        "     MARR4: -0.011756.8\n",
        "      RHP4: -0.011755.8\n",
        "     ETHC2: 0.011404.8\n",
        "     LFC10: -0.011390.8\n",
        "    AGE903: 0.011294.8\n",
        "       MSA: 0.011158.8\n",
        "      TPE1: 0.011124.8\n",
        "      HHD1: -0.010964.8\n",
        "    AGE907: -0.010863.8\n",
        "       MC3: 0.010406.8\n",
        "      HHN5: -0.010200.8\n",
        "    HHAGE3: 0.010040.8\n",
        "    HHAGE1: 0.010024.8\n",
        "      RHP1: 0.009916.8\n",
        "    AGE906: 0.009550.8\n",
        "       MC1: 0.009446.8\n",
        "      HUR2: 0.008880.8\n",
        "      TPE2: -0.008802.8\n",
        "      IC17: -0.008669.8\n",
        "      IC16: -0.008615.8\n",
        "      HHN3: -0.008590.8\n",
        "     ETH10: 0.008536.8\n",
        "      HHN4: -0.008489.8\n",
        "       ADI: -0.008380.8\n",
        "     AGEC2: -0.008335.8\n",
        "      HHN6: -0.008323.8\n",
        "       IC8: -0.008034.8\n",
        "       DW3: -0.008017.8\n",
        "      HHD3: 0.007971.8\n",
        "     AGEC5: 0.007847.8\n",
        "       HU5: 0.007833.8\n",
        "      RHP2: 0.007793.8\n",
        "       IC7: -0.007755.8\n",
        "       MC2: -0.007227.8\n",
        "  LOCALGOV: -0.007225.8\n",
        "      LFC7: 0.007216.8\n",
        "     OCC12: -0.007184.8\n",
        "      TPE9: 0.007169.8\n",
        "     HUPA5: -0.006937.8\n",
        "  WWIIVETS: 0.006857.8\n",
        "    FEDGOV: -0.006838.8\n",
        "       DW8: -0.006521.8\n",
        "     HHAS1: 0.006371.8\n",
        "     OCC10: -0.006235.8\n",
        "       HIT: 0.006143.8\n",
        "       HU1: 0.006102.8\n",
        "   MALEVET: 0.006092.8\n",
        "   POP90C1: 0.006009.8\n",
        "      HHP2: -0.005880.8\n",
        "     HUPA1: -0.005796.8\n",
        "  VIETVETS: -0.005785.8\n",
        "    CHILC2: 0.005423.8\n",
        "      LFC4: 0.005315.8\n",
        "      HHP1: -0.005294.8\n",
        "      ETH7: 0.005186.8\n",
        "    HHAGE2: 0.005176.8\n",
        "      HHD8: -0.005141.8\n",
        "     CHIL1: 0.005133.8\n",
        "   POP90C3: -0.005104.8\n",
        "     HHD12: 0.005075.8\n",
        "     TCODE: 0.004906.8\n",
        "     AGEC7: 0.004895.8\n",
        "      ETH3: -0.004810.8\n",
        "       HU2: -0.004766.8\n",
        "     CHIL3: -0.004720.8\n",
        "   POP90C4: 0.004708.8\n",
        "     ETHC1: 0.004698.8\n",
        "      OCC5: -0.004518.8\n",
        "     MARR2: -0.004460.8\n",
        "      TPE5: -0.004444.8\n",
        "    POP901: -0.004259.8\n",
        "    CHILC5: -0.004043.8\n",
        "     AGEC4: 0.003927.8\n",
        "      OCC3: 0.003803.8\n",
        "      TPE6: -0.003778.8\n",
        "     HUPA4: -0.003725.8\n",
        "     AGEC3: 0.003716.8\n",
        "      PEC2: -0.003682.8\n",
        "      LFC2: 0.003651.8\n",
        "     ETH16: 0.003637.8\n",
        "    POP902: -0.003506.8\n",
        "       DW1: 0.003499.8\n",
        "    CHILC1: 0.003468.8\n",
        "      RHP3: -0.003364.8\n",
        "      LFC9: -0.003272.8\n",
        "      OCC9: 0.003253.8\n",
        "       DW7: -0.003210.8\n",
        "      ETH4: 0.003206.8\n",
        "      HHD6: 0.003118.8\n",
        "     TPE12: 0.003040.8\n",
        "     TPE11: 0.002803.8\n",
        "      LFC6: 0.002711.8\n",
        "      HHD4: -0.002602.8\n",
        "    POP903: -0.002505.8\n",
        "  MALEMILI: -0.002289.8\n",
        "   POP90C5: 0.002252.8\n",
        "       DW9: 0.002229.8\n",
        "     ETH11: -0.002197.8\n",
        "      OCC7: 0.002162.8\n",
        "       DW4: -0.002103.8\n",
        "      HUR1: -0.002082.8\n",
        "     ETH12: 0.002018.8\n",
        "     HHD11: 0.001970.8\n",
        "      PEC1: -0.001902.8\n",
        "    CHILC3: 0.001895.8\n",
        "      LFC8: 0.001856.8\n",
        "       DOB: -0.001726.8\n",
        "      TPE8: -0.001726.8\n",
        "       DW2: 0.001712.8\n",
        "      OCC6: 0.001679.8\n",
        "      LFC5: 0.001496.8\n",
        "      HHN1: 0.001476.8\n",
        "     HUPA2: 0.001431.8\n",
        "    CHILC4: -0.001407.8\n",
        "       HU3: 0.001403.8\n",
        "       IC9: 0.001390.8\n",
        "   POP90C2: -0.001386.8\n",
        "       HU4: 0.001276.8\n",
        "      LFC3: -0.001125.8\n",
        "      LFC1: 0.001110.8\n",
        "     ETH13: -0.000927.8\n",
        "      TPE7: 0.000772.8\n",
        "     HUPA3: 0.000726.8\n",
        "     CHIL2: 0.000698.8\n",
        "       DW6: 0.000658.8\n",
        "     HHD10: -0.000655.8\n",
        "     HUPA6: -0.000649.8\n",
        "     ETH15: 0.000552.8\n",
        "      IC18: 0.000537.8\n",
        "     TPE13: 0.000516.8\n",
        "       DW5: -0.000444.8\n",
        "      HHD2: -0.000394.8\n",
        "      ETH5: 0.000287.8\n",
        "      ETH9: -0.000274.8\n",
        "      ETH6: 0.000143.8\n",
        "  STATEGOV: -0.000131.8\n",
        "     HUPA7: -0.000057.8\n",
        "     ETH14: 0.000052.8\n",
        "      ETH8: -0.000047.8\n",
        "     TPE10: 0.000037.8\n",
        "      HHD5: -0.000027.8\n",
        "     MARR3: -0.000018.8\n",
        "   ADATE_5: nan.8\n",
        "  RAMNT_14: -0.025105.8\n",
        "  NEXTDATE: -0.024821.8\n",
        "  RAMNT_13: -0.021310.8\n",
        "  RAMNT_11: -0.021114.8\n",
        "  CARDPM12: 0.019641.8\n",
        "  RAMNT_24: -0.019016.8\n",
        "  NUMPRM12: 0.018853.8\n",
        "   RAMNT_7: -0.018587.8\n",
        "     MHUC1: 0.018056.8\n",
        "     POBC2: -0.017858.8\n",
        "       EC7: 0.017662.8\n",
        "  RAMNT_15: -0.017165.8\n",
        "   RAMNT_9: -0.016939.8\n",
        "  MAXRAMNT: -0.016813.8\n",
        "  ADATE_12: -0.016783.8\n",
        "    INCOME: 0.016402.8\n",
        "  RAMNT_20: -0.016390.8\n",
        "       EC8: 0.016369.8\n",
        "  CLUSTER2: -0.016340.8\n",
        "       EC3: -0.016037.8\n",
        "       EC2: -0.015401.8\n",
        "  RAMNT_17: -0.014827.8\n",
        "  RAMNTALL: 0.014753.8\n",
        "      HC21: 0.014595.8\n",
        "  RAMNT_19: -0.014332.8\n",
        "       EC1: 0.014008.8\n",
        "  RAMNT_18: -0.013969.8\n",
        "  RAMNT_22: -0.013897.8\n",
        "   WEALTH2: 0.013789.8\n",
        "  RAMNT_10: -0.013784.8\n",
        "   ADATE_2: -0.013684.8\n",
        "      VOC1: 0.013461.8\n",
        "       EC6: 0.013422.8\n",
        "       VC4: -0.013338.8\n",
        "       EC4: -0.013326.8\n",
        "     OEDC4: 0.013228.8\n",
        "     OCC13: -0.013060.8\n",
        "  CONTROLN: 0.012941.8\n",
        "  RAMNT_23: -0.012919.8\n",
        "       EC5: 0.012599.8\n",
        "      EIC9: 0.012443.8\n",
        "      VOC2: 0.011785.8\n",
        "      SEC4: -0.011223.8\n",
        "       VC3: 0.011096.8\n",
        "      ANC8: 0.010949.8\n",
        "  RAMNT_21: -0.010750.8\n",
        "   RDATE_3: -0.010712.8\n",
        "       HC6: 0.010617.8\n",
        "   RAMNT_6: -0.010562.8\n",
        "      ANC2: 0.010501.8\n",
        "     EIC15: 0.010431.8\n",
        "       HC2: -0.010203.8\n",
        "       HC7: 0.010173.8\n",
        "   TIMELAG: -0.010162.8\n",
        "  ADATE_13: -0.010116.8\n",
        "   ADATE_6: -0.009172.8\n",
        "   MBCRAFT: 0.008778.8\n",
        "   RDATE_8: 0.008683.8\n",
        "  ADATE_11: 0.008196.8\n",
        "   WEALTH1: 0.008180.8\n",
        "  RDATE_13: -0.008165.8\n",
        "   RAMNT_3: -0.007919.8\n",
        "       AGE: 0.007914.8\n",
        "   MAGMALE: 0.007527.8\n",
        "   ADATE_8: 0.007190.8\n",
        "  ADATE_15: nan.8\n",
        "  ADATE_19: 0.010009.8\n",
        "      AFC5: 0.009930.8\n",
        "      AFC4: 0.009698.8\n",
        "      ANC9: 0.009155.8\n",
        "       HC8: -0.009032.8\n",
        "     EIC12: 0.008856.8\n",
        "       HC9: 0.008296.8\n",
        "       HC5: 0.008177.8\n",
        "       VC2: 0.007507.8\n",
        "      SEC2: -0.007449.8\n",
        "       HC3: 0.007412.8\n",
        "   ADATE_3: -0.007287.8\n",
        "     OEDC1: -0.007206.8\n",
        "   PUBHLTH: 0.007130.8\n",
        "      HC10: 0.007102.8\n",
        "   RAMNT_5: -0.007006.8\n",
        "     ANC13: 0.006974.8\n",
        "  MAXADATE: -0.006973.8\n",
        "       AC1: 0.006954.8\n",
        "   ADATE_7: -0.006874.8\n",
        "  ADATE_10: -0.006855.8\n",
        "       HC4: 0.006796.8\n",
        "      HC12: -0.006335.8\n",
        "     ANC11: 0.006230.8\n",
        "  RDATE_14: -0.006046.8\n",
        "       AC2: 0.005987.8\n",
        "      HC20: 0.005867.8\n",
        "     POBC1: 0.005802.8\n",
        "  MINRDATE: -0.005677.8\n",
        "      EIC6: -0.005676.8\n",
        "   ADATE_4: 0.005667.8\n",
        "      EIC4: -0.005662.8\n",
        "      ANC1: 0.005580.8\n",
        "      ANC6: 0.005499.8\n",
        "     OEDC3: -0.005470.8\n",
        "  ADATE_24: -0.005374.8\n",
        "      VOC3: 0.005332.8\n",
        "   NUMCHLD: -0.005120.8\n",
        "      HC17: 0.005108.8\n",
        "   RDATE_7: 0.005081.8\n",
        "      HC15: 0.005059.8\n",
        "     MHUC2: 0.004813.8\n",
        "       VC1: -0.004649.8\n",
        "  RDATE_12: -0.004603.8\n",
        "      ANC5: 0.004558.8\n",
        "      HC18: -0.004548.8\n",
        "     EIC16: -0.004467.8\n",
        "       HC1: -0.004436.8\n",
        "  RDATE_22: -0.004131.8\n",
        "     ANC14: 0.004103.8\n",
        "  RDATE_19: -0.004074.8\n",
        "  RDATE_21: -0.004032.8\n",
        "  RDATE_24: -0.004000.8\n",
        "  ADATE_22: 0.003982.8\n",
        "     ANC12: 0.003916.8\n",
        "  RDATE_10: -0.003902.8\n",
        "     ANC15: 0.003661.8\n",
        "      HC14: -0.003659.8\n",
        "     OEDC6: -0.003568.8\n",
        "     EIC13: -0.003518.8\n",
        "      HC19: 0.003468.8\n",
        "   MAGFAML: 0.003402.8\n",
        "      HC13: 0.003392.8\n",
        "      EIC5: -0.003146.8\n",
        "   RAMNT_4: 0.003145.8\n",
        "  ADATE_16: -0.003066.8\n",
        "      HC16: 0.002990.8\n",
        "    MAGFEM: 0.002984.8\n",
        "  RDATE_23: 0.002975.8\n",
        "     ANC10: 0.002936.8\n",
        "      EIC3: 0.002918.8\n",
        "      EIC1: 0.002913.8\n",
        "   RDATE_6: -0.002803.8\n",
        "  ADATE_23: -0.002785.8\n",
        "     OEDC7: 0.002777.8\n",
        "  RDATE_16: -0.002774.8\n",
        "  PUBDOITY: -0.002651.8\n",
        "  PUBGARDN: 0.002590.8\n",
        "      ANC4: 0.002571.8\n",
        "      EIC7: -0.002549.8\n",
        "  HPHONE_D: -0.002538.8\n",
        "      AFC6: 0.002425.8\n",
        "  RDATE_11: -0.002423.8\n",
        "   RDATE_9: 0.002400.8\n",
        "     OEDC5: 0.002172.8\n",
        "     EIC11: -0.002168.8\n",
        "      SEC5: 0.002138.8\n",
        "      LSC1: 0.002094.8\n",
        "  MBCOLECT: -0.001989.8\n",
        "      LSC3: 0.001821.8\n",
        "  PUBPHOTO: 0.001805.8\n",
        "     EIC14: 0.001633.8\n",
        "  ADATE_17: 0.001613.8\n",
        "      LSC4: 0.001570.8\n",
        "      AFC1: -0.001526.8\n",
        "      EIC8: 0.001463.8\n",
        "  PUBNEWFN: -0.001342.8\n",
        "      AFC2: -0.001259.8\n",
        "      LSC2: -0.001243.8\n",
        "  ADATE_21: 0.001217.8\n",
        "  ADATE_20: 0.001134.8\n",
        "      SEC1: -0.001117.8\n",
        "     OEDC2: 0.001111.8\n",
        "      AFC3: -0.001074.8\n",
        "  RDATE_17: 0.000995.8\n",
        "  ADATE_18: 0.000994.8\n",
        "  RDATE_15: -0.000886.8\n",
        "   RDATE_5: -0.000881.8\n",
        "   ADATE_9: -0.000726.8\n",
        "      EIC2: -0.000678.8\n",
        "   MBBOOKS: 0.000662.8\n",
        "      ANC3: 0.000645.8\n",
        "  PUBCULIN: 0.000630.8\n",
        "      SEC3: -0.000618.8\n",
        "      HC11: 0.000564.8\n",
        "  MBGARDEN: -0.000406.8\n",
        "      ANC7: -0.000332.8\n",
        "  RDATE_20: 0.000317.8\n",
        "    PUBOPP: 0.000273.8\n",
        "  ADATE_14: -0.000255.8\n",
        "  RDATE_18: 0.000154.8\n",
        "   RDATE_4: 0.000046.8\n",
        "     EIC10: -0.000036.8\n"
       ]
      }
     ],
     "prompt_number": 101
    },
    {
     "cell_type": "code",
     "collapsed": false,
     "input": [
      "dict_file = open(\"dict.dat\")\n",
      "col_types = [ (x.split(\"\\t\")[0], x.strip().split(\"\\t\")[1]) for x in dict_file.readlines() ]"
     ],
     "language": "python",
     "metadata": {},
     "outputs": []
    },
    {
     "cell_type": "markdown",
     "metadata": {},
     "source": [
      "### Conclusions from logistic regression\n",
      "It seems that logistic regression is not able to find a reasonable classifier. It is just not flexible enough.  We will therefor look at a more flexible classifier - the decision tree."
     ]
    },
    {
     "cell_type": "markdown",
     "metadata": {},
     "source": [
      " ## Decision Tree classifier (DT)\n",
      " \n",
      " Again, we will use the implementation in sklearn, described [here](http://scikit-learn.org/stable/modules/tree.html)"
     ]
    },
    {
     "cell_type": "code",
     "collapsed": false,
     "input": [
      "from sklearn import tree"
     ],
     "language": "python",
     "metadata": {},
     "outputs": [],
     "prompt_number": 153
    },
    {
     "cell_type": "code",
     "collapsed": false,
     "input": [
      "%%time\n",
      "clf = tree.DecisionTreeClassifier()\n",
      "clf = clf.fit(lrn_numeric_s,target_bin_s)"
     ],
     "language": "python",
     "metadata": {},
     "outputs": [
      {
       "output_type": "stream",
       "stream": "stdout",
       "text": [
        "CPU times: user 16 s, sys: 47.6 ms, total: 16 s\n",
        "Wall time: 16 s\n"
       ]
      }
     ],
     "prompt_number": 185
    },
    {
     "cell_type": "code",
     "collapsed": false,
     "input": [
      "prediction=clf.predict(test_numeric_s)"
     ],
     "language": "python",
     "metadata": {},
     "outputs": [],
     "prompt_number": 186
    },
    {
     "cell_type": "code",
     "collapsed": false,
     "input": [
      "shape(prediction)"
     ],
     "language": "python",
     "metadata": {},
     "outputs": [
      {
       "metadata": {},
       "output_type": "pyout",
       "prompt_number": 187,
       "text": [
        "(9514,)"
       ]
      }
     ],
     "prompt_number": 187
    },
    {
     "cell_type": "code",
     "collapsed": false,
     "input": [
      "shape(test_target_bin_s)"
     ],
     "language": "python",
     "metadata": {},
     "outputs": [
      {
       "metadata": {},
       "output_type": "pyout",
       "prompt_number": 188,
       "text": [
        "(9514,)"
       ]
      }
     ],
     "prompt_number": 188
    },
    {
     "cell_type": "code",
     "collapsed": false,
     "input": [
      "#train set confusion matrix\n",
      "prediction=clf.predict(lrn_numeric_s)\n",
      "Counter(zip(prediction,target_bin_s))"
     ],
     "language": "python",
     "metadata": {},
     "outputs": [
      {
       "metadata": {},
       "output_type": "pyout",
       "prompt_number": 189,
       "text": [
        "Counter({(0, 0): 9029, (1, 1): 485})"
       ]
      }
     ],
     "prompt_number": 189
    },
    {
     "cell_type": "code",
     "collapsed": false,
     "input": [
      "#test set confusion matrix\n",
      "prediction=clf.predict(test_numeric_s)\n",
      "Confusion_Matrix=Counter(zip(prediction,test_target_bin_s))\n",
      "Confusion_Matrix"
     ],
     "language": "python",
     "metadata": {},
     "outputs": [
      {
       "metadata": {},
       "output_type": "pyout",
       "prompt_number": 191,
       "text": [
        "Counter({(0, 0): 8459, (1, 0): 577, (0, 1): 440, (1, 1): 38})"
       ]
      }
     ],
     "prompt_number": 191
    },
    {
     "cell_type": "code",
     "collapsed": false,
     "input": [
      "true_pos=(Confusion_Matrix[(0,1)]+Confusion_Matrix[(1,1)])/float(len(prediction))\n",
      "pred_pos=(Confusion_Matrix[(1,0)]+Confusion_Matrix[(1,1)])/float(len(prediction))\n",
      "true_pos,pred_pos,true_pos*pred_pos*len(prediction)"
     ],
     "language": "python",
     "metadata": {},
     "outputs": [
      {
       "metadata": {},
       "output_type": "pyout",
       "prompt_number": 196,
       "text": [
        "(0.05024174900147151, 0.0646415808282531, 30.89867563590498)"
       ]
      }
     ],
     "prompt_number": 196
    },
    {
     "cell_type": "markdown",
     "metadata": {},
     "source": [
      "### Text Feature Engineering\n",
      "\n",
      "As you should have seen, there are a number of columns which are encoded as text.  To perform modeling we must convert these to somthing more numeric or throw them away.  There are a number of ways to do this which are useful in different situations.  For each of the following methods described, write a function that will take a data frame, the column you want to process, any other needed arguments and will return a data frame with the target column removed and new columns added for the described features.\n",
      "\n",
      "1. Hot 1 encoding: takes a column \"Field\" with n unique values and adds n new columns \"Field_x\" with x being each unique value of the field.  A record will have Field_x = 1 if Field = x in the original record. \n",
      "> **Excercise:** use this method to transform the nun-numeric fields to numeric and see if this \n",
      "> helps performance. There is a special function to do this exists in Pandas, find what it is!\n",
      "2. Regex contains: similar to hot one, but instead allow the user to specify some regex patterns x and set Field_x to 1 if the regex pattern x matches the value in Field.  An example usage might be to standardize occupations to student/employed/unemployed.\n",
      "\n",
      "After this, apply one of your featurizers for each of the 75 non numeric columns.  Since there are so many columns you should use the summary statisitics to choose hot 1, risk table, or erase for most of them.  Come up with a basic heuristic to choose one of them (*Hint: you don't want to generate a ton of mostly constant features*).  Use the regex contains featureizer on at least 2 columns to extract some interesting meaning.  "
     ]
    },
    {
     "cell_type": "code",
     "collapsed": false,
     "input": [],
     "language": "python",
     "metadata": {},
     "outputs": []
    },
    {
     "cell_type": "markdown",
     "metadata": {},
     "source": [
      "Now that learn_y contains *only* numeric columns, we wish to normalize all features so that they all have similar ranges of values.  To do this we apply the [Z-transform](http://en.wikipedia.org/wiki/Standard_score).  Apply this independently to all columns in the data set.  This is the whitening transofrm used by the PCA model in the iris notebook."
     ]
    },
    {
     "cell_type": "markdown",
     "metadata": {},
     "source": [
      "###Modeling\n",
      "\n",
      "Note that there are two labeles for this dataset: weather a person donated or not and how much they donated if they donated.  To accurately model this we would need more complicated techniques you will learn in later coursework.  However, for now we can do some exploratory analysis similar to the housing/iris notebooks we saw in class friday.\n",
      "\n",
      "Do the following steps:\n",
      "\n",
      "**Unsupervised Modeling**\n",
      "1. Use PCA to project the features onto a 2 dimensional subspace, join with the labels and plot each point using the doner/non doner to color points.  Do the labels look cleanly seperated in this 2 dimensional subspace?\n",
      "2. Cluster the raw features into 2 clusters.  Compute the percentage of donors in each cluster.  Do one of the clusters have a higher donor rate than the other?  Plot the two features which seem to seperate the clusters the most, coloring the points by the labels.\n",
      "\n",
      "**Supervised Modeling**\n",
      "1. Build a regression model on the set of known donors to predict the donation amount from all features.\n",
      "2. Compute the mean error and plot the true donation size vs predicted donation size.\n",
      "3. Print a list of features/weights for hte linear regression model sorted by absolute weight.  Do the highest weight features seem like things that would affect donation size?"
     ]
    }
   ],
   "metadata": {}
  }
 ]
}