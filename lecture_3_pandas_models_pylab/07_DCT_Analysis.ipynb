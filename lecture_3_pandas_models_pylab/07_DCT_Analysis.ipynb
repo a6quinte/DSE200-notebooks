{
 "metadata": {
  "name": "",
  "signature": "sha256:e0cec74ec7e6103307f8df2d5e55eaef80e47acfbc3873f82a134ac076f3e52c"
 },
 "nbformat": 3,
 "nbformat_minor": 0,
 "worksheets": [
  {
   "cells": [
    {
     "cell_type": "code",
     "collapsed": false,
     "input": [
      "#Import the libraries \n",
      "%pylab inline\n",
      "import numpy as np\n",
      "import scipy as sp\n",
      "import pandas as pd"
     ],
     "language": "python",
     "metadata": {},
     "outputs": [
      {
       "output_type": "stream",
       "stream": "stdout",
       "text": [
        "Populating the interactive namespace from numpy and matplotlib\n"
       ]
      }
     ],
     "prompt_number": 1
    },
    {
     "cell_type": "markdown",
     "metadata": {},
     "source": [
      "First we look at our data file to figure out the format.  We see the format is libsvm format (label( feature_name:feature_value)*)"
     ]
    },
    {
     "cell_type": "code",
     "collapsed": false,
     "input": [
      "!head -1 data/train"
     ],
     "language": "python",
     "metadata": {},
     "outputs": [
      {
       "output_type": "stream",
       "stream": "stdout",
       "text": [
        "-1 1:60 2:49 3:-18 4:-1 5:4 6:-13 7:3 8:8 9:3 10:1 11:-0 12:1 13:-3 14:2 15:2 16:-0 17:-97 18:-1 19:0 20:0 21:3 22:0 23:0 24:-0 25:1 26:-0 27:-0 28:-0 29:-1 30:0 31:-0 32:-0 33:-63 34:-2 35:0 36:0 37:3 38:-0 39:-1 40:0 41:-0 42:0 43:-0 44:0 45:-0 46:-0 47:-0 48:-0 49:-57 50:1 51:0 52:0 53:4 54:-1 55:0 56:0 57:-2 58:1 59:-0 60:-0 61:-0 62:0 63:-0 64:0 65:-89 66:-1 67:1 68:-0 69:1 70:-0 71:1 72:-0 73:-3 74:1 75:1 76:-0 77:-0 78:-1 79:0 80:-0 81:-50 82:56 83:8 84:4 85:23 86:13 87:1 88:-3 89:-2 90:-3 91:-4 92:-2 93:-1 94:-1 95:-0 96:1 97:-105 98:-2 99:-0 100:-0 101:5 102:-2 103:-0 104:0 105:-3 106:-1 107:1 108:-0 109:-0 110:-1 111:0 112:0 113:-105 114:3 115:1 116:0 117:1 118:-1 119:0 120:-0 121:0 122:0 123:0 124:-0 125:-0 126:-1 127:0 128:0 129:-111 130:6 131:0 132:-1 133:1 134:-2 135:0 136:0 137:-2 138:4 139:-1 140:-1 141:-1 142:-2 143:1 144:0 145:-105 146:11 147:0 148:-1 149:-3 150:3 151:1 152:-0 153:-2 154:-3 155:0 156:-0 157:-1 158:-1 159:0 160:-1 161:-66 162:17 163:7 164:4 165:-23 166:-10 167:-10 168:-5 169:7 170:2 171:4 172:2 173:1 174:-1 175:-1 176:-0 177:-69 178:-4 179:-1 180:-0 181:6 182:-2 183:1 184:-0 185:-1 186:1 187:-0 188:0 189:0 190:-0 191:1 192:-0 193:-93 194:4 195:-0 196:-1 197:13 198:1 199:1 200:-1 201:-0 202:0 203:1 204:0 205:-0 206:1 207:-0 208:-0 209:-78 210:-0 211:-1 212:-0 213:3 214:14 215:-0 216:1 217:4 218:3 219:-1 220:-0 221:1 222:1 223:-1 224:-0 225:-55 226:-1 227:-1 228:-1 229:0 230:1 231:1 232:-0 233:2 234:1 235:0 236:-0 237:1 238:0 239:-1 240:-0 241:-139 242:1 243:0 244:0 245:-2 246:2 247:0 248:1 249:-1 250:-0 251:-0 252:0 253:-1 254:-0 255:0 256:-0 257:-104 258:-4 259:1 260:0 261:1 262:-1 263:-0 264:0 265:0 266:-0 267:-0 268:-0 269:0 270:-0 271:-0 272:0 273:-91 274:-3 275:-1 276:1 277:11 278:-1 279:-0 280:1 281:1 282:1 283:-0 284:-1 285:-0 286:0 287:0 288:-0 289:-86 290:-1 291:0 292:-0 293:1 294:2 295:0 296:-0 297:-1 298:0 299:1 300:-0 301:1 302:1 303:-0 304:-0 305:-102 306:-4 307:1 308:0 309:1 310:-1 311:-2 312:0 313:-0 314:2 315:-1 316:0 317:-0 318:-0 319:0 320:-0 321:-81 322:382 323:-37 324:141 325:266 326:243 327:-61 328:-227 329:-47 330:-208 331:42 332:184 333:55 334:-237 335:-185 336:-57 337:72 338:88 339:33 340:-55 341:59 342:11 343:-73 344:-155 345:-51 346:-34 347:-512 348:297 349:206 350:-104 351:-19 352:20 353:-144 354:4 355:-284 356:44 357:-36 358:-16 359:-101 360:11 361:-14 362:105 363:40 364:-17 365:273 366:-126 367:111 368:-40 369:112 370:-48 371:-628 372:140 373:-54 374:52 375:-43 376:-2 377:-15 378:-6 379:-148 380:67 381:83 382:-14 383:65 384:-18 385:-3 386:113 387:-107 388:-33 389:153 390:48 391:65 392:-194 393:267 394:-22 395:-457 396:-5 397:-177 398:-5 399:217 400:-67 401:98 402:-73 403:-358 404:-149 405:-64 406:117 407:-64 408:141 409:-153 410:-248 411:31 412:22 413:110 414:-99 415:-123 416:127 417:246 418:-140 419:-345 420:-203 421:-319 422:46 423:-15 424:-82 425:117 426:-256 427:121 428:61 429:-45 430:210 431:27 432:50 433:-57 434:141 435:-4 436:70 437:-53 438:-15 439:-15 440:9 441:-170 442:181 443:74 444:10 445:-176 446:-34 447:138 448:214 449:146 450:-238 451:-75 452:269 453:78 454:204 455:46 456:-175 457:-68 458:-19 459:-160 460:228 461:-2 462:2 463:-69 464:-43 465:-268 466:-25 467:234 468:77 469:213 470:-8 471:18 472:-49 473:-60 474:-450 475:-155 476:122 477:-23 478:-30 479:7 480:-17 481:31 482:31 483:-82 484:6 485:-547 486:-290 487:-57 488:-128 489:-169 490:-132 491:264 492:78 493:-84 494:190 495:61 496:-52 497:-37 498:1 499:-186 500:-138 501:88 502:64 503:-38 504:34 505:-29 506:-100 507:-340 508:-152 509:215 510:-112 511:22 512:-295 513:-209 514:107 515:180 516:68 517:-131 518:21 519:104 520:144 521:123 522:-349 523:-123 524:-121 525:50 526:145 527:-25 528:-88 529:90 530:6 531:65 532:21 533:-459 534:-31 535:333 536:-143 537:22 538:-275 539:11 540:85 541:146 542:-16 543:59 544:242 545:56 546:-83 547:6 548:-307 549:-317 550:-68 551:-69 552:55 553:76 554:-142 555:-173 556:-105 557:53 558:136 559:-42 560:-36 561:399 562:-64 563:41 564:-18 565:-269 566:143 567:234 568:2 569:-63 570:-183 571:-83 572:131 573:-8 574:24 575:-236 576:-141 577:74 578:-106 579:-229 580:87 581:48 582:-116 583:-102 584:-54 585:218 586:178 587:423 588:-130 589:218 590:151 591:94 592:13 593:-61 594:160 595:140 596:107 597:42 598:-170 599:28 600:-20 601:-25 602:-144 603:-291 604:-78 605:-322 606:119 607:185 608:-137 609:153 610:36 611:243 612:338 613:1 614:-31 615:17 616:-16 617:-62 618:229 619:111 620:29 621:79 622:107 623:10 624:6 625:-100 626:27 627:12 628:-210 629:-825 630:220 631:9 632:47 633:142 634:-209 635:439 636:-132 637:-391 638:7 639:83 640:-9 641:39 642:120 643:343 644:140 645:181 646:74 647:-87 648:86 649:126 650:90 651:-243 652:194 653:-239 654:9 655:-202 656:-90 657:535 658:129 659:172 660:-71 661:203 662:-205 663:86 664:79 665:100 666:-222 667:163 668:-282 669:-121 670:61 671:-31 672:-93 673:15 674:-18 675:17 676:104 677:113 678:-257 679:-128 680:143 681:382 682:-104 683:105 684:-11 685:-211 686:117 687:42 688:-46 689:59 690:-96 691:94 692:102 693:-46 694:52 695:-187 696:-1 697:-88 698:-142 699:-40 700:79 701:-21 702:-97 703:-260 704:127 705:157 706:118 707:-83 708:-90 709:366 710:35 711:-60 712:7 713:-463 714:10 715:-308 716:-68 717:198 718:-6 719:10 720:91 721:45 722:135 723:-217 724:298 725:-93 726:-24 727:-193 728:304 729:152 730:-154 731:-145 732:715 733:-46 734:-30 735:34 736:-166 737:-30 738:-313 739:-118 740:-144 741:-113 742:65 743:-28 744:1 745:-53 746:28 747:-28 748:86 749:284 750:-91 751:51 752:-100 753:299 754:-53 755:-202 756:-281 757:-505 758:-87 759:96 760:116 761:359 762:178 763:-236 764:-59 765:255 766:97 767:35 768:-24 769:31 770:-58 771:-32 772:-130 773:-66 774:33 775:64 776:56 777:279 778:193 779:348 780:-99 781:145 782:-378 783:-108 784:23 785:-48 786:-54 787:92 788:-26 789:-8 790:156 791:73 792:-51 793:20 794:-77 795:-151 796:108 797:-19 798:-14 799:192 800:24 \r",
        "\r\n"
       ]
      }
     ],
     "prompt_number": 2
    },
    {
     "cell_type": "markdown",
     "metadata": {},
     "source": [
      "We load the dataset using sklearn's load_svmlight_file funciton.  It returns a sparse matrix which we must densify to make a pandas data frame."
     ]
    },
    {
     "cell_type": "code",
     "collapsed": false,
     "input": [
      "from sklearn.datasets import load_svmlight_file \n",
      "x, y = load_svmlight_file(\"data/train\")\n",
      "y = pd.DataFrame(y)\n",
      "x = pd.DataFrame(x.todense())"
     ],
     "language": "python",
     "metadata": {},
     "outputs": [],
     "prompt_number": 8
    },
    {
     "cell_type": "markdown",
     "metadata": {},
     "source": [
      "##Summarizing the Data"
     ]
    },
    {
     "cell_type": "code",
     "collapsed": false,
     "input": [
      "x.describe()"
     ],
     "language": "python",
     "metadata": {},
     "outputs": [
      {
       "html": [
        "<div style=\"max-height:1000px;max-width:1500px;overflow:auto;\">\n",
        "<table border=\"1\" class=\"dataframe\">\n",
        "  <thead>\n",
        "    <tr style=\"text-align: right;\">\n",
        "      <th></th>\n",
        "      <th>0</th>\n",
        "      <th>1</th>\n",
        "      <th>2</th>\n",
        "      <th>3</th>\n",
        "      <th>4</th>\n",
        "      <th>5</th>\n",
        "      <th>6</th>\n",
        "      <th>7</th>\n",
        "      <th>8</th>\n",
        "      <th>9</th>\n",
        "      <th>10</th>\n",
        "      <th>11</th>\n",
        "      <th>12</th>\n",
        "      <th>13</th>\n",
        "      <th>14</th>\n",
        "      <th>15</th>\n",
        "      <th>16</th>\n",
        "      <th>17</th>\n",
        "      <th>18</th>\n",
        "      <th>19</th>\n",
        "      <th></th>\n",
        "    </tr>\n",
        "  </thead>\n",
        "  <tbody>\n",
        "    <tr>\n",
        "      <th>count</th>\n",
        "      <td> 559.000000</td>\n",
        "      <td> 559.000000</td>\n",
        "      <td> 559.000000</td>\n",
        "      <td> 559.000000</td>\n",
        "      <td> 559.000000</td>\n",
        "      <td> 559.000000</td>\n",
        "      <td> 559.000000</td>\n",
        "      <td> 559.000000</td>\n",
        "      <td> 559.000000</td>\n",
        "      <td> 559.000000</td>\n",
        "      <td> 559.000000</td>\n",
        "      <td> 559.000000</td>\n",
        "      <td> 559.000000</td>\n",
        "      <td> 559.000000</td>\n",
        "      <td> 559.000000</td>\n",
        "      <td> 559.000000</td>\n",
        "      <td> 559.000000</td>\n",
        "      <td> 559.000000</td>\n",
        "      <td> 559.000000</td>\n",
        "      <td> 559.000000</td>\n",
        "      <td>...</td>\n",
        "    </tr>\n",
        "    <tr>\n",
        "      <th>mean</th>\n",
        "      <td> -85.409660</td>\n",
        "      <td>   5.325581</td>\n",
        "      <td>   1.905188</td>\n",
        "      <td>   0.502683</td>\n",
        "      <td>   1.611807</td>\n",
        "      <td>   0.316637</td>\n",
        "      <td>  -0.064401</td>\n",
        "      <td>  -0.050089</td>\n",
        "      <td>   0.429338</td>\n",
        "      <td>  -0.032200</td>\n",
        "      <td>   0.030411</td>\n",
        "      <td>   0.023256</td>\n",
        "      <td>   0.101968</td>\n",
        "      <td>  -0.008945</td>\n",
        "      <td>  -0.044723</td>\n",
        "      <td>  -0.091234</td>\n",
        "      <td> -67.622540</td>\n",
        "      <td>  -1.277281</td>\n",
        "      <td>  -0.286225</td>\n",
        "      <td>  -0.087657</td>\n",
        "      <td>...</td>\n",
        "    </tr>\n",
        "    <tr>\n",
        "      <th>std</th>\n",
        "      <td>  58.830922</td>\n",
        "      <td>  16.511576</td>\n",
        "      <td>   7.158970</td>\n",
        "      <td>   2.981949</td>\n",
        "      <td>   6.181943</td>\n",
        "      <td>   4.716507</td>\n",
        "      <td>   4.097311</td>\n",
        "      <td>   2.891279</td>\n",
        "      <td>   2.600992</td>\n",
        "      <td>   2.107939</td>\n",
        "      <td>   1.946637</td>\n",
        "      <td>   1.767233</td>\n",
        "      <td>   1.436336</td>\n",
        "      <td>   1.310938</td>\n",
        "      <td>   1.406514</td>\n",
        "      <td>   1.241709</td>\n",
        "      <td>  39.841742</td>\n",
        "      <td>   3.385088</td>\n",
        "      <td>   1.263071</td>\n",
        "      <td>   0.468936</td>\n",
        "      <td>...</td>\n",
        "    </tr>\n",
        "    <tr>\n",
        "      <th>min</th>\n",
        "      <td>-157.000000</td>\n",
        "      <td> -40.000000</td>\n",
        "      <td> -31.000000</td>\n",
        "      <td> -23.000000</td>\n",
        "      <td> -14.000000</td>\n",
        "      <td> -28.000000</td>\n",
        "      <td> -25.000000</td>\n",
        "      <td> -15.000000</td>\n",
        "      <td>  -9.000000</td>\n",
        "      <td> -10.000000</td>\n",
        "      <td> -13.000000</td>\n",
        "      <td> -13.000000</td>\n",
        "      <td> -10.000000</td>\n",
        "      <td>  -6.000000</td>\n",
        "      <td>  -6.000000</td>\n",
        "      <td> -14.000000</td>\n",
        "      <td>-150.000000</td>\n",
        "      <td> -17.000000</td>\n",
        "      <td>  -8.000000</td>\n",
        "      <td>  -2.000000</td>\n",
        "      <td>...</td>\n",
        "    </tr>\n",
        "    <tr>\n",
        "      <th>25%</th>\n",
        "      <td>-120.500000</td>\n",
        "      <td>  -1.000000</td>\n",
        "      <td>  -1.000000</td>\n",
        "      <td>  -1.000000</td>\n",
        "      <td>  -1.000000</td>\n",
        "      <td>  -1.000000</td>\n",
        "      <td>  -1.000000</td>\n",
        "      <td>  -1.000000</td>\n",
        "      <td>  -1.000000</td>\n",
        "      <td>  -1.000000</td>\n",
        "      <td>  -1.000000</td>\n",
        "      <td>  -1.000000</td>\n",
        "      <td>   0.000000</td>\n",
        "      <td>   0.000000</td>\n",
        "      <td>  -1.000000</td>\n",
        "      <td>  -1.000000</td>\n",
        "      <td> -98.000000</td>\n",
        "      <td>  -3.000000</td>\n",
        "      <td>  -1.000000</td>\n",
        "      <td>   0.000000</td>\n",
        "      <td>...</td>\n",
        "    </tr>\n",
        "    <tr>\n",
        "      <th>50%</th>\n",
        "      <td>-101.000000</td>\n",
        "      <td>   1.000000</td>\n",
        "      <td>   1.000000</td>\n",
        "      <td>   0.000000</td>\n",
        "      <td>   0.000000</td>\n",
        "      <td>   0.000000</td>\n",
        "      <td>   0.000000</td>\n",
        "      <td>   0.000000</td>\n",
        "      <td>   0.000000</td>\n",
        "      <td>   0.000000</td>\n",
        "      <td>   0.000000</td>\n",
        "      <td>   0.000000</td>\n",
        "      <td>   0.000000</td>\n",
        "      <td>   0.000000</td>\n",
        "      <td>   0.000000</td>\n",
        "      <td>   0.000000</td>\n",
        "      <td> -69.000000</td>\n",
        "      <td>  -1.000000</td>\n",
        "      <td>   0.000000</td>\n",
        "      <td>   0.000000</td>\n",
        "      <td>...</td>\n",
        "    </tr>\n",
        "    <tr>\n",
        "      <th>75%</th>\n",
        "      <td> -73.500000</td>\n",
        "      <td>   5.000000</td>\n",
        "      <td>   2.000000</td>\n",
        "      <td>   1.000000</td>\n",
        "      <td>   3.000000</td>\n",
        "      <td>   2.000000</td>\n",
        "      <td>   1.000000</td>\n",
        "      <td>   1.000000</td>\n",
        "      <td>   1.000000</td>\n",
        "      <td>   1.000000</td>\n",
        "      <td>   1.000000</td>\n",
        "      <td>   1.000000</td>\n",
        "      <td>   1.000000</td>\n",
        "      <td>   1.000000</td>\n",
        "      <td>   1.000000</td>\n",
        "      <td>   0.000000</td>\n",
        "      <td> -40.000000</td>\n",
        "      <td>   0.000000</td>\n",
        "      <td>   0.000000</td>\n",
        "      <td>   0.000000</td>\n",
        "      <td>...</td>\n",
        "    </tr>\n",
        "    <tr>\n",
        "      <th>max</th>\n",
        "      <td> 158.000000</td>\n",
        "      <td>  80.000000</td>\n",
        "      <td>  42.000000</td>\n",
        "      <td>  17.000000</td>\n",
        "      <td>  49.000000</td>\n",
        "      <td>  25.000000</td>\n",
        "      <td>  18.000000</td>\n",
        "      <td>  15.000000</td>\n",
        "      <td>  29.000000</td>\n",
        "      <td>  12.000000</td>\n",
        "      <td>   7.000000</td>\n",
        "      <td>  12.000000</td>\n",
        "      <td>  10.000000</td>\n",
        "      <td>   5.000000</td>\n",
        "      <td>  11.000000</td>\n",
        "      <td>   5.000000</td>\n",
        "      <td>  79.000000</td>\n",
        "      <td>  10.000000</td>\n",
        "      <td>   5.000000</td>\n",
        "      <td>   2.000000</td>\n",
        "      <td>...</td>\n",
        "    </tr>\n",
        "  </tbody>\n",
        "</table>\n",
        "<p>8 rows \u00d7 800 columns</p>\n",
        "</div>"
       ],
       "metadata": {},
       "output_type": "pyout",
       "prompt_number": 9,
       "text": [
        "               0           1           2           3           4           5   \\\n",
        "count  559.000000  559.000000  559.000000  559.000000  559.000000  559.000000   \n",
        "mean   -85.409660    5.325581    1.905188    0.502683    1.611807    0.316637   \n",
        "std     58.830922   16.511576    7.158970    2.981949    6.181943    4.716507   \n",
        "min   -157.000000  -40.000000  -31.000000  -23.000000  -14.000000  -28.000000   \n",
        "25%   -120.500000   -1.000000   -1.000000   -1.000000   -1.000000   -1.000000   \n",
        "50%   -101.000000    1.000000    1.000000    0.000000    0.000000    0.000000   \n",
        "75%    -73.500000    5.000000    2.000000    1.000000    3.000000    2.000000   \n",
        "max    158.000000   80.000000   42.000000   17.000000   49.000000   25.000000   \n",
        "\n",
        "               6           7           8           9           10          11  \\\n",
        "count  559.000000  559.000000  559.000000  559.000000  559.000000  559.000000   \n",
        "mean    -0.064401   -0.050089    0.429338   -0.032200    0.030411    0.023256   \n",
        "std      4.097311    2.891279    2.600992    2.107939    1.946637    1.767233   \n",
        "min    -25.000000  -15.000000   -9.000000  -10.000000  -13.000000  -13.000000   \n",
        "25%     -1.000000   -1.000000   -1.000000   -1.000000   -1.000000   -1.000000   \n",
        "50%      0.000000    0.000000    0.000000    0.000000    0.000000    0.000000   \n",
        "75%      1.000000    1.000000    1.000000    1.000000    1.000000    1.000000   \n",
        "max     18.000000   15.000000   29.000000   12.000000    7.000000   12.000000   \n",
        "\n",
        "               12          13          14          15          16          17  \\\n",
        "count  559.000000  559.000000  559.000000  559.000000  559.000000  559.000000   \n",
        "mean     0.101968   -0.008945   -0.044723   -0.091234  -67.622540   -1.277281   \n",
        "std      1.436336    1.310938    1.406514    1.241709   39.841742    3.385088   \n",
        "min    -10.000000   -6.000000   -6.000000  -14.000000 -150.000000  -17.000000   \n",
        "25%      0.000000    0.000000   -1.000000   -1.000000  -98.000000   -3.000000   \n",
        "50%      0.000000    0.000000    0.000000    0.000000  -69.000000   -1.000000   \n",
        "75%      1.000000    1.000000    1.000000    0.000000  -40.000000    0.000000   \n",
        "max     10.000000    5.000000   11.000000    5.000000   79.000000   10.000000   \n",
        "\n",
        "               18          19      \n",
        "count  559.000000  559.000000 ...  \n",
        "mean    -0.286225   -0.087657 ...  \n",
        "std      1.263071    0.468936 ...  \n",
        "min     -8.000000   -2.000000 ...  \n",
        "25%     -1.000000    0.000000 ...  \n",
        "50%      0.000000    0.000000 ...  \n",
        "75%      0.000000    0.000000 ...  \n",
        "max      5.000000    2.000000 ...  \n",
        "\n",
        "[8 rows x 800 columns]"
       ]
      }
     ],
     "prompt_number": 9
    },
    {
     "cell_type": "markdown",
     "metadata": {},
     "source": [
      "We see each column has very wide variation in mean/standard deviation.  This can mess up logistic regression since columns that have higher values tend to have larger influence.  To fix this we want to normalize the data to have a mean of 0 and a standard deviation of 1.  This is called Z-Scaling "
     ]
    },
    {
     "cell_type": "code",
     "collapsed": false,
     "input": [
      "mean = x.mean()\n",
      "std  = x.std()\n",
      "\n",
      "for i in x.columns:\n",
      "    x[i] = (x[i]-mean[i])/std[i]"
     ],
     "language": "python",
     "metadata": {},
     "outputs": [],
     "prompt_number": 10
    },
    {
     "cell_type": "code",
     "collapsed": false,
     "input": [
      "x.describe()"
     ],
     "language": "python",
     "metadata": {},
     "outputs": [
      {
       "html": [
        "<div style=\"max-height:1000px;max-width:1500px;overflow:auto;\">\n",
        "<table border=\"1\" class=\"dataframe\">\n",
        "  <thead>\n",
        "    <tr style=\"text-align: right;\">\n",
        "      <th></th>\n",
        "      <th>0</th>\n",
        "      <th>1</th>\n",
        "      <th>2</th>\n",
        "      <th>3</th>\n",
        "      <th>4</th>\n",
        "      <th>5</th>\n",
        "      <th>6</th>\n",
        "      <th>7</th>\n",
        "      <th>8</th>\n",
        "      <th>9</th>\n",
        "      <th>10</th>\n",
        "      <th>11</th>\n",
        "      <th>12</th>\n",
        "      <th>13</th>\n",
        "      <th>14</th>\n",
        "      <th>15</th>\n",
        "      <th>16</th>\n",
        "      <th>17</th>\n",
        "      <th>18</th>\n",
        "      <th>19</th>\n",
        "      <th></th>\n",
        "    </tr>\n",
        "  </thead>\n",
        "  <tbody>\n",
        "    <tr>\n",
        "      <th>count</th>\n",
        "      <td> 5.590000e+02</td>\n",
        "      <td> 5.590000e+02</td>\n",
        "      <td> 559.000000</td>\n",
        "      <td> 5.590000e+02</td>\n",
        "      <td> 5.590000e+02</td>\n",
        "      <td> 5.590000e+02</td>\n",
        "      <td> 5.590000e+02</td>\n",
        "      <td> 5.590000e+02</td>\n",
        "      <td> 5.590000e+02</td>\n",
        "      <td> 5.590000e+02</td>\n",
        "      <td> 5.590000e+02</td>\n",
        "      <td> 5.590000e+02</td>\n",
        "      <td> 5.590000e+02</td>\n",
        "      <td> 5.590000e+02</td>\n",
        "      <td> 5.590000e+02</td>\n",
        "      <td> 5.590000e+02</td>\n",
        "      <td> 5.590000e+02</td>\n",
        "      <td> 5.590000e+02</td>\n",
        "      <td> 5.590000e+02</td>\n",
        "      <td> 5.590000e+02</td>\n",
        "      <td>...</td>\n",
        "    </tr>\n",
        "    <tr>\n",
        "      <th>mean</th>\n",
        "      <td> 8.262125e-17</td>\n",
        "      <td> 3.495514e-17</td>\n",
        "      <td>   0.000000</td>\n",
        "      <td>-1.271096e-17</td>\n",
        "      <td> 1.588870e-18</td>\n",
        "      <td> 1.271096e-17</td>\n",
        "      <td> 2.383305e-17</td>\n",
        "      <td> 1.271096e-17</td>\n",
        "      <td> 5.561046e-18</td>\n",
        "      <td> 6.355481e-18</td>\n",
        "      <td> 6.355481e-18</td>\n",
        "      <td>-6.355481e-18</td>\n",
        "      <td>-3.177740e-17</td>\n",
        "      <td> 2.144975e-17</td>\n",
        "      <td>-3.495514e-17</td>\n",
        "      <td> 1.271096e-17</td>\n",
        "      <td> 6.355481e-17</td>\n",
        "      <td> 4.766610e-18</td>\n",
        "      <td> 1.588870e-18</td>\n",
        "      <td> 2.859966e-17</td>\n",
        "      <td>...</td>\n",
        "    </tr>\n",
        "    <tr>\n",
        "      <th>std</th>\n",
        "      <td> 1.000000e+00</td>\n",
        "      <td> 1.000000e+00</td>\n",
        "      <td>   1.000000</td>\n",
        "      <td> 1.000000e+00</td>\n",
        "      <td> 1.000000e+00</td>\n",
        "      <td> 1.000000e+00</td>\n",
        "      <td> 1.000000e+00</td>\n",
        "      <td> 1.000000e+00</td>\n",
        "      <td> 1.000000e+00</td>\n",
        "      <td> 1.000000e+00</td>\n",
        "      <td> 1.000000e+00</td>\n",
        "      <td> 1.000000e+00</td>\n",
        "      <td> 1.000000e+00</td>\n",
        "      <td> 1.000000e+00</td>\n",
        "      <td> 1.000000e+00</td>\n",
        "      <td> 1.000000e+00</td>\n",
        "      <td> 1.000000e+00</td>\n",
        "      <td> 1.000000e+00</td>\n",
        "      <td> 1.000000e+00</td>\n",
        "      <td> 1.000000e+00</td>\n",
        "      <td>...</td>\n",
        "    </tr>\n",
        "    <tr>\n",
        "      <th>min</th>\n",
        "      <td>-1.216883e+00</td>\n",
        "      <td>-2.745079e+00</td>\n",
        "      <td>  -4.596358</td>\n",
        "      <td>-7.881653e+00</td>\n",
        "      <td>-2.525388e+00</td>\n",
        "      <td>-6.003730e+00</td>\n",
        "      <td>-6.085844e+00</td>\n",
        "      <td>-5.170691e+00</td>\n",
        "      <td>-3.625285e+00</td>\n",
        "      <td>-4.728695e+00</td>\n",
        "      <td>-6.693806e+00</td>\n",
        "      <td>-7.369290e+00</td>\n",
        "      <td>-7.033152e+00</td>\n",
        "      <td>-4.570053e+00</td>\n",
        "      <td>-4.234067e+00</td>\n",
        "      <td>-1.120131e+01</td>\n",
        "      <td>-2.067617e+00</td>\n",
        "      <td>-4.644700e+00</td>\n",
        "      <td>-6.107160e+00</td>\n",
        "      <td>-4.078046e+00</td>\n",
        "      <td>...</td>\n",
        "    </tr>\n",
        "    <tr>\n",
        "      <th>25%</th>\n",
        "      <td>-5.964608e-01</td>\n",
        "      <td>-3.830998e-01</td>\n",
        "      <td>  -0.405811</td>\n",
        "      <td>-5.039266e-01</td>\n",
        "      <td>-4.224896e-01</td>\n",
        "      <td>-2.791551e-01</td>\n",
        "      <td>-2.283447e-01</td>\n",
        "      <td>-3.285434e-01</td>\n",
        "      <td>-5.495358e-01</td>\n",
        "      <td>-4.591213e-01</td>\n",
        "      <td>-5.293290e-01</td>\n",
        "      <td>-5.790156e-01</td>\n",
        "      <td>-7.099161e-02</td>\n",
        "      <td> 6.823012e-03</td>\n",
        "      <td>-6.791805e-01</td>\n",
        "      <td>-7.318670e-01</td>\n",
        "      <td>-7.624531e-01</td>\n",
        "      <td>-5.089142e-01</td>\n",
        "      <td>-5.651106e-01</td>\n",
        "      <td> 1.869264e-01</td>\n",
        "      <td>...</td>\n",
        "    </tr>\n",
        "    <tr>\n",
        "      <th>50%</th>\n",
        "      <td>-2.650025e-01</td>\n",
        "      <td>-2.619726e-01</td>\n",
        "      <td>  -0.126441</td>\n",
        "      <td>-1.685755e-01</td>\n",
        "      <td>-2.607282e-01</td>\n",
        "      <td>-6.713376e-02</td>\n",
        "      <td> 1.571780e-02</td>\n",
        "      <td> 1.732432e-02</td>\n",
        "      <td>-1.650671e-01</td>\n",
        "      <td> 1.527576e-02</td>\n",
        "      <td>-1.562256e-02</td>\n",
        "      <td>-1.315945e-02</td>\n",
        "      <td>-7.099161e-02</td>\n",
        "      <td> 6.823012e-03</td>\n",
        "      <td> 3.179684e-02</td>\n",
        "      <td> 7.347484e-02</td>\n",
        "      <td>-3.457328e-02</td>\n",
        "      <td> 8.191246e-02</td>\n",
        "      <td> 2.266108e-01</td>\n",
        "      <td> 1.869264e-01</td>\n",
        "      <td>...</td>\n",
        "    </tr>\n",
        "    <tr>\n",
        "      <th>75%</th>\n",
        "      <td> 2.024388e-01</td>\n",
        "      <td>-1.971837e-02</td>\n",
        "      <td>   0.013244</td>\n",
        "      <td> 1.667757e-01</td>\n",
        "      <td> 2.245561e-01</td>\n",
        "      <td> 3.569089e-01</td>\n",
        "      <td> 2.597803e-01</td>\n",
        "      <td> 3.631920e-01</td>\n",
        "      <td> 2.194016e-01</td>\n",
        "      <td> 4.896728e-01</td>\n",
        "      <td> 4.980839e-01</td>\n",
        "      <td> 5.526967e-01</td>\n",
        "      <td> 6.252244e-01</td>\n",
        "      <td> 7.696357e-01</td>\n",
        "      <td> 7.427742e-01</td>\n",
        "      <td> 7.347484e-02</td>\n",
        "      <td> 6.933065e-01</td>\n",
        "      <td> 3.773258e-01</td>\n",
        "      <td> 2.266108e-01</td>\n",
        "      <td> 1.869264e-01</td>\n",
        "      <td>...</td>\n",
        "    </tr>\n",
        "    <tr>\n",
        "      <th>max</th>\n",
        "      <td> 4.137444e+00</td>\n",
        "      <td> 4.522549e+00</td>\n",
        "      <td>   5.600640</td>\n",
        "      <td> 5.532395e+00</td>\n",
        "      <td> 7.665582e+00</td>\n",
        "      <td> 5.233399e+00</td>\n",
        "      <td> 4.408843e+00</td>\n",
        "      <td> 5.205340e+00</td>\n",
        "      <td> 1.098453e+01</td>\n",
        "      <td> 5.708041e+00</td>\n",
        "      <td> 3.580322e+00</td>\n",
        "      <td> 6.777115e+00</td>\n",
        "      <td> 6.891168e+00</td>\n",
        "      <td> 3.820887e+00</td>\n",
        "      <td> 7.852548e+00</td>\n",
        "      <td> 4.100184e+00</td>\n",
        "      <td> 3.680124e+00</td>\n",
        "      <td> 3.331459e+00</td>\n",
        "      <td> 4.185217e+00</td>\n",
        "      <td> 4.451899e+00</td>\n",
        "      <td>...</td>\n",
        "    </tr>\n",
        "  </tbody>\n",
        "</table>\n",
        "<p>8 rows \u00d7 800 columns</p>\n",
        "</div>"
       ],
       "metadata": {},
       "output_type": "pyout",
       "prompt_number": 11,
       "text": [
        "                 0             1           2             3             4   \\\n",
        "count  5.590000e+02  5.590000e+02  559.000000  5.590000e+02  5.590000e+02   \n",
        "mean   8.262125e-17  3.495514e-17    0.000000 -1.271096e-17  1.588870e-18   \n",
        "std    1.000000e+00  1.000000e+00    1.000000  1.000000e+00  1.000000e+00   \n",
        "min   -1.216883e+00 -2.745079e+00   -4.596358 -7.881653e+00 -2.525388e+00   \n",
        "25%   -5.964608e-01 -3.830998e-01   -0.405811 -5.039266e-01 -4.224896e-01   \n",
        "50%   -2.650025e-01 -2.619726e-01   -0.126441 -1.685755e-01 -2.607282e-01   \n",
        "75%    2.024388e-01 -1.971837e-02    0.013244  1.667757e-01  2.245561e-01   \n",
        "max    4.137444e+00  4.522549e+00    5.600640  5.532395e+00  7.665582e+00   \n",
        "\n",
        "                 5             6             7             8             9   \\\n",
        "count  5.590000e+02  5.590000e+02  5.590000e+02  5.590000e+02  5.590000e+02   \n",
        "mean   1.271096e-17  2.383305e-17  1.271096e-17  5.561046e-18  6.355481e-18   \n",
        "std    1.000000e+00  1.000000e+00  1.000000e+00  1.000000e+00  1.000000e+00   \n",
        "min   -6.003730e+00 -6.085844e+00 -5.170691e+00 -3.625285e+00 -4.728695e+00   \n",
        "25%   -2.791551e-01 -2.283447e-01 -3.285434e-01 -5.495358e-01 -4.591213e-01   \n",
        "50%   -6.713376e-02  1.571780e-02  1.732432e-02 -1.650671e-01  1.527576e-02   \n",
        "75%    3.569089e-01  2.597803e-01  3.631920e-01  2.194016e-01  4.896728e-01   \n",
        "max    5.233399e+00  4.408843e+00  5.205340e+00  1.098453e+01  5.708041e+00   \n",
        "\n",
        "                 10            11            12            13            14  \\\n",
        "count  5.590000e+02  5.590000e+02  5.590000e+02  5.590000e+02  5.590000e+02   \n",
        "mean   6.355481e-18 -6.355481e-18 -3.177740e-17  2.144975e-17 -3.495514e-17   \n",
        "std    1.000000e+00  1.000000e+00  1.000000e+00  1.000000e+00  1.000000e+00   \n",
        "min   -6.693806e+00 -7.369290e+00 -7.033152e+00 -4.570053e+00 -4.234067e+00   \n",
        "25%   -5.293290e-01 -5.790156e-01 -7.099161e-02  6.823012e-03 -6.791805e-01   \n",
        "50%   -1.562256e-02 -1.315945e-02 -7.099161e-02  6.823012e-03  3.179684e-02   \n",
        "75%    4.980839e-01  5.526967e-01  6.252244e-01  7.696357e-01  7.427742e-01   \n",
        "max    3.580322e+00  6.777115e+00  6.891168e+00  3.820887e+00  7.852548e+00   \n",
        "\n",
        "                 15            16            17            18            19  \\\n",
        "count  5.590000e+02  5.590000e+02  5.590000e+02  5.590000e+02  5.590000e+02   \n",
        "mean   1.271096e-17  6.355481e-17  4.766610e-18  1.588870e-18  2.859966e-17   \n",
        "std    1.000000e+00  1.000000e+00  1.000000e+00  1.000000e+00  1.000000e+00   \n",
        "min   -1.120131e+01 -2.067617e+00 -4.644700e+00 -6.107160e+00 -4.078046e+00   \n",
        "25%   -7.318670e-01 -7.624531e-01 -5.089142e-01 -5.651106e-01  1.869264e-01   \n",
        "50%    7.347484e-02 -3.457328e-02  8.191246e-02  2.266108e-01  1.869264e-01   \n",
        "75%    7.347484e-02  6.933065e-01  3.773258e-01  2.266108e-01  1.869264e-01   \n",
        "max    4.100184e+00  3.680124e+00  3.331459e+00  4.185217e+00  4.451899e+00   \n",
        "\n",
        "           \n",
        "count ...  \n",
        "mean  ...  \n",
        "std   ...  \n",
        "min   ...  \n",
        "25%   ...  \n",
        "50%   ...  \n",
        "75%   ...  \n",
        "max   ...  \n",
        "\n",
        "[8 rows x 800 columns]"
       ]
      }
     ],
     "prompt_number": 11
    },
    {
     "cell_type": "markdown",
     "metadata": {},
     "source": [
      "Now we see that mean/standard deviation is near 0/1 for all columns.  Now we wish to study the target."
     ]
    },
    {
     "cell_type": "code",
     "collapsed": false,
     "input": [
      "hist(y[0])\n",
      "y.describe()"
     ],
     "language": "python",
     "metadata": {},
     "outputs": [
      {
       "html": [
        "<div style=\"max-height:1000px;max-width:1500px;overflow:auto;\">\n",
        "<table border=\"1\" class=\"dataframe\">\n",
        "  <thead>\n",
        "    <tr style=\"text-align: right;\">\n",
        "      <th></th>\n",
        "      <th>0</th>\n",
        "    </tr>\n",
        "  </thead>\n",
        "  <tbody>\n",
        "    <tr>\n",
        "      <th>count</th>\n",
        "      <td> 559.000000</td>\n",
        "    </tr>\n",
        "    <tr>\n",
        "      <th>mean</th>\n",
        "      <td>  -0.012522</td>\n",
        "    </tr>\n",
        "    <tr>\n",
        "      <th>std</th>\n",
        "      <td>   1.000817</td>\n",
        "    </tr>\n",
        "    <tr>\n",
        "      <th>min</th>\n",
        "      <td>  -1.000000</td>\n",
        "    </tr>\n",
        "    <tr>\n",
        "      <th>25%</th>\n",
        "      <td>  -1.000000</td>\n",
        "    </tr>\n",
        "    <tr>\n",
        "      <th>50%</th>\n",
        "      <td>  -1.000000</td>\n",
        "    </tr>\n",
        "    <tr>\n",
        "      <th>75%</th>\n",
        "      <td>   1.000000</td>\n",
        "    </tr>\n",
        "    <tr>\n",
        "      <th>max</th>\n",
        "      <td>   1.000000</td>\n",
        "    </tr>\n",
        "  </tbody>\n",
        "</table>\n",
        "<p>8 rows \u00d7 1 columns</p>\n",
        "</div>"
       ],
       "metadata": {},
       "output_type": "pyout",
       "prompt_number": 16,
       "text": [
        "                0\n",
        "count  559.000000\n",
        "mean    -0.012522\n",
        "std      1.000817\n",
        "min     -1.000000\n",
        "25%     -1.000000\n",
        "50%     -1.000000\n",
        "75%      1.000000\n",
        "max      1.000000\n",
        "\n",
        "[8 rows x 1 columns]"
       ]
      },
      {
       "metadata": {},
       "output_type": "display_data",
       "png": "[encoded data removed]",
       "text": [
        "<matplotlib.figure.Figure at 0x10d58b6d0>"
       ]
      }
     ],
     "prompt_number": 16
    },
    {
     "cell_type": "markdown",
     "metadata": {},
     "source": [
      "We see that the target is -1 for negative and 1 for positive and nearly balanced.  Our goal is to correctly predict the outcome for the test data.  Sklearn requires 0/1 instead of -1/1 so we transform it.  We also make it a series for easier use later."
     ]
    },
    {
     "cell_type": "code",
     "collapsed": false,
     "input": [
      "y[0] = (y[0]+1)/2"
     ],
     "language": "python",
     "metadata": {},
     "outputs": [],
     "prompt_number": 17
    },
    {
     "cell_type": "code",
     "collapsed": false,
     "input": [
      "hist(y[0])"
     ],
     "language": "python",
     "metadata": {},
     "outputs": [
      {
       "metadata": {},
       "output_type": "pyout",
       "prompt_number": 19,
       "text": [
        "(array([ 283.,    0.,    0.,    0.,    0.,    0.,    0.,    0.,    0.,  276.]),\n",
        " array([ 0. ,  0.1,  0.2,  0.3,  0.4,  0.5,  0.6,  0.7,  0.8,  0.9,  1. ]),\n",
        " <a list of 10 Patch objects>)"
       ]
      },
      {
       "metadata": {},
       "output_type": "display_data",
       "png": "[encoded data removed]",
       "text": [
        "<matplotlib.figure.Figure at 0x10dfecc10>"
       ]
      }
     ],
     "prompt_number": 19
    },
    {
     "cell_type": "markdown",
     "metadata": {},
     "source": [
      "##Modeling\n",
      "\n",
      "We choose to use logistic regression on this data set since it is a simplie binary classification problem.  We partition our data into 1/10 test and 9/10 train."
     ]
    },
    {
     "cell_type": "code",
     "collapsed": false,
     "input": [
      "import statsmodels.api as sm\n",
      "from sklearn.linear_model import LogisticRegression\n",
      "from sklearn.preprocessing import StandardScaler"
     ],
     "language": "python",
     "metadata": {},
     "outputs": [],
     "prompt_number": 20
    },
    {
     "cell_type": "code",
     "collapsed": false,
     "input": [
      "N = y.shape[0]\n",
      "partition=pd.Series([1]*N)\n",
      "partition[0:N/10] = 0\n",
      "shuffle(partition)\n",
      "(N, y.shape, partition.shape)"
     ],
     "language": "python",
     "metadata": {},
     "outputs": [
      {
       "metadata": {},
       "output_type": "pyout",
       "prompt_number": 24,
       "text": [
        "(559, (559, 1), (559,))"
       ]
      }
     ],
     "prompt_number": 24
    },
    {
     "cell_type": "code",
     "collapsed": false,
     "input": [
      "test_x = x.ix[partition==0]\n",
      "test_y = y.ix[partition==0]\n",
      "train_x = x.ix[partition==1]\n",
      "train_y = y.ix[partition==1]"
     ],
     "language": "python",
     "metadata": {},
     "outputs": [],
     "prompt_number": 25
    },
    {
     "cell_type": "code",
     "collapsed": false,
     "input": [
      "(test_x.shape, test_y.shape, train_x.shape, train_y.shape)"
     ],
     "language": "python",
     "metadata": {},
     "outputs": [
      {
       "metadata": {},
       "output_type": "pyout",
       "prompt_number": 26,
       "text": [
        "((55, 800), (55, 1), (504, 800), (504, 1))"
       ]
      }
     ],
     "prompt_number": 26
    },
    {
     "cell_type": "code",
     "collapsed": false,
     "input": [
      "X, y = train_x, train_y\n",
      "X_test, y_test = test_x,test_y\n",
      "from time import time\n",
      "def fit_model(C):\n",
      "    t0=time()\n",
      "    # turn down tolerance for short training time\n",
      "    clf_l1_LR = LogisticRegression(C=C, penalty='l1', tol=0.001)\n",
      "    clf_l2_LR = LogisticRegression(C=C, penalty='l2', tol=0.001)\n",
      "    clf_l1_LR.fit(X, y)\n",
      "    clf_l2_LR.fit(X, y)\n",
      "\n",
      "    coef_l1_LR = clf_l1_LR.coef_.ravel()\n",
      "    coef_l2_LR = clf_l2_LR.coef_.ravel()\n",
      "\n",
      "    # coef_l1_LR contains zeros due to the\n",
      "    # L1 sparsity inducing norm\n",
      "\n",
      "    sparsity_l1_LR = np.mean(coef_l1_LR == 0) * 100\n",
      "    sparsity_l2_LR = np.mean(coef_l2_LR == 0) * 100\n",
      "\n",
      "    print(\"C=%f\" % C)\n",
      "    print(\"Sparsity with L1 penalty: %.2f%%\" % sparsity_l1_LR)\n",
      "    print(\"train score with L1 penalty: %.4f\" % clf_l1_LR.score(X, y))\n",
      "    print(\"test score with L1 penalty: %.4f\" % clf_l1_LR.score(X_test, y_test))\n",
      "\n",
      "    print(\"Sparsity with L2 penalty: %.2f%%\" % sparsity_l2_LR)\n",
      "    print(\"train score with L2 penalty: %.4f\" % clf_l2_LR.score(X, y))\n",
      "    print(\"test score with L2 penalty: %.4f\" % clf_l2_LR.score(X_test, y_test))\n",
      "    print(\"time= %10.2f\"%(time()-t0))\n",
      "\n",
      "    return coef_l1_LR,clf_l1_LR\n",
      "\n",
      "# Set regularization parameter\n",
      "#for i, C in enumerate(10. ** np.arange(-2, 2)):\n",
      "    #fit_model(C)\n",
      "    \n",
      "coef_l1_LR, clf_l1_LR=fit_model(19)"
     ],
     "language": "python",
     "metadata": {},
     "outputs": [
      {
       "output_type": "stream",
       "stream": "stderr",
       "text": [
        "/Library/Python/2.7/site-packages/scikit_learn-0.15_git-py2.7-macosx-10.9-intel.egg/sklearn/preprocessing/label.py:114: DataConversionWarning: A column-vector y was passed when a 1d array was expected. Please change the shape of y to (n_samples, ), for example using ravel().\n",
        "  y = column_or_1d(y, warn=True)\n",
        "/Library/Python/2.7/site-packages/scikit_learn-0.15_git-py2.7-macosx-10.9-intel.egg/sklearn/preprocessing/label.py:114: DataConversionWarning: A column-vector y was passed when a 1d array was expected. Please change the shape of y to (n_samples, ), for example using ravel().\n",
        "  y = column_or_1d(y, warn=True)\n"
       ]
      },
      {
       "output_type": "stream",
       "stream": "stdout",
       "text": [
        "C=19.000000\n",
        "Sparsity with L1 penalty: 53.00%\n",
        "train score with L1 penalty: 1.0000\n",
        "test score with L1 penalty: 0.9091\n",
        "Sparsity with L2 penalty: 0.00%\n",
        "train score with L2 penalty: 1.0000\n",
        "test score with L2 penalty: 0.8545\n",
        "time=       0.23\n"
       ]
      }
     ],
     "prompt_number": 27
    },
    {
     "cell_type": "code",
     "collapsed": false,
     "input": [
      "len(coef_l1_LR),shape(train_x)"
     ],
     "language": "python",
     "metadata": {},
     "outputs": [
      {
       "metadata": {},
       "output_type": "pyout",
       "prompt_number": 28,
       "text": [
        "(800, (504, 800))"
       ]
      }
     ],
     "prompt_number": 28
    },
    {
     "cell_type": "markdown",
     "metadata": {},
     "source": [
      "We now look at the coefficients of the highest features.  Since the feature are anonymized they don't have very much meaning.  But if we had additional knowledge about the data set we could use this to give reasons for our predictions."
     ]
    },
    {
     "cell_type": "code",
     "collapsed": false,
     "input": [
      "Coef_List=zip(train_x.columns.tolist(),coef_l1_LR)\n",
      "Coef_List.sort(key=lambda x: abs(x[1]),reverse=True)\n",
      "Coef_List[:10]"
     ],
     "language": "python",
     "metadata": {},
     "outputs": [
      {
       "metadata": {},
       "output_type": "pyout",
       "prompt_number": 119,
       "text": [
        "[(240, 1.2348849865699307),\n",
        " (466, -0.77241546731131316),\n",
        " (160, 0.70234928363674576),\n",
        " (498, 0.70131863754996038),\n",
        " (346, -0.67181666889828828),\n",
        " (396, 0.64018137080564641),\n",
        " (495, -0.63574454349445508),\n",
        " (418, -0.61121979340238142),\n",
        " (450, 0.59159863782188071),\n",
        " (416, 0.5911640587565371)]"
       ]
      }
     ],
     "prompt_number": 119
    },
    {
     "cell_type": "markdown",
     "metadata": {},
     "source": [
      "##Testing the model\n",
      "\n",
      "We now test the trained model on the training/test set and see the performance.  First we use the training data to ensure our perf code works ok."
     ]
    },
    {
     "cell_type": "code",
     "collapsed": false,
     "input": [
      "log_scores=pd.DataFrame({\"prediction\":clf_l1_LR.predict_proba(train_x)[:,1]},index=train_x.index)\n",
      "log_scores[\"truth\"] = train_y\n",
      "\n",
      "pos = log_scores.ix[log_scores[\"truth\"]==1][\"prediction\"]\n",
      "neg = log_scores.ix[log_scores[\"truth\"]==0][\"prediction\"]"
     ],
     "language": "python",
     "metadata": {},
     "outputs": [],
     "prompt_number": 121
    },
    {
     "cell_type": "code",
     "collapsed": false,
     "input": [
      "fig=plt.figure(1,figsize=(15,10),dpi=300)\n",
      "hist( [pos,neg], histtype='bar',bins=10,range=[0,1]);\n",
      "legend(['pos','neg'])"
     ],
     "language": "python",
     "metadata": {},
     "outputs": [
      {
       "metadata": {},
       "output_type": "pyout",
       "prompt_number": 122,
       "text": [
        "<matplotlib.legend.Legend at 0x115d0d390>"
       ]
      },
      {
       "metadata": {},
       "output_type": "display_data",
       "png": "[encoded data removed]",
       "text": [
        "<matplotlib.figure.Figure at 0x11525c990>"
       ]
      }
     ],
     "prompt_number": 122
    },
    {
     "cell_type": "markdown",
     "metadata": {},
     "source": [
      "As expected (and described by the model output) nearly all training data points are correctly classified.  Now we use our test data to see how well we learned on this."
     ]
    },
    {
     "cell_type": "code",
     "collapsed": false,
     "input": [
      "log_scores=pd.DataFrame({\"prediction\":clf_l1_LR.predict_proba(test_x)[:,1]},index=test_x.index)\n",
      "log_scores[\"truth\"] = test_y\n",
      "\n",
      "pos = log_scores.ix[log_scores[\"truth\"]==1][\"prediction\"]\n",
      "neg = log_scores.ix[log_scores[\"truth\"]==0][\"prediction\"]"
     ],
     "language": "python",
     "metadata": {},
     "outputs": [],
     "prompt_number": 123
    },
    {
     "cell_type": "code",
     "collapsed": false,
     "input": [
      "fig=plt.figure(1,figsize=(15,10),dpi=300)\n",
      "hist( [pos,neg], histtype='bar',bins=10,range=[0,1]);\n",
      "legend(['pos','neg'])"
     ],
     "language": "python",
     "metadata": {},
     "outputs": [
      {
       "metadata": {},
       "output_type": "pyout",
       "prompt_number": 124,
       "text": [
        "<matplotlib.legend.Legend at 0x115d47c10>"
       ]
      },
      {
       "metadata": {},
       "output_type": "display_data",
       "png": "[encoded data removed]",
       "text": [
        "<matplotlib.figure.Figure at 0x115924c10>"
       ]
      }
     ],
     "prompt_number": 124
    },
    {
     "cell_type": "markdown",
     "metadata": {},
     "source": [
      "Again we get good results with this data.  As a final verification we use the unseen test set (in data/test) to see estimate how our model would perform in the real world."
     ]
    },
    {
     "cell_type": "code",
     "collapsed": false,
     "input": [
      "x_ver, y_ver = load_svmlight_file(\"data/test\")\n",
      "y_ver = pd.DataFrame(y_ver)\n",
      "x_ver = pd.DataFrame(x_ver.todense())\n",
      "y_ver = (y_ver + 1)/2\n",
      "log_scores=pd.DataFrame({\"prediction\":clf_l1_LR.predict_proba(x_ver)[:,1]},index=x_ver.index)\n",
      "log_scores[\"truth\"] = y_ver[0]\n",
      "\n",
      "pos = log_scores.ix[log_scores[\"truth\"]==1][\"prediction\"]\n",
      "neg = log_scores.ix[log_scores[\"truth\"]==0][\"prediction\"]"
     ],
     "language": "python",
     "metadata": {},
     "outputs": [],
     "prompt_number": 130
    },
    {
     "cell_type": "code",
     "collapsed": false,
     "input": [
      "fig=plt.figure(1,figsize=(15,10),dpi=300)\n",
      "hist( [pos,neg], histtype='bar',bins=10,range=[0,1]);\n",
      "legend(['pos','neg'])"
     ],
     "language": "python",
     "metadata": {},
     "outputs": [
      {
       "metadata": {},
       "output_type": "pyout",
       "prompt_number": 131,
       "text": [
        "<matplotlib.legend.Legend at 0x112d461d0>"
       ]
      },
      {
       "metadata": {},
       "output_type": "display_data",
       "png": "[encoded data removed]",
       "text": [
        "<matplotlib.figure.Figure at 0x115df4110>"
       ]
      }
     ],
     "prompt_number": 131
    },
    {
     "cell_type": "markdown",
     "metadata": {},
     "source": [
      "### Conclusions from logistic regression\n",
      "It seems that logistic regression is a good classifier for this data."
     ]
    },
    {
     "cell_type": "code",
     "collapsed": false,
     "input": [],
     "language": "python",
     "metadata": {},
     "outputs": []
    }
   ],
   "metadata": {}
  }
 ]
}