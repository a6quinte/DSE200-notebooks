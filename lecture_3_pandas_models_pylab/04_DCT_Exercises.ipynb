{
 "metadata": {
  "name": "",
  "signature": "sha256:e949c0a6902142fde253d3470c859f5524aae2d396041aa08259dea952988f70"
 },
 "nbformat": 3,
 "nbformat_minor": 0,
 "worksheets": [
  {
   "cells": [
    {
     "cell_type": "markdown",
     "metadata": {},
     "source": [
      "#DCT Analysis\n",
      "\n",
      "Last week we dealt with the KDD 1998 dataset which concerend donations to a charity.  The data set has a lot of non numeric features which require complicated coding as you saw.  This week we use an anonymized purely numeric dataset so we can skip the complications of real data and move onto modeling.\n",
      "\n",
      "The data is sourced from http://mlcomp.org/datasets/1571 and concerns identifying the gender (an anonymized binary flag -1/1) of people based on 800 anonymized numeric features.  Accoridng the the MLComp website, error rates of ~10% were found using linear models.  We hope to do better using some simple feature selection and feature engineering.\n",
      "\n",
      "We have provided a tab delimited version of the test/train data set in the data directory for your use."
     ]
    },
    {
     "cell_type": "code",
     "collapsed": false,
     "input": [
      "#Import the libraries \n",
      "%pylab inline\n",
      "import numpy as np\n",
      "import scipy as sp\n",
      "import pandas as pd"
     ],
     "language": "python",
     "metadata": {},
     "outputs": [
      {
       "output_type": "stream",
       "stream": "stdout",
       "text": [
        "Populating the interactive namespace from numpy and matplotlib\n"
       ]
      }
     ],
     "prompt_number": 1
    },
    {
     "cell_type": "markdown",
     "metadata": {},
     "source": [
      "Load the train and test data into two data frames (`train_data` and `test_data`). "
     ]
    },
    {
     "cell_type": "code",
     "collapsed": false,
     "input": [
      "train_data = pd.read_csv(\"data/train\",sep=\"\\t\")\n",
      "test_data  = pd.read_csv(\"data/test\",sep=\"\\t\")"
     ],
     "language": "python",
     "metadata": {},
     "outputs": [],
     "prompt_number": 2
    },
    {
     "cell_type": "markdown",
     "metadata": {},
     "source": [
      "Separate the `label` column from `train_data` into two new data frames called `train_x` and `train_y`. `train_y` is to contain only the column titled `label` in `train_data` while `train_x` should contain all of the rest. `train_x` should contains 800 columns, check that this is the case.\n",
      "\n",
      "In a similar way partition `test_data` into two new data frames called `test_x` and `test_y`\n"
     ]
    },
    {
     "cell_type": "code",
     "collapsed": false,
     "input": [
      "train_y = pd.DataFrame(train_data['label'])\n",
      "train_x = train_data.drop('label',axis=1)\n",
      "\n",
      "test_y = pd.DataFrame(test_data['label'])\n",
      "test_x = test_data.drop('label',axis=1)"
     ],
     "language": "python",
     "metadata": {},
     "outputs": [],
     "prompt_number": 3
    },
    {
     "cell_type": "markdown",
     "metadata": {},
     "source": [
      "##Summarizing the Data\n",
      "Use pandas to describe the `train_x` data frame.  "
     ]
    },
    {
     "cell_type": "code",
     "collapsed": false,
     "input": [
      "train_x.describe()\n"
     ],
     "language": "python",
     "metadata": {},
     "outputs": [
      {
       "html": [
        "<div style=\"max-height:1000px;max-width:1500px;overflow:auto;\">\n",
        "<table border=\"1\" class=\"dataframe\">\n",
        "  <thead>\n",
        "    <tr style=\"text-align: right;\">\n",
        "      <th></th>\n",
        "      <th>F_0</th>\n",
        "      <th>F_1</th>\n",
        "      <th>F_2</th>\n",
        "      <th>F_3</th>\n",
        "      <th>F_4</th>\n",
        "      <th>F_5</th>\n",
        "      <th>F_6</th>\n",
        "      <th>F_7</th>\n",
        "      <th>F_8</th>\n",
        "      <th>F_9</th>\n",
        "      <th>...</th>\n",
        "      <th>F_790</th>\n",
        "      <th>F_791</th>\n",
        "      <th>F_792</th>\n",
        "      <th>F_793</th>\n",
        "      <th>F_794</th>\n",
        "      <th>F_795</th>\n",
        "      <th>F_796</th>\n",
        "      <th>F_797</th>\n",
        "      <th>F_798</th>\n",
        "      <th>F_799</th>\n",
        "    </tr>\n",
        "  </thead>\n",
        "  <tbody>\n",
        "    <tr>\n",
        "      <th>count</th>\n",
        "      <td> 559.000000</td>\n",
        "      <td> 559.000000</td>\n",
        "      <td> 559.000000</td>\n",
        "      <td> 559.000000</td>\n",
        "      <td> 559.000000</td>\n",
        "      <td> 559.000000</td>\n",
        "      <td> 559.000000</td>\n",
        "      <td> 559.000000</td>\n",
        "      <td> 559.000000</td>\n",
        "      <td> 559.000000</td>\n",
        "      <td>...</td>\n",
        "      <td> 559.000000</td>\n",
        "      <td> 559.000000</td>\n",
        "      <td> 559.000000</td>\n",
        "      <td> 559.000000</td>\n",
        "      <td> 559.000000</td>\n",
        "      <td> 559.000000</td>\n",
        "      <td> 559.000000</td>\n",
        "      <td> 559.000000</td>\n",
        "      <td> 559.000000</td>\n",
        "      <td> 559.000000</td>\n",
        "    </tr>\n",
        "    <tr>\n",
        "      <th>mean</th>\n",
        "      <td> -85.409660</td>\n",
        "      <td>   5.325581</td>\n",
        "      <td>   1.905188</td>\n",
        "      <td>   0.502683</td>\n",
        "      <td>   1.611807</td>\n",
        "      <td>   0.316637</td>\n",
        "      <td>  -0.064401</td>\n",
        "      <td>  -0.050089</td>\n",
        "      <td>   0.429338</td>\n",
        "      <td>  -0.032200</td>\n",
        "      <td>...</td>\n",
        "      <td>   6.978533</td>\n",
        "      <td>   2.423971</td>\n",
        "      <td>   4.769231</td>\n",
        "      <td>   1.019678</td>\n",
        "      <td>  -0.674419</td>\n",
        "      <td>  -4.341682</td>\n",
        "      <td> -20.626118</td>\n",
        "      <td>  -2.878354</td>\n",
        "      <td>   4.332737</td>\n",
        "      <td>  -0.135957</td>\n",
        "    </tr>\n",
        "    <tr>\n",
        "      <th>std</th>\n",
        "      <td>  58.830922</td>\n",
        "      <td>  16.511576</td>\n",
        "      <td>   7.158970</td>\n",
        "      <td>   2.981949</td>\n",
        "      <td>   6.181943</td>\n",
        "      <td>   4.716507</td>\n",
        "      <td>   4.097311</td>\n",
        "      <td>   2.891279</td>\n",
        "      <td>   2.600992</td>\n",
        "      <td>   2.107939</td>\n",
        "      <td>...</td>\n",
        "      <td>  97.125051</td>\n",
        "      <td>  89.087333</td>\n",
        "      <td> 103.323683</td>\n",
        "      <td> 129.015133</td>\n",
        "      <td> 113.575980</td>\n",
        "      <td>  92.834494</td>\n",
        "      <td>  78.890002</td>\n",
        "      <td>  72.975075</td>\n",
        "      <td>  82.473457</td>\n",
        "      <td>  89.108263</td>\n",
        "    </tr>\n",
        "    <tr>\n",
        "      <th>min</th>\n",
        "      <td>-157.000000</td>\n",
        "      <td> -40.000000</td>\n",
        "      <td> -31.000000</td>\n",
        "      <td> -23.000000</td>\n",
        "      <td> -14.000000</td>\n",
        "      <td> -28.000000</td>\n",
        "      <td> -25.000000</td>\n",
        "      <td> -15.000000</td>\n",
        "      <td>  -9.000000</td>\n",
        "      <td> -10.000000</td>\n",
        "      <td>...</td>\n",
        "      <td>-287.000000</td>\n",
        "      <td>-279.000000</td>\n",
        "      <td>-368.000000</td>\n",
        "      <td>-375.000000</td>\n",
        "      <td>-313.000000</td>\n",
        "      <td>-323.000000</td>\n",
        "      <td>-284.000000</td>\n",
        "      <td>-277.000000</td>\n",
        "      <td>-314.000000</td>\n",
        "      <td>-237.000000</td>\n",
        "    </tr>\n",
        "    <tr>\n",
        "      <th>25%</th>\n",
        "      <td>-120.500000</td>\n",
        "      <td>  -1.000000</td>\n",
        "      <td>  -1.000000</td>\n",
        "      <td>  -1.000000</td>\n",
        "      <td>  -1.000000</td>\n",
        "      <td>  -1.000000</td>\n",
        "      <td>  -1.000000</td>\n",
        "      <td>  -1.000000</td>\n",
        "      <td>  -1.000000</td>\n",
        "      <td>  -1.000000</td>\n",
        "      <td>...</td>\n",
        "      <td> -60.500000</td>\n",
        "      <td> -54.500000</td>\n",
        "      <td> -62.500000</td>\n",
        "      <td> -88.000000</td>\n",
        "      <td> -72.000000</td>\n",
        "      <td> -62.500000</td>\n",
        "      <td> -71.000000</td>\n",
        "      <td> -47.500000</td>\n",
        "      <td> -49.500000</td>\n",
        "      <td> -58.500000</td>\n",
        "    </tr>\n",
        "    <tr>\n",
        "      <th>50%</th>\n",
        "      <td>-101.000000</td>\n",
        "      <td>   1.000000</td>\n",
        "      <td>   1.000000</td>\n",
        "      <td>   0.000000</td>\n",
        "      <td>   0.000000</td>\n",
        "      <td>   0.000000</td>\n",
        "      <td>   0.000000</td>\n",
        "      <td>   0.000000</td>\n",
        "      <td>   0.000000</td>\n",
        "      <td>   0.000000</td>\n",
        "      <td>...</td>\n",
        "      <td>  10.000000</td>\n",
        "      <td>   0.000000</td>\n",
        "      <td>   7.000000</td>\n",
        "      <td>   3.000000</td>\n",
        "      <td>  -5.000000</td>\n",
        "      <td>   1.000000</td>\n",
        "      <td> -16.000000</td>\n",
        "      <td>  -5.000000</td>\n",
        "      <td>   1.000000</td>\n",
        "      <td>  -2.000000</td>\n",
        "    </tr>\n",
        "    <tr>\n",
        "      <th>75%</th>\n",
        "      <td> -73.500000</td>\n",
        "      <td>   5.000000</td>\n",
        "      <td>   2.000000</td>\n",
        "      <td>   1.000000</td>\n",
        "      <td>   3.000000</td>\n",
        "      <td>   2.000000</td>\n",
        "      <td>   1.000000</td>\n",
        "      <td>   1.000000</td>\n",
        "      <td>   1.000000</td>\n",
        "      <td>   1.000000</td>\n",
        "      <td>...</td>\n",
        "      <td>  77.000000</td>\n",
        "      <td>  56.000000</td>\n",
        "      <td>  75.000000</td>\n",
        "      <td>  90.500000</td>\n",
        "      <td>  75.000000</td>\n",
        "      <td>  59.000000</td>\n",
        "      <td>  30.500000</td>\n",
        "      <td>  43.000000</td>\n",
        "      <td>  61.000000</td>\n",
        "      <td>  57.500000</td>\n",
        "    </tr>\n",
        "    <tr>\n",
        "      <th>max</th>\n",
        "      <td> 158.000000</td>\n",
        "      <td>  80.000000</td>\n",
        "      <td>  42.000000</td>\n",
        "      <td>  17.000000</td>\n",
        "      <td>  49.000000</td>\n",
        "      <td>  25.000000</td>\n",
        "      <td>  18.000000</td>\n",
        "      <td>  15.000000</td>\n",
        "      <td>  29.000000</td>\n",
        "      <td>  12.000000</td>\n",
        "      <td>...</td>\n",
        "      <td> 299.000000</td>\n",
        "      <td> 272.000000</td>\n",
        "      <td> 297.000000</td>\n",
        "      <td> 373.000000</td>\n",
        "      <td> 458.000000</td>\n",
        "      <td> 284.000000</td>\n",
        "      <td> 257.000000</td>\n",
        "      <td> 247.000000</td>\n",
        "      <td> 293.000000</td>\n",
        "      <td> 274.000000</td>\n",
        "    </tr>\n",
        "  </tbody>\n",
        "</table>\n",
        "<p>8 rows \u00d7 800 columns</p>\n",
        "</div>"
       ],
       "metadata": {},
       "output_type": "pyout",
       "prompt_number": 4,
       "text": [
        "              F_0         F_1         F_2         F_3         F_4         F_5  \\\n",
        "count  559.000000  559.000000  559.000000  559.000000  559.000000  559.000000   \n",
        "mean   -85.409660    5.325581    1.905188    0.502683    1.611807    0.316637   \n",
        "std     58.830922   16.511576    7.158970    2.981949    6.181943    4.716507   \n",
        "min   -157.000000  -40.000000  -31.000000  -23.000000  -14.000000  -28.000000   \n",
        "25%   -120.500000   -1.000000   -1.000000   -1.000000   -1.000000   -1.000000   \n",
        "50%   -101.000000    1.000000    1.000000    0.000000    0.000000    0.000000   \n",
        "75%    -73.500000    5.000000    2.000000    1.000000    3.000000    2.000000   \n",
        "max    158.000000   80.000000   42.000000   17.000000   49.000000   25.000000   \n",
        "\n",
        "              F_6         F_7         F_8         F_9     ...           F_790  \\\n",
        "count  559.000000  559.000000  559.000000  559.000000     ...      559.000000   \n",
        "mean    -0.064401   -0.050089    0.429338   -0.032200     ...        6.978533   \n",
        "std      4.097311    2.891279    2.600992    2.107939     ...       97.125051   \n",
        "min    -25.000000  -15.000000   -9.000000  -10.000000     ...     -287.000000   \n",
        "25%     -1.000000   -1.000000   -1.000000   -1.000000     ...      -60.500000   \n",
        "50%      0.000000    0.000000    0.000000    0.000000     ...       10.000000   \n",
        "75%      1.000000    1.000000    1.000000    1.000000     ...       77.000000   \n",
        "max     18.000000   15.000000   29.000000   12.000000     ...      299.000000   \n",
        "\n",
        "            F_791       F_792       F_793       F_794       F_795       F_796  \\\n",
        "count  559.000000  559.000000  559.000000  559.000000  559.000000  559.000000   \n",
        "mean     2.423971    4.769231    1.019678   -0.674419   -4.341682  -20.626118   \n",
        "std     89.087333  103.323683  129.015133  113.575980   92.834494   78.890002   \n",
        "min   -279.000000 -368.000000 -375.000000 -313.000000 -323.000000 -284.000000   \n",
        "25%    -54.500000  -62.500000  -88.000000  -72.000000  -62.500000  -71.000000   \n",
        "50%      0.000000    7.000000    3.000000   -5.000000    1.000000  -16.000000   \n",
        "75%     56.000000   75.000000   90.500000   75.000000   59.000000   30.500000   \n",
        "max    272.000000  297.000000  373.000000  458.000000  284.000000  257.000000   \n",
        "\n",
        "            F_797       F_798       F_799  \n",
        "count  559.000000  559.000000  559.000000  \n",
        "mean    -2.878354    4.332737   -0.135957  \n",
        "std     72.975075   82.473457   89.108263  \n",
        "min   -277.000000 -314.000000 -237.000000  \n",
        "25%    -47.500000  -49.500000  -58.500000  \n",
        "50%     -5.000000    1.000000   -2.000000  \n",
        "75%     43.000000   61.000000   57.500000  \n",
        "max    247.000000  293.000000  274.000000  \n",
        "\n",
        "[8 rows x 800 columns]"
       ]
      }
     ],
     "prompt_number": 4
    },
    {
     "cell_type": "markdown",
     "metadata": {},
     "source": [
      "Note that the range of each column varies by a significant amount.  Use the Z-Scaling method to normalize the data and make it suitable to modeling. More specifically, for each column in `train_x` compute the average $\\mu$ and the standard deviation $\\sigma$. Then transform each value in the column from the original value $X$ to the Z-value $Z$ using the formula:\n",
      "\n",
      "$$ Z=\\frac{X-\\mu}{\\sigma} $$"
     ]
    },
    {
     "cell_type": "code",
     "collapsed": false,
     "input": [
      "# get list of column names\n",
      "colIndx = train_x.columns\n",
      "\n",
      "# scale both the train AND test data:\n",
      "# loop through column names, doing vectorised z-scaling\n",
      "# note:\n",
      "#   I compute the standard dev. and average using the 'train' data\n",
      "#   and use these vals to scale the 'test' data\n",
      "for thisCol in colIndx:\n",
      "    thisAvg = train_x[thisCol].mean()   # train mean\n",
      "    thisStd = train_x[thisCol].std()    # treain std dev\n",
      "    # scale train data\n",
      "    train_x[thisCol] = (train_x[thisCol]-thisAvg) / thisStd\n",
      "    # scale test data\n",
      "    test_x[thisCol] = (test_x[thisCol]-thisAvg) / thisStd\n",
      "    \n"
     ],
     "language": "python",
     "metadata": {},
     "outputs": [],
     "prompt_number": 5
    },
    {
     "cell_type": "markdown",
     "metadata": {},
     "source": [
      "Use the values of $\\mu$ and $\\sigma$ computed from `train_x` to scale the values in `test_x`."
     ]
    },
    {
     "cell_type": "code",
     "collapsed": false,
     "input": [
      "# I scaled 'test_x' above, when scaling 'train_x'"
     ],
     "language": "python",
     "metadata": {},
     "outputs": [],
     "prompt_number": 6
    },
    {
     "cell_type": "markdown",
     "metadata": {},
     "source": [
      "Afterwards summarize the train_x and test_x post processing.  Train_x should have exactly 0 mean and 1 standard deviation while test_x should be nearly there."
     ]
    },
    {
     "cell_type": "code",
     "collapsed": false,
     "input": [
      "train_x.describe()"
     ],
     "language": "python",
     "metadata": {},
     "outputs": [
      {
       "html": [
        "<div style=\"max-height:1000px;max-width:1500px;overflow:auto;\">\n",
        "<table border=\"1\" class=\"dataframe\">\n",
        "  <thead>\n",
        "    <tr style=\"text-align: right;\">\n",
        "      <th></th>\n",
        "      <th>F_0</th>\n",
        "      <th>F_1</th>\n",
        "      <th>F_2</th>\n",
        "      <th>F_3</th>\n",
        "      <th>F_4</th>\n",
        "      <th>F_5</th>\n",
        "      <th>F_6</th>\n",
        "      <th>F_7</th>\n",
        "      <th>F_8</th>\n",
        "      <th>F_9</th>\n",
        "      <th>...</th>\n",
        "      <th>F_790</th>\n",
        "      <th>F_791</th>\n",
        "      <th>F_792</th>\n",
        "      <th>F_793</th>\n",
        "      <th>F_794</th>\n",
        "      <th>F_795</th>\n",
        "      <th>F_796</th>\n",
        "      <th>F_797</th>\n",
        "      <th>F_798</th>\n",
        "      <th>F_799</th>\n",
        "    </tr>\n",
        "  </thead>\n",
        "  <tbody>\n",
        "    <tr>\n",
        "      <th>count</th>\n",
        "      <td> 5.590000e+02</td>\n",
        "      <td> 5.590000e+02</td>\n",
        "      <td> 559.000000</td>\n",
        "      <td> 5.590000e+02</td>\n",
        "      <td> 5.590000e+02</td>\n",
        "      <td> 5.590000e+02</td>\n",
        "      <td> 5.590000e+02</td>\n",
        "      <td> 5.590000e+02</td>\n",
        "      <td> 5.590000e+02</td>\n",
        "      <td> 5.590000e+02</td>\n",
        "      <td>...</td>\n",
        "      <td> 5.590000e+02</td>\n",
        "      <td> 5.590000e+02</td>\n",
        "      <td> 5.590000e+02</td>\n",
        "      <td> 5.590000e+02</td>\n",
        "      <td> 5.590000e+02</td>\n",
        "      <td> 5.590000e+02</td>\n",
        "      <td> 5.590000e+02</td>\n",
        "      <td> 5.590000e+02</td>\n",
        "      <td> 5.590000e+02</td>\n",
        "      <td> 5.590000e+02</td>\n",
        "    </tr>\n",
        "    <tr>\n",
        "      <th>mean</th>\n",
        "      <td> 8.262125e-17</td>\n",
        "      <td> 3.495514e-17</td>\n",
        "      <td>   0.000000</td>\n",
        "      <td>-1.271096e-17</td>\n",
        "      <td> 1.588870e-18</td>\n",
        "      <td> 1.271096e-17</td>\n",
        "      <td> 2.383305e-17</td>\n",
        "      <td> 1.271096e-17</td>\n",
        "      <td> 5.561046e-18</td>\n",
        "      <td> 6.355481e-18</td>\n",
        "      <td>...</td>\n",
        "      <td>-3.177740e-17</td>\n",
        "      <td> 2.065531e-17</td>\n",
        "      <td>-2.542192e-17</td>\n",
        "      <td>-2.542192e-17</td>\n",
        "      <td>-1.271096e-17</td>\n",
        "      <td> 1.271096e-17</td>\n",
        "      <td> 3.813288e-17</td>\n",
        "      <td> 1.271096e-17</td>\n",
        "      <td>-6.355481e-18</td>\n",
        "      <td> 7.944351e-19</td>\n",
        "    </tr>\n",
        "    <tr>\n",
        "      <th>std</th>\n",
        "      <td> 1.000000e+00</td>\n",
        "      <td> 1.000000e+00</td>\n",
        "      <td>   1.000000</td>\n",
        "      <td> 1.000000e+00</td>\n",
        "      <td> 1.000000e+00</td>\n",
        "      <td> 1.000000e+00</td>\n",
        "      <td> 1.000000e+00</td>\n",
        "      <td> 1.000000e+00</td>\n",
        "      <td> 1.000000e+00</td>\n",
        "      <td> 1.000000e+00</td>\n",
        "      <td>...</td>\n",
        "      <td> 1.000000e+00</td>\n",
        "      <td> 1.000000e+00</td>\n",
        "      <td> 1.000000e+00</td>\n",
        "      <td> 1.000000e+00</td>\n",
        "      <td> 1.000000e+00</td>\n",
        "      <td> 1.000000e+00</td>\n",
        "      <td> 1.000000e+00</td>\n",
        "      <td> 1.000000e+00</td>\n",
        "      <td> 1.000000e+00</td>\n",
        "      <td> 1.000000e+00</td>\n",
        "    </tr>\n",
        "    <tr>\n",
        "      <th>min</th>\n",
        "      <td>-1.216883e+00</td>\n",
        "      <td>-2.745079e+00</td>\n",
        "      <td>  -4.596358</td>\n",
        "      <td>-7.881653e+00</td>\n",
        "      <td>-2.525388e+00</td>\n",
        "      <td>-6.003730e+00</td>\n",
        "      <td>-6.085844e+00</td>\n",
        "      <td>-5.170691e+00</td>\n",
        "      <td>-3.625285e+00</td>\n",
        "      <td>-4.728695e+00</td>\n",
        "      <td>...</td>\n",
        "      <td>-3.026804e+00</td>\n",
        "      <td>-3.158967e+00</td>\n",
        "      <td>-3.607781e+00</td>\n",
        "      <td>-2.914539e+00</td>\n",
        "      <td>-2.749926e+00</td>\n",
        "      <td>-3.432542e+00</td>\n",
        "      <td>-3.338495e+00</td>\n",
        "      <td>-3.756374e+00</td>\n",
        "      <td>-3.859820e+00</td>\n",
        "      <td>-2.658160e+00</td>\n",
        "    </tr>\n",
        "    <tr>\n",
        "      <th>25%</th>\n",
        "      <td>-5.964608e-01</td>\n",
        "      <td>-3.830998e-01</td>\n",
        "      <td>  -0.405811</td>\n",
        "      <td>-5.039266e-01</td>\n",
        "      <td>-4.224896e-01</td>\n",
        "      <td>-2.791551e-01</td>\n",
        "      <td>-2.283447e-01</td>\n",
        "      <td>-3.285434e-01</td>\n",
        "      <td>-5.495358e-01</td>\n",
        "      <td>-4.591213e-01</td>\n",
        "      <td>...</td>\n",
        "      <td>-6.947593e-01</td>\n",
        "      <td>-6.389682e-01</td>\n",
        "      <td>-6.510534e-01</td>\n",
        "      <td>-6.899941e-01</td>\n",
        "      <td>-6.279988e-01</td>\n",
        "      <td>-6.264732e-01</td>\n",
        "      <td>-6.385332e-01</td>\n",
        "      <td>-6.114642e-01</td>\n",
        "      <td>-6.527280e-01</td>\n",
        "      <td>-6.549790e-01</td>\n",
        "    </tr>\n",
        "    <tr>\n",
        "      <th>50%</th>\n",
        "      <td>-2.650025e-01</td>\n",
        "      <td>-2.619726e-01</td>\n",
        "      <td>  -0.126441</td>\n",
        "      <td>-1.685755e-01</td>\n",
        "      <td>-2.607282e-01</td>\n",
        "      <td>-6.713376e-02</td>\n",
        "      <td> 1.571780e-02</td>\n",
        "      <td> 1.732432e-02</td>\n",
        "      <td>-1.650671e-01</td>\n",
        "      <td> 1.527576e-02</td>\n",
        "      <td>...</td>\n",
        "      <td> 3.110904e-02</td>\n",
        "      <td>-2.720893e-02</td>\n",
        "      <td> 2.159011e-02</td>\n",
        "      <td> 1.534953e-02</td>\n",
        "      <td>-3.808535e-02</td>\n",
        "      <td> 5.753984e-02</td>\n",
        "      <td> 5.864011e-02</td>\n",
        "      <td>-2.907357e-02</td>\n",
        "      <td>-4.040981e-02</td>\n",
        "      <td>-2.091886e-02</td>\n",
        "    </tr>\n",
        "    <tr>\n",
        "      <th>75%</th>\n",
        "      <td> 2.024388e-01</td>\n",
        "      <td>-1.971837e-02</td>\n",
        "      <td>   0.013244</td>\n",
        "      <td> 1.667757e-01</td>\n",
        "      <td> 2.245561e-01</td>\n",
        "      <td> 3.569089e-01</td>\n",
        "      <td> 2.597803e-01</td>\n",
        "      <td> 3.631920e-01</td>\n",
        "      <td> 2.194016e-01</td>\n",
        "      <td> 4.896728e-01</td>\n",
        "      <td>...</td>\n",
        "      <td> 7.209414e-01</td>\n",
        "      <td> 6.013877e-01</td>\n",
        "      <td> 6.797161e-01</td>\n",
        "      <td> 6.935645e-01</td>\n",
        "      <td> 6.662889e-01</td>\n",
        "      <td> 6.823076e-01</td>\n",
        "      <td> 6.480684e-01</td>\n",
        "      <td> 6.286853e-01</td>\n",
        "      <td> 6.870970e-01</td>\n",
        "      <td> 6.468082e-01</td>\n",
        "    </tr>\n",
        "    <tr>\n",
        "      <th>max</th>\n",
        "      <td> 4.137444e+00</td>\n",
        "      <td> 4.522549e+00</td>\n",
        "      <td>   5.600640</td>\n",
        "      <td> 5.532395e+00</td>\n",
        "      <td> 7.665582e+00</td>\n",
        "      <td> 5.233399e+00</td>\n",
        "      <td> 4.408843e+00</td>\n",
        "      <td> 5.205340e+00</td>\n",
        "      <td> 1.098453e+01</td>\n",
        "      <td> 5.708041e+00</td>\n",
        "      <td>...</td>\n",
        "      <td> 3.006654e+00</td>\n",
        "      <td> 3.025975e+00</td>\n",
        "      <td> 2.828304e+00</td>\n",
        "      <td> 2.883230e+00</td>\n",
        "      <td> 4.038481e+00</td>\n",
        "      <td> 3.105976e+00</td>\n",
        "      <td> 3.519155e+00</td>\n",
        "      <td> 3.424160e+00</td>\n",
        "      <td> 3.500123e+00</td>\n",
        "      <td> 3.076437e+00</td>\n",
        "    </tr>\n",
        "  </tbody>\n",
        "</table>\n",
        "<p>8 rows \u00d7 800 columns</p>\n",
        "</div>"
       ],
       "metadata": {},
       "output_type": "pyout",
       "prompt_number": 7,
       "text": [
        "                F_0           F_1         F_2           F_3           F_4  \\\n",
        "count  5.590000e+02  5.590000e+02  559.000000  5.590000e+02  5.590000e+02   \n",
        "mean   8.262125e-17  3.495514e-17    0.000000 -1.271096e-17  1.588870e-18   \n",
        "std    1.000000e+00  1.000000e+00    1.000000  1.000000e+00  1.000000e+00   \n",
        "min   -1.216883e+00 -2.745079e+00   -4.596358 -7.881653e+00 -2.525388e+00   \n",
        "25%   -5.964608e-01 -3.830998e-01   -0.405811 -5.039266e-01 -4.224896e-01   \n",
        "50%   -2.650025e-01 -2.619726e-01   -0.126441 -1.685755e-01 -2.607282e-01   \n",
        "75%    2.024388e-01 -1.971837e-02    0.013244  1.667757e-01  2.245561e-01   \n",
        "max    4.137444e+00  4.522549e+00    5.600640  5.532395e+00  7.665582e+00   \n",
        "\n",
        "                F_5           F_6           F_7           F_8           F_9  \\\n",
        "count  5.590000e+02  5.590000e+02  5.590000e+02  5.590000e+02  5.590000e+02   \n",
        "mean   1.271096e-17  2.383305e-17  1.271096e-17  5.561046e-18  6.355481e-18   \n",
        "std    1.000000e+00  1.000000e+00  1.000000e+00  1.000000e+00  1.000000e+00   \n",
        "min   -6.003730e+00 -6.085844e+00 -5.170691e+00 -3.625285e+00 -4.728695e+00   \n",
        "25%   -2.791551e-01 -2.283447e-01 -3.285434e-01 -5.495358e-01 -4.591213e-01   \n",
        "50%   -6.713376e-02  1.571780e-02  1.732432e-02 -1.650671e-01  1.527576e-02   \n",
        "75%    3.569089e-01  2.597803e-01  3.631920e-01  2.194016e-01  4.896728e-01   \n",
        "max    5.233399e+00  4.408843e+00  5.205340e+00  1.098453e+01  5.708041e+00   \n",
        "\n",
        "           ...              F_790         F_791         F_792         F_793  \\\n",
        "count      ...       5.590000e+02  5.590000e+02  5.590000e+02  5.590000e+02   \n",
        "mean       ...      -3.177740e-17  2.065531e-17 -2.542192e-17 -2.542192e-17   \n",
        "std        ...       1.000000e+00  1.000000e+00  1.000000e+00  1.000000e+00   \n",
        "min        ...      -3.026804e+00 -3.158967e+00 -3.607781e+00 -2.914539e+00   \n",
        "25%        ...      -6.947593e-01 -6.389682e-01 -6.510534e-01 -6.899941e-01   \n",
        "50%        ...       3.110904e-02 -2.720893e-02  2.159011e-02  1.534953e-02   \n",
        "75%        ...       7.209414e-01  6.013877e-01  6.797161e-01  6.935645e-01   \n",
        "max        ...       3.006654e+00  3.025975e+00  2.828304e+00  2.883230e+00   \n",
        "\n",
        "              F_794         F_795         F_796         F_797         F_798  \\\n",
        "count  5.590000e+02  5.590000e+02  5.590000e+02  5.590000e+02  5.590000e+02   \n",
        "mean  -1.271096e-17  1.271096e-17  3.813288e-17  1.271096e-17 -6.355481e-18   \n",
        "std    1.000000e+00  1.000000e+00  1.000000e+00  1.000000e+00  1.000000e+00   \n",
        "min   -2.749926e+00 -3.432542e+00 -3.338495e+00 -3.756374e+00 -3.859820e+00   \n",
        "25%   -6.279988e-01 -6.264732e-01 -6.385332e-01 -6.114642e-01 -6.527280e-01   \n",
        "50%   -3.808535e-02  5.753984e-02  5.864011e-02 -2.907357e-02 -4.040981e-02   \n",
        "75%    6.662889e-01  6.823076e-01  6.480684e-01  6.286853e-01  6.870970e-01   \n",
        "max    4.038481e+00  3.105976e+00  3.519155e+00  3.424160e+00  3.500123e+00   \n",
        "\n",
        "              F_799  \n",
        "count  5.590000e+02  \n",
        "mean   7.944351e-19  \n",
        "std    1.000000e+00  \n",
        "min   -2.658160e+00  \n",
        "25%   -6.549790e-01  \n",
        "50%   -2.091886e-02  \n",
        "75%    6.468082e-01  \n",
        "max    3.076437e+00  \n",
        "\n",
        "[8 rows x 800 columns]"
       ]
      }
     ],
     "prompt_number": 7
    },
    {
     "cell_type": "code",
     "collapsed": false,
     "input": [
      "test_x.describe()"
     ],
     "language": "python",
     "metadata": {},
     "outputs": [
      {
       "html": [
        "<div style=\"max-height:1000px;max-width:1500px;overflow:auto;\">\n",
        "<table border=\"1\" class=\"dataframe\">\n",
        "  <thead>\n",
        "    <tr style=\"text-align: right;\">\n",
        "      <th></th>\n",
        "      <th>F_0</th>\n",
        "      <th>F_1</th>\n",
        "      <th>F_2</th>\n",
        "      <th>F_3</th>\n",
        "      <th>F_4</th>\n",
        "      <th>F_5</th>\n",
        "      <th>F_6</th>\n",
        "      <th>F_7</th>\n",
        "      <th>F_8</th>\n",
        "      <th>F_9</th>\n",
        "      <th>...</th>\n",
        "      <th>F_790</th>\n",
        "      <th>F_791</th>\n",
        "      <th>F_792</th>\n",
        "      <th>F_793</th>\n",
        "      <th>F_794</th>\n",
        "      <th>F_795</th>\n",
        "      <th>F_796</th>\n",
        "      <th>F_797</th>\n",
        "      <th>F_798</th>\n",
        "      <th>F_799</th>\n",
        "    </tr>\n",
        "  </thead>\n",
        "  <tbody>\n",
        "    <tr>\n",
        "      <th>count</th>\n",
        "      <td> 239.000000</td>\n",
        "      <td> 239.000000</td>\n",
        "      <td> 239.000000</td>\n",
        "      <td> 239.000000</td>\n",
        "      <td> 239.000000</td>\n",
        "      <td> 239.000000</td>\n",
        "      <td> 239.000000</td>\n",
        "      <td> 239.000000</td>\n",
        "      <td> 239.000000</td>\n",
        "      <td> 239.000000</td>\n",
        "      <td>...</td>\n",
        "      <td> 239.000000</td>\n",
        "      <td> 239.000000</td>\n",
        "      <td> 239.000000</td>\n",
        "      <td> 239.000000</td>\n",
        "      <td> 239.000000</td>\n",
        "      <td> 239.000000</td>\n",
        "      <td> 239.000000</td>\n",
        "      <td> 239.000000</td>\n",
        "      <td> 239.000000</td>\n",
        "      <td> 239.000000</td>\n",
        "    </tr>\n",
        "    <tr>\n",
        "      <th>mean</th>\n",
        "      <td>  -0.048084</td>\n",
        "      <td>   0.077335</td>\n",
        "      <td>   0.020257</td>\n",
        "      <td>   0.072765</td>\n",
        "      <td>   0.021508</td>\n",
        "      <td>  -0.053827</td>\n",
        "      <td>   0.139281</td>\n",
        "      <td>  -0.043456</td>\n",
        "      <td>  -0.033157</td>\n",
        "      <td>   0.011306</td>\n",
        "      <td>...</td>\n",
        "      <td>  -0.018519</td>\n",
        "      <td>   0.013229</td>\n",
        "      <td>   0.078567</td>\n",
        "      <td>   0.026311</td>\n",
        "      <td>  -0.057758</td>\n",
        "      <td>  -0.149649</td>\n",
        "      <td>  -0.011793</td>\n",
        "      <td>   0.047642</td>\n",
        "      <td>   0.103214</td>\n",
        "      <td>   0.064352</td>\n",
        "    </tr>\n",
        "    <tr>\n",
        "      <th>std</th>\n",
        "      <td>   0.922365</td>\n",
        "      <td>   0.932226</td>\n",
        "      <td>   0.982286</td>\n",
        "      <td>   1.007044</td>\n",
        "      <td>   1.061437</td>\n",
        "      <td>   1.143097</td>\n",
        "      <td>   1.196676</td>\n",
        "      <td>   1.101199</td>\n",
        "      <td>   0.952202</td>\n",
        "      <td>   1.244538</td>\n",
        "      <td>...</td>\n",
        "      <td>   1.082358</td>\n",
        "      <td>   1.052719</td>\n",
        "      <td>   1.043850</td>\n",
        "      <td>   1.052912</td>\n",
        "      <td>   1.096577</td>\n",
        "      <td>   0.964285</td>\n",
        "      <td>   0.996227</td>\n",
        "      <td>   1.051661</td>\n",
        "      <td>   0.913283</td>\n",
        "      <td>   0.939877</td>\n",
        "    </tr>\n",
        "    <tr>\n",
        "      <th>min</th>\n",
        "      <td>  -1.080900</td>\n",
        "      <td>  -2.866206</td>\n",
        "      <td>  -3.199509</td>\n",
        "      <td>  -4.863492</td>\n",
        "      <td>  -4.143003</td>\n",
        "      <td>  -7.063837</td>\n",
        "      <td>  -5.109595</td>\n",
        "      <td>  -6.554162</td>\n",
        "      <td>  -4.394223</td>\n",
        "      <td>  -5.677489</td>\n",
        "      <td>...</td>\n",
        "      <td>  -3.253317</td>\n",
        "      <td>  -3.069168</td>\n",
        "      <td>  -2.668984</td>\n",
        "      <td>  -2.682008</td>\n",
        "      <td>  -3.128528</td>\n",
        "      <td>  -3.367911</td>\n",
        "      <td>  -3.477930</td>\n",
        "      <td>  -2.824549</td>\n",
        "      <td>  -2.829186</td>\n",
        "      <td>  -2.130712</td>\n",
        "    </tr>\n",
        "    <tr>\n",
        "      <th>25%</th>\n",
        "      <td>  -0.587962</td>\n",
        "      <td>  -0.383100</td>\n",
        "      <td>  -0.266126</td>\n",
        "      <td>  -0.168575</td>\n",
        "      <td>  -0.422490</td>\n",
        "      <td>  -0.491176</td>\n",
        "      <td>  -0.228345</td>\n",
        "      <td>  -0.328543</td>\n",
        "      <td>  -0.549536</td>\n",
        "      <td>  -0.459121</td>\n",
        "      <td>...</td>\n",
        "      <td>  -0.771979</td>\n",
        "      <td>  -0.678255</td>\n",
        "      <td>  -0.525235</td>\n",
        "      <td>  -0.744251</td>\n",
        "      <td>  -0.694034</td>\n",
        "      <td>  -0.755735</td>\n",
        "      <td>  -0.537126</td>\n",
        "      <td>  -0.611464</td>\n",
        "      <td>  -0.507227</td>\n",
        "      <td>  -0.553978</td>\n",
        "    </tr>\n",
        "    <tr>\n",
        "      <th>50%</th>\n",
        "      <td>  -0.366990</td>\n",
        "      <td>  -0.201409</td>\n",
        "      <td>  -0.126441</td>\n",
        "      <td>  -0.168575</td>\n",
        "      <td>  -0.098967</td>\n",
        "      <td>  -0.067134</td>\n",
        "      <td>   0.015718</td>\n",
        "      <td>   0.017324</td>\n",
        "      <td>  -0.165067</td>\n",
        "      <td>   0.015276</td>\n",
        "      <td>...</td>\n",
        "      <td>   0.031109</td>\n",
        "      <td>   0.017691</td>\n",
        "      <td>   0.021590</td>\n",
        "      <td>   0.069607</td>\n",
        "      <td>  -0.038085</td>\n",
        "      <td>  -0.114810</td>\n",
        "      <td>  -0.004739</td>\n",
        "      <td>   0.012036</td>\n",
        "      <td>   0.117217</td>\n",
        "      <td>   0.023970</td>\n",
        "    </tr>\n",
        "    <tr>\n",
        "      <th>75%</th>\n",
        "      <td>   0.083454</td>\n",
        "      <td>   0.040845</td>\n",
        "      <td>   0.013244</td>\n",
        "      <td>   0.166776</td>\n",
        "      <td>   0.224556</td>\n",
        "      <td>   0.356909</td>\n",
        "      <td>   0.259780</td>\n",
        "      <td>   0.363192</td>\n",
        "      <td>   0.219402</td>\n",
        "      <td>   0.489673</td>\n",
        "      <td>...</td>\n",
        "      <td>   0.720941</td>\n",
        "      <td>   0.629450</td>\n",
        "      <td>   0.699073</td>\n",
        "      <td>   0.794328</td>\n",
        "      <td>   0.697105</td>\n",
        "      <td>   0.380696</td>\n",
        "      <td>   0.591027</td>\n",
        "      <td>   0.731460</td>\n",
        "      <td>   0.662847</td>\n",
        "      <td>   0.674864</td>\n",
        "    </tr>\n",
        "    <tr>\n",
        "      <th>max</th>\n",
        "      <td>   3.763491</td>\n",
        "      <td>   3.856350</td>\n",
        "      <td>   4.064106</td>\n",
        "      <td>   3.855639</td>\n",
        "      <td>   5.562684</td>\n",
        "      <td>   4.597335</td>\n",
        "      <td>   7.093530</td>\n",
        "      <td>   6.242943</td>\n",
        "      <td>   3.679620</td>\n",
        "      <td>   8.080026</td>\n",
        "      <td>...</td>\n",
        "      <td>   3.593527</td>\n",
        "      <td>   2.790251</td>\n",
        "      <td>   3.679996</td>\n",
        "      <td>   2.890981</td>\n",
        "      <td>   2.779412</td>\n",
        "      <td>   2.858223</td>\n",
        "      <td>   2.885361</td>\n",
        "      <td>   3.218611</td>\n",
        "      <td>   2.736241</td>\n",
        "      <td>   2.694879</td>\n",
        "    </tr>\n",
        "  </tbody>\n",
        "</table>\n",
        "<p>8 rows \u00d7 800 columns</p>\n",
        "</div>"
       ],
       "metadata": {},
       "output_type": "pyout",
       "prompt_number": 8,
       "text": [
        "              F_0         F_1         F_2         F_3         F_4         F_5  \\\n",
        "count  239.000000  239.000000  239.000000  239.000000  239.000000  239.000000   \n",
        "mean    -0.048084    0.077335    0.020257    0.072765    0.021508   -0.053827   \n",
        "std      0.922365    0.932226    0.982286    1.007044    1.061437    1.143097   \n",
        "min     -1.080900   -2.866206   -3.199509   -4.863492   -4.143003   -7.063837   \n",
        "25%     -0.587962   -0.383100   -0.266126   -0.168575   -0.422490   -0.491176   \n",
        "50%     -0.366990   -0.201409   -0.126441   -0.168575   -0.098967   -0.067134   \n",
        "75%      0.083454    0.040845    0.013244    0.166776    0.224556    0.356909   \n",
        "max      3.763491    3.856350    4.064106    3.855639    5.562684    4.597335   \n",
        "\n",
        "              F_6         F_7         F_8         F_9     ...           F_790  \\\n",
        "count  239.000000  239.000000  239.000000  239.000000     ...      239.000000   \n",
        "mean     0.139281   -0.043456   -0.033157    0.011306     ...       -0.018519   \n",
        "std      1.196676    1.101199    0.952202    1.244538     ...        1.082358   \n",
        "min     -5.109595   -6.554162   -4.394223   -5.677489     ...       -3.253317   \n",
        "25%     -0.228345   -0.328543   -0.549536   -0.459121     ...       -0.771979   \n",
        "50%      0.015718    0.017324   -0.165067    0.015276     ...        0.031109   \n",
        "75%      0.259780    0.363192    0.219402    0.489673     ...        0.720941   \n",
        "max      7.093530    6.242943    3.679620    8.080026     ...        3.593527   \n",
        "\n",
        "            F_791       F_792       F_793       F_794       F_795       F_796  \\\n",
        "count  239.000000  239.000000  239.000000  239.000000  239.000000  239.000000   \n",
        "mean     0.013229    0.078567    0.026311   -0.057758   -0.149649   -0.011793   \n",
        "std      1.052719    1.043850    1.052912    1.096577    0.964285    0.996227   \n",
        "min     -3.069168   -2.668984   -2.682008   -3.128528   -3.367911   -3.477930   \n",
        "25%     -0.678255   -0.525235   -0.744251   -0.694034   -0.755735   -0.537126   \n",
        "50%      0.017691    0.021590    0.069607   -0.038085   -0.114810   -0.004739   \n",
        "75%      0.629450    0.699073    0.794328    0.697105    0.380696    0.591027   \n",
        "max      2.790251    3.679996    2.890981    2.779412    2.858223    2.885361   \n",
        "\n",
        "            F_797       F_798       F_799  \n",
        "count  239.000000  239.000000  239.000000  \n",
        "mean     0.047642    0.103214    0.064352  \n",
        "std      1.051661    0.913283    0.939877  \n",
        "min     -2.824549   -2.829186   -2.130712  \n",
        "25%     -0.611464   -0.507227   -0.553978  \n",
        "50%      0.012036    0.117217    0.023970  \n",
        "75%      0.731460    0.662847    0.674864  \n",
        "max      3.218611    2.736241    2.694879  \n",
        "\n",
        "[8 rows x 800 columns]"
       ]
      }
     ],
     "prompt_number": 8
    },
    {
     "cell_type": "markdown",
     "metadata": {},
     "source": [
      "###Studying The Target\n",
      "\n",
      "Now that we have normalized the input matrix, we move on to looking at the target.  Within the train_y data frame, what is the percentage of positive examples?  This is our prior probability and the accuracy we will attain if we always guess positive.  Also measure the prior for the test_y frame and comment if there are major differences between the testing/training data"
     ]
    },
    {
     "cell_type": "code",
     "collapsed": false,
     "input": [
      "# Since (1==True) and this is a binary +/- 1 flag, \n",
      "# this gives the percent of positive\n",
      "100* float(sum(train_y['label'] >0 ))/ len(train_y)\n"
     ],
     "language": "python",
     "metadata": {},
     "outputs": [
      {
       "metadata": {},
       "output_type": "pyout",
       "prompt_number": 9,
       "text": [
        "49.37388193202147"
       ]
      }
     ],
     "prompt_number": 9
    },
    {
     "cell_type": "code",
     "collapsed": false,
     "input": [
      "# The same as above for test_y\n",
      "100* float(sum(test_y['label'] >0 ))/ len(test_y)\n"
     ],
     "language": "python",
     "metadata": {},
     "outputs": [
      {
       "metadata": {},
       "output_type": "pyout",
       "prompt_number": 10,
       "text": [
        "51.46443514644351"
       ]
      }
     ],
     "prompt_number": 10
    },
    {
     "cell_type": "markdown",
     "metadata": {},
     "source": [
      "__These two percentages are similar enough targets that I'm willing to proceed with the modeling without any further investigation.__"
     ]
    },
    {
     "cell_type": "markdown",
     "metadata": {},
     "source": [
      "##Supervised Modeling\n",
      "\n",
      "We choose to use logistic regression on this data set since it is a simple binary classification problem.  In this section we aim to train a logistic regression model that accurately predicts the class of each record.  We'll train using the train_x/train_y data frames and evaluate on the test_x/test_y data frames.\n",
      "\n",
      "###Baseline Model\n",
      "\n",
      "Use sklearn's linear model package to train a logistic regression model using the whole train_x/train_y data frames.  Then evaluate this model using the test_x/test_y data frames by computing the accuracy (% of correct predictions).  Store this computed accuracy as acc_baseline."
     ]
    },
    {
     "cell_type": "code",
     "collapsed": false,
     "input": [
      "import sklearn.linear_model  \n",
      "#train model and evaluate performance here\n",
      "\n",
      "# training the model\n",
      "model = sklearn.linear_model.LogisticRegression()\n",
      "model.fit(train_x, train_y['label'])              # training the model"
     ],
     "language": "python",
     "metadata": {},
     "outputs": [
      {
       "metadata": {},
       "output_type": "pyout",
       "prompt_number": 11,
       "text": [
        "LogisticRegression(C=1.0, class_weight=None, dual=False, fit_intercept=True,\n",
        "          intercept_scaling=1, penalty='l2', random_state=None, tol=0.0001)"
       ]
      }
     ],
     "prompt_number": 11
    },
    {
     "cell_type": "code",
     "collapsed": false,
     "input": [
      "# checking the model's accuracy on the test data\n",
      "acc_baseline = model.score(test_x, test_y['label'])\n",
      "\n",
      "acc_baseline\n",
      "# 92%\n",
      "# I expected this number to be high since we're using all 800 parameters in the model"
     ],
     "language": "python",
     "metadata": {},
     "outputs": [
      {
       "metadata": {},
       "output_type": "pyout",
       "prompt_number": 12,
       "text": [
        "0.91631799163179917"
       ]
      }
     ],
     "prompt_number": 12
    },
    {
     "cell_type": "markdown",
     "metadata": {},
     "source": [
      "__I'm doing the following check to make sure I understand what 'model.score' returns.__"
     ]
    },
    {
     "cell_type": "code",
     "collapsed": false,
     "input": [
      "# using this model to predict, and comparing the two columns in a new dataframe\n",
      "#  and making sure this returns the same percent as model.score above\n",
      "predicted_y = model.predict(test_x) # output is predicted test_y\n",
      "compDF = pd.DataFrame()\n",
      "compDF['predict'] = predicted_y\n",
      "compDF['actual']  = test_y.label\n",
      "compDF['correct'] = compDF.predict == compDF.actual\n",
      "\n",
      "float(sum(compDF['correct']))/len(compDF)  # this should give the same as model.score\n"
     ],
     "language": "python",
     "metadata": {},
     "outputs": [
      {
       "metadata": {},
       "output_type": "pyout",
       "prompt_number": 13,
       "text": [
        "0.9163179916317992"
       ]
      }
     ],
     "prompt_number": 13
    },
    {
     "cell_type": "markdown",
     "metadata": {},
     "source": [
      "### Simpler model \n",
      "\n",
      "While your previous model has good performance, it uses 800 features.  The high feature count means the model is difficult to explain and may result in overfitting (since there are under 800 records).  We wish to build a model with 20 features which also has good accuracy.\n",
      "\n",
      "As a first step towards this, find the 20 features which have the largest absolute coefficients in your old model and build a logistic regression model which only uses these 20 features.  Then measure the accuracy of this new model and comment on the impact to performance caused by just using these 20 features.\n",
      "\n",
      "To do this you will have to make copies of the train_x/test_x data frames which only have the 20 highest coefficient features."
     ]
    },
    {
     "cell_type": "code",
     "collapsed": false,
     "input": [
      "# get list of top 20 predictive features\n",
      "coeffs = model.coef_[0]                     # coeffs for the model\n",
      "allIndex = np.argsort(abs(coeffs))          # index of abs(all_coeffs) in ascending order\n",
      "keepIndex = allIndex[::-1][:20]             # reverse order and take top 20\n",
      "twenty_best = train_x.columns[keepIndex]    # column names of top 20\n",
      "\n",
      "# reducing {train,test}_x to 20 best columns\n",
      "train_x_twenty_best = train_x[twenty_best]\n",
      "test_x_twenty_best = test_x[twenty_best]\n",
      "\n",
      "#Train model/evaluate performance here\n",
      "model_20best = model.fit(train_x_twenty_best, train_y['label'])\n",
      "\n",
      "top20_score = model_20best.score(test_x_twenty_best, test_y)\n",
      "\n",
      "top20_score"
     ],
     "language": "python",
     "metadata": {},
     "outputs": [
      {
       "metadata": {},
       "output_type": "pyout",
       "prompt_number": 14,
       "text": [
        "0.89121338912133896"
       ]
      }
     ],
     "prompt_number": 14
    },
    {
     "cell_type": "markdown",
     "metadata": {},
     "source": [
      "\n",
      "__We now have a model that uses only 20 features and is has 89% accuracy, which is a better than (likely) overfitting, using 800 featers with a 92% accuracy.__\n"
     ]
    },
    {
     "cell_type": "markdown",
     "metadata": {},
     "source": [
      "###Basic Feature Engineering\n",
      "On the last homework we discussed some text -> numeric feature engineering functions which are commonly used; however, feature engineering is a wide field which is often much simpler.  In particular when you already have all numeric features simple mathematical functions often add significant power to your features.  This helps account for non linear relationships between the features and the target.  \n",
      "\n",
      "Commonly used functions include:\n",
      "\n",
      "1. Log\n",
      "2. Square root\n",
      "3. Squareing\n",
      "4. Sign (1 if the number is positive, 0 otherwise)\n",
      "5. Absolute Value\n",
      "6. Binning\n",
      "\n",
      "Make for each feature (FEATURE) in train_x/test_x create 3 new features: the square of the feature (FEATURE_SQ), the absolute value of the feature (FEATURE_ABS), and the sign of the feature (FEAUTRE_SIGN).  Thus you should have 3200 features in your test_x/train_x data frames."
     ]
    },
    {
     "cell_type": "code",
     "collapsed": false,
     "input": [
      "for col in train_x.columns:\n",
      "    train_x[col + \"_SQ\"]   = train_x[col]**2\n",
      "    train_x[col + \"_ABS\"]  = abs(train_x[col])\n",
      "    train_x[col + \"_SIGN\"] = np.sign(train_x[col])\n",
      "    \n",
      "for col in test_x.columns:\n",
      "    test_x[col + \"_SQ\"]   = test_x[col]**2\n",
      "    test_x[col + \"_ABS\"]  = abs(test_x[col])\n",
      "    test_x[col + \"_SIGN\"] = np.sign(test_x[col])"
     ],
     "language": "python",
     "metadata": {},
     "outputs": [],
     "prompt_number": 15
    },
    {
     "cell_type": "code",
     "collapsed": false,
     "input": [
      "print \"Shape of train_x:\", shape(train_x)\n",
      "print \"Shape of test_x :\", shape(test_x)"
     ],
     "language": "python",
     "metadata": {},
     "outputs": [
      {
       "output_type": "stream",
       "stream": "stdout",
       "text": [
        "Shape of train_x: (559, 3200)\n",
        "Shape of test_x : (239, 3200)\n"
       ]
      }
     ],
     "prompt_number": 16
    },
    {
     "cell_type": "markdown",
     "metadata": {},
     "source": [
      "###PCA Feature Engineering\n",
      "\n",
      "These simple techniques allow non linear relationships between the features and the target to be captured.  However, one issue is that these features are all univariate and thus our model is unable to capture relationships of multiple variables to the target.  A common technique is to use product/ratio feature (IE F_0*F_1 or F_0/F_1); however, this becomes intractable since this will produced $O(n^2)$ features for $n$ input features.  Domain expertise can give you ideas on which interactions are likely important, but cannot help you find new insights.  \n",
      "\n",
      "One idea is to use unsupervised learning techniques such as PCA to try and capture these interactions.  Find the top 10 prinipal components of train_x and then add the PCA coefficints for train_x/test_x as features PCA_0, PCA_1, ..., PCA_9.  "
     ]
    },
    {
     "cell_type": "code",
     "collapsed": false,
     "input": [
      "# find top 10 principal components of train_x\n",
      "from sklearn.decomposition import PCA\n",
      "pca = PCA(n_components=10, whiten=True)\n",
      "pca.fit(train_x)"
     ],
     "language": "python",
     "metadata": {},
     "outputs": [
      {
       "metadata": {},
       "output_type": "pyout",
       "prompt_number": 17,
       "text": [
        "PCA(copy=True, n_components=10, whiten=True)"
       ]
      }
     ],
     "prompt_number": 17
    },
    {
     "cell_type": "code",
     "collapsed": false,
     "input": [
      "# get pca coefficients for train_x and test_x\n",
      "train_x_coeffs = pca.transform(train_x).T\n",
      "test_x_coeffs  = pca.transform(test_x).T"
     ],
     "language": "python",
     "metadata": {},
     "outputs": [],
     "prompt_number": 18
    },
    {
     "cell_type": "code",
     "collapsed": false,
     "input": [
      "shape(test_x_coeffs)"
     ],
     "language": "python",
     "metadata": {},
     "outputs": [
      {
       "metadata": {},
       "output_type": "pyout",
       "prompt_number": 19,
       "text": [
        "(10, 239)"
       ]
      }
     ],
     "prompt_number": 19
    },
    {
     "cell_type": "code",
     "collapsed": false,
     "input": [
      "# add pca coefficients for train_x, test_x as features\n",
      "\n",
      "# make the pca column index strings\n",
      "pcaIndxArr = ['PCA_'+str(ii) for ii in range(10)]\n",
      "\n",
      "# adding pca coefficients to train_x\n",
      "for colName, coeffList in zip(pcaIndxArr, train_x_coeffs):\n",
      "    train_x[colName] = coeffList\n",
      "\n",
      "# adding pca coefficients to test_x\n",
      "for colName, coeffList in zip(pcaIndxArr, test_x_coeffs):\n",
      "    test_x[colName] = coeffList\n"
     ],
     "language": "python",
     "metadata": {},
     "outputs": [],
     "prompt_number": 20
    },
    {
     "cell_type": "markdown",
     "metadata": {},
     "source": [
      "###Feature Selection\n",
      "\n",
      "Earlier, we built a model with the top 20 features from our whole model.  This is a possible way of doing [feature selection](http://en.wikipedia.org/wiki/Feature_selection), or choosing a subset of features to build our model with.  However, this is not the best way for a variety of reasons which you'll come to understand in future classes.  \n",
      "\n",
      "One better method of feature which is easy to understand is [forward selection](http://en.wikipedia.org/wiki/Stepwise_regression).  In this process you start with a model with no features and then search for the single best feature to add.  After you've found it you keep searching for the next feature to add until some stopping criteria is reached.  In this part we will guide you through the process of writing such an algorithm.\n",
      "\n",
      "As a first step, write code which will find the best 1 feature model.  In otherwords, for each feature train a model and evaluate its acuracy on the test data.  Store the best model, the feature used, and its accuracy."
     ]
    },
    {
     "cell_type": "code",
     "collapsed": false,
     "input": [
      "# use a logistic regression loop on the train_x data\n",
      "# compute the score for each model on test_y\n",
      "# hold onto the column name and accuracy for best feature\n",
      "\n",
      "import sklearn.linear_model  \n",
      "thisModel = sklearn.linear_model.LogisticRegression() # instantiate the model\n",
      "\n",
      "bestOneScore = -1.0\n",
      "bestOneCol   = 'Na'\n",
      "for thisCol in train_x.columns:\n",
      "    thisModel.fit( pd.DataFrame(train_x[thisCol]), train_y['label'])\n",
      "    thisScore = thisModel.score( pd.DataFrame(test_x[thisCol]), test_y['label'])\n",
      "    # Holding onto the best model outcomes\n",
      "    if thisScore > bestOneScore:\n",
      "        bestOneScore = thisScore\n",
      "        bestOneCol = thisCol"
     ],
     "language": "python",
     "metadata": {},
     "outputs": [],
     "prompt_number": 21
    },
    {
     "cell_type": "code",
     "collapsed": false,
     "input": [
      "print bestOneScore, bestOneCol"
     ],
     "language": "python",
     "metadata": {},
     "outputs": [
      {
       "output_type": "stream",
       "stream": "stdout",
       "text": [
        "0.761506276151 F_240\n"
       ]
      }
     ],
     "prompt_number": 22
    },
    {
     "cell_type": "markdown",
     "metadata": {},
     "source": [
      "Now that you have figured out how to do a single iteration of forward selection (going from 0 -> 1 feature), use the below boiler plate code to complete the algorithm.\n",
      "\n",
      "Since we want to find the best model with 20 features, we loop through feature selection 20 times.  Add the following steps:\n",
      "\n",
      "1. Train models using the features in $f$ + 1 additional feature\n",
      "2. Find the additional feature that results in the highest accuracy\n",
      "3. Add the best addditional feature to $f$ and the accuracy of the best model to $acc$"
     ]
    },
    {
     "cell_type": "code",
     "collapsed": false,
     "input": [
      "thisModel = sklearn.linear_model.LogisticRegression() # instantiate the model\n",
      "\n",
      "###  CHANGE nFeats \n",
      "nFeats = 60\n",
      "ff     = [bestOneCol]      # list of features in the final dataframe\n",
      "acc    = [bestOneScore]       # list of cumulative best accuracies\n",
      "\n",
      "while len(ff) < nFeats:\n",
      "    print 'Last best column: ', ff[-1],  '\\t\\twith accuracy:\\t', acc[-1]\n",
      "    bestScore = -1.0                 # (re)initialize the best score\n",
      "    for thisCol in train_x.columns:\n",
      "        if thisCol in ff:             # (skip if already in final list)\n",
      "            continue\n",
      "        fftmp = list(ff)        # copy growing column list\n",
      "        fftmp.append(thisCol)   # append this test column\n",
      "        \n",
      "        thisModel.fit(train_x[fftmp], train_y['label'])\n",
      "        thisScore = thisModel.score(test_x[fftmp], test_y['label'])\n",
      "        # Holding onto the best model outcomes for this loop\n",
      "        if thisScore > bestScore:\n",
      "            bestScore = thisScore\n",
      "            bestCol   = thisCol\n",
      "    # done with loop, append best feature and its accuracy to ff,acc\n",
      "    ff.append(bestCol)\n",
      "    acc.append(bestScore)\n",
      "            \n",
      "    #TODO: search for the best feature to add to features to maximize performance\n",
      "    #TODO: add the best feature to features\n",
      "    #TODO: add the accuracy of the best model to acc"
     ],
     "language": "python",
     "metadata": {},
     "outputs": [
      {
       "output_type": "stream",
       "stream": "stdout",
       "text": [
        "Last best column:  F_240 \t\twith accuracy:\t0.761506276151\n",
        "Last best column: "
       ]
      },
      {
       "output_type": "stream",
       "stream": "stdout",
       "text": [
        " F_368_SQ \t\twith accuracy:\t0.799163179916\n",
        "Last best column: "
       ]
      },
      {
       "output_type": "stream",
       "stream": "stdout",
       "text": [
        " F_396 \t\twith accuracy:\t0.832635983264\n",
        "Last best column: "
       ]
      },
      {
       "output_type": "stream",
       "stream": "stdout",
       "text": [
        " F_169_ABS \t\twith accuracy:\t0.853556485356\n",
        "Last best column: "
       ]
      },
      {
       "output_type": "stream",
       "stream": "stdout",
       "text": [
        " F_348 \t\twith accuracy:\t0.866108786611\n",
        "Last best column: "
       ]
      },
      {
       "output_type": "stream",
       "stream": "stdout",
       "text": [
        " F_711_ABS \t\twith accuracy:\t0.878661087866\n",
        "Last best column: "
       ]
      },
      {
       "output_type": "stream",
       "stream": "stdout",
       "text": [
        " F_315 \t\twith accuracy:\t0.887029288703\n",
        "Last best column: "
       ]
      },
      {
       "output_type": "stream",
       "stream": "stdout",
       "text": [
        " F_178_SQ \t\twith accuracy:\t0.891213389121\n",
        "Last best column: "
       ]
      },
      {
       "output_type": "stream",
       "stream": "stdout",
       "text": [
        " F_628_SQ \t\twith accuracy:\t0.899581589958\n",
        "Last best column: "
       ]
      },
      {
       "output_type": "stream",
       "stream": "stdout",
       "text": [
        " F_79 \t\twith accuracy:\t0.903765690377\n",
        "Last best column: "
       ]
      },
      {
       "output_type": "stream",
       "stream": "stdout",
       "text": [
        " F_244 \t\twith accuracy:\t0.907949790795\n",
        "Last best column: "
       ]
      },
      {
       "output_type": "stream",
       "stream": "stdout",
       "text": [
        " F_77_SQ \t\twith accuracy:\t0.912133891213\n",
        "Last best column: "
       ]
      },
      {
       "output_type": "stream",
       "stream": "stdout",
       "text": [
        " F_284_ABS \t\twith accuracy:\t0.916317991632\n",
        "Last best column: "
       ]
      },
      {
       "output_type": "stream",
       "stream": "stdout",
       "text": [
        " F_393_SQ \t\twith accuracy:\t0.92050209205\n",
        "Last best column: "
       ]
      },
      {
       "output_type": "stream",
       "stream": "stdout",
       "text": [
        " F_1 \t\twith accuracy:\t0.92050209205\n",
        "Last best column: "
       ]
      },
      {
       "output_type": "stream",
       "stream": "stdout",
       "text": [
        " F_2 \t\twith accuracy:\t0.92050209205\n",
        "Last best column: "
       ]
      },
      {
       "output_type": "stream",
       "stream": "stdout",
       "text": [
        " F_5 \t\twith accuracy:\t0.92050209205\n",
        "Last best column: "
       ]
      },
      {
       "output_type": "stream",
       "stream": "stdout",
       "text": [
        " F_7 \t\twith accuracy:\t0.92050209205\n",
        "Last best column: "
       ]
      },
      {
       "output_type": "stream",
       "stream": "stdout",
       "text": [
        " F_8 \t\twith accuracy:\t0.92050209205\n",
        "Last best column: "
       ]
      },
      {
       "output_type": "stream",
       "stream": "stdout",
       "text": [
        " F_0 \t\twith accuracy:\t0.92050209205\n",
        "Last best column: "
       ]
      },
      {
       "output_type": "stream",
       "stream": "stdout",
       "text": [
        " F_603 \t\twith accuracy:\t0.928870292887\n",
        "Last best column: "
       ]
      },
      {
       "output_type": "stream",
       "stream": "stdout",
       "text": [
        " F_136 \t\twith accuracy:\t0.933054393305\n",
        "Last best column: "
       ]
      },
      {
       "output_type": "stream",
       "stream": "stdout",
       "text": [
        " F_24_SQ \t\twith accuracy:\t0.937238493724\n",
        "Last best column: "
       ]
      },
      {
       "output_type": "stream",
       "stream": "stdout",
       "text": [
        " F_4 \t\twith accuracy:\t0.941422594142\n",
        "Last best column: "
       ]
      },
      {
       "output_type": "stream",
       "stream": "stdout",
       "text": [
        " F_9 \t\twith accuracy:\t0.941422594142\n",
        "Last best column: "
       ]
      },
      {
       "output_type": "stream",
       "stream": "stdout",
       "text": [
        " F_10 \t\twith accuracy:\t0.941422594142\n",
        "Last best column: "
       ]
      },
      {
       "output_type": "stream",
       "stream": "stdout",
       "text": [
        " F_752_SQ \t\twith accuracy:\t0.945606694561\n",
        "Last best column: "
       ]
      },
      {
       "output_type": "stream",
       "stream": "stdout",
       "text": [
        " F_11 \t\twith accuracy:\t0.945606694561\n",
        "Last best column: "
       ]
      },
      {
       "output_type": "stream",
       "stream": "stdout",
       "text": [
        " F_270 \t\twith accuracy:\t0.949790794979\n",
        "Last best column: "
       ]
      },
      {
       "output_type": "stream",
       "stream": "stdout",
       "text": [
        " F_60_SQ \t\twith accuracy:\t0.953974895397\n",
        "Last best column: "
       ]
      },
      {
       "output_type": "stream",
       "stream": "stdout",
       "text": [
        " F_318_SQ \t\twith accuracy:\t0.958158995816\n",
        "Last best column: "
       ]
      },
      {
       "output_type": "stream",
       "stream": "stdout",
       "text": [
        " F_12 \t\twith accuracy:\t0.958158995816\n",
        "Last best column: "
       ]
      },
      {
       "output_type": "stream",
       "stream": "stdout",
       "text": [
        " F_419 \t\twith accuracy:\t0.962343096234\n",
        "Last best column: "
       ]
      },
      {
       "output_type": "stream",
       "stream": "stdout",
       "text": [
        " F_19 \t\twith accuracy:\t0.962343096234\n",
        "Last best column: "
       ]
      },
      {
       "output_type": "stream",
       "stream": "stdout",
       "text": [
        " F_44 \t\twith accuracy:\t0.962343096234\n",
        "Last best column: "
       ]
      },
      {
       "output_type": "stream",
       "stream": "stdout",
       "text": [
        " F_15 \t\twith accuracy:\t0.962343096234\n",
        "Last best column: "
       ]
      },
      {
       "output_type": "stream",
       "stream": "stdout",
       "text": [
        " F_25 \t\twith accuracy:\t0.962343096234\n",
        "Last best column: "
       ]
      },
      {
       "output_type": "stream",
       "stream": "stdout",
       "text": [
        " F_34 \t\twith accuracy:\t0.962343096234\n",
        "Last best column: "
       ]
      },
      {
       "output_type": "stream",
       "stream": "stdout",
       "text": [
        " F_49 \t\twith accuracy:\t0.962343096234\n",
        "Last best column: "
       ]
      },
      {
       "output_type": "stream",
       "stream": "stdout",
       "text": [
        " F_66 \t\twith accuracy:\t0.962343096234\n",
        "Last best column: "
       ]
      },
      {
       "output_type": "stream",
       "stream": "stdout",
       "text": [
        " F_14 \t\twith accuracy:\t0.962343096234\n",
        "Last best column: "
       ]
      },
      {
       "output_type": "stream",
       "stream": "stdout",
       "text": [
        " F_39 \t\twith accuracy:\t0.962343096234\n",
        "Last best column: "
       ]
      },
      {
       "output_type": "stream",
       "stream": "stdout",
       "text": [
        " F_67 \t\twith accuracy:\t0.962343096234\n",
        "Last best column: "
       ]
      },
      {
       "output_type": "stream",
       "stream": "stdout",
       "text": [
        " F_81 \t\twith accuracy:\t0.962343096234\n",
        "Last best column: "
       ]
      },
      {
       "output_type": "stream",
       "stream": "stdout",
       "text": [
        " F_43 \t\twith accuracy:\t0.962343096234\n",
        "Last best column: "
       ]
      },
      {
       "output_type": "stream",
       "stream": "stdout",
       "text": [
        " F_83 \t\twith accuracy:\t0.962343096234\n",
        "Last best column: "
       ]
      },
      {
       "output_type": "stream",
       "stream": "stdout",
       "text": [
        " F_84 \t\twith accuracy:\t0.962343096234\n",
        "Last best column: "
       ]
      },
      {
       "output_type": "stream",
       "stream": "stdout",
       "text": [
        " F_99 \t\twith accuracy:\t0.962343096234\n",
        "Last best column: "
       ]
      },
      {
       "output_type": "stream",
       "stream": "stdout",
       "text": [
        " F_111 \t\twith accuracy:\t0.962343096234\n",
        "Last best column: "
       ]
      },
      {
       "output_type": "stream",
       "stream": "stdout",
       "text": [
        " F_54 \t\twith accuracy:\t0.962343096234\n",
        "Last best column: "
       ]
      },
      {
       "output_type": "stream",
       "stream": "stdout",
       "text": [
        " F_114 \t\twith accuracy:\t0.962343096234\n",
        "Last best column: "
       ]
      },
      {
       "output_type": "stream",
       "stream": "stdout",
       "text": [
        " F_139 \t\twith accuracy:\t0.962343096234\n",
        "Last best column: "
       ]
      },
      {
       "output_type": "stream",
       "stream": "stdout",
       "text": [
        " F_46 \t\twith accuracy:\t0.962343096234\n",
        "Last best column: "
       ]
      },
      {
       "output_type": "stream",
       "stream": "stdout",
       "text": [
        " F_135 \t\twith accuracy:\t0.962343096234\n",
        "Last best column: "
       ]
      },
      {
       "output_type": "stream",
       "stream": "stdout",
       "text": [
        " F_59 \t\twith accuracy:\t0.962343096234\n",
        "Last best column: "
       ]
      },
      {
       "output_type": "stream",
       "stream": "stdout",
       "text": [
        " F_73 \t\twith accuracy:\t0.962343096234\n",
        "Last best column: "
       ]
      },
      {
       "output_type": "stream",
       "stream": "stdout",
       "text": [
        " F_75 \t\twith accuracy:\t0.962343096234\n",
        "Last best column: "
       ]
      },
      {
       "output_type": "stream",
       "stream": "stdout",
       "text": [
        " F_82 \t\twith accuracy:\t0.962343096234\n",
        "Last best column: "
       ]
      },
      {
       "output_type": "stream",
       "stream": "stdout",
       "text": [
        " F_87 \t\twith accuracy:\t0.962343096234\n"
       ]
      }
     ],
     "prompt_number": 23
    },
    {
     "cell_type": "markdown",
     "metadata": {},
     "source": [
      "Now plot the accuracy as a function of the number of features.  Also plot a horizontal line showing the accuracy of the baseline model and the original 20 high coefficient feature model.  "
     ]
    },
    {
     "cell_type": "code",
     "collapsed": false,
     "input": [
      "import matplotlib.pyplot as plt\n",
      "\n",
      "# number of features for acc\n",
      "nfeats = range(1,nFeats+1)\n",
      "baseline = np.empty(nFeats); baseline.fill(acc_baseline)\n",
      "top20acc = np.empty(nFeats); top20acc.fill(top20_score)\n",
      "\n",
      "legStr = ['Forward Selection', 'Baseline (800 features)', 'Top 20 Coeffs']\n",
      "\n",
      "plt.figure()\n",
      "#plt.plot(nfeats, acc, 'bo')\n",
      "plt.plot(nfeats, acc, 'k', label=legStr[0])\n",
      "plt.plot(nfeats, baseline, label=legStr[1])\n",
      "plt.plot(nfeats, top20acc, label=legStr[2])\n",
      "legend(loc='best')\n",
      "plt.title('% Accuracy by Number of Features')\n",
      "plt.xlabel('Number of Features')\n",
      "plt.ylabel('% Accuracy')"
     ],
     "language": "python",
     "metadata": {},
     "outputs": [
      {
       "metadata": {},
       "output_type": "pyout",
       "prompt_number": 25,
       "text": [
        "<matplotlib.text.Text at 0x107fa54d0>"
       ]
      },
      {
       "metadata": {},
       "output_type": "display_data",
       "png": "[encoded data removed]",
       "text": [
        "<matplotlib.figure.Figure at 0x109527110>"
       ]
      }
     ],
     "prompt_number": 25
    },
    {
     "cell_type": "markdown",
     "metadata": {},
     "source": [
      "###Discussion of Results\n",
      "Now discuss the results.  In particular address the following issues:\n",
      "\n",
      "1. With the feature engineering and forward selection is accuracy better than baseline attainable?  If so how many features are required to beat the baseline?\n",
      "2. Based on the trajectory of the accuracy plot, do you think more features will significantly improve accuracy?\n",
      "3. Do some of the most important features from the baseline model still show up in our final forward selection model?  Are they transformed?\n",
      "4. Do all 3 sets of features (raw, transformed, pca) appear in the final model?  Which set seems to be the most important?"
     ]
    },
    {
     "cell_type": "markdown",
     "metadata": {},
     "source": [
      "### Discussion\n",
      "\n",
      "1. I did find that the forward selection accuary is better than the baseline attainable. Using forward selection, I found that I needed 13 features to beat the baseline accuracy.  This is far favorable to using all 800 original features.\n",
      "2. In order to test whether more features would increase the accuracy, I ran my forward selection loop to find the best 60 features.  I found that the accuracy has plateaus so it seems that I can't ascertain whether there would be significant accuracy increases as I continue to add features.  There does seem to be a general leveling off.  If I had more data, I think the discretized nature of this graph would smooth out and give me a better idea.\n",
      "3. I found 11 of the top 20 features were from the baseline model.  The other 9 were transfomed versions of these baseline features.  Similarly, I found that most of the top 60 features were from the baseline model.  The others in this top 60 subset were transformed features.\n",
      "4. I only found the raw and transformed features in my final forward selection results.  I believe that this is because I had the PCA features at the end of the dataframe and those lost in the internal tie-breaking.  I tested this by putting the PCA features in the front and found there to be PCA features in the forward selection features."
     ]
    }
   ],
   "metadata": {}
  }
 ]
}