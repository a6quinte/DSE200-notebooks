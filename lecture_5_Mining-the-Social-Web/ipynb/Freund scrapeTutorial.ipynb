{
 "metadata": {
  "name": "",
  "signature": "sha256:dfc59e8287ade895375afc04131b2198f7a25fd65fbbcf5e1bd614883a462d0c"
 },
 "nbformat": 3,
 "nbformat_minor": 0,
 "worksheets": [
  {
   "cells": [
    {
     "cell_type": "markdown",
     "metadata": {},
     "source": [
      "Web Scraping\n",
      "======\n",
      "Adapted from a page created by [John Beieler](https://gist.github.com/johnb30/4743272)\n",
      "\n",
      "> Even with the best of websites, I don\u2019t think I\u2019ve ever encountered a scraping job that couldn\u2019t be described as *\u201cA small and simple general model with heaps upon  piles of annoying little exceptions\u201d* \n",
      "\n",
      ">> \\- Swizec Teller [http://swizec.com/blog/scraping-with-mechanize-and-beautifulsoup/swizec/5039](http://swizec.com/blog/scraping-with-mechanize-and-beautifulsoup/swizec/5039)\n",
      "\n",
      "##What is it?\n",
      "\n",
      "A large portion of the data that we as social scientists are interested in resides on the web in manner. Web scraping is a method for pulling data from the structured (or not so structured!) HTML that makes up a web page. Python has numerous libraries for approaching this type of problem, many of which are incredibly powerful. If there is something you want to do, there's usually a way to accomplish it. Perhaps not easily, but it can be done. \n",
      "\n",
      "\n",
      "\n",
      "##How is it accomplished?\n",
      "\n",
      "In general, there are three problems that you might face when undertaking a scraping task:\n",
      "\n",
      "1. You have a single page, or a set of pages, that you know of and you want to scrape.\n",
      "2. You have a source that generates links, e.g., [RSS feeds](http://rss.nytimes.com/services/xml/rss/nyt/World.xml), to various pages with the same structure.\n",
      "3. You have a page that contains many pages of interest that are scattered across the file system and you only have general rules for reaching these pages. \n",
      "\n",
      "The key is that you must identify which type of problem you have. After this, you must look at the HTML structure of a webpage and construct a script that will select the parts of the page that are of interest to you.\n",
      "\n",
      "##There's a library for that! (Yea, I know...)\n",
      "\n",
      "As mentioned previously, Python has various libraries for scraping tasks. The ones I have found the most useful are:\n",
      "\n",
      "- [pattern](http://www.clips.ua.ac.be/pages/pattern)\n",
      "- [lxml](http://lxml.de/)\n",
      "- [requests](http://docs.python-requests.org/en/latest/)\n",
      "- [Scrapy](http://doc.scrapy.org/en/0.16/)\n",
      "- [Beautiful Soup](http://www.crummy.com/software/BeautifulSoup/)\n",
      "\n",
      "\n",
      "In addition you need some method to examine the source of a webpage in a structured manner. I use Chrome which, as a WebKit browser, allows for \"Inspect Element\" functionality. Alternatively there is [Firebug](https://getfirebug.com/) for Firefox. I have no idea about Safari, Opera, or any other browser you wish to use. \n",
      "\n",
      "So, let's look at some [webpage source](http://names.mongabay.com/data/1000.html). This is a site that has a nice collection of statistics about first and last names.\n",
      "\n"
     ]
    },
    {
     "cell_type": "raw",
     "metadata": {},
     "source": [
      "response\n",
      "response.body\n",
      "response.headers\n",
      "response.xpath('href')\n",
      "response.xpath('//href')\n",
      "response.xpath('//a')\n",
      "response.xpath('//a').re('data/')\n",
      "response.xpath('//a').re('data/.+\\.html')\n",
      "response.xpath('//a').re('data/.+\\.html?')\n",
      "urls=response.xpath('//a').re('data/.+\\.html?')\n",
      "h\n",
      "?\n",
      "scrapy?\n",
      "?scrapy\n",
      "help\n",
      "help(scrapy)\n",
      "shelp()\n",
      "history\n",
      "urls\n",
      "fetch('data/1000.html')\n",
      "url\n",
      "fetch('http://names.mongabay.com/data/1000.html')"
     ]
    },
    {
     "cell_type": "markdown",
     "metadata": {},
     "source": [
      "###Scraping a page that you know\n",
      "\n",
      "The easiest approach to webscraping is getting the content from a page that you know in advance. I'll go ahead and keep using the page we looked at earlier. There are three basic steps to scraping a single page:\n",
      "\n",
      "1. Get (request) the page\n",
      "2. Parse the page content\n",
      "3. Select the content of interest using an XPath selector\n",
      "\n",
      "The following code executes these three steps and prints the result. "
     ]
    },
    {
     "cell_type": "code",
     "collapsed": false,
     "input": [
      "import requests\n",
      "import lxml.html as lh\n",
      "\n",
      "url = 'http://names.mongabay.com/data/1000.html'\n",
      "page = requests.get(url)\n",
      "doc = lh.fromstring(page.content)\n",
      "page.content[:500]"
     ],
     "language": "python",
     "metadata": {},
     "outputs": [
      {
       "metadata": {},
       "output_type": "pyout",
       "prompt_number": 1,
       "text": [
        "'<!DOCTYPE HTML PUBLIC \"-//W3C//DTD HTML 3.2//EN\">\\n<HTML>\\n\\n<HEAD>\\n\\n<title>Most common last names in the United States, top 1000</title>\\n<link href=\"https://plus.google.com/116584964404644143364\" rel=\"publisher\"/>\\n<meta name=\\'twitter:card\\' content=\\'summary\\'>\\n<meta name=\\'twitter:site\\' content=\\'@mongabay\\'>\\n<meta name=\\'twitter:title\\' content=\\'Most common last names in the United States, top 1000\\'>\\n<meta name=\\'twitter:creator\\' content=\\'mongabay\\'>\\n<meta name=\\'twitter:domain\\' content=\\'mongabay.com\\'>\\n<me'"
       ]
      }
     ],
     "prompt_number": 1
    },
    {
     "cell_type": "code",
     "collapsed": false,
     "input": [
      "text = doc.xpath('//tr')\n",
      "[len(T) for T in text[:20]]\n"
     ],
     "language": "python",
     "metadata": {},
     "outputs": [
      {
       "metadata": {},
       "output_type": "pyout",
       "prompt_number": 13,
       "text": [
        "[5, 5, 1, 2, 3, 3, 11, 11, 11, 11, 11, 11, 11, 11, 11, 11, 11, 11, 11, 11]"
       ]
      }
     ],
     "prompt_number": 13
    },
    {
     "cell_type": "code",
     "collapsed": false,
     "input": [
      "for i in range(len(text)):\n",
      "    if len(text[i])==11:\n",
      "        print i, text[i].text_content()\n",
      "        break"
     ],
     "language": "python",
     "metadata": {},
     "outputs": [
      {
       "output_type": "stream",
       "stream": "stdout",
       "text": [
        "6 NameRankNumber of occurrences\n",
        "Occurrences per 100,000 people\n",
        "Cumulative proportion per 100,000 people\n",
        "Percent Non-Hispanic White Only\n",
        "Percent Non-Hispanic Black Only\n",
        "\n",
        "Percent Non-Hispanic Asian and Pacific Islander Only\n",
        "Percent Non-Hispanic American Indian and Alaskan Native Only\n",
        "Percent Non-Hispanic of Two or More Races\n",
        "Percent Hispanic Origin\n"
       ]
      }
     ],
     "prompt_number": 22
    },
    {
     "cell_type": "code",
     "collapsed": false,
     "input": [
      "col=[]\n",
      "T=text[6]\n",
      "print type(T)\n",
      "i=0\n",
      "print len(T)\n",
      "for t in T.iterchildren():\n",
      "    i+=1\n",
      "    name=t.text_content()\n",
      "    print '%d:\"%s\"'%(i,name)\n",
      "    col.append((name,[]))\n",
      "col"
     ],
     "language": "python",
     "metadata": {},
     "outputs": [
      {
       "output_type": "stream",
       "stream": "stdout",
       "text": [
        "<class 'lxml.html.HtmlElement'>\n",
        "11\n",
        "1:\"Name\"\n",
        "2:\"Rank\"\n",
        "3:\"Number of occurrences\"\n",
        "4:\"Occurrences per 100,000 people\"\n",
        "5:\"Cumulative proportion per 100,000 people\"\n",
        "6:\"Percent Non-Hispanic White Only\"\n",
        "7:\"Percent Non-Hispanic Black Only\"\n",
        "8:\"Percent Non-Hispanic Asian and Pacific Islander Only\"\n",
        "9:\"Percent Non-Hispanic American Indian and Alaskan Native Only\"\n",
        "10:\"Percent Non-Hispanic of Two or More Races\"\n",
        "11:\"Percent Hispanic Origin\"\n"
       ]
      },
      {
       "metadata": {},
       "output_type": "pyout",
       "prompt_number": 23,
       "text": [
        "[('Name', []),\n",
        " ('Rank', []),\n",
        " ('Number of occurrences', []),\n",
        " ('Occurrences per 100,000 people', []),\n",
        " ('Cumulative proportion per 100,000 people', []),\n",
        " ('Percent Non-Hispanic White Only', []),\n",
        " ('Percent Non-Hispanic Black Only', []),\n",
        " ('Percent Non-Hispanic Asian and Pacific Islander Only', []),\n",
        " ('Percent Non-Hispanic American Indian and Alaskan Native Only', []),\n",
        " ('Percent Non-Hispanic of Two or More Races', []),\n",
        " ('Percent Hispanic Origin', [])]"
       ]
      }
     ],
     "prompt_number": 23
    },
    {
     "cell_type": "code",
     "collapsed": false,
     "input": [
      "for j in range(7,len(text)):\n",
      "    T=text[j]\n",
      "    if len(T)!=11:\n",
      "        break\n",
      "    i=0\n",
      "    for t in T.iterchildren():\n",
      "        data=t.text_content()\n",
      "        if i>0:\n",
      "            try:\n",
      "                data=float(data)\n",
      "            except:\n",
      "                print data,'cannot be converted to float, row,col=',j,i\n",
      "                data=None\n",
      "        col[i][1].append(data)\n",
      "        i+=1\n"
     ],
     "language": "python",
     "metadata": {},
     "outputs": [
      {
       "output_type": "stream",
       "stream": "stdout",
       "text": [
        "(S) cannot be converted to float, row,col= 880 6\n",
        "(S) cannot be converted to float, row,col= 880 8\n"
       ]
      }
     ],
     "prompt_number": 24
    },
    {
     "cell_type": "code",
     "collapsed": false,
     "input": [
      "[len(C) for (title,C) in col]"
     ],
     "language": "python",
     "metadata": {},
     "outputs": [
      {
       "metadata": {},
       "output_type": "pyout",
       "prompt_number": 25,
       "text": [
        "[1000, 1000, 1000, 1000, 1000, 1000, 1000, 1000, 1000, 1000, 1000]"
       ]
      }
     ],
     "prompt_number": 25
    },
    {
     "cell_type": "code",
     "collapsed": false,
     "input": [
      "min_len=min([len(C) for (title,C) in col])\n",
      "min_len"
     ],
     "language": "python",
     "metadata": {},
     "outputs": [
      {
       "metadata": {},
       "output_type": "pyout",
       "prompt_number": 27,
       "text": [
        "1000"
       ]
      }
     ],
     "prompt_number": 27
    },
    {
     "cell_type": "code",
     "collapsed": false,
     "input": [
      "Dict={title:column for (title,column) in col}\n",
      "import pandas as pd\n",
      "df=pd.DataFrame(Dict)\n",
      "df.head()"
     ],
     "language": "python",
     "metadata": {},
     "outputs": [
      {
       "html": [
        "<div style=\"max-height:1000px;max-width:1500px;overflow:auto;\">\n",
        "<table border=\"1\" class=\"dataframe\">\n",
        "  <thead>\n",
        "    <tr style=\"text-align: right;\">\n",
        "      <th></th>\n",
        "      <th>Cumulative proportion per 100,000 people</th>\n",
        "      <th>Name</th>\n",
        "      <th>Number of occurrences</th>\n",
        "      <th>Occurrences per 100,000 people</th>\n",
        "      <th>Percent Hispanic Origin</th>\n",
        "      <th>Percent Non-Hispanic American Indian and Alaskan Native Only</th>\n",
        "      <th>Percent Non-Hispanic Asian and Pacific Islander Only</th>\n",
        "      <th>Percent Non-Hispanic Black Only</th>\n",
        "      <th>Percent Non-Hispanic White Only</th>\n",
        "      <th>Percent Non-Hispanic of Two or More Races</th>\n",
        "      <th>Rank</th>\n",
        "    </tr>\n",
        "  </thead>\n",
        "  <tbody>\n",
        "    <tr>\n",
        "      <th>0</th>\n",
        "      <td>  880.85</td>\n",
        "      <td>    SMITH</td>\n",
        "      <td> 2376206</td>\n",
        "      <td> 880.85</td>\n",
        "      <td> 1.56</td>\n",
        "      <td> 0.85</td>\n",
        "      <td> 0.40</td>\n",
        "      <td> 22.22</td>\n",
        "      <td> 73.35</td>\n",
        "      <td> 1.63</td>\n",
        "      <td> 1</td>\n",
        "    </tr>\n",
        "    <tr>\n",
        "      <th>1</th>\n",
        "      <td> 1569.30</td>\n",
        "      <td>  JOHNSON</td>\n",
        "      <td> 1857160</td>\n",
        "      <td> 688.44</td>\n",
        "      <td> 1.50</td>\n",
        "      <td> 0.91</td>\n",
        "      <td> 0.42</td>\n",
        "      <td> 33.80</td>\n",
        "      <td> 61.55</td>\n",
        "      <td> 1.82</td>\n",
        "      <td> 2</td>\n",
        "    </tr>\n",
        "    <tr>\n",
        "      <th>2</th>\n",
        "      <td> 2137.96</td>\n",
        "      <td> WILLIAMS</td>\n",
        "      <td> 1534042</td>\n",
        "      <td> 568.66</td>\n",
        "      <td> 1.60</td>\n",
        "      <td> 0.78</td>\n",
        "      <td> 0.37</td>\n",
        "      <td> 46.72</td>\n",
        "      <td> 48.52</td>\n",
        "      <td> 2.01</td>\n",
        "      <td> 3</td>\n",
        "    </tr>\n",
        "    <tr>\n",
        "      <th>3</th>\n",
        "      <td> 2649.58</td>\n",
        "      <td>    BROWN</td>\n",
        "      <td> 1380145</td>\n",
        "      <td> 511.62</td>\n",
        "      <td> 1.64</td>\n",
        "      <td> 0.83</td>\n",
        "      <td> 0.41</td>\n",
        "      <td> 34.54</td>\n",
        "      <td> 60.71</td>\n",
        "      <td> 1.86</td>\n",
        "      <td> 4</td>\n",
        "    </tr>\n",
        "    <tr>\n",
        "      <th>4</th>\n",
        "      <td> 3154.75</td>\n",
        "      <td>    JONES</td>\n",
        "      <td> 1362755</td>\n",
        "      <td> 505.17</td>\n",
        "      <td> 1.44</td>\n",
        "      <td> 0.94</td>\n",
        "      <td> 0.35</td>\n",
        "      <td> 37.73</td>\n",
        "      <td> 57.69</td>\n",
        "      <td> 1.85</td>\n",
        "      <td> 5</td>\n",
        "    </tr>\n",
        "  </tbody>\n",
        "</table>\n",
        "</div>"
       ],
       "metadata": {},
       "output_type": "pyout",
       "prompt_number": 28,
       "text": [
        "   Cumulative proportion per 100,000 people      Name  Number of occurrences  \\\n",
        "0                                    880.85     SMITH                2376206   \n",
        "1                                   1569.30   JOHNSON                1857160   \n",
        "2                                   2137.96  WILLIAMS                1534042   \n",
        "3                                   2649.58     BROWN                1380145   \n",
        "4                                   3154.75     JONES                1362755   \n",
        "\n",
        "   Occurrences per 100,000 people  Percent Hispanic Origin  \\\n",
        "0                          880.85                     1.56   \n",
        "1                          688.44                     1.50   \n",
        "2                          568.66                     1.60   \n",
        "3                          511.62                     1.64   \n",
        "4                          505.17                     1.44   \n",
        "\n",
        "   Percent Non-Hispanic American Indian and Alaskan Native Only  \\\n",
        "0                                               0.85              \n",
        "1                                               0.91              \n",
        "2                                               0.78              \n",
        "3                                               0.83              \n",
        "4                                               0.94              \n",
        "\n",
        "   Percent Non-Hispanic Asian and Pacific Islander Only  \\\n",
        "0                                               0.40      \n",
        "1                                               0.42      \n",
        "2                                               0.37      \n",
        "3                                               0.41      \n",
        "4                                               0.35      \n",
        "\n",
        "   Percent Non-Hispanic Black Only  Percent Non-Hispanic White Only  \\\n",
        "0                            22.22                            73.35   \n",
        "1                            33.80                            61.55   \n",
        "2                            46.72                            48.52   \n",
        "3                            34.54                            60.71   \n",
        "4                            37.73                            57.69   \n",
        "\n",
        "   Percent Non-Hispanic of Two or More Races  Rank  \n",
        "0                                       1.63     1  \n",
        "1                                       1.82     2  \n",
        "2                                       2.01     3  \n",
        "3                                       1.86     4  \n",
        "4                                       1.85     5  "
       ]
      }
     ],
     "prompt_number": 28
    },
    {
     "cell_type": "markdown",
     "metadata": {},
     "source": [
      "So we now have our lovely output. This output can be manipulated in various ways, or written to an output file.\n",
      "\n",
      "###Scraping generated links\n",
      "\n",
      "Let's say you want to get a stream of news stories in an easy manner. You could visit the homepage of the NYT and work from there, or you can use an [RSS feed](http://rss.nytimes.com/services/xml/rss/nyt/World.xml). RSS stands for Real Simple Syndication and is, at its heart, an XML document. This allows it to be easily parsed. The fantastic library `pattern` allows for easy parsing of RSS feeds. Using `pattern`'s `Newsfeed()` method, it is possible to parse a feed and obtain attributes of the XML document. The `search()` method returns an iterable composed of the individual stories. Each result has a variety of attributes such as `.url`, `.title`, `.description`, and more. The following code demonstrates these methods."
     ]
    },
    {
     "cell_type": "code",
     "collapsed": false,
     "input": [
      "import pattern.web\n",
      "\n",
      "url = 'http://rss.nytimes.com/services/xml/rss/nyt/World.xml'\n",
      "results = pattern.web.Newsfeed().search(url, count=5)\n",
      "results\n",
      "\n",
      "print '%s \\n\\n %s \\n\\n %s \\n\\n' % (results[0].url, results[0].title, results[0].description)"
     ],
     "language": "python",
     "metadata": {},
     "outputs": []
    },
    {
     "cell_type": "markdown",
     "metadata": {},
     "source": [
      "That looks pretty good, but the description looks nastier than we would generally prefer. Luckily, `pattern` provides functions to get rid of the HTML in a string.  "
     ]
    },
    {
     "cell_type": "code",
     "collapsed": false,
     "input": [
      "print '%s \\n\\n %s \\n\\n %s \\n\\n' % (results[0].url, results[0].title, pattern.web.plaintext(results[0].description))"
     ],
     "language": "python",
     "metadata": {},
     "outputs": []
    },
    {
     "cell_type": "markdown",
     "metadata": {},
     "source": [
      "While it's all well and good to have the title and description of a story this is often insufficient (some descriptions are just the title, which isn't particularly helpful). To get further information on the story, it is possible to combine the single-page scraping discussed previously and the results from the RSS scrape. The following code implements a function to scrape the NYT article pages, which can be done easily since the NYT is wonderfully consistent in their HTML, and then iterates over the results applying the `scrape` function to each result."
     ]
    },
    {
     "cell_type": "code",
     "collapsed": false,
     "input": [
      "import codecs\n",
      "\n",
      "outputFile = codecs.open('~/tutorialOutput.txt', encoding='utf-8', mode='a')\n",
      "\n",
      "def scrape(url):\n",
      "    page = requests.get(url)\n",
      "    doc = lh.fromstring(page.content)\n",
      "    text = doc.xpath('//p[@itemprop=\"articleBody\"]')\n",
      "    finalText = str()\n",
      "    for par in text:\n",
      "        finalText += par.text_content()\n",
      "    return finalText\n",
      "\n",
      "for result in results:\n",
      "    outputText = scrape(result.url)\n",
      "    outputFile.write(outputText)\n",
      "\n",
      "outputFile.close()"
     ],
     "language": "python",
     "metadata": {},
     "outputs": []
    },
    {
     "cell_type": "markdown",
     "metadata": {},
     "source": [
      "###Scraping arbitrary websites\n",
      "\n",
      "The final approach is for a webpage that contains information you want and the pages are spread around in a fairly consistent manner, but there is no simple, straightfoward manner in which the pages are named.\n",
      "\n",
      "I'll offer a brief aside here to mention that it is often possible to make slight modifications to the URL of a website and obtain many different pages. For example, a website that contains Indian parliament speeches has the URL `http://164.100.47.132/LssNew/psearch/Result13.aspx?dbsl=` with differing values appended after the `=`. Thus, using a `for-loop` allows for the programatic creation of different URLs. Some sample code is below."
     ]
    },
    {
     "cell_type": "code",
     "collapsed": false,
     "input": [
      "url = 'http://164.100.47.132/LssNew/psearch/Result13.aspx?dbsl='\n",
      "\n",
      "for i in xrange(5175,5973):\n",
      "    newUrl = url + str(i)\n",
      "    print 'Scraping: %s' % newUrl"
     ],
     "language": "python",
     "metadata": {},
     "outputs": []
    },
    {
     "cell_type": "markdown",
     "metadata": {},
     "source": [
      "Getting back on topic, it is often more difficult than the above to iterate over numerous webpages within a site. This is where the `Scrapy` library comes in. `Scrapy` allows for the creation of web spiders that crawl over a webpage, following any links that it finds. This is often far more difficult to implement than a simple scraper since it requires the identification of rules for link following. The [State Department](http://www.state.gov/r/pa/prs/dpb/2012/index.htm) offers a good example. I don't really have time to go into the depths of writing a `Scrapy` spider, but I thought I would put up some code to illustrate what it looks like."
     ]
    },
    {
     "cell_type": "code",
     "collapsed": false,
     "input": [
      "from scrapy.contrib.spiders import CrawlSpider, Rule\n",
      "from scrapy.contrib.linkextractors.sgml import SgmlLinkExtractor\n",
      "from scrapy.selector import HtmlXPathSelector\n",
      "from scrapy.item import Item\n",
      "from BeautifulSoup import BeautifulSoup\n",
      "import re\n",
      "import codecs\n",
      "\n",
      "class MySpider(CrawlSpider):\n",
      "    name = 'statespider' #name is a name\n",
      "    start_urls = ['http://www.state.gov/r/pa/prs/dpb/2010/index.htm',\n",
      "    ] #defines the URL that the spider should start on. adjust the year.\n",
      "\n",
      "        #defines the rules for the spider\n",
      "    rules = (Rule(SgmlLinkExtractor(allow=('/2010/'), restrict_xpaths=('//*[@id=\"local-nav\"]'),)), #allows only links within the navigation panel that have /year/ in them.\n",
      "\n",
      "    Rule(SgmlLinkExtractor(restrict_xpaths=('//*[@id=\"dpb-calendar\"]',), deny=('/video/')), callback='parse_item'), #follows links within the caldendar on the index page for the individuals years, while denying any links with /video/ in them\n",
      "\n",
      "    )\n",
      "\n",
      "    def parse_item(self, response):\n",
      "        self.log('Hi, this is an item page! %s' % response.url) #prints the response.url out in the terminal to help with debugging\n",
      "        \n",
      "        #Insert code to scrape page content\n",
      "\n",
      "        #opens the file defined above and writes 'texts' using utf-8\n",
      "        with codecs.open(filename, 'w', encoding='utf-8') as output:\n",
      "            output.write(texts)\n"
     ],
     "language": "python",
     "metadata": {},
     "outputs": []
    },
    {
     "cell_type": "markdown",
     "metadata": {},
     "source": [
      "### Excercise\n",
      "Building on the scraping code written above, write a crawler that will extract all of the pages of the same type, i.e. 'data/2000.html','data/3000.html' etc\n",
      "\n",
      "A more demanding task would be to extract all of the tables regarding first and last name. The challange is that pages have different layout and it is hard to find a general rule that would work for all of them."
     ]
    },
    {
     "cell_type": "markdown",
     "metadata": {},
     "source": [
      "##The Pitfalls of Webscraping\n",
      "\n",
      "Web scraping is much, much, *much*, more of an art than a science. It is often non-trivial to identify the XPath selector that will get you what you want. Also, some web programmers can't seem to decide how they want to structure the pages they write, so they just change the HTML every few pages. Notice that for the NYT example if `articleBody` gets changed to `articleBody1`, everything breaks. There are ways around this that are often convoluted, messy, and hackish. Usually, however, where there is a will there is a way.\n",
      "\n",
      "...brief pause to demonstrate the lengths this can go to.\n",
      "\n",
      "##PITF Human Atrocities\n",
      "\n",
      "As a wrap up, I thought I would show the workflow I have been using to perform real-time scraping from various news sites of stories pertaining to human atrocities. This is illustrative both of web scraping and of the issues that can accompany programming. \n",
      "\n",
      "The general flow of the scraper is:\n",
      "\n",
      "RSS feed -> identify relevant stories -> scrape story -> place results in mongoDB -> repeat every hour"
     ]
    }
   ],
   "metadata": {}
  }
 ]
}