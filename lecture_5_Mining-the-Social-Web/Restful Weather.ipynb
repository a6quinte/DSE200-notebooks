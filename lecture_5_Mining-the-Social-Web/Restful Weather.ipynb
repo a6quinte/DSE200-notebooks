{
 "metadata": {
  "name": "",
  "signature": "sha256:066131e28f91182c3f09983f04669dfb2e08edb130ce75e8c52509c07872a63b"
 },
 "nbformat": 3,
 "nbformat_minor": 0,
 "worksheets": [
  {
   "cells": [
    {
     "cell_type": "markdown",
     "metadata": {},
     "source": [
      "#Restful Open Weathermap API\n",
      "\n",
      "In this notebook, we retrieve the hourly temperatue of san diego over 2013 and plot it.  We use the restful API for openweathermap.org."
     ]
    },
    {
     "cell_type": "code",
     "collapsed": false,
     "input": [
      "%pylab inline\n",
      "import requests\n",
      "import datetime "
     ],
     "language": "python",
     "metadata": {},
     "outputs": [
      {
       "output_type": "stream",
       "stream": "stdout",
       "text": [
        "Populating the interactive namespace from numpy and matplotlib\n"
       ]
      }
     ],
     "prompt_number": 39
    },
    {
     "cell_type": "markdown",
     "metadata": {},
     "source": [
      "The [requests](http://docs.python-requests.org/en/latest/) library is a simple to use python library for executing http commands over the internet.  \n",
      "\n",
      "For example, we can create an http get command to download a website and then render it as html in our notebook."
     ]
    },
    {
     "cell_type": "code",
     "collapsed": false,
     "input": [
      "req = requests.get(\"http://m.xkcd.com/\")"
     ],
     "language": "python",
     "metadata": {},
     "outputs": [],
     "prompt_number": 53
    },
    {
     "cell_type": "code",
     "collapsed": false,
     "input": [
      "from IPython.display import HTML\n",
      "HTML(req.text)"
     ],
     "language": "python",
     "metadata": {},
     "outputs": [
      {
       "html": [
        "<?xml version=\"1.0\" encoding=\"utf-8\" ?>\n",
        "<?xml-stylesheet href=\"/static/general.css\" type=\"text/css\" media=\"screen\" ?>\n",
        "<!DOCTYPE html PUBLIC \"-//WAPFORUM//DTD XHTML Mobile 1.2//EN\" \"http://www.openmobilealliance.org/tech/DTD/xhtml-mobile12.dtd\">\n",
        "<html xmlns=\"http://www.w3.org/1999/xhtml\">\n",
        " <head>\n",
        "  <title>xkcd: AI-Box Experiment</title>\n",
        "  <link rel=\"alternate\" type=\"application/atom+xml\" title=\"Atom 1.0\" href=\"http://m.xkcd.com/atom.xml\" />\n",
        "  <link rel=\"alternate\" type=\"application/rss+xml\" title=\"RSS 2.0\" href=\"http://m.xkcd.com/rss.xml\" />\n",
        "\n",
        "  <link rel=\"icon\" href=\"/static/favicon.ico\" type=\"image/x-icon\" />\n",
        "  <link rel=\"shortcut icon\" href=\"/static/favicon.ico\" type=\"image/x-icon\" />\n",
        "  \n",
        "  <link rel=\"stylesheet\" type=\"text/css\" href=\"/static/general.css\" media=\"screen\" title=\"Default\" />\n",
        "  <meta content=\"width=device-width, initial-scale=1.0\" name=\"viewport\" />\n",
        "  <script type=\"text/javascript\">\n",
        "  window.onload = function() {\n",
        "      updateFunction = function(){el = document.getElementById(\"altText\"); el.style.display = (el.style.display != \"none\" ? \"none\" : \"block\");}\n",
        "      document.getElementById(\"comic\").onclick = updateFunction;\n",
        "      document.getElementById(\"altTextLink\").onclick = updateFunction;\n",
        "      document.getElementById(\"altText\").style.display = \"none\";\n",
        "    }\n",
        "  </script>\n",
        "<script type=\"text/javascript\">\n",
        "  var _gaq = _gaq || [];\n",
        "  _gaq.push(['_setAccount', 'UA-25700708-7']);\n",
        "  _gaq.push(['_setDomainName', 'xkcd.com']);\n",
        "  _gaq.push(['_setAllowLinker', true]);\n",
        "  _gaq.push(['_trackPageview']);\n",
        "\n",
        "  (function() {\n",
        "    var ga = document.createElement('script'); ga.type = 'text/javascript'; ga.async = true;\n",
        "    ga.src = ('https:' == document.location.protocol ? 'https://ssl' : 'http://www') + '.google-analytics.com/ga.js';\n",
        "    var s = document.getElementsByTagName('script')[0]; s.parentNode.insertBefore(ga, s);\n",
        "  })();\n",
        "</script>\n",
        " \n",
        " </head>\n",
        " <body>\n",
        "\n",
        "<div id=\"comic\">\n",
        "<img id=\"comic\" src=\"http://imgs.xkcd.com/comics/ai_box_experiment.png\" title=\"I&#39;m working to bring about a superintelligent AI that will eternally torment everyone who failed to make fun of the Roko&#39;s Basilisk people.\" alt=\"AI-Box Experiment\" /><br/><br />\n",
        "</div>\n",
        "<div id=\"titleHolder\"><h1 id=\"title\">AI-Box Experiment</h1><sup id=\"altTextLink\">(alt-text)</sup></div>\n",
        "<p id=\"altText\">I&#39;m working to bring about a superintelligent AI that will eternally torment everyone who failed to make fun of the Roko&#39;s Basilisk people.</p>\n",
        "<ul id=\"navButtons\">\n",
        " <li><a href=\"/1/\">|&lt;</a></li>\n",
        " <li><a href=\"/1449/\" accesskey=\"p\">&lt;</a></li>\n",
        " <li><a href=\"http://c.xkcd.com/random/mobile_comic/\" id=\"rnd_btn_b\">?</a></li>\n",
        " <li><a href=\"#\" accesskey=\"n\">&gt;</a></li>\n",
        " <li><a href=\"/\">&gt;|</a></li>\n",
        "</ul>\n",
        "\n",
        "<div id=\"news\"><a href=\"http://whatif.xkcd.com/book/\"><img src=\"http://imgs.xkcd.com/store/book-news.png\"></a></div>\n",
        "<ul id=\"footerLinks\">\n",
        " <li><a href=\"/archive/\">Archive</a></li>\n",
        " <li><a href=\"http://store.xkcd.com/\">Store</a></li>\n",
        " <li><a href=\"http://what-if.xkcd.com/\">What If?</a></li>\n",
        " <li><a href=\"http://xkcd.com/about/\">About</a></li>\n",
        "</ul>\n",
        "</body>\n",
        "</html>\n",
        "\n"
       ],
       "metadata": {},
       "output_type": "pyout",
       "prompt_number": 54,
       "text": [
        "<IPython.core.display.HTML at 0x109f11e50>"
       ]
      }
     ],
     "prompt_number": 54
    },
    {
     "cell_type": "markdown",
     "metadata": {},
     "source": [
      "Due to the prevelance of HTTP, many webservices now offer [Restful APIs](http://en.wikipedia.org/wiki/Representational_state_transfer) which are accessed via HTTP requests and return XML or JSON formatted data output.  A list of APIs is listed at [Programable Web](http://www.programmableweb.com/).  In additon, many developers of internal apps utilize the restful concept to ease integration of apps.\n",
      "\n",
      "One easy to understand Restful API is the [Open Weather Map](openweathermap.org) API.  We will use this API to download the daily temperature of San Diego from January 1, 2013 through December 31, 2013 to give an example of the usage of such an API."
     ]
    },
    {
     "cell_type": "markdown",
     "metadata": {},
     "source": [
      "##Open Weather Map\n",
      "\n",
      "As a first step we query the current weather in San Diego to see what the output looks like and get the city id for the historical lookup.  We use the request object's json method to convert the json output to a python Map which we can easily process.\n",
      "\n",
      "To do this we perform a http get on the URL **http://api.openweathermap.org/data/2.5/weather** which is the base url for the Open Weather Map's current weather resful API.  We pass the get parameter **q=San%20Diego,us** to specify our city.  %20 is used to encode space in the url\n"
     ]
    },
    {
     "cell_type": "code",
     "collapsed": false,
     "input": [
      "req = requests.get(\"http://api.openweathermap.org/data/2.5/weather?q=San%20Diego,us\")\n",
      "output = req.json()\n",
      "output"
     ],
     "language": "python",
     "metadata": {},
     "outputs": [
      {
       "metadata": {},
       "output_type": "pyout",
       "prompt_number": 88,
       "text": [
        "{u'base': u'cmc stations',\n",
        " u'clouds': {u'all': 75},\n",
        " u'cod': 200,\n",
        " u'coord': {u'lat': 32.72, u'lon': -117.16},\n",
        " u'dt': 1416556103,\n",
        " u'id': 5391811,\n",
        " u'main': {u'humidity': 82,\n",
        "  u'pressure': 1016,\n",
        "  u'temp': 289.77,\n",
        "  u'temp_max': 291.15,\n",
        "  u'temp_min': 288.45},\n",
        " u'name': u'San Diego',\n",
        " u'sys': {u'country': u'US',\n",
        "  u'id': 476,\n",
        "  u'message': 0.0209,\n",
        "  u'sunrise': 1416579884,\n",
        "  u'sunset': 1416617078,\n",
        "  u'type': 1},\n",
        " u'weather': [{u'description': u'broken clouds',\n",
        "   u'icon': u'04n',\n",
        "   u'id': 803,\n",
        "   u'main': u'Clouds'}],\n",
        " u'wind': {u'deg': 296.501, u'speed': 6.82}}"
       ]
      }
     ],
     "prompt_number": 88
    },
    {
     "cell_type": "markdown",
     "metadata": {},
     "source": [
      "From here we can see that the city id for san diego (the \"id\" field) is 5391811.  We can now use open weather map's [Histrocial Data API](http://openweathermap.org/history) to download san diego data.  Lets try pulling the first entry for 2013.  Here are the parameters we pass:\n",
      "\n",
      "* Base URL: http://api.openweathermap.org/data/2.5/history/city\n",
      "* id - the city id - 5391811\n",
      "* start - the unix time stamp of our start period - 1357027200 (0:0:0 on Jan 1 2013)\n",
      "* cnt - the number of measures we want - 1\n",
      "* APPID - the *API Key* for david's account - dd9abf3c45c153e11a6e11f0d12391aa\n",
      "\n",
      "\n",
      "This gives us this URL: **http://api.openweathermap.org/data/2.5/history/city?id=5391811&type=day&start=1357027200&cnt=1&APPID=dd9abf3c45c153e11a6e11f0d12391aa&units=imperial**"
     ]
    },
    {
     "cell_type": "code",
     "collapsed": false,
     "input": [
      "req = requests.get(\"http://api.openweathermap.org/data/2.5/history/city?id=5391811&type=day&start=1357027200&cnt=1&APPID=dd9abf3c45c153e11a6e11f0d12391aa\")\n",
      "req.json()"
     ],
     "language": "python",
     "metadata": {},
     "outputs": [
      {
       "metadata": {},
       "output_type": "pyout",
       "prompt_number": 101,
       "text": [
        "{u'calctime': 0.1981,\n",
        " u'city_id': 5391811,\n",
        " u'cnt': 2,\n",
        " u'cod': u'200',\n",
        " u'list': [{u'clouds': {u'all': 1},\n",
        "   u'dt': 1357027200,\n",
        "   u'main': {u'humidity': 75,\n",
        "    u'pressure': 1019,\n",
        "    u'temp': 278.32,\n",
        "    u'temp_max': 281.15,\n",
        "    u'temp_min': 275.93},\n",
        "   u'weather': [{u'description': u'sky is clear',\n",
        "     u'icon': u'01n',\n",
        "     u'id': 800,\n",
        "     u'main': u'Clear'}],\n",
        "   u'wind': {u'deg': 90, u'speed': 1.5}},\n",
        "  {u'clouds': {u'all': 1},\n",
        "   u'dt': 1357030800,\n",
        "   u'main': {u'humidity': 75,\n",
        "    u'pressure': 1020,\n",
        "    u'temp': 278.13,\n",
        "    u'temp_max': 281.15,\n",
        "    u'temp_min': 275.93},\n",
        "   u'weather': [{u'description': u'sky is clear',\n",
        "     u'icon': u'01n',\n",
        "     u'id': 800,\n",
        "     u'main': u'Clear'}],\n",
        "   u'wind': {u'deg': 0, u'speed': 0}}],\n",
        " u'message': u''}"
       ]
      }
     ],
     "prompt_number": 101
    },
    {
     "cell_type": "markdown",
     "metadata": {},
     "source": [
      "From here we can see that the temperature is located at req.json[\"list\"][0][\"main\"][\"temp\"].  Interestingly, we also see the temperature is reported in kelvin, which can be converted to Fahrenheit using $F=(K - 273.15)* 1.8000+ 32.00$.\n",
      "\n",
      "\n",
      "Now we'll loop through from the start period to the end of the year, adding 86400 (the number of seconds in 24 hours) to the time stamp each time.  We'll append the temperature recieved to a list \"temp\" for us to plot later.\n",
      "\n",
      "Also note that some times there is no measurement for a day, to do this we check if [\"list\"] is not empty before extracting main/temp from it.  If it is empty we append None."
     ]
    },
    {
     "cell_type": "code",
     "collapsed": false,
     "input": [
      "temp = []\n",
      "time = 1357027200\n",
      "for i in range(365):\n",
      "    if i%10 == 0:\n",
      "        print i\n",
      "    req = requests.get(\"http://api.openweathermap.org/data/2.5/history/city?id=5391811&type=day&start=\" + str(time) + \"&cnt=1&APPID=dd9abf3c45c153e11a6e11f0d12391aa&type=day\")\n",
      "    time = time + 86400\n",
      "    data = req.json()[\"list\"]\n",
      "    if len(data) > 0:\n",
      "        K = data[0][\"main\"][\"temp\"]\n",
      "        F = (K - 273.15)* 1.8000+ 32.00\n",
      "        temp.append(F)\n",
      "    else:\n",
      "        temp.append(None)"
     ],
     "language": "python",
     "metadata": {},
     "outputs": [
      {
       "output_type": "stream",
       "stream": "stdout",
       "text": [
        "0\n",
        "10"
       ]
      },
      {
       "output_type": "stream",
       "stream": "stdout",
       "text": [
        "\n",
        "20"
       ]
      },
      {
       "output_type": "stream",
       "stream": "stdout",
       "text": [
        "\n",
        "30"
       ]
      },
      {
       "output_type": "stream",
       "stream": "stdout",
       "text": [
        "\n",
        "40"
       ]
      },
      {
       "output_type": "stream",
       "stream": "stdout",
       "text": [
        "\n",
        "50"
       ]
      },
      {
       "output_type": "stream",
       "stream": "stdout",
       "text": [
        "\n",
        "60"
       ]
      },
      {
       "output_type": "stream",
       "stream": "stdout",
       "text": [
        "\n",
        "70"
       ]
      },
      {
       "output_type": "stream",
       "stream": "stdout",
       "text": [
        "\n",
        "80"
       ]
      },
      {
       "output_type": "stream",
       "stream": "stdout",
       "text": [
        "\n",
        "90"
       ]
      },
      {
       "output_type": "stream",
       "stream": "stdout",
       "text": [
        "\n",
        "100"
       ]
      },
      {
       "output_type": "stream",
       "stream": "stdout",
       "text": [
        "\n",
        "110"
       ]
      },
      {
       "output_type": "stream",
       "stream": "stdout",
       "text": [
        "\n",
        "120"
       ]
      },
      {
       "output_type": "stream",
       "stream": "stdout",
       "text": [
        "\n",
        "130"
       ]
      },
      {
       "output_type": "stream",
       "stream": "stdout",
       "text": [
        "\n",
        "140"
       ]
      },
      {
       "output_type": "stream",
       "stream": "stdout",
       "text": [
        "\n",
        "150"
       ]
      },
      {
       "output_type": "stream",
       "stream": "stdout",
       "text": [
        "\n",
        "160"
       ]
      },
      {
       "output_type": "stream",
       "stream": "stdout",
       "text": [
        "\n",
        "170"
       ]
      },
      {
       "output_type": "stream",
       "stream": "stdout",
       "text": [
        "\n",
        "180"
       ]
      },
      {
       "output_type": "stream",
       "stream": "stdout",
       "text": [
        "\n",
        "190"
       ]
      },
      {
       "output_type": "stream",
       "stream": "stdout",
       "text": [
        "\n",
        "200"
       ]
      },
      {
       "output_type": "stream",
       "stream": "stdout",
       "text": [
        "\n",
        "210"
       ]
      },
      {
       "output_type": "stream",
       "stream": "stdout",
       "text": [
        "\n",
        "220"
       ]
      },
      {
       "output_type": "stream",
       "stream": "stdout",
       "text": [
        "\n",
        "230"
       ]
      },
      {
       "output_type": "stream",
       "stream": "stdout",
       "text": [
        "\n",
        "240"
       ]
      },
      {
       "output_type": "stream",
       "stream": "stdout",
       "text": [
        "\n",
        "250"
       ]
      },
      {
       "output_type": "stream",
       "stream": "stdout",
       "text": [
        "\n",
        "260"
       ]
      },
      {
       "output_type": "stream",
       "stream": "stdout",
       "text": [
        "\n",
        "270"
       ]
      },
      {
       "output_type": "stream",
       "stream": "stdout",
       "text": [
        "\n",
        "280"
       ]
      },
      {
       "output_type": "stream",
       "stream": "stdout",
       "text": [
        "\n",
        "290"
       ]
      },
      {
       "output_type": "stream",
       "stream": "stdout",
       "text": [
        "\n",
        "300"
       ]
      },
      {
       "output_type": "stream",
       "stream": "stdout",
       "text": [
        "\n",
        "310"
       ]
      },
      {
       "output_type": "stream",
       "stream": "stdout",
       "text": [
        "\n",
        "320"
       ]
      },
      {
       "output_type": "stream",
       "stream": "stdout",
       "text": [
        "\n",
        "330"
       ]
      },
      {
       "output_type": "stream",
       "stream": "stdout",
       "text": [
        "\n",
        "340"
       ]
      },
      {
       "output_type": "stream",
       "stream": "stdout",
       "text": [
        "\n",
        "350"
       ]
      },
      {
       "output_type": "stream",
       "stream": "stdout",
       "text": [
        "\n",
        "360"
       ]
      },
      {
       "output_type": "stream",
       "stream": "stdout",
       "text": [
        "\n"
       ]
      }
     ],
     "prompt_number": 99
    },
    {
     "cell_type": "code",
     "collapsed": false,
     "input": [
      "plot(temp)"
     ],
     "language": "python",
     "metadata": {},
     "outputs": [
      {
       "metadata": {},
       "output_type": "pyout",
       "prompt_number": 100,
       "text": [
        "[<matplotlib.lines.Line2D at 0x10a7635d0>]"
       ]
      },
      {
       "metadata": {},
       "output_type": "display_data",
       "png": "[encoded data removed]",
       "text": [
        "<matplotlib.figure.Figure at 0x10a696f10>"
       ]
      }
     ],
     "prompt_number": 100
    },
    {
     "cell_type": "markdown",
     "metadata": {},
     "source": [
      "There is obviously a lot more to learn about Restful API's, however this should provide a simple example of what they are and how to use them.  Explore the programmable web website to see the vast array of api's availible.\n",
      "\n",
      "**Exercise**\n",
      "Look at the programmable web website and find an API that interests you.  Use the restful API to query some data and extract a meaningful field.  If the API provides time series Data, plot the field over time."
     ]
    },
    {
     "cell_type": "code",
     "collapsed": false,
     "input": [],
     "language": "python",
     "metadata": {},
     "outputs": []
    }
   ],
   "metadata": {}
  }
 ]
}