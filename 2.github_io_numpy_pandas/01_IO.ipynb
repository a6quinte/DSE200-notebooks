{
 "metadata": {
  "name": "",
  "signature": "sha256:c0cab6f6991d0da00d249e9e3f5878cb07328d536bbfc8253b66947a099812d1"
 },
 "nbformat": 3,
 "nbformat_minor": 0,
 "worksheets": [
  {
   "cells": [
    {
     "cell_type": "code",
     "collapsed": false,
     "input": [
      "%load_ext?"
     ],
     "language": "python",
     "metadata": {},
     "outputs": []
    },
    {
     "cell_type": "markdown",
     "metadata": {},
     "source": [
      "# Using python packages\n",
      "Python code is organized in units called \"packages\". The central repository of public packages\n",
      "is [pypi](https://pypi.python.org/)\n",
      "\n",
      "Using a python library requires two steps:\n",
      "\n",
      "1. Installing the packages (and their dependencies)\n",
      "2. Importing the packages into the program"
     ]
    },
    {
     "cell_type": "markdown",
     "metadata": {},
     "source": [
      "## installing packages\n",
      "We use two package managers: pip and conda. Here we demonstrate the use pip. Conda is similar."
     ]
    },
    {
     "cell_type": "code",
     "collapsed": false,
     "input": [
      "#get help on the pip command\n",
      "!pip -h"
     ],
     "language": "python",
     "metadata": {},
     "outputs": []
    },
    {
     "cell_type": "code",
     "collapsed": false,
     "input": [
      "# List the installed packages\n",
      "!pip list"
     ],
     "language": "python",
     "metadata": {},
     "outputs": []
    },
    {
     "cell_type": "code",
     "collapsed": false,
     "input": [
      "# Show information regarding a specific package\n",
      "!pip show -v boto"
     ],
     "language": "python",
     "metadata": {},
     "outputs": []
    },
    {
     "cell_type": "code",
     "collapsed": false,
     "input": [
      "# Install a package\n",
      "!pip install boto"
     ],
     "language": "python",
     "metadata": {},
     "outputs": []
    },
    {
     "cell_type": "code",
     "collapsed": false,
     "input": [
      "# upgrade the package\n",
      "!pip install --upgrade boto"
     ],
     "language": "python",
     "metadata": {},
     "outputs": []
    },
    {
     "cell_type": "markdown",
     "metadata": {},
     "source": [
      "**Note:** You would usually run the installation in a shell, rather than in iPython. This is for various reasons, one of which is that you often need root permission to install a package, which means that you need to use the command `sudo` in front of pip. Doing so requires entering a password, which is hard to do inside a notebook, and is not recommended because it leaves\n",
      "a trace of the password in an open file."
     ]
    },
    {
     "cell_type": "markdown",
     "metadata": {},
     "source": [
      "## Importing packages"
     ]
    },
    {
     "cell_type": "code",
     "collapsed": false,
     "input": [
      "import pylab"
     ],
     "language": "python",
     "metadata": {},
     "outputs": []
    },
    {
     "cell_type": "code",
     "collapsed": false,
     "input": [
      "pylab?"
     ],
     "language": "python",
     "metadata": {},
     "outputs": []
    },
    {
     "cell_type": "code",
     "collapsed": false,
     "input": [
      "# To get a list of objects (variables, method) are defined in boto, hit \"tab\" after the .\n",
      "pylab.plot?"
     ],
     "language": "python",
     "metadata": {},
     "outputs": []
    },
    {
     "cell_type": "code",
     "collapsed": false,
     "input": [
      "# to import pylab but use a shorter name\n",
      "import pylab as pl"
     ],
     "language": "python",
     "metadata": {},
     "outputs": []
    },
    {
     "cell_type": "code",
     "collapsed": false,
     "input": [
      " pl.plot([1,2,1,4])"
     ],
     "language": "python",
     "metadata": {},
     "outputs": []
    },
    {
     "cell_type": "code",
     "collapsed": false,
     "input": [
      "# you can also import specific object directly into the current namespace\n",
      "from pylab import plot\n",
      "plot([1,3,1,3])"
     ],
     "language": "python",
     "metadata": {},
     "outputs": []
    },
    {
     "cell_type": "code",
     "collapsed": false,
     "input": [
      "# you can even import all objects into the current name space, but beware of colissions!\n",
      "from pylab import *"
     ],
     "language": "python",
     "metadata": {},
     "outputs": []
    },
    {
     "cell_type": "markdown",
     "metadata": {},
     "source": [
      "# Data Input and Output"
     ]
    },
    {
     "cell_type": "code",
     "collapsed": false,
     "input": [
      "%cd ~/DSE200/DSE200/data/ThinkStatsData/\n",
      "!ls -F"
     ],
     "language": "python",
     "metadata": {},
     "outputs": []
    },
    {
     "cell_type": "code",
     "collapsed": false,
     "input": [
      "!cat survey.pl"
     ],
     "language": "python",
     "metadata": {},
     "outputs": []
    },
    {
     "cell_type": "code",
     "collapsed": false,
     "input": [
      "!cp survey.pl survey.tmp\n",
      "#To read or write to a file we need a file handle\n",
      "handle=open('survey.tmp','r+w')"
     ],
     "language": "python",
     "metadata": {},
     "outputs": []
    },
    {
     "cell_type": "code",
     "collapsed": false,
     "input": [
      "#the file is opened for both reading and writing. For more information we check open?, which takes us to \n",
      "file?"
     ],
     "language": "python",
     "metadata": {},
     "outputs": []
    },
    {
     "cell_type": "code",
     "collapsed": false,
     "input": [
      "# read the file line by line and output the lines that contain the string 'class'\n",
      "\n",
      "i=0        # counts the detected lines\n",
      "for line in handle.readlines():\n",
      "    if 'class' in line:\n",
      "        print i,line,   # comma at the end because the line already contains <cr> at it's end.\n",
      "        i+=1\n",
      "handle.close()"
     ],
     "language": "python",
     "metadata": {},
     "outputs": []
    },
    {
     "cell_type": "code",
     "collapsed": false,
     "input": [
      "# read the file line by line and output the lines that contain the string 'class'\n",
      "# and store the location of the beginning of such lines\n",
      "handle=open('survey.tmp','r+w')\n",
      "\n",
      "table={}   # the locations of the start of the detected lines in the file\n",
      "i=0        # counts the detected lines\n",
      "c=0        # counts all the lines\n",
      "line='start'\n",
      "while line != '':\n",
      "    loc=handle.tell()\n",
      "    line=handle.readline()\n",
      "    if 'class' in line:\n",
      "        print i,line,   # comma at the end because the line already contains <cr> at it's end.\n",
      "        table[i]=loc\n",
      "        i=i+1\n",
      "handle.close()\n",
      "print table"
     ],
     "language": "python",
     "metadata": {},
     "outputs": []
    },
    {
     "cell_type": "code",
     "collapsed": false,
     "input": [
      "#we can jump from place to place in the file\n",
      "from string import strip\n",
      "handle=open('survey.tmp','r+w')\n",
      "for (i,loc) in table.items():\n",
      "    handle.seek(loc)\n",
      "    line=handle.readline()\n",
      "    print i,line,\n",
      "\n",
      "    #alter the line and write it back in.\n",
      "    line=line[:7]+'***'+line[10:]\n",
      "    handle.seek(loc)\n",
      "    handle.write(line)\n",
      "\n",
      "handle.close()"
     ],
     "language": "python",
     "metadata": {},
     "outputs": []
    },
    {
     "cell_type": "markdown",
     "metadata": {},
     "source": [
      "### Random access vs. sequential access\n",
      "One can access file contents randomly, but there is a large penalty in terms of latency and latency variability.\n",
      "We will look into this later today."
     ]
    },
    {
     "cell_type": "code",
     "collapsed": false,
     "input": [
      "handle.tell()"
     ],
     "language": "python",
     "metadata": {},
     "outputs": []
    }
   ],
   "metadata": {}
  }
 ]
}